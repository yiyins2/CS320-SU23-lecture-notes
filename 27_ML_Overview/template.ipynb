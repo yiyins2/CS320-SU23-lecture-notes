{
 "cells": [
  {
   "cell_type": "code",
   "execution_count": null,
   "id": "e6f50cc3",
   "metadata": {},
   "outputs": [],
   "source": [
    "import pandas as pd\n",
    "import geopandas as gpd\n",
    "import os\n",
    "\n",
    "# new import statements\n",
    "from sklearn.linear_model import LinearRegression"
   ]
  },
  {
   "cell_type": "markdown",
   "id": "9e33d56e",
   "metadata": {},
   "source": [
    "# ML Overview"
   ]
  },
  {
   "cell_type": "markdown",
   "id": "570b4253",
   "metadata": {},
   "source": [
    "#### Covid deaths analysis\n",
    "\n",
    "- Source: https://data.dhsgis.wi.gov/\n",
    "    - Specifically, let's analyze \"COVID-19 Data by Census Tract V2\""
   ]
  },
  {
   "cell_type": "code",
   "execution_count": null,
   "id": "696eec18",
   "metadata": {},
   "outputs": [],
   "source": [
    "# Do not reptitivitely download large datasets\n",
    "# Save a local copy instead\n",
    "???"
   ]
  },
  {
   "cell_type": "code",
   "execution_count": null,
   "id": "c3e6454f",
   "metadata": {},
   "outputs": [],
   "source": [
    "df.head()"
   ]
  },
  {
   "cell_type": "code",
   "execution_count": null,
   "id": "905da51e",
   "metadata": {},
   "outputs": [],
   "source": [
    "df.???"
   ]
  },
  {
   "cell_type": "code",
   "execution_count": null,
   "id": "a3434aba",
   "metadata": {},
   "outputs": [],
   "source": [
    "# Create a geographic plot\n",
    "df.???()"
   ]
  },
  {
   "cell_type": "markdown",
   "id": "43cebffa",
   "metadata": {},
   "source": [
    "### How can we get a clean dataset of COVID deaths in WI?"
   ]
  },
  {
   "cell_type": "code",
   "execution_count": null,
   "id": "fa2f30ae",
   "metadata": {},
   "outputs": [],
   "source": [
    "# Replace -999 with 2; 2 is between 0-4; random choice instead of using 0\n",
    "df = df.???\n",
    "# TODO: communicate in final results what percent of values were guessed (imputed)"
   ]
  },
  {
   "cell_type": "code",
   "execution_count": null,
   "id": "950c2041",
   "metadata": {},
   "outputs": [],
   "source": [
    "# Create a scatter plot to visualize relationship between \"POP\" and \"DTH_CUM_CP\"\n",
    "df.???"
   ]
  },
  {
   "cell_type": "markdown",
   "id": "4073a940",
   "metadata": {},
   "source": [
    "Which points are concerning? Let's take a closer look.\n",
    "\n",
    "#### Which rows have \"DTH_CUM_CP\" greater than 300?"
   ]
  },
  {
   "cell_type": "code",
   "execution_count": null,
   "id": "a655c465",
   "metadata": {},
   "outputs": [],
   "source": [
    "df[???]"
   ]
  },
  {
   "cell_type": "markdown",
   "id": "d377143e",
   "metadata": {},
   "source": [
    "#### Valid rows have \"GEOID\" that only contains digits\n",
    "\n",
    "Using `str` methods to perform filtering: `str.fullmatch` does a full string match given a reg-ex. Because it does full string match anchor characters (`^`, `$`) won't be needed."
   ]
  },
  {
   "cell_type": "code",
   "execution_count": null,
   "id": "529781db",
   "metadata": {},
   "outputs": [],
   "source": [
    "df[???]"
   ]
  },
  {
   "cell_type": "code",
   "execution_count": null,
   "id": "af16925b",
   "metadata": {},
   "outputs": [],
   "source": [
    "df[\"GEOID\"].???"
   ]
  },
  {
   "cell_type": "code",
   "execution_count": null,
   "id": "1d583d06",
   "metadata": {},
   "outputs": [],
   "source": [
    "df = df[df[\"GEOID\"].str.fullmatch(r\"\\d+\")]\n",
    "df.plot.scatter(x=\"POP\", y=\"DTH_CUM_CP\")"
   ]
  },
  {
   "cell_type": "markdown",
   "id": "1be50600",
   "metadata": {},
   "source": [
    "### How can we train/fit models to known data to predict unknowns?\n",
    "- Feature(s) => Predictions\n",
    "    - Population => Deaths\n",
    "    - Cases => Deaths\n",
    "    - Cases by Age => Deaths\n",
    "    \n",
    "- General structure for fitting models:\n",
    "    ```python\n",
    "    model = <some model>\n",
    "    model.fit(X, y)\n",
    "    y = model.predict(X)\n",
    "    ```\n",
    "    where `X` needs to be a matrix or a `DataFrame` and `y` needs to be an array (vector) or a `Series`"
   ]
  },
  {
   "cell_type": "markdown",
   "id": "0d0e65c3",
   "metadata": {},
   "source": [
    "### Using \"POP\" as feature."
   ]
  },
  {
   "cell_type": "code",
   "execution_count": null,
   "id": "3dbdbba4",
   "metadata": {},
   "outputs": [],
   "source": [
    "# We must specify a list of columns to make sure we extract a DataFrame and not a Series\n",
    "# Feature DataFrame\n",
    "df[???].head()"
   ]
  },
  {
   "cell_type": "code",
   "execution_count": null,
   "id": "22aad05e",
   "metadata": {},
   "outputs": [],
   "source": [
    "# Label Series\n",
    "df[???].head()"
   ]
  },
  {
   "cell_type": "markdown",
   "id": "797d6831",
   "metadata": {},
   "source": [
    "### Let's use `LinearRegression` model.\n",
    "\n",
    "- `from sklearn.linear_model import LinearRegression`\n",
    "- Syntax: \\\n",
    "m = model \\\n",
    "m.fit(X, y) \\\n",
    "m.predict(X_pred)"
   ]
  },
  {
   "cell_type": "code",
   "execution_count": null,
   "id": "51ad5b05",
   "metadata": {},
   "outputs": [],
   "source": [
    "model = ???\n",
    "model.???\n",
    "# less interesting because we are predicting what we already know\n",
    "y = model.???"
   ]
  },
  {
   "cell_type": "markdown",
   "id": "e589d923",
   "metadata": {},
   "source": [
    "Predicting for new values of x."
   ]
  },
  {
   "cell_type": "code",
   "execution_count": null,
   "id": "dd8f0440",
   "metadata": {},
   "outputs": [],
   "source": [
    "predict_df = pd.DataFrame(???)\n",
    "predict_df"
   ]
  },
  {
   "cell_type": "code",
   "execution_count": null,
   "id": "5315289f",
   "metadata": {},
   "outputs": [],
   "source": [
    "model.???"
   ]
  },
  {
   "cell_type": "code",
   "execution_count": null,
   "id": "0cea4830",
   "metadata": {},
   "outputs": [],
   "source": [
    "predict_df[???] = model.predict(predict_df)\n",
    "predict_df"
   ]
  }
 ],
 "metadata": {
  "kernelspec": {
   "display_name": "Python 3 (ipykernel)",
   "language": "python",
   "name": "python3"
  },
  "language_info": {
   "codemirror_mode": {
    "name": "ipython",
    "version": 3
   },
   "file_extension": ".py",
   "mimetype": "text/x-python",
   "name": "python",
   "nbconvert_exporter": "python",
   "pygments_lexer": "ipython3",
   "version": "3.10.6"
  }
 },
 "nbformat": 4,
 "nbformat_minor": 5
}
