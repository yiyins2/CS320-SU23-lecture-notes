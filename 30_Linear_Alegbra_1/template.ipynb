{
 "cells": [
  {
   "cell_type": "code",
   "execution_count": null,
   "id": "e6f50cc3",
   "metadata": {},
   "outputs": [],
   "source": [
    "import os\n",
    "import pandas as pd\n",
    "import geopandas as gpd\n",
    "import matplotlib.pyplot as plt\n",
    "from sklearn.linear_model import LinearRegression\n",
    "import numpy as np"
   ]
  },
  {
   "cell_type": "markdown",
   "id": "1986bd55",
   "metadata": {},
   "source": [
    "# Linear Algebra"
   ]
  },
  {
   "cell_type": "markdown",
   "id": "7736923a",
   "metadata": {},
   "source": [
    "### Where do numpy arrays show up in ML?\n",
    "\n",
    "- A `DataFrame` is just a matrix wihout column names or row indices"
   ]
  },
  {
   "cell_type": "code",
   "execution_count": null,
   "id": "327c8314",
   "metadata": {},
   "outputs": [],
   "source": [
    "df = pd.DataFrame([[0, 2, 1], [2, 3, 4], [8, 5, 6]], columns=[\"x1\", \"x2\", \"y\"])\n",
    "df"
   ]
  },
  {
   "cell_type": "markdown",
   "id": "c6af6a3e",
   "metadata": {},
   "source": [
    "`df.values` gives us a `numpy.ndarray` of all the values.\n",
    "`nd` stands for n-dimensional:\n",
    "- 2-dimensional for matrix\n",
    "- 1-dimensional for vector"
   ]
  },
  {
   "cell_type": "code",
   "execution_count": null,
   "id": "4b416b92",
   "metadata": {},
   "outputs": [],
   "source": [
    "print(type(df.???))\n",
    "df.???"
   ]
  },
  {
   "cell_type": "code",
   "execution_count": null,
   "id": "156f0722",
   "metadata": {},
   "outputs": [],
   "source": [
    "model = LinearRegression()\n",
    "model.fit(df[[\"x1\", \"x2\"]], df[\"y\"])\n",
    "model.coef_"
   ]
  },
  {
   "cell_type": "code",
   "execution_count": null,
   "id": "069a423e",
   "metadata": {},
   "outputs": [],
   "source": [
    "model.predict(df[[\"x1\", \"x2\"]])"
   ]
  },
  {
   "cell_type": "markdown",
   "id": "30e8f41d",
   "metadata": {},
   "source": [
    "#### How does `predict` actually work?\n",
    "\n",
    "- Matrix multiplication with coefficients (`@`) and add intercept"
   ]
  },
  {
   "cell_type": "code",
   "execution_count": null,
   "id": "5809ea1b",
   "metadata": {},
   "outputs": [],
   "source": [
    "???"
   ]
  },
  {
   "cell_type": "markdown",
   "id": "dcd299a3",
   "metadata": {},
   "source": [
    "### How to create numpy arrays from scratch?\n",
    "\n",
    "- requires `import numpy as np`\n",
    "    - `np.array(<object>)`: creates numpy array from object instance; documentation: https://numpy.org/doc/stable/reference/generated/numpy.array.html\n",
    "    - `np.ones(<shape>)`: creates an array of ones; documentation: https://numpy.org/doc/stable/reference/generated/numpy.ones.html\n",
    "    - `np.zeros(<shape>)`: creates an array of zeros; documentation: https://numpy.org/doc/stable/reference/generated/numpy.zeros.html"
   ]
  },
  {
   "cell_type": "code",
   "execution_count": null,
   "id": "cae8622e",
   "metadata": {},
   "outputs": [],
   "source": [
    "# Creating numpy array using np.array\n",
    "[7, 8, 9]"
   ]
  },
  {
   "cell_type": "code",
   "execution_count": null,
   "id": "a3a7c724",
   "metadata": {},
   "outputs": [],
   "source": [
    "# Creating numpy array of 8 1's\n"
   ]
  },
  {
   "cell_type": "code",
   "execution_count": null,
   "id": "64d5a747",
   "metadata": {},
   "outputs": [],
   "source": [
    "# Creating numpy array of 8 0's\n"
   ]
  },
  {
   "cell_type": "markdown",
   "id": "77dba590",
   "metadata": {},
   "source": [
    "#### Review: `range()`"
   ]
  },
  {
   "cell_type": "code",
   "execution_count": null,
   "id": "c9d01064",
   "metadata": {},
   "outputs": [],
   "source": [
    "# 0 to exclusive end\n",
    "# range(END)\n",
    "list(range(10))"
   ]
  },
  {
   "cell_type": "code",
   "execution_count": null,
   "id": "625055f6",
   "metadata": {},
   "outputs": [],
   "source": [
    "# inclusive start to exclusive end\n",
    "# range(START, END)\n",
    "list(range(-4, 10))"
   ]
  },
  {
   "cell_type": "code",
   "execution_count": null,
   "id": "138db7bd",
   "metadata": {},
   "outputs": [],
   "source": [
    "# inclusive start to exclusive end with a step between values\n",
    "# default STEP is 1\n",
    "# range(START, END, STEP)\n",
    "list(range(-4, 10, 2))"
   ]
  },
  {
   "cell_type": "code",
   "execution_count": null,
   "id": "2ad2439f",
   "metadata": {},
   "outputs": [],
   "source": [
    "# range cannot have floats for the STEP\n",
    "list(range(-4, 10, 0.5))"
   ]
  },
  {
   "cell_type": "markdown",
   "id": "82d9884b",
   "metadata": {},
   "source": [
    "#### Back to `numpy`\n",
    "- `np.arange([start, ]stop, [step, ])`: gives us an array based on range; documentation: https://numpy.org/doc/stable/reference/generated/numpy.arange.html"
   ]
  },
  {
   "cell_type": "code",
   "execution_count": null,
   "id": "c7546ba3",
   "metadata": {},
   "outputs": [],
   "source": [
    "# array range\n"
   ]
  },
  {
   "cell_type": "markdown",
   "id": "3b2907d7",
   "metadata": {},
   "source": [
    "#### Review: Slicing\n",
    "\n",
    "- `seq_object[<START>:<exclusive_END>:<STEP>]`\n",
    "    - `<START>` is optional; default is index 0\n",
    "    - `<END>` is optional; default is `len` of the sequence\n",
    "- slicing creates a brand new object instance"
   ]
  },
  {
   "cell_type": "code",
   "execution_count": null,
   "id": "dc6c1b73",
   "metadata": {},
   "outputs": [],
   "source": [
    "# REVIEW: Python slicing of lists\n",
    "a = [7, 8, 9, 10]\n",
    "# slice out 8 and 10\n",
    "b =  \n",
    "b"
   ]
  },
  {
   "cell_type": "code",
   "execution_count": null,
   "id": "0fc53657",
   "metadata": {},
   "outputs": [],
   "source": [
    "b[1] = 100\n",
    "b"
   ]
  },
  {
   "cell_type": "code",
   "execution_count": null,
   "id": "1fb36b9f",
   "metadata": {},
   "outputs": [],
   "source": [
    "# original object instance doesn't change\n",
    "a"
   ]
  },
  {
   "cell_type": "markdown",
   "id": "a79b7bb6",
   "metadata": {},
   "source": [
    "Slicing is slow because of creating a new object instance."
   ]
  },
  {
   "cell_type": "markdown",
   "id": "ce7a536a",
   "metadata": {},
   "source": [
    "#### How to slice `numpy` arrays? \n",
    "- Unlike regular slicing `numpy` slicing is very efficient - doesn't do a copy"
   ]
  },
  {
   "cell_type": "code",
   "execution_count": null,
   "id": "290899b7",
   "metadata": {},
   "outputs": [],
   "source": [
    "a = np.array([7, 8, 9, 10])\n",
    "# slice out 8 and 10\n",
    "b = a[1::2]  \n",
    "b"
   ]
  },
  {
   "cell_type": "code",
   "execution_count": null,
   "id": "34d9d044",
   "metadata": {},
   "outputs": [],
   "source": [
    "b[1] = 100\n",
    "a"
   ]
  },
  {
   "cell_type": "markdown",
   "id": "27341ca0",
   "metadata": {},
   "source": [
    "How can you ensure that changes to a slice don't affect original `numpy.array`? Use `copy` method."
   ]
  },
  {
   "cell_type": "code",
   "execution_count": null,
   "id": "fe625eae",
   "metadata": {},
   "outputs": [],
   "source": [
    "a = np.array([7, 8, 9, 10])\n",
    "b = ??? # copy everything instead of sharing\n",
    "b = a[1::2] \n",
    "b[1] = 100\n",
    "b, a"
   ]
  },
  {
   "cell_type": "markdown",
   "id": "b5b407e8",
   "metadata": {},
   "source": [
    "#### Creating Multi-Dimensional Arrays\n",
    "\n",
    "- using nested data structures like list of lists\n",
    "- `shape` gives us the dimension of the `numpy.array`\n",
    "- `len()` gives the first dimension, that is `shape[0]`"
   ]
  },
  {
   "cell_type": "code",
   "execution_count": null,
   "id": "c44b5951",
   "metadata": {},
   "outputs": [],
   "source": [
    "a = np.array([1, 2, 3])\n",
    "a, len(a)"
   ]
  },
  {
   "cell_type": "markdown",
   "id": "99456855",
   "metadata": {},
   "source": [
    "How many numbers are there in the below `tuple`?"
   ]
  },
  {
   "cell_type": "code",
   "execution_count": null,
   "id": "8b9fe7e2",
   "metadata": {},
   "outputs": [],
   "source": [
    "# shape of numpy array\n"
   ]
  },
  {
   "cell_type": "markdown",
   "id": "40b1d392",
   "metadata": {},
   "source": [
    "One number in this `tuple`, and it is 3."
   ]
  },
  {
   "cell_type": "code",
   "execution_count": null,
   "id": "96716ca6",
   "metadata": {},
   "outputs": [],
   "source": [
    "# 2-D array using list of lists\n",
    "b = np.array([[1, 2, 3], [4, 5, 6]])\n",
    "b"
   ]
  },
  {
   "cell_type": "code",
   "execution_count": null,
   "id": "3053945b",
   "metadata": {},
   "outputs": [],
   "source": [
    "b.shape"
   ]
  },
  {
   "cell_type": "markdown",
   "id": "7e08dd1a",
   "metadata": {},
   "source": [
    "2 dimensional (because two numbers are there in this `tuple`). sizes 2 and 3 along those dimensions."
   ]
  },
  {
   "cell_type": "code",
   "execution_count": null,
   "id": "2340a5e6",
   "metadata": {},
   "outputs": [],
   "source": [
    "# gives shape[0]\n",
    "len(b)"
   ]
  },
  {
   "cell_type": "markdown",
   "id": "ed5979bc",
   "metadata": {},
   "source": [
    "#### How to reshape a `numpy.array`?\n",
    "\n",
    "- `<obj>.reshape(<newshape>)`: reshapes the dimension of the array; documentation: https://numpy.org/doc/stable/reference/generated/numpy.reshape.html"
   ]
  },
  {
   "cell_type": "code",
   "execution_count": null,
   "id": "f3d08197",
   "metadata": {},
   "outputs": [],
   "source": [
    "b"
   ]
  },
  {
   "cell_type": "code",
   "execution_count": null,
   "id": "b7d18682",
   "metadata": {},
   "outputs": [],
   "source": [
    "# Use .reshape to change the dimensions to 3 x 2\n"
   ]
  },
  {
   "cell_type": "code",
   "execution_count": null,
   "id": "2189e09b",
   "metadata": {},
   "outputs": [],
   "source": [
    "# Use .reshape to change to 1-dimensional array\n"
   ]
  },
  {
   "cell_type": "markdown",
   "id": "5588c5f8",
   "metadata": {},
   "source": [
    "We cannot add/remove values while reshaping."
   ]
  },
  {
   "cell_type": "code",
   "execution_count": null,
   "id": "75106197",
   "metadata": {},
   "outputs": [],
   "source": [
    "b.reshape(5)"
   ]
  },
  {
   "cell_type": "code",
   "execution_count": null,
   "id": "6bb8c765",
   "metadata": {},
   "outputs": [],
   "source": [
    "b.reshape(7)"
   ]
  },
  {
   "cell_type": "markdown",
   "id": "3d56dad4",
   "metadata": {},
   "source": [
    "-1 means whatever size is the necessary shape for the remaining values. Enables us to just control one of the dimensions."
   ]
  },
  {
   "cell_type": "code",
   "execution_count": null,
   "id": "f3c16ff5",
   "metadata": {},
   "outputs": [],
   "source": [
    "# Use .reshape to change the dimensions to 3 x something valid\n"
   ]
  },
  {
   "cell_type": "code",
   "execution_count": null,
   "id": "22cc87bc",
   "metadata": {},
   "outputs": [],
   "source": [
    "# Use .reshape to change the dimensions to 1-dimensionl using -1\n"
   ]
  },
  {
   "cell_type": "markdown",
   "id": "1b02eb22",
   "metadata": {},
   "source": [
    "Generate a 10*10 with numbers from 0 to 99."
   ]
  },
  {
   "cell_type": "code",
   "execution_count": null,
   "id": "87ca1111",
   "metadata": {},
   "outputs": [],
   "source": [
    "# Use arange and then reshape it to 10 x something valid\n"
   ]
  },
  {
   "cell_type": "markdown",
   "id": "01e7bf19",
   "metadata": {},
   "source": [
    "### Vocabulary\n",
    "- scalar: 0 dimensional array\n",
    "- vector: 1 dimensional array\n",
    "- matrix: 2 dimensional array\n",
    "- tensor: n dimensional (0, 1, 2, 3, ...) array "
   ]
  },
  {
   "cell_type": "markdown",
   "id": "63ca66d0",
   "metadata": {},
   "source": [
    "### Images as Tensors\n",
    "\n",
    "- `wget` command:\n",
    "    - `wget <url> -O <local file name>`"
   ]
  },
  {
   "cell_type": "code",
   "execution_count": null,
   "id": "9469b3b8",
   "metadata": {},
   "outputs": [],
   "source": [
    "# Only run this cell once\n",
    "!wget \"https://upload.wikimedia.org/wikipedia/commons/f/f2/Coccinella_magnifica01.jpg\" -O bug.jpg"
   ]
  },
  {
   "cell_type": "markdown",
   "id": "b9d16352",
   "metadata": {},
   "source": [
    "#### How to read an image file?\n",
    "\n",
    "- required `import matplotlib.pyplot as plt`\n",
    "    - `plt.imread(<fname>)`: reads an image file into a 3-dimensional array --- rows(pixels), columns(pixels), colors (red/green/blue)\n",
    "    - `plt.imshow(<array>, cmap=<color map>)`: displays the image"
   ]
  },
  {
   "cell_type": "code",
   "execution_count": null,
   "id": "6269ce42",
   "metadata": {},
   "outputs": [],
   "source": [
    "a = ???\n",
    "type(a)"
   ]
  },
  {
   "cell_type": "code",
   "execution_count": null,
   "id": "9f455a42",
   "metadata": {},
   "outputs": [],
   "source": [
    "# 3-dimensional array\n",
    "# rows(pixels), columns(pixels), colors (red/green/blue)\n",
    "a.shape"
   ]
  },
  {
   "cell_type": "code",
   "execution_count": null,
   "id": "44973823",
   "metadata": {},
   "outputs": [],
   "source": [
    "plt.???"
   ]
  },
  {
   "cell_type": "code",
   "execution_count": null,
   "id": "e973dd28",
   "metadata": {},
   "outputs": [],
   "source": [
    "a \n",
    "# each inner array has 3-color representation R, G, B\n",
    "# two color scales: floats (0.0 to 1.0) OR ints (0 to 255)"
   ]
  },
  {
   "cell_type": "markdown",
   "id": "59023dad",
   "metadata": {},
   "source": [
    "#### GOAL: crop down just to the bug using slicing\n",
    "\n",
    "- `<array>[ROW SLICE, COLUMN SLICE, COLOR SLICE]`"
   ]
  },
  {
   "cell_type": "code",
   "execution_count": null,
   "id": "4a1f059f",
   "metadata": {},
   "outputs": [],
   "source": [
    "plt.imshow(a[???, ???, :])"
   ]
  },
  {
   "cell_type": "markdown",
   "id": "c41c6a04",
   "metadata": {},
   "source": [
    "#### GOAL: show clearly where RED is high on the image\n",
    "- two formats:\n",
    "    - 3D (row, column, color)\n",
    "    - 2D (row, column) => black/white (red/blue)"
   ]
  },
  {
   "cell_type": "code",
   "execution_count": null,
   "id": "9924cb83",
   "metadata": {},
   "outputs": [],
   "source": [
    "a.shape"
   ]
  },
  {
   "cell_type": "markdown",
   "id": "21c34e89",
   "metadata": {},
   "source": [
    "Pull out only layer 0, which is the red layer.\n",
    "- 0 is red\n",
    "- 1 is green\n",
    "- 2 is blue\n",
    "\n",
    "Use index only for the color dimension and slices for row and column dimensions"
   ]
  },
  {
   "cell_type": "code",
   "execution_count": null,
   "id": "50b32a7a",
   "metadata": {},
   "outputs": [],
   "source": [
    "a[:, :, 0].shape "
   ]
  },
  {
   "cell_type": "code",
   "execution_count": null,
   "id": "0d4c8b80",
   "metadata": {},
   "outputs": [],
   "source": [
    "# instead of using black and white, \n",
    "# it is just assigning some color for light and dark\n",
    "plt.imshow(a[:, :, 0])"
   ]
  },
  {
   "cell_type": "code",
   "execution_count": null,
   "id": "71efa2de",
   "metadata": {},
   "outputs": [],
   "source": [
    "# better to use grayscale\n",
    "plt.imshow(a[:, :, 0], ???)"
   ]
  },
  {
   "cell_type": "markdown",
   "id": "9bad669a",
   "metadata": {},
   "source": [
    "Wherever there was red, the image is bright. The bug is very bright because of that. There are other places in the image that are bright but were not red. This is because when we mix RGB, we get white. Any color that was light will also have a lot of RED.\n",
    "\n",
    "This could be a pre-processing step for some ML algorithm that can identify RED bugs. "
   ]
  },
  {
   "cell_type": "markdown",
   "id": "e8a4f511",
   "metadata": {},
   "source": [
    "#### GOAL: show a grayscale that considers the average of all colors\n",
    "\n",
    "- `<array>.mean(axis=<val>)`:\n",
    "    - `axis` should be 0 for 1st dimension, 1 for 2nd dimension, 2 for 3rd dimension"
   ]
  },
  {
   "cell_type": "code",
   "execution_count": null,
   "id": "0235c6b7",
   "metadata": {},
   "outputs": [],
   "source": [
    "# average over all the numbers\n",
    "# gives a measure of how bright the image is overall\n",
    "a.mean()"
   ]
  },
  {
   "cell_type": "code",
   "execution_count": null,
   "id": "78e5988f",
   "metadata": {},
   "outputs": [],
   "source": [
    "a.shape"
   ]
  },
  {
   "cell_type": "code",
   "execution_count": null,
   "id": "de0a1eae",
   "metadata": {},
   "outputs": [],
   "source": [
    "# average over each column and color combination\n",
    "a.mean(axis=0).shape"
   ]
  },
  {
   "cell_type": "code",
   "execution_count": null,
   "id": "c658655d",
   "metadata": {},
   "outputs": [],
   "source": [
    "# average over each row and color combination\n",
    "a.mean(axis=1).shape"
   ]
  },
  {
   "cell_type": "code",
   "execution_count": null,
   "id": "85656235",
   "metadata": {},
   "outputs": [],
   "source": [
    "# average over each row and column combination\n",
    "a.mean(axis=2).shape"
   ]
  },
  {
   "cell_type": "code",
   "execution_count": null,
   "id": "a57d5077",
   "metadata": {},
   "outputs": [],
   "source": [
    "plt.imshow(a.mean(axis=2), cmap=\"gray\")"
   ]
  },
  {
   "cell_type": "markdown",
   "id": "66d7dcef",
   "metadata": {},
   "source": [
    "This could also be a pre-processing step for some ML algorithm that expects black and white images."
   ]
  },
  {
   "cell_type": "markdown",
   "id": "82d66d7a",
   "metadata": {},
   "source": [
    "### Vector Multiplication: Overview\n",
    "\n",
    "#### Elementwise Multiplication\n",
    "\n",
    "$\\begin{bmatrix}\n",
    "1 \\\\ 2 \\\\ 3\n",
    "\\end{bmatrix}\n",
    "*\n",
    "\\begin{bmatrix}\n",
    "4 \\\\ 5 \\\\ 6\n",
    "\\end{bmatrix}$\n",
    "\n",
    "$\\begin{bmatrix}\n",
    "1 \\\\ 2 \\\\ 3\n",
    "\\end{bmatrix}\n",
    "*\n",
    "\\begin{bmatrix}\n",
    "4 & 5 & 6\n",
    "\\end{bmatrix}$"
   ]
  },
  {
   "cell_type": "code",
   "execution_count": null,
   "id": "61dca7b3",
   "metadata": {},
   "outputs": [],
   "source": [
    "# Use .reshape to change the dimensions to something valid x 1 \n",
    "# vertical shape\n",
    "v1 = np.array([1, 2, 3])\n",
    "v1"
   ]
  },
  {
   "cell_type": "code",
   "execution_count": null,
   "id": "f4a3167b",
   "metadata": {},
   "outputs": [],
   "source": [
    "v2 = np.array([4, 5, 6]).reshape(-1, 1)\n",
    "v2"
   ]
  },
  {
   "cell_type": "markdown",
   "id": "888d7d1b",
   "metadata": {},
   "source": [
    "Elementwise multiplication:"
   ]
  },
  {
   "cell_type": "code",
   "execution_count": null,
   "id": "9c7b9d31",
   "metadata": {},
   "outputs": [],
   "source": [
    "v1 * v2   # [1*4, 2*5, 3*6]"
   ]
  },
  {
   "cell_type": "markdown",
   "id": "2bd28f4f",
   "metadata": {},
   "source": [
    "#### Transpose\n",
    "\n",
    "- flips the x and y"
   ]
  },
  {
   "cell_type": "code",
   "execution_count": null,
   "id": "c973a6d9",
   "metadata": {},
   "outputs": [],
   "source": [
    "v2"
   ]
  },
  {
   "cell_type": "code",
   "execution_count": null,
   "id": "db61f49e",
   "metadata": {},
   "outputs": [],
   "source": [
    "v2.??? # horizontal"
   ]
  },
  {
   "cell_type": "code",
   "execution_count": null,
   "id": "a95fc59a",
   "metadata": {},
   "outputs": [],
   "source": [
    "v2.T.T # vertical"
   ]
  },
  {
   "cell_type": "code",
   "execution_count": null,
   "id": "1d11b30c",
   "metadata": {},
   "outputs": [],
   "source": [
    "v1.shape"
   ]
  },
  {
   "cell_type": "code",
   "execution_count": null,
   "id": "278c5332",
   "metadata": {},
   "outputs": [],
   "source": [
    "v2.T.shape"
   ]
  },
  {
   "cell_type": "code",
   "execution_count": null,
   "id": "8c4bb10f",
   "metadata": {},
   "outputs": [],
   "source": [
    "v1 * v2.T # how is this working?"
   ]
  }
 ],
 "metadata": {
  "kernelspec": {
   "display_name": "Python 3 (ipykernel)",
   "language": "python",
   "name": "python3"
  },
  "language_info": {
   "codemirror_mode": {
    "name": "ipython",
    "version": 3
   },
   "file_extension": ".py",
   "mimetype": "text/x-python",
   "name": "python",
   "nbconvert_exporter": "python",
   "pygments_lexer": "ipython3",
   "version": "3.10.6"
  }
 },
 "nbformat": 4,
 "nbformat_minor": 5
}
