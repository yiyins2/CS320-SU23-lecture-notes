{
 "cells": [
  {
   "cell_type": "code",
   "execution_count": null,
   "id": "cbd48a28",
   "metadata": {},
   "outputs": [],
   "source": [
    "import numpy as np\n",
    "import pandas as pd\n",
    "import geopandas as gpd\n",
    "import matplotlib.pyplot as plt\n",
    "\n",
    "from sklearn import datasets\n",
    "from sklearn.model_selection import train_test_split\n",
    "from sklearn.linear_model import LogisticRegression\n",
    "from sklearn.pipeline import Pipeline\n",
    "from sklearn.preprocessing import PolynomialFeatures\n",
    "from sklearn.preprocessing import StandardScaler\n",
    "\n",
    "from sklearn.datasets import make_moons\n",
    "from scipy.cluster.hierarchy import dendrogram\n",
    "from sklearn.datasets import make_blobs\n",
    "\n",
    "# new import statements\n",
    "from sklearn.cluster import KMeans, AgglomerativeClustering"
   ]
  },
  {
   "cell_type": "markdown",
   "id": "0d506007",
   "metadata": {},
   "source": [
    "### `StandardScaler` with `KMeans`\n",
    "\n",
    "Recall that `StandardScaler` should always be applied after applying `PolynomialFeatures`."
   ]
  },
  {
   "cell_type": "code",
   "execution_count": null,
   "id": "1229aad1",
   "metadata": {},
   "outputs": [],
   "source": [
    "x = datasets.make_blobs(centers=np.array([(0, 0), (0, 20), (3, 20)]))[0]\n",
    "df = pd.DataFrame(x)\n",
    "df ???"
   ]
  },
  {
   "cell_type": "code",
   "execution_count": null,
   "id": "9f21a66d",
   "metadata": {},
   "outputs": [],
   "source": [
    "km_c = ???\n",
    "km_c.???\n",
    "km_c.???"
   ]
  },
  {
   "cell_type": "markdown",
   "id": "7dc700d4",
   "metadata": {},
   "source": [
    "#### `fit_predict(...)` is a shortcut for `fit` and `predict` method invocations."
   ]
  },
  {
   "cell_type": "code",
   "execution_count": null,
   "id": "7bc1d18d",
   "metadata": {},
   "outputs": [],
   "source": [
    "???"
   ]
  },
  {
   "cell_type": "code",
   "execution_count": null,
   "id": "b2dfa6bd",
   "metadata": {},
   "outputs": [],
   "source": [
    "# -1 => white, 0 => gray, 1 => black\n",
    "df.plot.scatter(x=0, y=1, figsize=(6, 4), ???)"
   ]
  },
  {
   "cell_type": "markdown",
   "id": "762f2882",
   "metadata": {},
   "source": [
    "**Observation**: scale for columns are intentionally not specified."
   ]
  },
  {
   "cell_type": "code",
   "execution_count": null,
   "id": "4f99dfeb",
   "metadata": {},
   "outputs": [],
   "source": [
    "df"
   ]
  },
  {
   "cell_type": "markdown",
   "id": "d444185c",
   "metadata": {},
   "source": [
    "Let's make a copy of the data. Assuming initial data for both columns is in \"km\", let's convert one column (`0`) into \"meters\". "
   ]
  },
  {
   "cell_type": "code",
   "execution_count": null,
   "id": "2e437218",
   "metadata": {},
   "outputs": [],
   "source": [
    "df2 = ???\n",
    "??? # km => m\n",
    "df2.head()"
   ]
  },
  {
   "cell_type": "code",
   "execution_count": null,
   "id": "c99315a5",
   "metadata": {},
   "outputs": [],
   "source": [
    "df2.plot.scatter(x=0, y=1, figsize=(6,4), c=KMeans(2).fit_predict(df2), vmin=-1, vmax=1)"
   ]
  },
  {
   "cell_type": "markdown",
   "id": "3966ddd3",
   "metadata": {},
   "source": [
    "**Observations**:\n",
    "- One would expect to see the same clusters, but that is not happening here. Why?\n",
    "    - x-axis difference is too high when compared to the y-axis difference\n",
    "    - That is, KMeans doesn't get that x-axis has scaled data, whereas y-axis doesn't have scaled data\n",
    "- This is not too far off from realistic datasets. \n",
    "    - That is, real-world dataset columns might have difference units. \n",
    "    - For example, one column might be representing temperature data where as another might be representing distance."
   ]
  },
  {
   "cell_type": "markdown",
   "id": "b63c9d9b",
   "metadata": {},
   "source": [
    "#### Conclusion: `StandardScaler` should be applied before `KMeans`"
   ]
  },
  {
   "cell_type": "code",
   "execution_count": null,
   "id": "2c81ed04",
   "metadata": {},
   "outputs": [],
   "source": [
    "model = ???\n",
    "\n",
    "df2.plot.scatter(x=0, y=1, figsize=(6, 4), c=model.fit_predict(df2), vmin=-1, vmax=1)"
   ]
  },
  {
   "cell_type": "markdown",
   "id": "8af299e7",
   "metadata": {},
   "source": [
    "## K-Means use cases:\n",
    "\n",
    "1. estimator\n",
    "2. transformer:\n",
    "    - sometimes we'll use an unsupervised learning technique (like k-means) to pre-process data, creating better inputs for a supervised learning technique (like logistic regression)"
   ]
  },
  {
   "cell_type": "code",
   "execution_count": null,
   "id": "6b99861d",
   "metadata": {},
   "outputs": [],
   "source": [
    "def make_data():\n",
    "    x, y = datasets.make_blobs(n_samples=250, centers=5, random_state=5)\n",
    "    xcols = [\"x0\", \"x1\"]\n",
    "    df1 = pd.DataFrame(x, columns=xcols)\n",
    "    df1[\"y\"] = y > 0\n",
    "\n",
    "    df2 = pd.DataFrame(np.random.uniform(-10, 10, size=(250, 2)), columns=[\"x0\", \"x1\"])\n",
    "    df2[\"y\"] = False\n",
    "\n",
    "    return pd.concat((df1, df2))\n",
    "\n",
    "df = make_data()\n",
    "df[\"color\"] = df.apply(lambda row: \"r\" if row[\"y\"] else \"b\", axis=1)\n",
    "train, test = train_test_split(df)"
   ]
  },
  {
   "cell_type": "code",
   "execution_count": null,
   "id": "c1a0353f",
   "metadata": {},
   "outputs": [],
   "source": [
    "plt.rcParams[\"font.size\"] = 16\n",
    "fig, ax = plt.subplots(ncols=2, figsize=(10,4))\n",
    "train.plot.scatter(x=\"x0\", y=\"x1\", c=train[\"color\"], vmin=-1, ax=ax[0])\n",
    "test.plot.scatter(x=\"x0\", y=\"x1\", c=\"k\", ax=ax[1])\n",
    "ax[0].set_title(\"Training Data\")\n",
    "ax[1].set_title(\"Test Data\")\n",
    "plt.subplots_adjust(wspace=0.4)"
   ]
  },
  {
   "cell_type": "markdown",
   "id": "57800660",
   "metadata": {},
   "source": [
    "#### Objective: use `LogisticRegression` to classify points as \"red\" or \"blue\"."
   ]
  },
  {
   "cell_type": "code",
   "execution_count": null,
   "id": "1a27350d-b423-4528-8467-bb10e15524a8",
   "metadata": {},
   "outputs": [],
   "source": [
    "model = LogisticRegression()\n",
    "model.fit(train[[\"x0\", \"x1\"]], train[\"y\"])\n",
    "model.score(test[[\"x0\", \"x1\"]], test[\"y\"])"
   ]
  },
  {
   "cell_type": "code",
   "execution_count": null,
   "id": "cba5b0b6",
   "metadata": {},
   "outputs": [],
   "source": [
    "model = ???\n",
    "model.fit(train[[\"x0\", \"x1\"]], train[\"y\"])\n",
    "model.score(test[[\"x0\", \"x1\"]], test[\"y\"])"
   ]
  },
  {
   "cell_type": "code",
   "execution_count": null,
   "id": "e78a788c",
   "metadata": {},
   "outputs": [],
   "source": [
    "model = ???\n",
    "model.fit(train[[\"x0\", \"x1\"]], train[\"y\"])\n",
    "model.score(test[[\"x0\", \"x1\"]], test[\"y\"])"
   ]
  },
  {
   "cell_type": "markdown",
   "id": "359dd107",
   "metadata": {},
   "source": [
    "### Wisconsin counties example"
   ]
  },
  {
   "cell_type": "code",
   "execution_count": null,
   "id": "8847306e",
   "metadata": {},
   "outputs": [],
   "source": [
    "df = gpd.read_file(\"counties.geojson\")\n",
    "df.head()"
   ]
  },
  {
   "cell_type": "markdown",
   "id": "377e9bb0",
   "metadata": {},
   "source": [
    "#### If we want to use \"POP100\", \"AREALAND\", \"developed\", \"forest\", \"pasture\", \"crops\" for clustering, what transformer should we use? \n",
    "\n",
    "- StandardScaler."
   ]
  },
  {
   "cell_type": "markdown",
   "id": "15f0b21c",
   "metadata": {},
   "source": [
    "### Goal here: cluster counties based on similar land usage."
   ]
  },
  {
   "cell_type": "code",
   "execution_count": null,
   "id": "55013d0a",
   "metadata": {},
   "outputs": [],
   "source": [
    "df.plot()"
   ]
  },
  {
   "cell_type": "code",
   "execution_count": null,
   "id": "a199a2af",
   "metadata": {},
   "outputs": [],
   "source": [
    "df.plot(column=\"crops\")"
   ]
  },
  {
   "cell_type": "code",
   "execution_count": null,
   "id": "8735a7bb",
   "metadata": {},
   "outputs": [],
   "source": [
    "df.plot(column=\"forest\")"
   ]
  },
  {
   "cell_type": "markdown",
   "id": "a42394cb",
   "metadata": {},
   "source": [
    "### KMeans"
   ]
  },
  {
   "cell_type": "code",
   "execution_count": null,
   "id": "a8b3c831",
   "metadata": {},
   "outputs": [],
   "source": [
    "xcols = [\"developed\", \"forest\", \"pasture\", \"crops\"]\n",
    "\n",
    "# instantiate\n",
    "km_c = ???\n",
    "# fit\n",
    "km_c.fit(df[xcols])\n",
    "# predict\n",
    "clusters = ???\n",
    "\n",
    "print(???)\n",
    "print(clusters)\n",
    "\n",
    "df.plot(???)"
   ]
  },
  {
   "cell_type": "markdown",
   "id": "01189d61",
   "metadata": {},
   "source": [
    "**Observation**: cluster number can be random. That is, if you re-run the above cell twice, you will get different number for each cluster."
   ]
  },
  {
   "cell_type": "markdown",
   "id": "1764b5a6",
   "metadata": {},
   "source": [
    "### Agglomerative clustering\n",
    "\n",
    "- import statement\n",
    "```python\n",
    "from sklearn.cluster import AgglomerativeClustering\n",
    "```"
   ]
  },
  {
   "cell_type": "code",
   "execution_count": null,
   "id": "3d7954a3",
   "metadata": {},
   "outputs": [],
   "source": [
    "xcols = [\"developed\", \"forest\", \"pasture\", \"crops\"]\n",
    "\n",
    "# instantiate\n",
    "agg_c = ???\n",
    "# fit\n",
    "agg_c.fit(df[xcols])\n",
    "# predict\n",
    "clusters = agg_c.predict(df[xcols])\n",
    "\n",
    "print(clusters)\n",
    "\n",
    "df.plot(column=clusters, cmap=\"tab10\")"
   ]
  },
  {
   "cell_type": "markdown",
   "id": "6f825891",
   "metadata": {},
   "source": [
    "**Observations**: \n",
    "- no centroids => no inertia => no elbow plots (how do we pick cluster count?):\n",
    "    - AttributeError: 'AgglomerativeClustering' object has no attribute 'predict'\n",
    "- no `predict` method, but there is `fit_predict`:\n",
    "    - AttributeError: 'AgglomerativeClustering' object has no attribute 'predict'\n",
    "    - why?\n",
    "        - because each point could lead to a completely different tree\n",
    "        - remember unlike KMeans (which is top-down), AgglomerativeClustering is bottom-up"
   ]
  },
  {
   "cell_type": "code",
   "execution_count": null,
   "id": "e16c6131",
   "metadata": {},
   "outputs": [],
   "source": [
    "xcols = [\"developed\", \"forest\", \"pasture\", \"crops\"]\n",
    "\n",
    "# instantiate\n",
    "agg_c = AgglomerativeClustering(4) # use compute_distances=True to save the distances\n",
    "# fit_predict\n",
    "clusters = agg_c.???\n",
    "\n",
    "print(clusters)\n",
    "\n",
    "df.plot(column=clusters, cmap=\"tab10\")"
   ]
  },
  {
   "cell_type": "code",
   "execution_count": null,
   "id": "0a8955c7-3e88-4ac8-a2d7-128594926ac0",
   "metadata": {},
   "outputs": [],
   "source": [
    "# The original df has 72 rows\n",
    "len(df)"
   ]
  },
  {
   "cell_type": "markdown",
   "id": "12b30bc4-f711-4f7a-830d-f0e1f2a13fe4",
   "metadata": {},
   "source": [
    "**Observations:**\n",
    "- `agg_model.children_` lists all intermediate children of the dendrogram\n",
    "- [44, 62] => Row 44, 62 from the original data was grouped together\n",
    "- [19, 73] => \n",
    "    - What's 73? Original df length + i, where i stands for the first group ([44, 62])\n",
    "    - 19 was grouped with [44, 62]\n",
    "- Last row is the root of the dendrogram"
   ]
  },
  {
   "cell_type": "code",
   "execution_count": null,
   "id": "049ae7bb-cd7b-45e8-9337-058bbeb4d11b",
   "metadata": {},
   "outputs": [],
   "source": [
    "agg_c.children_"
   ]
  },
  {
   "cell_type": "code",
   "execution_count": null,
   "id": "14fbcd63-6c48-4670-9e39-d669276935bf",
   "metadata": {},
   "outputs": [],
   "source": [
    "# Let's peak at the first group\n",
    "df.iloc[[44,  62]]"
   ]
  },
  {
   "cell_type": "markdown",
   "id": "7ea2741d-5ee2-4435-ab63-dd18aaa4f75b",
   "metadata": {},
   "source": [
    "#### Count the number of nodes in the subtree given node index\n",
    "- leaf nodes have index 0-71 (from the original df)\n",
    "- intermediate nodes have index >= 72 (from `agg_model.children_`)"
   ]
  },
  {
   "cell_type": "code",
   "execution_count": null,
   "id": "589e6f52-9006-4448-8070-00ed26ab262a",
   "metadata": {},
   "outputs": [],
   "source": [
    "def node_count(node_idx):\n",
    "    if node_idx < len(df):\n",
    "        return 1\n",
    "    else:\n",
    "        left, right = agg_c.children_[node_idx - len(df)]\n",
    "        return node_count(left) + node_count(right) + 1\n",
    "    \n",
    "node_count(75)"
   ]
  },
  {
   "cell_type": "code",
   "execution_count": null,
   "id": "fa986d89-dc07-4155-a742-0303493ee249",
   "metadata": {},
   "outputs": [],
   "source": [
    "# total number of nodes in the dendrogram\n",
    "node_count(len(df) + len(agg_c.children_) - 1)"
   ]
  },
  {
   "cell_type": "markdown",
   "id": "cc8a0350-42b6-4f86-8bee-64549e8c1739",
   "metadata": {},
   "source": [
    "#### Linkage Matrix \n",
    "- 4 columns: \n",
    "    - left node\n",
    "    - right node\n",
    "    - distances\n",
    "    - node count"
   ]
  },
  {
   "cell_type": "code",
   "execution_count": null,
   "id": "dab7e021-278f-4456-928c-0ef92dcb80cb",
   "metadata": {},
   "outputs": [],
   "source": [
    "# The distance between each group in the same order as km_c.children_\n",
    "agg_c.distances_"
   ]
  },
  {
   "cell_type": "code",
   "execution_count": null,
   "id": "ed58463b-5480-4fdd-af82-9be659dc3823",
   "metadata": {},
   "outputs": [],
   "source": [
    "# use the above node_count function \n",
    "counts = [node_count(node_idx) for node_idx in range(len(df), len(df) + len(agg_c.children_))]\n",
    "counts = np.array(counts).reshape(-1, 1)\n",
    "counts[:10, :]"
   ]
  },
  {
   "cell_type": "code",
   "execution_count": null,
   "id": "abcd1311-3ab3-4123-bb49-5b1bb035d003",
   "metadata": {},
   "outputs": [],
   "source": [
    "linkage = np.concatenate([\n",
    "    agg_c.children_, \n",
    "    agg_c.distances_.reshape(-1, 1),\n",
    "    counts,\n",
    "], axis=1)\n",
    "linkage"
   ]
  },
  {
   "cell_type": "markdown",
   "id": "4fc6ab6f-e159-40f2-9798-ac19993f3c75",
   "metadata": {},
   "source": [
    "#### Create dendrogram\n",
    "- import statement\n",
    "```python\n",
    "from scipy.cluster.hierarchy import dendrogram\n",
    "```"
   ]
  },
  {
   "cell_type": "code",
   "execution_count": null,
   "id": "163946ed-4b9d-4d71-832e-30051a58e246",
   "metadata": {},
   "outputs": [],
   "source": [
    "fig, ax = plt.subplots(figsize=(16,5))\n",
    "dendrogram(linkage, labels=df[\"NAME\"].values, ax=ax)\n",
    "ax.tick_params(labelsize=12)\n",
    "None"
   ]
  },
  {
   "cell_type": "code",
   "execution_count": null,
   "id": "a9bc274d-00d2-4750-af76-8d6933f054c4",
   "metadata": {},
   "outputs": [],
   "source": []
  }
 ],
 "metadata": {
  "kernelspec": {
   "display_name": "Python 3 (ipykernel)",
   "language": "python",
   "name": "python3"
  },
  "language_info": {
   "codemirror_mode": {
    "name": "ipython",
    "version": 3
   },
   "file_extension": ".py",
   "mimetype": "text/x-python",
   "name": "python",
   "nbconvert_exporter": "python",
   "pygments_lexer": "ipython3",
   "version": "3.10.6"
  }
 },
 "nbformat": 4,
 "nbformat_minor": 5
}
