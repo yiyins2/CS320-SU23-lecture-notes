{
 "cells": [
  {
   "cell_type": "markdown",
   "id": "e60c1c48",
   "metadata": {},
   "source": [
    "# Regex 1\n",
    "\n",
    "## Reading\n",
    "\n",
    "- New text: \"Principles and Techniques of Data Science\", by Sam Lau, Joey Gonzalez, and Deb Nolan\n",
    "- Used for Berkeley's DS100 Course.\n",
    "- Read Chapter 13: https://www.textbook.ds100.org/ch/13/text_regex.html"
   ]
  },
  {
   "cell_type": "code",
   "execution_count": null,
   "id": "0dba68b0",
   "metadata": {},
   "outputs": [],
   "source": [
    "#import statements\n",
    "import re"
   ]
  },
  {
   "cell_type": "code",
   "execution_count": null,
   "id": "b97c8008-8e39-4a9f-89a1-0d1ddbb1ac01",
   "metadata": {},
   "outputs": [],
   "source": [
    "# Example strings\n",
    "# from DS100 book...\n",
    "def reg(regex, text):\n",
    "    \"\"\"\n",
    "    Prints the string with the regex match highlighted.\n",
    "    \"\"\"\n",
    "    print(re.sub(f'({regex})', r'\\033[1;30;43m\\1\\033[m', text))\n",
    "    \n",
    "s1 = \" \".join([\"A DAG is a directed graph without cycles.\",\n",
    "               \"A tree is a DAG where every node has one parent (except the root, which has none).\",\n",
    "               \"To learn more, visit www.example.com or call 1-608-123-4567. :) ¯\\_(ツ)_/¯\"])\n",
    "print(s1)\n",
    "\n",
    "s2 = \"\"\"1-608-123-4567\n",
    "a-bcd-efg-hijg (not a phone number)\n",
    "1-608-123-456 (not a phone number)\n",
    "608-123-4567\n",
    "123-4567\n",
    "1-123-4567 (not a phone number)\n",
    "\"\"\"\n",
    "print(s2)\n",
    "\n",
    "s3 = \"In CS 320, there are 8 quizzes, 7 projects, 38 lectures, and 1000 things to learn.  CS 320 is awesome!\"\n",
    "print(s3)\n",
    "\n",
    "s4 = \"\"\"In CS 320,  there are 8 quizzes,    7 projects,\n",
    "38 lectures, and 1000 things to learn.  CS 320 is awesome!\"\"\"\n",
    "print(s4)"
   ]
  },
  {
   "cell_type": "code",
   "execution_count": null,
   "id": "924069c5-82be-4423-b659-2beee8e226be",
   "metadata": {},
   "outputs": [],
   "source": [
    "print(s1)"
   ]
  },
  {
   "cell_type": "markdown",
   "id": "ed8bca65",
   "metadata": {},
   "source": [
    "### double escaping (use case for raw strings)\n",
    "\n",
    "- Regex does another level of formatting with special sequences like \\t, \\n, etc.,\n",
    "\n",
    "#### Find the right arm \"\\\".\n",
    "\n",
    "- `reg(<PATTERN>, <STRING>)`"
   ]
  },
  {
   "cell_type": "code",
   "execution_count": null,
   "id": "003b6b2e-285f-4575-bf9f-6ecd0e086851",
   "metadata": {},
   "outputs": [],
   "source": [
    "# Python will be unhappy \n",
    "# \\ works as escape sequence here and it is trying to escape the second \",\n",
    "# meaning it thinks we are mentioning \" literal\n",
    "# reg(\"\\\", s1) # uncomment to see error"
   ]
  },
  {
   "cell_type": "code",
   "execution_count": null,
   "id": "b935eed3-322d-4b89-ae4a-ec10456e3fb6",
   "metadata": {},
   "outputs": [],
   "source": [
    "# Regex will be unhappy\n",
    "# reg(\"\\\\\", s1) # uncomment to see error"
   ]
  },
  {
   "cell_type": "code",
   "execution_count": null,
   "id": "a3a8ca37-9dba-4782-80f0-e6be5e3d98a1",
   "metadata": {},
   "outputs": [],
   "source": [
    "# Correct and cumbersome way to do this\n",
    "reg(\"\\\\\\\\\", s1)"
   ]
  },
  {
   "cell_type": "code",
   "execution_count": null,
   "id": "0636b9b1-159a-4597-a32f-e36510802753",
   "metadata": {},
   "outputs": [],
   "source": [
    "# Better way would be to use raw string to avoid double escaping\n",
    "reg(r\"\\\\\", s1)"
   ]
  },
  {
   "cell_type": "markdown",
   "id": "6a2eff34",
   "metadata": {},
   "source": [
    "### Regex is case sensitive\n",
    "\n",
    "#### Find all occurrences of \"a\"."
   ]
  },
  {
   "cell_type": "code",
   "execution_count": null,
   "id": "20fc2d34",
   "metadata": {},
   "outputs": [],
   "source": [
    "reg(r\"a\", s1)"
   ]
  },
  {
   "cell_type": "markdown",
   "id": "f39d05a7",
   "metadata": {},
   "source": [
    "#### Find all occurrences of \"A\"."
   ]
  },
  {
   "cell_type": "code",
   "execution_count": null,
   "id": "e4604bfc",
   "metadata": {},
   "outputs": [],
   "source": [
    "reg(r\"A\", s1)"
   ]
  },
  {
   "cell_type": "markdown",
   "id": "10807f2b",
   "metadata": {},
   "source": [
    "### Character classes\n",
    "\n",
    "- Character classes can be mentioned within `[...]`\n",
    "- `^` means `NOT` of a character class\n",
    "- `-` enables us to mention range of characters, for example `[A-Z]`\n",
    "- `|` enables us to perform `OR`\n",
    "\n",
    "#### Find both \"a\" and \"A\"."
   ]
  },
  {
   "cell_type": "code",
   "execution_count": null,
   "id": "5c07ad88-3019-4d75-aacf-743b3f01ef31",
   "metadata": {},
   "outputs": [],
   "source": [
    "# Doesn't work - because we are trying to match literally for \"aA\"\n",
    "reg(\"aA\", s1)"
   ]
  },
  {
   "cell_type": "code",
   "execution_count": null,
   "id": "cc0694e1-474e-44e2-b1e4-a75d1b518858",
   "metadata": {},
   "outputs": [],
   "source": [
    "reg(\"???\", s1)"
   ]
  },
  {
   "cell_type": "markdown",
   "id": "44eb40b8",
   "metadata": {},
   "source": [
    "#### Find all the vowels."
   ]
  },
  {
   "cell_type": "code",
   "execution_count": null,
   "id": "dee65e40-a4ad-4ea7-92c0-4daded4af747",
   "metadata": {},
   "outputs": [],
   "source": [
    "reg(\"???\", s1)"
   ]
  },
  {
   "cell_type": "markdown",
   "id": "91cfecdd",
   "metadata": {},
   "source": [
    "#### Find everything except vowels."
   ]
  },
  {
   "cell_type": "code",
   "execution_count": null,
   "id": "d27513a4-0774-4e43-bdaa-d777c5eb85a2",
   "metadata": {},
   "outputs": [],
   "source": [
    "reg(\"???\", s1)"
   ]
  },
  {
   "cell_type": "markdown",
   "id": "0fe5a885",
   "metadata": {},
   "source": [
    "#### Find all capital letters."
   ]
  },
  {
   "cell_type": "code",
   "execution_count": null,
   "id": "f1015a5b-47b5-4e70-b6f1-e18842e54c0d",
   "metadata": {},
   "outputs": [],
   "source": [
    "reg(\"???\", s1)"
   ]
  },
  {
   "cell_type": "markdown",
   "id": "04a88df6",
   "metadata": {},
   "source": [
    "#### What if we want to find \"A\", \"Z\", and \"-\"?"
   ]
  },
  {
   "cell_type": "code",
   "execution_count": null,
   "id": "7b46d6d1-f230-45ff-adda-ff2a49ddad16",
   "metadata": {},
   "outputs": [],
   "source": [
    "# How can we change this to do that?\n",
    "reg(r\"???\", s1)"
   ]
  },
  {
   "cell_type": "markdown",
   "id": "26a0f064",
   "metadata": {},
   "source": [
    "#### Invalid ranges don't work. For example: `[Z-A]`."
   ]
  },
  {
   "cell_type": "code",
   "execution_count": null,
   "id": "91edab5e",
   "metadata": {},
   "outputs": [],
   "source": [
    "# reg(\"[Z-A]\", s1) # uncomment to see error"
   ]
  },
  {
   "cell_type": "markdown",
   "id": "5a0d0886",
   "metadata": {},
   "source": [
    "#### Find all words related to graphs."
   ]
  },
  {
   "cell_type": "code",
   "execution_count": null,
   "id": "4fef9e57",
   "metadata": {},
   "outputs": [],
   "source": [
    "# | means OR\n",
    "reg(r\"tree|directed|undirected|graph|DAG|node|child|parent|root|cycles\", s1)"
   ]
  },
  {
   "cell_type": "markdown",
   "id": "4c3fb3ee",
   "metadata": {},
   "source": [
    "### Metacharacters\n",
    "\n",
    "- predefined character classes\n",
    "    - `\\d` => digits\n",
    "    - `\\s` => whitespace (space, tab, newline)\n",
    "    - `\\w` => \"word\" characters (digits, letters, underscores, etc) --- helpful for variable name matches and whole word matches (as it doesn't match whitespace --- `\\s`)\n",
    "    - `.` => wildcard: anything except newline\n",
    "- capitalized version of character classes mean `NOT`, for example `\\D` => everything except digits\n",
    "\n",
    "#### Find all digits."
   ]
  },
  {
   "cell_type": "code",
   "execution_count": null,
   "id": "96923f55-e19c-40c8-ac19-1b14d1ecaae3",
   "metadata": {},
   "outputs": [],
   "source": [
    "# v1\n",
    "reg(r\"???\", s1)"
   ]
  },
  {
   "cell_type": "code",
   "execution_count": null,
   "id": "e332472f",
   "metadata": {},
   "outputs": [],
   "source": [
    "# v2 - with metacharacters\n",
    "reg(r\"???\", s1)"
   ]
  },
  {
   "cell_type": "markdown",
   "id": "71967170",
   "metadata": {},
   "source": [
    "#### Find all whitespaces."
   ]
  },
  {
   "cell_type": "code",
   "execution_count": null,
   "id": "7438bd72-c477-4b9b-990a-0de55019f02a",
   "metadata": {},
   "outputs": [],
   "source": [
    "reg(r\"???\", s1)"
   ]
  },
  {
   "cell_type": "markdown",
   "id": "a9dd37a5",
   "metadata": {},
   "source": [
    "#### Find everything except whitespaces."
   ]
  },
  {
   "cell_type": "code",
   "execution_count": null,
   "id": "2ecfed39-e744-4c70-b612-afdba56ad48b",
   "metadata": {},
   "outputs": [],
   "source": [
    "reg(r\"???\", s1)"
   ]
  },
  {
   "cell_type": "markdown",
   "id": "647f8d70",
   "metadata": {},
   "source": [
    "#### Find anything except newline."
   ]
  },
  {
   "cell_type": "code",
   "execution_count": null,
   "id": "51216a97-db8d-4bf6-bbb0-5dccd0699f9a",
   "metadata": {},
   "outputs": [],
   "source": [
    "reg(r\"???\", s1)"
   ]
  },
  {
   "cell_type": "markdown",
   "id": "f3c68051",
   "metadata": {},
   "source": [
    "#### What if we want to actually match \".\"?"
   ]
  },
  {
   "cell_type": "code",
   "execution_count": null,
   "id": "382732ec-dec2-49ed-8854-8570d8c3f149",
   "metadata": {},
   "outputs": [],
   "source": [
    "#How can we change this to do that?\n",
    "reg(r\"???\", s1)"
   ]
  },
  {
   "cell_type": "markdown",
   "id": "7dc24ebb-1749-4dc7-b386-d4e10e938068",
   "metadata": {},
   "source": [
    "### REPETITION\n",
    "\n",
    "- `<character>{<num matches>}` - for example: `w{3}`\n",
    "- matches cannot overlap\n",
    "\n",
    "#### Find all \"www\"."
   ]
  },
  {
   "cell_type": "code",
   "execution_count": null,
   "id": "7a7fb583-c198-494a-abdb-f7ca668798a5",
   "metadata": {},
   "outputs": [],
   "source": [
    "# v1\n",
    "reg(r\"www\", s1)"
   ]
  },
  {
   "cell_type": "code",
   "execution_count": null,
   "id": "7e20ed80-de3f-45a6-be38-e21e9c6ffd66",
   "metadata": {},
   "outputs": [],
   "source": [
    "# v2 - repitition\n",
    "reg(r\"???\", s1)"
   ]
  },
  {
   "cell_type": "code",
   "execution_count": null,
   "id": "c48d3d94-19b7-416e-b079-3f78bd3ce834",
   "metadata": {},
   "outputs": [],
   "source": [
    "# Lesson: matches cannot overlap\n",
    "reg(r\"???\", s1) "
   ]
  },
  {
   "cell_type": "markdown",
   "id": "cc2bbdda",
   "metadata": {},
   "source": [
    "### Variable length repitition operators\n",
    "\n",
    "- `*` => 0 or more (greedy: match as many characters as possible)\n",
    "- `+` => 1 or more (greedy: match as many characters as possible)\n",
    "- `?` => 0 or 1\n",
    "- `*?` => 0 or more (non-greedy: match as few characters as possible)\n",
    "- `+?` => 1 or more (non-greedy: match as few characters as possible)\n",
    "\n",
    "#### Find everything inside of parentheses."
   ]
  },
  {
   "cell_type": "code",
   "execution_count": null,
   "id": "11f75d92-f215-47f4-8804-5e5727d3be55",
   "metadata": {},
   "outputs": [],
   "source": [
    "# this doesn't work\n",
    "# it captures everything because () have special meaning (coming up)\n",
    "reg(r\"???\", s1)"
   ]
  },
  {
   "cell_type": "code",
   "execution_count": null,
   "id": "b488460e",
   "metadata": {},
   "outputs": [],
   "source": [
    "# How can we change this to not use special meaning of ()?\n",
    "# * is greedy: match as many characters as possible\n",
    "reg(r\"???\", s1)"
   ]
  },
  {
   "cell_type": "code",
   "execution_count": null,
   "id": "42155b54-d27b-4418-81a1-c005c508d738",
   "metadata": {},
   "outputs": [],
   "source": [
    "# non-greedy: stop at the first possible spot instead of the last possible spot\n",
    "reg(r\"???\", s1)"
   ]
  },
  {
   "cell_type": "markdown",
   "id": "0fd70cfd",
   "metadata": {},
   "source": [
    "### Anchor characters\n",
    "- `^` => start of string\n",
    "    - `^` is overloaded --- what was the other usage?\n",
    "- `$` => end of string\n",
    "\n",
    "#### Find everything in the first sentence."
   ]
  },
  {
   "cell_type": "code",
   "execution_count": null,
   "id": "40fed5db",
   "metadata": {},
   "outputs": [],
   "source": [
    "# doesn't work because remember regex finds all possible matches\n",
    "# so it matches every single sentence \n",
    "# (even though we are doing non-greedy match)\n",
    "reg(r\"???\", s1)"
   ]
  },
  {
   "cell_type": "code",
   "execution_count": null,
   "id": "7e97abd8",
   "metadata": {},
   "outputs": [],
   "source": [
    "reg(r\"???\", s1)"
   ]
  },
  {
   "cell_type": "markdown",
   "id": "f66a4651",
   "metadata": {},
   "source": [
    "#### Find everything in the first two sentences."
   ]
  },
  {
   "cell_type": "code",
   "execution_count": null,
   "id": "cfa8353e-4402-4f64-b3f8-35e73b2d7a68",
   "metadata": {},
   "outputs": [],
   "source": [
    "reg(r\"???\", s1)"
   ]
  },
  {
   "cell_type": "markdown",
   "id": "76570acd",
   "metadata": {},
   "source": [
    "#### Find last \"word\" in the sentence."
   ]
  },
  {
   "cell_type": "code",
   "execution_count": null,
   "id": "f35a6c81-47b5-48eb-8357-888fe832f85b",
   "metadata": {},
   "outputs": [],
   "source": [
    "reg(r\"???\", s1)"
   ]
  },
  {
   "cell_type": "markdown",
   "id": "4b25fb66",
   "metadata": {},
   "source": [
    "### Case study: find all phone numbers."
   ]
  },
  {
   "cell_type": "code",
   "execution_count": null,
   "id": "8ecbeaf0",
   "metadata": {},
   "outputs": [],
   "source": [
    "print(s2)\n",
    "# The country code (1) in the front is optional\n",
    "# The area code (608) is also optional\n",
    "# Doesn't make sense to match country code without area code though!"
   ]
  },
  {
   "cell_type": "code",
   "execution_count": null,
   "id": "88a01725-790c-4f21-b334-e3d31bed24b5",
   "metadata": {},
   "outputs": [],
   "source": [
    "# Full US phone numbers\n",
    "reg(r\"???\", s2)"
   ]
  },
  {
   "cell_type": "code",
   "execution_count": null,
   "id": "ea8ce0be-98f8-4f9c-bcc0-1d8a0bb183a8",
   "metadata": {
    "tags": []
   },
   "outputs": [],
   "source": [
    "# The country code (1) in the front is optional\n",
    "reg(r\"???\", s2)"
   ]
  },
  {
   "cell_type": "code",
   "execution_count": null,
   "id": "5befb23a-848f-44d4-aaac-6b21ac0bbf43",
   "metadata": {},
   "outputs": [],
   "source": [
    "# The area code (608) is also optional\n",
    "# Doesn't make sense to have country code without area code though!\n",
    "reg(r\"???\", s2)"
   ]
  },
  {
   "cell_type": "code",
   "execution_count": null,
   "id": "34164fd1-a422-45a0-8e11-54199ca77120",
   "metadata": {},
   "outputs": [],
   "source": [
    "# This is good enough for 320 quizzes/tests\n",
    "# But clearly, the last match is not correct\n",
    "reg(r\"???\", s2)"
   ]
  },
  {
   "cell_type": "markdown",
   "id": "8a2ee4e2",
   "metadata": {},
   "source": [
    "Regex documentation link: https://docs.python.org/3/library/re.html."
   ]
  },
  {
   "cell_type": "code",
   "execution_count": null,
   "id": "694a585b-b5a7-4a6f-a0f1-60521f7dfc47",
   "metadata": {},
   "outputs": [],
   "source": [
    "# BONUS: negative lookbehind (I won't test this)\n",
    "reg(r\"???\", s2)"
   ]
  },
  {
   "cell_type": "markdown",
   "id": "3973350b",
   "metadata": {},
   "source": [
    "There is also a negative lookahead. For example, how to avoid matching \"1-608-123-456\" in \"1-608-123-4569999\". You can explore this if you are interested."
   ]
  },
  {
   "cell_type": "code",
   "execution_count": null,
   "id": "4988d765",
   "metadata": {},
   "outputs": [],
   "source": [
    "reg(r\"(?<!\\d\\-)((\\d-)?\\d{3}-)?\\d{3}-\\d{4}\", \"608-123-4569999\")"
   ]
  },
  {
   "cell_type": "markdown",
   "id": "b02ae9e0",
   "metadata": {},
   "source": [
    "### Testing your regex\n",
    "- you could use `reg(...)` function\n",
    "- another useful resource: https://regex101.com/"
   ]
  },
  {
   "cell_type": "markdown",
   "id": "4a973271",
   "metadata": {},
   "source": [
    "### `re` module\n",
    "- `re.findall(<PATTERN>, <SEARCH STRING>)`: regular expression matches\n",
    "    - returns a list of strings \n",
    "- `re.sub(<PATTERN>, <REPLACEMENT>, <SEARCH STRING>)`: regular expression match + substitution\n",
    "    - returns a new string with the substitutions (remember strings are immutable)"
   ]
  },
  {
   "cell_type": "code",
   "execution_count": null,
   "id": "73ec525f",
   "metadata": {},
   "outputs": [],
   "source": [
    "print(s3)"
   ]
  },
  {
   "cell_type": "markdown",
   "id": "34998a5e",
   "metadata": {},
   "source": [
    "#### Find all digits."
   ]
  },
  {
   "cell_type": "code",
   "execution_count": null,
   "id": "7f42c25a",
   "metadata": {},
   "outputs": [],
   "source": [
    "re.findall(r\"\\d+\", s3)"
   ]
  },
  {
   "cell_type": "markdown",
   "id": "70b2f488",
   "metadata": {},
   "source": [
    "### Groups\n",
    "- we can capture matches using `()` => this is the special meaning of `()`\n",
    "- returns a list of tuples, where length of the tuple will be number of groups\n",
    "\n",
    "#### Find all digits and the word that comes after that."
   ]
  },
  {
   "cell_type": "code",
   "execution_count": null,
   "id": "5309adee",
   "metadata": {},
   "outputs": [],
   "source": [
    "re.findall(r\"(\\d+) (\\w+)\", s3)"
   ]
  },
  {
   "cell_type": "markdown",
   "id": "c4b6b505",
   "metadata": {},
   "source": [
    "### Unlike matches, groups can overlap\n",
    "\n",
    "#### Find and group all digits and the word that comes after that."
   ]
  },
  {
   "cell_type": "code",
   "execution_count": null,
   "id": "491c3460",
   "metadata": {},
   "outputs": [],
   "source": [
    "re.findall(r\"((\\d+) (\\w+))\", s3)"
   ]
  },
  {
   "cell_type": "markdown",
   "id": "d2227e69",
   "metadata": {},
   "source": [
    "#### Substitute all digits with \"###\"."
   ]
  },
  {
   "cell_type": "code",
   "execution_count": null,
   "id": "6d1fede1",
   "metadata": {},
   "outputs": [],
   "source": [
    "re.sub(r\"\\d+\", \"###\", s3)"
   ]
  },
  {
   "cell_type": "markdown",
   "id": "9d531122",
   "metadata": {},
   "source": [
    "#### Substitute all whitespaces with single white space."
   ]
  },
  {
   "cell_type": "code",
   "execution_count": null,
   "id": "4becbe70",
   "metadata": {},
   "outputs": [],
   "source": [
    "print(s4)"
   ]
  },
  {
   "cell_type": "code",
   "execution_count": null,
   "id": "72a6eb42",
   "metadata": {},
   "outputs": [],
   "source": [
    "re.sub(r\"\\s+\", \" \", s4)"
   ]
  },
  {
   "cell_type": "markdown",
   "id": "6faf33fd",
   "metadata": {},
   "source": [
    "### How to use groups is substitution?\n",
    "- `\\g<N>` gives you the result of the N'th grouping.\n",
    "\n",
    "#### Substitute all whitespaces with single white space."
   ]
  },
  {
   "cell_type": "code",
   "execution_count": null,
   "id": "8df577fd",
   "metadata": {},
   "outputs": [],
   "source": [
    "print(re.sub(r\"(\\d+)\", \"<b>\\g<1></b>\", s3))"
   ]
  },
  {
   "cell_type": "markdown",
   "id": "35a15a41",
   "metadata": {},
   "source": [
    "In CS <b>320</b>, there are <b>40</b> lectures, <b>10</b> quizzes, <b>3</b> exams, <b>7</b> projects, and <b>1000</b> things to learn. CS <b>320</b> is awesome!"
   ]
  }
 ],
 "metadata": {
  "kernelspec": {
   "display_name": "Python 3 (ipykernel)",
   "language": "python",
   "name": "python3"
  },
  "language_info": {
   "codemirror_mode": {
    "name": "ipython",
    "version": 3
   },
   "file_extension": ".py",
   "mimetype": "text/x-python",
   "name": "python",
   "nbconvert_exporter": "python",
   "pygments_lexer": "ipython3",
   "version": "3.10.6"
  }
 },
 "nbformat": 4,
 "nbformat_minor": 5
}
