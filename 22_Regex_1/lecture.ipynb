{
 "cells": [
  {
   "cell_type": "markdown",
   "id": "e60c1c48",
   "metadata": {},
   "source": [
    "# Regex 1\n",
    "\n",
    "## Reading\n",
    "\n",
    "- New text: \"Principles and Techniques of Data Science\", by Sam Lau, Joey Gonzalez, and Deb Nolan\n",
    "- Used for Berkeley's DS100 Course.\n",
    "- Read Chapter 13: https://www.textbook.ds100.org/ch/13/text_regex.html"
   ]
  },
  {
   "cell_type": "code",
   "execution_count": 1,
   "id": "0dba68b0",
   "metadata": {},
   "outputs": [],
   "source": [
    "#import statements\n",
    "import re"
   ]
  },
  {
   "cell_type": "code",
   "execution_count": 2,
   "id": "b97c8008-8e39-4a9f-89a1-0d1ddbb1ac01",
   "metadata": {},
   "outputs": [
    {
     "name": "stdout",
     "output_type": "stream",
     "text": [
      "A DAG is a directed graph without cycles. A tree is a DAG where every node has one parent (except the root, which has none). To learn more, visit www.example.com or call 1-608-123-4567. :) ¯\\_(ツ)_/¯\n",
      "1-608-123-4567\n",
      "a-bcd-efg-hijg (not a phone number)\n",
      "1-608-123-456 (not a phone number)\n",
      "608-123-4567\n",
      "123-4567\n",
      "1-123-4567 (not a phone number)\n",
      "\n",
      "In CS 320, there are 8 quizzes, 7 projects, 38 lectures, and 1000 things to learn.  CS 320 is awesome!\n",
      "In CS 320,  there are 8 quizzes,    7 projects,\n",
      "38 lectures, and 1000 things to learn.  CS 320 is awesome!\n"
     ]
    }
   ],
   "source": [
    "# Example strings\n",
    "# from DS100 book...\n",
    "def reg(regex, text):\n",
    "    \"\"\"\n",
    "    Prints the string with the regex match highlighted.\n",
    "    \"\"\"\n",
    "    print(re.sub(f'({regex})', r'\\033[1;30;43m\\1\\033[m', text))\n",
    "    \n",
    "s1 = \" \".join([\"A DAG is a directed graph without cycles.\",\n",
    "               \"A tree is a DAG where every node has one parent (except the root, which has none).\",\n",
    "               \"To learn more, visit www.example.com or call 1-608-123-4567. :) ¯\\_(ツ)_/¯\"])\n",
    "print(s1)\n",
    "\n",
    "s2 = \"\"\"1-608-123-4567\n",
    "a-bcd-efg-hijg (not a phone number)\n",
    "1-608-123-456 (not a phone number)\n",
    "608-123-4567\n",
    "123-4567\n",
    "1-123-4567 (not a phone number)\n",
    "\"\"\"\n",
    "print(s2)\n",
    "\n",
    "s3 = \"In CS 320, there are 8 quizzes, 7 projects, 38 lectures, and 1000 things to learn.  CS 320 is awesome!\"\n",
    "print(s3)\n",
    "\n",
    "s4 = \"\"\"In CS 320,  there are 8 quizzes,    7 projects,\n",
    "38 lectures, and 1000 things to learn.  CS 320 is awesome!\"\"\"\n",
    "print(s4)"
   ]
  },
  {
   "cell_type": "code",
   "execution_count": 3,
   "id": "924069c5-82be-4423-b659-2beee8e226be",
   "metadata": {},
   "outputs": [
    {
     "name": "stdout",
     "output_type": "stream",
     "text": [
      "A DAG is a directed graph without cycles. A tree is a DAG where every node has one parent (except the root, which has none). To learn more, visit www.example.com or call 1-608-123-4567. :) ¯\\_(ツ)_/¯\n"
     ]
    }
   ],
   "source": [
    "print(s1)"
   ]
  },
  {
   "cell_type": "markdown",
   "id": "ed8bca65",
   "metadata": {},
   "source": [
    "### double escaping (use case for raw strings)\n",
    "\n",
    "- Regex does another level of formatting with special sequences like \\t, \\n, etc.,\n",
    "\n",
    "#### Find the right arm \"\\\".\n",
    "\n",
    "- `reg(<PATTERN>, <STRING>)`"
   ]
  },
  {
   "cell_type": "code",
   "execution_count": 4,
   "id": "003b6b2e-285f-4575-bf9f-6ecd0e086851",
   "metadata": {},
   "outputs": [],
   "source": [
    "# Python will be unhappy \n",
    "# \\ works as escape sequence here and it is trying to escape the second \",\n",
    "# meaning it thinks we are mentioning \" literal\n",
    "# reg(\"\\\", s1) # uncomment to see error"
   ]
  },
  {
   "cell_type": "code",
   "execution_count": 5,
   "id": "b935eed3-322d-4b89-ae4a-ec10456e3fb6",
   "metadata": {},
   "outputs": [],
   "source": [
    "# Regex will be unhappy\n",
    "# reg(\"\\\\\", s1) # uncomment to see error"
   ]
  },
  {
   "cell_type": "code",
   "execution_count": 6,
   "id": "a3a8ca37-9dba-4782-80f0-e6be5e3d98a1",
   "metadata": {},
   "outputs": [
    {
     "name": "stdout",
     "output_type": "stream",
     "text": [
      "A DAG is a directed graph without cycles. A tree is a DAG where every node has one parent (except the root, which has none). To learn more, visit www.example.com or call 1-608-123-4567. :) ¯\u001b[1;30;43m\\\u001b[m_(ツ)_/¯\n"
     ]
    }
   ],
   "source": [
    "# Correct and cumbersome way to do this\n",
    "reg(\"\\\\\\\\\", s1)"
   ]
  },
  {
   "cell_type": "code",
   "execution_count": 7,
   "id": "0636b9b1-159a-4597-a32f-e36510802753",
   "metadata": {},
   "outputs": [
    {
     "name": "stdout",
     "output_type": "stream",
     "text": [
      "A DAG is a directed graph without cycles. A tree is a DAG where every node has one parent (except the root, which has none). To learn more, visit www.example.com or call 1-608-123-4567. :) ¯\u001b[1;30;43m\\\u001b[m_(ツ)_/¯\n"
     ]
    }
   ],
   "source": [
    "# Better way would be to use raw string to avoid double escaping\n",
    "reg(r\"\\\\\", s1)"
   ]
  },
  {
   "cell_type": "markdown",
   "id": "6a2eff34",
   "metadata": {},
   "source": [
    "### Regex is case sensitive\n",
    "\n",
    "#### Find all occurrences of \"a\"."
   ]
  },
  {
   "cell_type": "code",
   "execution_count": 8,
   "id": "20fc2d34",
   "metadata": {},
   "outputs": [
    {
     "name": "stdout",
     "output_type": "stream",
     "text": [
      "A DAG is \u001b[1;30;43ma\u001b[m directed gr\u001b[1;30;43ma\u001b[mph without cycles. A tree is \u001b[1;30;43ma\u001b[m DAG where every node h\u001b[1;30;43ma\u001b[ms one p\u001b[1;30;43ma\u001b[mrent (except the root, which h\u001b[1;30;43ma\u001b[ms none). To le\u001b[1;30;43ma\u001b[mrn more, visit www.ex\u001b[1;30;43ma\u001b[mmple.com or c\u001b[1;30;43ma\u001b[mll 1-608-123-4567. :) ¯\\_(ツ)_/¯\n"
     ]
    }
   ],
   "source": [
    "reg(r\"a\", s1)"
   ]
  },
  {
   "cell_type": "markdown",
   "id": "f39d05a7",
   "metadata": {},
   "source": [
    "#### Find all occurrences of \"A\"."
   ]
  },
  {
   "cell_type": "code",
   "execution_count": 9,
   "id": "e4604bfc",
   "metadata": {},
   "outputs": [
    {
     "name": "stdout",
     "output_type": "stream",
     "text": [
      "\u001b[1;30;43mA\u001b[m D\u001b[1;30;43mA\u001b[mG is a directed graph without cycles. \u001b[1;30;43mA\u001b[m tree is a D\u001b[1;30;43mA\u001b[mG where every node has one parent (except the root, which has none). To learn more, visit www.example.com or call 1-608-123-4567. :) ¯\\_(ツ)_/¯\n"
     ]
    }
   ],
   "source": [
    "reg(r\"A\", s1)"
   ]
  },
  {
   "cell_type": "markdown",
   "id": "10807f2b",
   "metadata": {},
   "source": [
    "### Character classes\n",
    "\n",
    "- Character classes can be mentioned within `[...]`\n",
    "- `^` means `NOT` of a character class\n",
    "- `-` enables us to mention range of characters, for example `[A-Z]`\n",
    "- `|` enables us to perform `OR`\n",
    "\n",
    "#### Find both \"a\" and \"A\"."
   ]
  },
  {
   "cell_type": "code",
   "execution_count": 10,
   "id": "5c07ad88-3019-4d75-aacf-743b3f01ef31",
   "metadata": {},
   "outputs": [
    {
     "name": "stdout",
     "output_type": "stream",
     "text": [
      "A DAG is a directed graph without cycles. A tree is a DAG where every node has one parent (except the root, which has none). To learn more, visit www.example.com or call 1-608-123-4567. :) ¯\\_(ツ)_/¯\n"
     ]
    }
   ],
   "source": [
    "# Doesn't work - because we are trying to match literally for \"aA\"\n",
    "reg(\"aA\", s1)"
   ]
  },
  {
   "cell_type": "code",
   "execution_count": 11,
   "id": "cc0694e1-474e-44e2-b1e4-a75d1b518858",
   "metadata": {},
   "outputs": [
    {
     "name": "stdout",
     "output_type": "stream",
     "text": [
      "\u001b[1;30;43mA\u001b[m D\u001b[1;30;43mA\u001b[mG is \u001b[1;30;43ma\u001b[m directed gr\u001b[1;30;43ma\u001b[mph without cycles. \u001b[1;30;43mA\u001b[m tree is \u001b[1;30;43ma\u001b[m D\u001b[1;30;43mA\u001b[mG where every node h\u001b[1;30;43ma\u001b[ms one p\u001b[1;30;43ma\u001b[mrent (except the root, which h\u001b[1;30;43ma\u001b[ms none). To le\u001b[1;30;43ma\u001b[mrn more, visit www.ex\u001b[1;30;43ma\u001b[mmple.com or c\u001b[1;30;43ma\u001b[mll 1-608-123-4567. :) ¯\\_(ツ)_/¯\n"
     ]
    }
   ],
   "source": [
    "reg(\"[aA]\", s1)"
   ]
  },
  {
   "cell_type": "markdown",
   "id": "44eb40b8",
   "metadata": {},
   "source": [
    "#### Find all the vowels."
   ]
  },
  {
   "cell_type": "code",
   "execution_count": 12,
   "id": "dee65e40-a4ad-4ea7-92c0-4daded4af747",
   "metadata": {},
   "outputs": [
    {
     "name": "stdout",
     "output_type": "stream",
     "text": [
      "\u001b[1;30;43mA\u001b[m D\u001b[1;30;43mA\u001b[mG \u001b[1;30;43mi\u001b[ms \u001b[1;30;43ma\u001b[m d\u001b[1;30;43mi\u001b[mr\u001b[1;30;43me\u001b[mct\u001b[1;30;43me\u001b[md gr\u001b[1;30;43ma\u001b[mph w\u001b[1;30;43mi\u001b[mth\u001b[1;30;43mo\u001b[m\u001b[1;30;43mu\u001b[mt cycl\u001b[1;30;43me\u001b[ms. \u001b[1;30;43mA\u001b[m tr\u001b[1;30;43me\u001b[m\u001b[1;30;43me\u001b[m \u001b[1;30;43mi\u001b[ms \u001b[1;30;43ma\u001b[m D\u001b[1;30;43mA\u001b[mG wh\u001b[1;30;43me\u001b[mr\u001b[1;30;43me\u001b[m \u001b[1;30;43me\u001b[mv\u001b[1;30;43me\u001b[mry n\u001b[1;30;43mo\u001b[md\u001b[1;30;43me\u001b[m h\u001b[1;30;43ma\u001b[ms \u001b[1;30;43mo\u001b[mn\u001b[1;30;43me\u001b[m p\u001b[1;30;43ma\u001b[mr\u001b[1;30;43me\u001b[mnt (\u001b[1;30;43me\u001b[mxc\u001b[1;30;43me\u001b[mpt th\u001b[1;30;43me\u001b[m r\u001b[1;30;43mo\u001b[m\u001b[1;30;43mo\u001b[mt, wh\u001b[1;30;43mi\u001b[mch h\u001b[1;30;43ma\u001b[ms n\u001b[1;30;43mo\u001b[mn\u001b[1;30;43me\u001b[m). T\u001b[1;30;43mo\u001b[m l\u001b[1;30;43me\u001b[m\u001b[1;30;43ma\u001b[mrn m\u001b[1;30;43mo\u001b[mr\u001b[1;30;43me\u001b[m, v\u001b[1;30;43mi\u001b[ms\u001b[1;30;43mi\u001b[mt www.\u001b[1;30;43me\u001b[mx\u001b[1;30;43ma\u001b[mmpl\u001b[1;30;43me\u001b[m.c\u001b[1;30;43mo\u001b[mm \u001b[1;30;43mo\u001b[mr c\u001b[1;30;43ma\u001b[mll 1-608-123-4567. :) ¯\\_(ツ)_/¯\n"
     ]
    }
   ],
   "source": [
    "reg(\"[aeiouAEIOU]\", s1)"
   ]
  },
  {
   "cell_type": "markdown",
   "id": "91cfecdd",
   "metadata": {},
   "source": [
    "#### Find everything except vowels."
   ]
  },
  {
   "cell_type": "code",
   "execution_count": 13,
   "id": "d27513a4-0774-4e43-bdaa-d777c5eb85a2",
   "metadata": {},
   "outputs": [
    {
     "name": "stdout",
     "output_type": "stream",
     "text": [
      "A\u001b[1;30;43m \u001b[m\u001b[1;30;43mD\u001b[mA\u001b[1;30;43mG\u001b[m\u001b[1;30;43m \u001b[mi\u001b[1;30;43ms\u001b[m\u001b[1;30;43m \u001b[ma\u001b[1;30;43m \u001b[m\u001b[1;30;43md\u001b[mi\u001b[1;30;43mr\u001b[me\u001b[1;30;43mc\u001b[m\u001b[1;30;43mt\u001b[me\u001b[1;30;43md\u001b[m\u001b[1;30;43m \u001b[m\u001b[1;30;43mg\u001b[m\u001b[1;30;43mr\u001b[ma\u001b[1;30;43mp\u001b[m\u001b[1;30;43mh\u001b[m\u001b[1;30;43m \u001b[m\u001b[1;30;43mw\u001b[mi\u001b[1;30;43mt\u001b[m\u001b[1;30;43mh\u001b[mou\u001b[1;30;43mt\u001b[m\u001b[1;30;43m \u001b[m\u001b[1;30;43mc\u001b[m\u001b[1;30;43my\u001b[m\u001b[1;30;43mc\u001b[m\u001b[1;30;43ml\u001b[me\u001b[1;30;43ms\u001b[m\u001b[1;30;43m.\u001b[m\u001b[1;30;43m \u001b[mA\u001b[1;30;43m \u001b[m\u001b[1;30;43mt\u001b[m\u001b[1;30;43mr\u001b[mee\u001b[1;30;43m \u001b[mi\u001b[1;30;43ms\u001b[m\u001b[1;30;43m \u001b[ma\u001b[1;30;43m \u001b[m\u001b[1;30;43mD\u001b[mA\u001b[1;30;43mG\u001b[m\u001b[1;30;43m \u001b[m\u001b[1;30;43mw\u001b[m\u001b[1;30;43mh\u001b[me\u001b[1;30;43mr\u001b[me\u001b[1;30;43m \u001b[me\u001b[1;30;43mv\u001b[me\u001b[1;30;43mr\u001b[m\u001b[1;30;43my\u001b[m\u001b[1;30;43m \u001b[m\u001b[1;30;43mn\u001b[mo\u001b[1;30;43md\u001b[me\u001b[1;30;43m \u001b[m\u001b[1;30;43mh\u001b[ma\u001b[1;30;43ms\u001b[m\u001b[1;30;43m \u001b[mo\u001b[1;30;43mn\u001b[me\u001b[1;30;43m \u001b[m\u001b[1;30;43mp\u001b[ma\u001b[1;30;43mr\u001b[me\u001b[1;30;43mn\u001b[m\u001b[1;30;43mt\u001b[m\u001b[1;30;43m \u001b[m\u001b[1;30;43m(\u001b[me\u001b[1;30;43mx\u001b[m\u001b[1;30;43mc\u001b[me\u001b[1;30;43mp\u001b[m\u001b[1;30;43mt\u001b[m\u001b[1;30;43m \u001b[m\u001b[1;30;43mt\u001b[m\u001b[1;30;43mh\u001b[me\u001b[1;30;43m \u001b[m\u001b[1;30;43mr\u001b[moo\u001b[1;30;43mt\u001b[m\u001b[1;30;43m,\u001b[m\u001b[1;30;43m \u001b[m\u001b[1;30;43mw\u001b[m\u001b[1;30;43mh\u001b[mi\u001b[1;30;43mc\u001b[m\u001b[1;30;43mh\u001b[m\u001b[1;30;43m \u001b[m\u001b[1;30;43mh\u001b[ma\u001b[1;30;43ms\u001b[m\u001b[1;30;43m \u001b[m\u001b[1;30;43mn\u001b[mo\u001b[1;30;43mn\u001b[me\u001b[1;30;43m)\u001b[m\u001b[1;30;43m.\u001b[m\u001b[1;30;43m \u001b[m\u001b[1;30;43mT\u001b[mo\u001b[1;30;43m \u001b[m\u001b[1;30;43ml\u001b[mea\u001b[1;30;43mr\u001b[m\u001b[1;30;43mn\u001b[m\u001b[1;30;43m \u001b[m\u001b[1;30;43mm\u001b[mo\u001b[1;30;43mr\u001b[me\u001b[1;30;43m,\u001b[m\u001b[1;30;43m \u001b[m\u001b[1;30;43mv\u001b[mi\u001b[1;30;43ms\u001b[mi\u001b[1;30;43mt\u001b[m\u001b[1;30;43m \u001b[m\u001b[1;30;43mw\u001b[m\u001b[1;30;43mw\u001b[m\u001b[1;30;43mw\u001b[m\u001b[1;30;43m.\u001b[me\u001b[1;30;43mx\u001b[ma\u001b[1;30;43mm\u001b[m\u001b[1;30;43mp\u001b[m\u001b[1;30;43ml\u001b[me\u001b[1;30;43m.\u001b[m\u001b[1;30;43mc\u001b[mo\u001b[1;30;43mm\u001b[m\u001b[1;30;43m \u001b[mo\u001b[1;30;43mr\u001b[m\u001b[1;30;43m \u001b[m\u001b[1;30;43mc\u001b[ma\u001b[1;30;43ml\u001b[m\u001b[1;30;43ml\u001b[m\u001b[1;30;43m \u001b[m\u001b[1;30;43m1\u001b[m\u001b[1;30;43m-\u001b[m\u001b[1;30;43m6\u001b[m\u001b[1;30;43m0\u001b[m\u001b[1;30;43m8\u001b[m\u001b[1;30;43m-\u001b[m\u001b[1;30;43m1\u001b[m\u001b[1;30;43m2\u001b[m\u001b[1;30;43m3\u001b[m\u001b[1;30;43m-\u001b[m\u001b[1;30;43m4\u001b[m\u001b[1;30;43m5\u001b[m\u001b[1;30;43m6\u001b[m\u001b[1;30;43m7\u001b[m\u001b[1;30;43m.\u001b[m\u001b[1;30;43m \u001b[m\u001b[1;30;43m:\u001b[m\u001b[1;30;43m)\u001b[m\u001b[1;30;43m \u001b[m\u001b[1;30;43m¯\u001b[m\u001b[1;30;43m\\\u001b[m\u001b[1;30;43m_\u001b[m\u001b[1;30;43m(\u001b[m\u001b[1;30;43mツ\u001b[m\u001b[1;30;43m)\u001b[m\u001b[1;30;43m_\u001b[m\u001b[1;30;43m/\u001b[m\u001b[1;30;43m¯\u001b[m\n"
     ]
    }
   ],
   "source": [
    "reg(\"[^aeiouAEIOU]\", s1)"
   ]
  },
  {
   "cell_type": "markdown",
   "id": "0fe5a885",
   "metadata": {},
   "source": [
    "#### Find all capital letters."
   ]
  },
  {
   "cell_type": "code",
   "execution_count": 14,
   "id": "f1015a5b-47b5-4e70-b6f1-e18842e54c0d",
   "metadata": {},
   "outputs": [
    {
     "name": "stdout",
     "output_type": "stream",
     "text": [
      "\u001b[1;30;43mA\u001b[m \u001b[1;30;43mD\u001b[m\u001b[1;30;43mA\u001b[m\u001b[1;30;43mG\u001b[m is a directed graph without cycles. \u001b[1;30;43mA\u001b[m tree is a \u001b[1;30;43mD\u001b[m\u001b[1;30;43mA\u001b[m\u001b[1;30;43mG\u001b[m where every node has one parent (except the root, which has none). \u001b[1;30;43mT\u001b[mo learn more, visit www.example.com or call 1-608-123-4567. :) ¯\\_(ツ)_/¯\n"
     ]
    }
   ],
   "source": [
    "reg(\"[A-Z]\", s1)"
   ]
  },
  {
   "cell_type": "markdown",
   "id": "04a88df6",
   "metadata": {},
   "source": [
    "#### What if we want to find \"A\", \"Z\", and \"-\"?"
   ]
  },
  {
   "cell_type": "code",
   "execution_count": 15,
   "id": "7b46d6d1-f230-45ff-adda-ff2a49ddad16",
   "metadata": {},
   "outputs": [
    {
     "name": "stdout",
     "output_type": "stream",
     "text": [
      "\u001b[1;30;43mA\u001b[m D\u001b[1;30;43mA\u001b[mG is a directed graph without cycles. \u001b[1;30;43mA\u001b[m tree is a D\u001b[1;30;43mA\u001b[mG where every node has one parent (except the root, which has none). To learn more, visit www.example.com or call 1\u001b[1;30;43m-\u001b[m608\u001b[1;30;43m-\u001b[m123\u001b[1;30;43m-\u001b[m4567. :) ¯\\_(ツ)_/¯\n"
     ]
    }
   ],
   "source": [
    "# How can we change this to do that?\n",
    "reg(r\"[A\\-Z]\", s1)"
   ]
  },
  {
   "cell_type": "markdown",
   "id": "26a0f064",
   "metadata": {},
   "source": [
    "#### Invalid ranges don't work. For example: `[Z-A]`."
   ]
  },
  {
   "cell_type": "code",
   "execution_count": 16,
   "id": "91edab5e",
   "metadata": {},
   "outputs": [],
   "source": [
    "# reg(\"[Z-A]\", s1) # uncomment to see error"
   ]
  },
  {
   "cell_type": "markdown",
   "id": "5a0d0886",
   "metadata": {},
   "source": [
    "#### Find all words related to graphs."
   ]
  },
  {
   "cell_type": "code",
   "execution_count": 17,
   "id": "4fef9e57",
   "metadata": {},
   "outputs": [
    {
     "name": "stdout",
     "output_type": "stream",
     "text": [
      "A \u001b[1;30;43mDAG\u001b[m is a \u001b[1;30;43mdirected\u001b[m \u001b[1;30;43mgraph\u001b[m without \u001b[1;30;43mcycles\u001b[m. A \u001b[1;30;43mtree\u001b[m is a \u001b[1;30;43mDAG\u001b[m where every \u001b[1;30;43mnode\u001b[m has one \u001b[1;30;43mparent\u001b[m (except the \u001b[1;30;43mroot\u001b[m, which has none). To learn more, visit www.example.com or call 1-608-123-4567. :) ¯\\_(ツ)_/¯\n"
     ]
    }
   ],
   "source": [
    "# | means OR\n",
    "reg(r\"tree|directed|undirected|graph|DAG|node|child|parent|root|cycles\", s1)"
   ]
  },
  {
   "cell_type": "markdown",
   "id": "4c3fb3ee",
   "metadata": {},
   "source": [
    "### Metacharacters\n",
    "\n",
    "- predefined character classes\n",
    "    - `\\d` => digits\n",
    "    - `\\s` => whitespace (space, tab, newline)\n",
    "    - `\\w` => \"word\" characters (digits, letters, underscores, etc) --- helpful for variable name matches and whole word matches (as it doesn't match whitespace --- `\\s`)\n",
    "    - `.` => wildcard: anything except newline\n",
    "- capitalized version of character classes mean `NOT`, for example `\\D` => everything except digits\n",
    "\n",
    "#### Find all digits."
   ]
  },
  {
   "cell_type": "code",
   "execution_count": 18,
   "id": "96923f55-e19c-40c8-ac19-1b14d1ecaae3",
   "metadata": {},
   "outputs": [
    {
     "name": "stdout",
     "output_type": "stream",
     "text": [
      "A DAG is a directed graph without cycles. A tree is a DAG where every node has one parent (except the root, which has none). To learn more, visit www.example.com or call \u001b[1;30;43m1\u001b[m-\u001b[1;30;43m6\u001b[m\u001b[1;30;43m0\u001b[m\u001b[1;30;43m8\u001b[m-\u001b[1;30;43m1\u001b[m\u001b[1;30;43m2\u001b[m\u001b[1;30;43m3\u001b[m-\u001b[1;30;43m4\u001b[m\u001b[1;30;43m5\u001b[m\u001b[1;30;43m6\u001b[m\u001b[1;30;43m7\u001b[m. :) ¯\\_(ツ)_/¯\n"
     ]
    }
   ],
   "source": [
    "# v1\n",
    "reg(r\"[0-9]\", s1)"
   ]
  },
  {
   "cell_type": "code",
   "execution_count": 19,
   "id": "e332472f",
   "metadata": {},
   "outputs": [
    {
     "name": "stdout",
     "output_type": "stream",
     "text": [
      "A DAG is a directed graph without cycles. A tree is a DAG where every node has one parent (except the root, which has none). To learn more, visit www.example.com or call \u001b[1;30;43m1\u001b[m-\u001b[1;30;43m6\u001b[m\u001b[1;30;43m0\u001b[m\u001b[1;30;43m8\u001b[m-\u001b[1;30;43m1\u001b[m\u001b[1;30;43m2\u001b[m\u001b[1;30;43m3\u001b[m-\u001b[1;30;43m4\u001b[m\u001b[1;30;43m5\u001b[m\u001b[1;30;43m6\u001b[m\u001b[1;30;43m7\u001b[m. :) ¯\\_(ツ)_/¯\n"
     ]
    }
   ],
   "source": [
    "# v2 - with metacharacters\n",
    "reg(r\"\\d\", s1)"
   ]
  },
  {
   "cell_type": "markdown",
   "id": "71967170",
   "metadata": {},
   "source": [
    "#### Find all whitespaces."
   ]
  },
  {
   "cell_type": "code",
   "execution_count": 20,
   "id": "7438bd72-c477-4b9b-990a-0de55019f02a",
   "metadata": {},
   "outputs": [
    {
     "name": "stdout",
     "output_type": "stream",
     "text": [
      "A\u001b[1;30;43m \u001b[mDAG\u001b[1;30;43m \u001b[mis\u001b[1;30;43m \u001b[ma\u001b[1;30;43m \u001b[mdirected\u001b[1;30;43m \u001b[mgraph\u001b[1;30;43m \u001b[mwithout\u001b[1;30;43m \u001b[mcycles.\u001b[1;30;43m \u001b[mA\u001b[1;30;43m \u001b[mtree\u001b[1;30;43m \u001b[mis\u001b[1;30;43m \u001b[ma\u001b[1;30;43m \u001b[mDAG\u001b[1;30;43m \u001b[mwhere\u001b[1;30;43m \u001b[mevery\u001b[1;30;43m \u001b[mnode\u001b[1;30;43m \u001b[mhas\u001b[1;30;43m \u001b[mone\u001b[1;30;43m \u001b[mparent\u001b[1;30;43m \u001b[m(except\u001b[1;30;43m \u001b[mthe\u001b[1;30;43m \u001b[mroot,\u001b[1;30;43m \u001b[mwhich\u001b[1;30;43m \u001b[mhas\u001b[1;30;43m \u001b[mnone).\u001b[1;30;43m \u001b[mTo\u001b[1;30;43m \u001b[mlearn\u001b[1;30;43m \u001b[mmore,\u001b[1;30;43m \u001b[mvisit\u001b[1;30;43m \u001b[mwww.example.com\u001b[1;30;43m \u001b[mor\u001b[1;30;43m \u001b[mcall\u001b[1;30;43m \u001b[m1-608-123-4567.\u001b[1;30;43m \u001b[m:)\u001b[1;30;43m \u001b[m¯\\_(ツ)_/¯\n"
     ]
    }
   ],
   "source": [
    "reg(r\"\\s\", s1)"
   ]
  },
  {
   "cell_type": "markdown",
   "id": "a9dd37a5",
   "metadata": {},
   "source": [
    "#### Find everything except whitespaces."
   ]
  },
  {
   "cell_type": "code",
   "execution_count": 21,
   "id": "2ecfed39-e744-4c70-b612-afdba56ad48b",
   "metadata": {},
   "outputs": [
    {
     "name": "stdout",
     "output_type": "stream",
     "text": [
      "\u001b[1;30;43mA\u001b[m \u001b[1;30;43mD\u001b[m\u001b[1;30;43mA\u001b[m\u001b[1;30;43mG\u001b[m \u001b[1;30;43mi\u001b[m\u001b[1;30;43ms\u001b[m \u001b[1;30;43ma\u001b[m \u001b[1;30;43md\u001b[m\u001b[1;30;43mi\u001b[m\u001b[1;30;43mr\u001b[m\u001b[1;30;43me\u001b[m\u001b[1;30;43mc\u001b[m\u001b[1;30;43mt\u001b[m\u001b[1;30;43me\u001b[m\u001b[1;30;43md\u001b[m \u001b[1;30;43mg\u001b[m\u001b[1;30;43mr\u001b[m\u001b[1;30;43ma\u001b[m\u001b[1;30;43mp\u001b[m\u001b[1;30;43mh\u001b[m \u001b[1;30;43mw\u001b[m\u001b[1;30;43mi\u001b[m\u001b[1;30;43mt\u001b[m\u001b[1;30;43mh\u001b[m\u001b[1;30;43mo\u001b[m\u001b[1;30;43mu\u001b[m\u001b[1;30;43mt\u001b[m \u001b[1;30;43mc\u001b[m\u001b[1;30;43my\u001b[m\u001b[1;30;43mc\u001b[m\u001b[1;30;43ml\u001b[m\u001b[1;30;43me\u001b[m\u001b[1;30;43ms\u001b[m\u001b[1;30;43m.\u001b[m \u001b[1;30;43mA\u001b[m \u001b[1;30;43mt\u001b[m\u001b[1;30;43mr\u001b[m\u001b[1;30;43me\u001b[m\u001b[1;30;43me\u001b[m \u001b[1;30;43mi\u001b[m\u001b[1;30;43ms\u001b[m \u001b[1;30;43ma\u001b[m \u001b[1;30;43mD\u001b[m\u001b[1;30;43mA\u001b[m\u001b[1;30;43mG\u001b[m \u001b[1;30;43mw\u001b[m\u001b[1;30;43mh\u001b[m\u001b[1;30;43me\u001b[m\u001b[1;30;43mr\u001b[m\u001b[1;30;43me\u001b[m \u001b[1;30;43me\u001b[m\u001b[1;30;43mv\u001b[m\u001b[1;30;43me\u001b[m\u001b[1;30;43mr\u001b[m\u001b[1;30;43my\u001b[m \u001b[1;30;43mn\u001b[m\u001b[1;30;43mo\u001b[m\u001b[1;30;43md\u001b[m\u001b[1;30;43me\u001b[m \u001b[1;30;43mh\u001b[m\u001b[1;30;43ma\u001b[m\u001b[1;30;43ms\u001b[m \u001b[1;30;43mo\u001b[m\u001b[1;30;43mn\u001b[m\u001b[1;30;43me\u001b[m \u001b[1;30;43mp\u001b[m\u001b[1;30;43ma\u001b[m\u001b[1;30;43mr\u001b[m\u001b[1;30;43me\u001b[m\u001b[1;30;43mn\u001b[m\u001b[1;30;43mt\u001b[m \u001b[1;30;43m(\u001b[m\u001b[1;30;43me\u001b[m\u001b[1;30;43mx\u001b[m\u001b[1;30;43mc\u001b[m\u001b[1;30;43me\u001b[m\u001b[1;30;43mp\u001b[m\u001b[1;30;43mt\u001b[m \u001b[1;30;43mt\u001b[m\u001b[1;30;43mh\u001b[m\u001b[1;30;43me\u001b[m \u001b[1;30;43mr\u001b[m\u001b[1;30;43mo\u001b[m\u001b[1;30;43mo\u001b[m\u001b[1;30;43mt\u001b[m\u001b[1;30;43m,\u001b[m \u001b[1;30;43mw\u001b[m\u001b[1;30;43mh\u001b[m\u001b[1;30;43mi\u001b[m\u001b[1;30;43mc\u001b[m\u001b[1;30;43mh\u001b[m \u001b[1;30;43mh\u001b[m\u001b[1;30;43ma\u001b[m\u001b[1;30;43ms\u001b[m \u001b[1;30;43mn\u001b[m\u001b[1;30;43mo\u001b[m\u001b[1;30;43mn\u001b[m\u001b[1;30;43me\u001b[m\u001b[1;30;43m)\u001b[m\u001b[1;30;43m.\u001b[m \u001b[1;30;43mT\u001b[m\u001b[1;30;43mo\u001b[m \u001b[1;30;43ml\u001b[m\u001b[1;30;43me\u001b[m\u001b[1;30;43ma\u001b[m\u001b[1;30;43mr\u001b[m\u001b[1;30;43mn\u001b[m \u001b[1;30;43mm\u001b[m\u001b[1;30;43mo\u001b[m\u001b[1;30;43mr\u001b[m\u001b[1;30;43me\u001b[m\u001b[1;30;43m,\u001b[m \u001b[1;30;43mv\u001b[m\u001b[1;30;43mi\u001b[m\u001b[1;30;43ms\u001b[m\u001b[1;30;43mi\u001b[m\u001b[1;30;43mt\u001b[m \u001b[1;30;43mw\u001b[m\u001b[1;30;43mw\u001b[m\u001b[1;30;43mw\u001b[m\u001b[1;30;43m.\u001b[m\u001b[1;30;43me\u001b[m\u001b[1;30;43mx\u001b[m\u001b[1;30;43ma\u001b[m\u001b[1;30;43mm\u001b[m\u001b[1;30;43mp\u001b[m\u001b[1;30;43ml\u001b[m\u001b[1;30;43me\u001b[m\u001b[1;30;43m.\u001b[m\u001b[1;30;43mc\u001b[m\u001b[1;30;43mo\u001b[m\u001b[1;30;43mm\u001b[m \u001b[1;30;43mo\u001b[m\u001b[1;30;43mr\u001b[m \u001b[1;30;43mc\u001b[m\u001b[1;30;43ma\u001b[m\u001b[1;30;43ml\u001b[m\u001b[1;30;43ml\u001b[m \u001b[1;30;43m1\u001b[m\u001b[1;30;43m-\u001b[m\u001b[1;30;43m6\u001b[m\u001b[1;30;43m0\u001b[m\u001b[1;30;43m8\u001b[m\u001b[1;30;43m-\u001b[m\u001b[1;30;43m1\u001b[m\u001b[1;30;43m2\u001b[m\u001b[1;30;43m3\u001b[m\u001b[1;30;43m-\u001b[m\u001b[1;30;43m4\u001b[m\u001b[1;30;43m5\u001b[m\u001b[1;30;43m6\u001b[m\u001b[1;30;43m7\u001b[m\u001b[1;30;43m.\u001b[m \u001b[1;30;43m:\u001b[m\u001b[1;30;43m)\u001b[m \u001b[1;30;43m¯\u001b[m\u001b[1;30;43m\\\u001b[m\u001b[1;30;43m_\u001b[m\u001b[1;30;43m(\u001b[m\u001b[1;30;43mツ\u001b[m\u001b[1;30;43m)\u001b[m\u001b[1;30;43m_\u001b[m\u001b[1;30;43m/\u001b[m\u001b[1;30;43m¯\u001b[m\n"
     ]
    }
   ],
   "source": [
    "reg(r\"\\S\", s1)"
   ]
  },
  {
   "cell_type": "markdown",
   "id": "647f8d70",
   "metadata": {},
   "source": [
    "#### Find anything except newline."
   ]
  },
  {
   "cell_type": "code",
   "execution_count": 22,
   "id": "51216a97-db8d-4bf6-bbb0-5dccd0699f9a",
   "metadata": {},
   "outputs": [
    {
     "name": "stdout",
     "output_type": "stream",
     "text": [
      "\u001b[1;30;43mA\u001b[m\u001b[1;30;43m \u001b[m\u001b[1;30;43mD\u001b[m\u001b[1;30;43mA\u001b[m\u001b[1;30;43mG\u001b[m\u001b[1;30;43m \u001b[m\u001b[1;30;43mi\u001b[m\u001b[1;30;43ms\u001b[m\u001b[1;30;43m \u001b[m\u001b[1;30;43ma\u001b[m\u001b[1;30;43m \u001b[m\u001b[1;30;43md\u001b[m\u001b[1;30;43mi\u001b[m\u001b[1;30;43mr\u001b[m\u001b[1;30;43me\u001b[m\u001b[1;30;43mc\u001b[m\u001b[1;30;43mt\u001b[m\u001b[1;30;43me\u001b[m\u001b[1;30;43md\u001b[m\u001b[1;30;43m \u001b[m\u001b[1;30;43mg\u001b[m\u001b[1;30;43mr\u001b[m\u001b[1;30;43ma\u001b[m\u001b[1;30;43mp\u001b[m\u001b[1;30;43mh\u001b[m\u001b[1;30;43m \u001b[m\u001b[1;30;43mw\u001b[m\u001b[1;30;43mi\u001b[m\u001b[1;30;43mt\u001b[m\u001b[1;30;43mh\u001b[m\u001b[1;30;43mo\u001b[m\u001b[1;30;43mu\u001b[m\u001b[1;30;43mt\u001b[m\u001b[1;30;43m \u001b[m\u001b[1;30;43mc\u001b[m\u001b[1;30;43my\u001b[m\u001b[1;30;43mc\u001b[m\u001b[1;30;43ml\u001b[m\u001b[1;30;43me\u001b[m\u001b[1;30;43ms\u001b[m\u001b[1;30;43m.\u001b[m\u001b[1;30;43m \u001b[m\u001b[1;30;43mA\u001b[m\u001b[1;30;43m \u001b[m\u001b[1;30;43mt\u001b[m\u001b[1;30;43mr\u001b[m\u001b[1;30;43me\u001b[m\u001b[1;30;43me\u001b[m\u001b[1;30;43m \u001b[m\u001b[1;30;43mi\u001b[m\u001b[1;30;43ms\u001b[m\u001b[1;30;43m \u001b[m\u001b[1;30;43ma\u001b[m\u001b[1;30;43m \u001b[m\u001b[1;30;43mD\u001b[m\u001b[1;30;43mA\u001b[m\u001b[1;30;43mG\u001b[m\u001b[1;30;43m \u001b[m\u001b[1;30;43mw\u001b[m\u001b[1;30;43mh\u001b[m\u001b[1;30;43me\u001b[m\u001b[1;30;43mr\u001b[m\u001b[1;30;43me\u001b[m\u001b[1;30;43m \u001b[m\u001b[1;30;43me\u001b[m\u001b[1;30;43mv\u001b[m\u001b[1;30;43me\u001b[m\u001b[1;30;43mr\u001b[m\u001b[1;30;43my\u001b[m\u001b[1;30;43m \u001b[m\u001b[1;30;43mn\u001b[m\u001b[1;30;43mo\u001b[m\u001b[1;30;43md\u001b[m\u001b[1;30;43me\u001b[m\u001b[1;30;43m \u001b[m\u001b[1;30;43mh\u001b[m\u001b[1;30;43ma\u001b[m\u001b[1;30;43ms\u001b[m\u001b[1;30;43m \u001b[m\u001b[1;30;43mo\u001b[m\u001b[1;30;43mn\u001b[m\u001b[1;30;43me\u001b[m\u001b[1;30;43m \u001b[m\u001b[1;30;43mp\u001b[m\u001b[1;30;43ma\u001b[m\u001b[1;30;43mr\u001b[m\u001b[1;30;43me\u001b[m\u001b[1;30;43mn\u001b[m\u001b[1;30;43mt\u001b[m\u001b[1;30;43m \u001b[m\u001b[1;30;43m(\u001b[m\u001b[1;30;43me\u001b[m\u001b[1;30;43mx\u001b[m\u001b[1;30;43mc\u001b[m\u001b[1;30;43me\u001b[m\u001b[1;30;43mp\u001b[m\u001b[1;30;43mt\u001b[m\u001b[1;30;43m \u001b[m\u001b[1;30;43mt\u001b[m\u001b[1;30;43mh\u001b[m\u001b[1;30;43me\u001b[m\u001b[1;30;43m \u001b[m\u001b[1;30;43mr\u001b[m\u001b[1;30;43mo\u001b[m\u001b[1;30;43mo\u001b[m\u001b[1;30;43mt\u001b[m\u001b[1;30;43m,\u001b[m\u001b[1;30;43m \u001b[m\u001b[1;30;43mw\u001b[m\u001b[1;30;43mh\u001b[m\u001b[1;30;43mi\u001b[m\u001b[1;30;43mc\u001b[m\u001b[1;30;43mh\u001b[m\u001b[1;30;43m \u001b[m\u001b[1;30;43mh\u001b[m\u001b[1;30;43ma\u001b[m\u001b[1;30;43ms\u001b[m\u001b[1;30;43m \u001b[m\u001b[1;30;43mn\u001b[m\u001b[1;30;43mo\u001b[m\u001b[1;30;43mn\u001b[m\u001b[1;30;43me\u001b[m\u001b[1;30;43m)\u001b[m\u001b[1;30;43m.\u001b[m\u001b[1;30;43m \u001b[m\u001b[1;30;43mT\u001b[m\u001b[1;30;43mo\u001b[m\u001b[1;30;43m \u001b[m\u001b[1;30;43ml\u001b[m\u001b[1;30;43me\u001b[m\u001b[1;30;43ma\u001b[m\u001b[1;30;43mr\u001b[m\u001b[1;30;43mn\u001b[m\u001b[1;30;43m \u001b[m\u001b[1;30;43mm\u001b[m\u001b[1;30;43mo\u001b[m\u001b[1;30;43mr\u001b[m\u001b[1;30;43me\u001b[m\u001b[1;30;43m,\u001b[m\u001b[1;30;43m \u001b[m\u001b[1;30;43mv\u001b[m\u001b[1;30;43mi\u001b[m\u001b[1;30;43ms\u001b[m\u001b[1;30;43mi\u001b[m\u001b[1;30;43mt\u001b[m\u001b[1;30;43m \u001b[m\u001b[1;30;43mw\u001b[m\u001b[1;30;43mw\u001b[m\u001b[1;30;43mw\u001b[m\u001b[1;30;43m.\u001b[m\u001b[1;30;43me\u001b[m\u001b[1;30;43mx\u001b[m\u001b[1;30;43ma\u001b[m\u001b[1;30;43mm\u001b[m\u001b[1;30;43mp\u001b[m\u001b[1;30;43ml\u001b[m\u001b[1;30;43me\u001b[m\u001b[1;30;43m.\u001b[m\u001b[1;30;43mc\u001b[m\u001b[1;30;43mo\u001b[m\u001b[1;30;43mm\u001b[m\u001b[1;30;43m \u001b[m\u001b[1;30;43mo\u001b[m\u001b[1;30;43mr\u001b[m\u001b[1;30;43m \u001b[m\u001b[1;30;43mc\u001b[m\u001b[1;30;43ma\u001b[m\u001b[1;30;43ml\u001b[m\u001b[1;30;43ml\u001b[m\u001b[1;30;43m \u001b[m\u001b[1;30;43m1\u001b[m\u001b[1;30;43m-\u001b[m\u001b[1;30;43m6\u001b[m\u001b[1;30;43m0\u001b[m\u001b[1;30;43m8\u001b[m\u001b[1;30;43m-\u001b[m\u001b[1;30;43m1\u001b[m\u001b[1;30;43m2\u001b[m\u001b[1;30;43m3\u001b[m\u001b[1;30;43m-\u001b[m\u001b[1;30;43m4\u001b[m\u001b[1;30;43m5\u001b[m\u001b[1;30;43m6\u001b[m\u001b[1;30;43m7\u001b[m\u001b[1;30;43m.\u001b[m\u001b[1;30;43m \u001b[m\u001b[1;30;43m:\u001b[m\u001b[1;30;43m)\u001b[m\u001b[1;30;43m \u001b[m\u001b[1;30;43m¯\u001b[m\u001b[1;30;43m\\\u001b[m\u001b[1;30;43m_\u001b[m\u001b[1;30;43m(\u001b[m\u001b[1;30;43mツ\u001b[m\u001b[1;30;43m)\u001b[m\u001b[1;30;43m_\u001b[m\u001b[1;30;43m/\u001b[m\u001b[1;30;43m¯\u001b[m\n"
     ]
    }
   ],
   "source": [
    "reg(r\".\", s1)"
   ]
  },
  {
   "cell_type": "markdown",
   "id": "f3c68051",
   "metadata": {},
   "source": [
    "#### What if we want to actually match \".\"?"
   ]
  },
  {
   "cell_type": "code",
   "execution_count": 23,
   "id": "382732ec-dec2-49ed-8854-8570d8c3f149",
   "metadata": {},
   "outputs": [
    {
     "name": "stdout",
     "output_type": "stream",
     "text": [
      "A DAG is a directed graph without cycles\u001b[1;30;43m.\u001b[m A tree is a DAG where every node has one parent (except the root, which has none)\u001b[1;30;43m.\u001b[m To learn more, visit www\u001b[1;30;43m.\u001b[mexample\u001b[1;30;43m.\u001b[mcom or call 1-608-123-4567\u001b[1;30;43m.\u001b[m :) ¯\\_(ツ)_/¯\n"
     ]
    }
   ],
   "source": [
    "#How can we change this to do that?\n",
    "reg(r\"\\.\", s1)"
   ]
  },
  {
   "cell_type": "markdown",
   "id": "7dc24ebb-1749-4dc7-b386-d4e10e938068",
   "metadata": {},
   "source": [
    "### REPETITION\n",
    "\n",
    "- `<character>{<num matches>}` - for example: `w{3}`\n",
    "- matches cannot overlap\n",
    "\n",
    "#### Find all \"www\"."
   ]
  },
  {
   "cell_type": "code",
   "execution_count": 24,
   "id": "7a7fb583-c198-494a-abdb-f7ca668798a5",
   "metadata": {},
   "outputs": [
    {
     "name": "stdout",
     "output_type": "stream",
     "text": [
      "A DAG is a directed graph without cycles. A tree is a DAG where every node has one parent (except the root, which has none). To learn more, visit \u001b[1;30;43mwww\u001b[m.example.com or call 1-608-123-4567. :) ¯\\_(ツ)_/¯\n"
     ]
    }
   ],
   "source": [
    "# v1\n",
    "reg(r\"www\", s1)"
   ]
  },
  {
   "cell_type": "code",
   "execution_count": 25,
   "id": "7e20ed80-de3f-45a6-be38-e21e9c6ffd66",
   "metadata": {},
   "outputs": [
    {
     "name": "stdout",
     "output_type": "stream",
     "text": [
      "A DAG is a directed graph without cycles. A tree is a DAG where every node has one parent (except the root, which has none). To learn more, visit \u001b[1;30;43mwww\u001b[m.example.com or call 1-608-123-4567. :) ¯\\_(ツ)_/¯\n"
     ]
    }
   ],
   "source": [
    "# v2 - repitition\n",
    "reg(r\"w{3}\", s1)"
   ]
  },
  {
   "cell_type": "code",
   "execution_count": 26,
   "id": "c48d3d94-19b7-416e-b079-3f78bd3ce834",
   "metadata": {},
   "outputs": [
    {
     "name": "stdout",
     "output_type": "stream",
     "text": [
      "A DAG is a directed graph without cycles. A tree is a DAG where every node has one parent (except the root, which has none). To learn more, visit \u001b[1;30;43mww\u001b[mw.example.com or call 1-608-123-4567. :) ¯\\_(ツ)_/¯\n"
     ]
    }
   ],
   "source": [
    "# Lesson: matches cannot overlap\n",
    "reg(r\"w{2}\", s1) "
   ]
  },
  {
   "cell_type": "markdown",
   "id": "cc2bbdda",
   "metadata": {},
   "source": [
    "### Variable length repitition operators\n",
    "\n",
    "- `*` => 0 or more (greedy: match as many characters as possible)\n",
    "- `+` => 1 or more (greedy: match as many characters as possible)\n",
    "- `?` => 0 or 1\n",
    "- `*?` => 0 or more (non-greedy: match as few characters as possible)\n",
    "- `+?` => 1 or more (non-greedy: match as few characters as possible)\n",
    "\n",
    "#### Find everything inside of parentheses."
   ]
  },
  {
   "cell_type": "code",
   "execution_count": 27,
   "id": "11f75d92-f215-47f4-8804-5e5727d3be55",
   "metadata": {},
   "outputs": [
    {
     "name": "stdout",
     "output_type": "stream",
     "text": [
      "\u001b[1;30;43mA DAG is a directed graph without cycles. A tree is a DAG where every node has one parent (except the root, which has none). To learn more, visit www.example.com or call 1-608-123-4567. :) ¯\\_(ツ)_/¯\u001b[m\u001b[1;30;43m\u001b[m\n"
     ]
    }
   ],
   "source": [
    "# this doesn't work\n",
    "# it captures everything because () have special meaning (coming up)\n",
    "reg(r\"(.*)\", s1)"
   ]
  },
  {
   "cell_type": "code",
   "execution_count": 28,
   "id": "b488460e",
   "metadata": {},
   "outputs": [
    {
     "name": "stdout",
     "output_type": "stream",
     "text": [
      "A DAG is a directed graph without cycles. A tree is a DAG where every node has one parent \u001b[1;30;43m(except the root, which has none). To learn more, visit www.example.com or call 1-608-123-4567. :) ¯\\_(ツ)\u001b[m_/¯\n"
     ]
    }
   ],
   "source": [
    "# How can we change this to not use special meaning of ()?\n",
    "# * is greedy: match as many characters as possible\n",
    "reg(r\"\\(.*\\)\", s1)"
   ]
  },
  {
   "cell_type": "code",
   "execution_count": 29,
   "id": "42155b54-d27b-4418-81a1-c005c508d738",
   "metadata": {},
   "outputs": [
    {
     "name": "stdout",
     "output_type": "stream",
     "text": [
      "A DAG is a directed graph without cycles. A tree is a DAG where every node has one parent \u001b[1;30;43m(except the root, which has none)\u001b[m. To learn more, visit www.example.com or call 1-608-123-4567. :) ¯\\_\u001b[1;30;43m(ツ)\u001b[m_/¯\n"
     ]
    }
   ],
   "source": [
    "# non-greedy: stop at the first possible spot instead of the last possible spot\n",
    "reg(r\"\\(.*?\\)\", s1)"
   ]
  },
  {
   "cell_type": "markdown",
   "id": "0fd70cfd",
   "metadata": {},
   "source": [
    "### Anchor characters\n",
    "- `^` => start of string\n",
    "    - `^` is overloaded --- what was the other usage?\n",
    "- `$` => end of string\n",
    "\n",
    "#### Find everything in the first sentence."
   ]
  },
  {
   "cell_type": "code",
   "execution_count": 30,
   "id": "40fed5db",
   "metadata": {},
   "outputs": [
    {
     "name": "stdout",
     "output_type": "stream",
     "text": [
      "\u001b[1;30;43mA DAG is a directed graph without cycles.\u001b[m\u001b[1;30;43m A tree is a DAG where every node has one parent (except the root, which has none).\u001b[m\u001b[1;30;43m To learn more, visit www.\u001b[m\u001b[1;30;43mexample.\u001b[m\u001b[1;30;43mcom or call 1-608-123-4567.\u001b[m :) ¯\\_(ツ)_/¯\n"
     ]
    }
   ],
   "source": [
    "# doesn't work because remember regex finds all possible matches\n",
    "# so it matches every single sentence \n",
    "# (even though we are doing non-greedy match)\n",
    "reg(r\".*?\\.\", s1)"
   ]
  },
  {
   "cell_type": "code",
   "execution_count": 31,
   "id": "7e97abd8",
   "metadata": {},
   "outputs": [
    {
     "name": "stdout",
     "output_type": "stream",
     "text": [
      "\u001b[1;30;43mA DAG is a directed graph without cycles.\u001b[m A tree is a DAG where every node has one parent (except the root, which has none). To learn more, visit www.example.com or call 1-608-123-4567. :) ¯\\_(ツ)_/¯\n"
     ]
    }
   ],
   "source": [
    "reg(r\"^.*?\\.\", s1)"
   ]
  },
  {
   "cell_type": "markdown",
   "id": "f66a4651",
   "metadata": {},
   "source": [
    "#### Find everything in the first two sentences."
   ]
  },
  {
   "cell_type": "code",
   "execution_count": 32,
   "id": "cfa8353e-4402-4f64-b3f8-35e73b2d7a68",
   "metadata": {},
   "outputs": [
    {
     "name": "stdout",
     "output_type": "stream",
     "text": [
      "\u001b[1;30;43mA DAG is a directed graph without cycles. A tree is a DAG where every node has one parent (except the root, which has none).\u001b[m To learn more, visit www.example.com or call 1-608-123-4567. :) ¯\\_(ツ)_/¯\n"
     ]
    }
   ],
   "source": [
    "reg(r\"^(.*?\\.){2}\", s1)"
   ]
  },
  {
   "cell_type": "markdown",
   "id": "76570acd",
   "metadata": {},
   "source": [
    "#### Find last \"word\" in the sentence."
   ]
  },
  {
   "cell_type": "code",
   "execution_count": 33,
   "id": "f35a6c81-47b5-48eb-8357-888fe832f85b",
   "metadata": {},
   "outputs": [
    {
     "name": "stdout",
     "output_type": "stream",
     "text": [
      "A DAG is a directed graph without cycles. A tree is a DAG where every node has one parent (except the root, which has none). To learn more, visit www.example.com or call 1-608-123-4567. :) \u001b[1;30;43m¯\\_(ツ)_/¯\u001b[m\n"
     ]
    }
   ],
   "source": [
    "reg(r\"\\S+$\", s1)"
   ]
  },
  {
   "cell_type": "markdown",
   "id": "4b25fb66",
   "metadata": {},
   "source": [
    "### Case study: find all phone numbers."
   ]
  },
  {
   "cell_type": "code",
   "execution_count": 34,
   "id": "8ecbeaf0",
   "metadata": {},
   "outputs": [
    {
     "name": "stdout",
     "output_type": "stream",
     "text": [
      "1-608-123-4567\n",
      "a-bcd-efg-hijg (not a phone number)\n",
      "1-608-123-456 (not a phone number)\n",
      "608-123-4567\n",
      "123-4567\n",
      "1-123-4567 (not a phone number)\n",
      "\n"
     ]
    }
   ],
   "source": [
    "print(s2)\n",
    "# The country code (1) in the front is optional\n",
    "# The area code (608) is also optional\n",
    "# Doesn't make sense to match country code without area code though!"
   ]
  },
  {
   "cell_type": "code",
   "execution_count": 35,
   "id": "88a01725-790c-4f21-b334-e3d31bed24b5",
   "metadata": {},
   "outputs": [
    {
     "name": "stdout",
     "output_type": "stream",
     "text": [
      "\u001b[1;30;43m1-608-123-4567\u001b[m\n",
      "a-bcd-efg-hijg (not a phone number)\n",
      "1-608-123-456 (not a phone number)\n",
      "608-123-4567\n",
      "123-4567\n",
      "1-123-4567 (not a phone number)\n",
      "\n"
     ]
    }
   ],
   "source": [
    "# Full US phone numbers\n",
    "reg(r\"\\d-\\d{3}-\\d{3}-\\d{4}\", s2)"
   ]
  },
  {
   "cell_type": "code",
   "execution_count": 36,
   "id": "ea8ce0be-98f8-4f9c-bcc0-1d8a0bb183a8",
   "metadata": {
    "tags": []
   },
   "outputs": [
    {
     "name": "stdout",
     "output_type": "stream",
     "text": [
      "\u001b[1;30;43m1-608-123-4567\u001b[m\n",
      "a-bcd-efg-hijg (not a phone number)\n",
      "1-608-123-456 (not a phone number)\n",
      "\u001b[1;30;43m608-123-4567\u001b[m\n",
      "123-4567\n",
      "1-123-4567 (not a phone number)\n",
      "\n"
     ]
    }
   ],
   "source": [
    "# The country code (1) in the front is optional\n",
    "reg(r\"(\\d-)?\\d{3}-\\d{3}-\\d{4}\", s2)"
   ]
  },
  {
   "cell_type": "code",
   "execution_count": 37,
   "id": "5befb23a-848f-44d4-aaac-6b21ac0bbf43",
   "metadata": {},
   "outputs": [
    {
     "name": "stdout",
     "output_type": "stream",
     "text": [
      "\u001b[1;30;43m1-608-123-4567\u001b[m\n",
      "a-bcd-efg-hijg (not a phone number)\n",
      "1-608-123-456 (not a phone number)\n",
      "\u001b[1;30;43m608-123-4567\u001b[m\n",
      "\u001b[1;30;43m123-4567\u001b[m\n",
      "\u001b[1;30;43m1-123-4567\u001b[m (not a phone number)\n",
      "\n"
     ]
    }
   ],
   "source": [
    "# The area code (608) is also optional\n",
    "# Doesn't make sense to have country code without area code though!\n",
    "reg(r\"(\\d-)?(\\d{3}-)?\\d{3}-\\d{4}\", s2)"
   ]
  },
  {
   "cell_type": "code",
   "execution_count": 38,
   "id": "34164fd1-a422-45a0-8e11-54199ca77120",
   "metadata": {},
   "outputs": [
    {
     "name": "stdout",
     "output_type": "stream",
     "text": [
      "\u001b[1;30;43m1-608-123-4567\u001b[m\n",
      "a-bcd-efg-hijg (not a phone number)\n",
      "1-608-123-456 (not a phone number)\n",
      "\u001b[1;30;43m608-123-4567\u001b[m\n",
      "\u001b[1;30;43m123-4567\u001b[m\n",
      "1-\u001b[1;30;43m123-4567\u001b[m (not a phone number)\n",
      "\n"
     ]
    }
   ],
   "source": [
    "# This is good enough for 320 quizzes/tests\n",
    "# But clearly, the last match is not correct\n",
    "reg(r\"((\\d-)?\\d{3}-)?\\d{3}-\\d{4}\", s2)"
   ]
  },
  {
   "cell_type": "markdown",
   "id": "8a2ee4e2",
   "metadata": {},
   "source": [
    "Regex documentation link: https://docs.python.org/3/library/re.html."
   ]
  },
  {
   "cell_type": "code",
   "execution_count": 39,
   "id": "694a585b-b5a7-4a6f-a0f1-60521f7dfc47",
   "metadata": {},
   "outputs": [
    {
     "name": "stdout",
     "output_type": "stream",
     "text": [
      "\u001b[1;30;43m1-608-123-4567\u001b[m\n",
      "a-bcd-efg-hijg (not a phone number)\n",
      "1-608-123-456 (not a phone number)\n",
      "\u001b[1;30;43m608-123-4567\u001b[m\n",
      "\u001b[1;30;43m123-4567\u001b[m\n",
      "1-123-4567 (not a phone number)\n",
      "\n"
     ]
    }
   ],
   "source": [
    "# BONUS: negative lookbehind (I won't test this)\n",
    "reg(r\"(?<!\\d\\-)((\\d-)?\\d{3}-)?\\d{3}-\\d{4}\", s2)"
   ]
  },
  {
   "cell_type": "markdown",
   "id": "3973350b",
   "metadata": {},
   "source": [
    "There is also a negative lookahead. For example, how to avoid matching \"1-608-123-456\" in \"1-608-123-4569999\". You can explore this if you are interested."
   ]
  },
  {
   "cell_type": "code",
   "execution_count": 40,
   "id": "4988d765",
   "metadata": {},
   "outputs": [
    {
     "name": "stdout",
     "output_type": "stream",
     "text": [
      "\u001b[1;30;43m608-123-4569\u001b[m999\n"
     ]
    }
   ],
   "source": [
    "reg(r\"(?<!\\d\\-)((\\d-)?\\d{3}-)?\\d{3}-\\d{4}\", \"608-123-4569999\")"
   ]
  },
  {
   "cell_type": "markdown",
   "id": "b02ae9e0",
   "metadata": {},
   "source": [
    "### Testing your regex\n",
    "- you could use `reg(...)` function\n",
    "- another useful resource: https://regex101.com/"
   ]
  },
  {
   "cell_type": "markdown",
   "id": "4a973271",
   "metadata": {},
   "source": [
    "### `re` module\n",
    "- `re.findall(<PATTERN>, <SEARCH STRING>)`: regular expression matches\n",
    "    - returns a list of strings \n",
    "- `re.sub(<PATTERN>, <REPLACEMENT>, <SEARCH STRING>)`: regular expression match + substitution\n",
    "    - returns a new string with the substitutions (remember strings are immutable)"
   ]
  },
  {
   "cell_type": "code",
   "execution_count": 41,
   "id": "73ec525f",
   "metadata": {},
   "outputs": [
    {
     "name": "stdout",
     "output_type": "stream",
     "text": [
      "In CS 320, there are 8 quizzes, 7 projects, 38 lectures, and 1000 things to learn.  CS 320 is awesome!\n"
     ]
    }
   ],
   "source": [
    "print(s3)"
   ]
  },
  {
   "cell_type": "markdown",
   "id": "34998a5e",
   "metadata": {},
   "source": [
    "#### Find all digits."
   ]
  },
  {
   "cell_type": "code",
   "execution_count": 42,
   "id": "7f42c25a",
   "metadata": {},
   "outputs": [
    {
     "data": {
      "text/plain": [
       "['320', '8', '7', '38', '1000', '320']"
      ]
     },
     "execution_count": 42,
     "metadata": {},
     "output_type": "execute_result"
    }
   ],
   "source": [
    "re.findall(r\"\\d+\", s3)"
   ]
  },
  {
   "cell_type": "markdown",
   "id": "70b2f488",
   "metadata": {},
   "source": [
    "### Groups\n",
    "- we can capture matches using `()` => this is the special meaning of `()`\n",
    "- returns a list of tuples, where length of the tuple will be number of groups\n",
    "\n",
    "#### Find all digits and the word that comes after that."
   ]
  },
  {
   "cell_type": "code",
   "execution_count": 43,
   "id": "5309adee",
   "metadata": {},
   "outputs": [
    {
     "data": {
      "text/plain": [
       "[('8', 'quizzes'),\n",
       " ('7', 'projects'),\n",
       " ('38', 'lectures'),\n",
       " ('1000', 'things'),\n",
       " ('320', 'is')]"
      ]
     },
     "execution_count": 43,
     "metadata": {},
     "output_type": "execute_result"
    }
   ],
   "source": [
    "re.findall(r\"(\\d+) (\\w+)\", s3)"
   ]
  },
  {
   "cell_type": "markdown",
   "id": "c4b6b505",
   "metadata": {},
   "source": [
    "### Unlike matches, groups can overlap\n",
    "\n",
    "#### Find and group all digits and the word that comes after that."
   ]
  },
  {
   "cell_type": "code",
   "execution_count": 44,
   "id": "491c3460",
   "metadata": {},
   "outputs": [
    {
     "data": {
      "text/plain": [
       "[('8 quizzes', '8', 'quizzes'),\n",
       " ('7 projects', '7', 'projects'),\n",
       " ('38 lectures', '38', 'lectures'),\n",
       " ('1000 things', '1000', 'things'),\n",
       " ('320 is', '320', 'is')]"
      ]
     },
     "execution_count": 44,
     "metadata": {},
     "output_type": "execute_result"
    }
   ],
   "source": [
    "re.findall(r\"((\\d+) (\\w+))\", s3)"
   ]
  },
  {
   "cell_type": "markdown",
   "id": "d2227e69",
   "metadata": {},
   "source": [
    "#### Substitute all digits with \"###\"."
   ]
  },
  {
   "cell_type": "code",
   "execution_count": 45,
   "id": "6d1fede1",
   "metadata": {},
   "outputs": [
    {
     "data": {
      "text/plain": [
       "'In CS ###, there are ### quizzes, ### projects, ### lectures, and ### things to learn.  CS ### is awesome!'"
      ]
     },
     "execution_count": 45,
     "metadata": {},
     "output_type": "execute_result"
    }
   ],
   "source": [
    "re.sub(r\"\\d+\", \"###\", s3)"
   ]
  },
  {
   "cell_type": "markdown",
   "id": "9d531122",
   "metadata": {},
   "source": [
    "#### Substitute all whitespaces with single white space."
   ]
  },
  {
   "cell_type": "code",
   "execution_count": 46,
   "id": "4becbe70",
   "metadata": {},
   "outputs": [
    {
     "name": "stdout",
     "output_type": "stream",
     "text": [
      "In CS 320,  there are 8 quizzes,    7 projects,\n",
      "38 lectures, and 1000 things to learn.  CS 320 is awesome!\n"
     ]
    }
   ],
   "source": [
    "print(s4)"
   ]
  },
  {
   "cell_type": "code",
   "execution_count": 47,
   "id": "72a6eb42",
   "metadata": {},
   "outputs": [
    {
     "data": {
      "text/plain": [
       "'In CS 320, there are 8 quizzes, 7 projects, 38 lectures, and 1000 things to learn. CS 320 is awesome!'"
      ]
     },
     "execution_count": 47,
     "metadata": {},
     "output_type": "execute_result"
    }
   ],
   "source": [
    "re.sub(r\"\\s+\", \" \", s4)"
   ]
  },
  {
   "cell_type": "markdown",
   "id": "6faf33fd",
   "metadata": {},
   "source": [
    "### How to use groups is substitution?\n",
    "- `\\g<N>` gives you the result of the N'th grouping.\n",
    "\n",
    "#### Substitute all whitespaces with single white space."
   ]
  },
  {
   "cell_type": "code",
   "execution_count": 48,
   "id": "8df577fd",
   "metadata": {},
   "outputs": [
    {
     "name": "stdout",
     "output_type": "stream",
     "text": [
      "In CS <b>320</b>, there are <b>8</b> quizzes, <b>7</b> projects, <b>38</b> lectures, and <b>1000</b> things to learn.  CS <b>320</b> is awesome!\n"
     ]
    }
   ],
   "source": [
    "print(re.sub(r\"(\\d+)\", \"<b>\\g<1></b>\", s3))"
   ]
  },
  {
   "cell_type": "markdown",
   "id": "35a15a41",
   "metadata": {},
   "source": [
    "In CS <b>320</b>, there are <b>40</b> lectures, <b>10</b> quizzes, <b>3</b> exams, <b>7</b> projects, and <b>1000</b> things to learn. CS <b>320</b> is awesome!"
   ]
  }
 ],
 "metadata": {
  "kernelspec": {
   "display_name": "Python 3 (ipykernel)",
   "language": "python",
   "name": "python3"
  },
  "language_info": {
   "codemirror_mode": {
    "name": "ipython",
    "version": 3
   },
   "file_extension": ".py",
   "mimetype": "text/x-python",
   "name": "python",
   "nbconvert_exporter": "python",
   "pygments_lexer": "ipython3",
   "version": "3.10.6"
  }
 },
 "nbformat": 4,
 "nbformat_minor": 5
}
