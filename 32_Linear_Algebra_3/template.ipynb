{
 "cells": [
  {
   "cell_type": "code",
   "execution_count": 1,
   "id": "cbd48a28",
   "metadata": {},
   "outputs": [],
   "source": [
    "import numpy as np\n",
    "import pandas as pd\n",
    "import matplotlib.pyplot as plt"
   ]
  },
  {
   "cell_type": "markdown",
   "id": "dc708de6",
   "metadata": {},
   "source": [
    "# Linear Algebra 3"
   ]
  },
  {
   "cell_type": "markdown",
   "id": "3e282e0c",
   "metadata": {},
   "source": [
    "### Two Perspectives on `Matrix @ vector`\n",
    "\n",
    "$\\begin{bmatrix}\n",
    "4&5\\\\6&7\\\\8&9\\\\\n",
    "\\end{bmatrix}\n",
    "\\cdot\n",
    "\\begin{bmatrix}\n",
    "2\\\\3\\\\\n",
    "\\end{bmatrix}\n",
    "= ????\n",
    "$"
   ]
  },
  {
   "cell_type": "code",
   "execution_count": 2,
   "id": "a6979874",
   "metadata": {},
   "outputs": [
    {
     "data": {
      "text/plain": [
       "array([[23],\n",
       "       [33],\n",
       "       [43]])"
      ]
     },
     "execution_count": 2,
     "metadata": {},
     "output_type": "execute_result"
    }
   ],
   "source": [
    "X = np.array([[4, 5], [6, 7], [8, 9]])\n",
    "c = np.array([2, 3]).reshape(-1, 1)\n",
    "X @ c"
   ]
  },
  {
   "cell_type": "markdown",
   "id": "3bd4097b",
   "metadata": {},
   "source": [
    "### Row Picture\n",
    "\n",
    "Do matrix multiplication one row at a time.\n",
    "\n",
    "$\\begin{bmatrix}\n",
    "4&5\\\\6&7\\\\8&9\\\\\n",
    "\\end{bmatrix}\n",
    "\\cdot\n",
    "\\begin{bmatrix}\n",
    "2\\\\3\\\\\n",
    "\\end{bmatrix}\n",
    "=\n",
    "\\begin{bmatrix}\n",
    "(4*2)+(5*3)\\\\\n",
    "(6*2)+(7*3)\\\\\n",
    "(8*2)+(9*3)\\\\\n",
    "\\end{bmatrix}\n",
    "=\n",
    "\\begin{bmatrix}\n",
    "23\\\\\n",
    "33\\\\\n",
    "43\\\\\n",
    "\\end{bmatrix}\n",
    "$"
   ]
  },
  {
   "cell_type": "code",
   "execution_count": 3,
   "id": "0524fc15",
   "metadata": {},
   "outputs": [
    {
     "data": {
      "text/plain": [
       "array([[23],\n",
       "       [33],\n",
       "       [43]])"
      ]
     },
     "execution_count": 3,
     "metadata": {},
     "output_type": "execute_result"
    }
   ],
   "source": [
    "def matrix_multi_by_row(X, c):\n",
    "    \"\"\"\n",
    "    function that performs same action as @ operator\n",
    "    \"\"\"\n",
    "    ???\n",
    "    \n",
    "matrix_multi_by_row(X, c)"
   ]
  },
  {
   "cell_type": "code",
   "execution_count": 4,
   "id": "daefbfb9",
   "metadata": {},
   "outputs": [
    {
     "data": {
      "text/plain": [
       "(3, 2)"
      ]
     },
     "execution_count": 4,
     "metadata": {},
     "output_type": "execute_result"
    }
   ],
   "source": [
    "X.shape"
   ]
  },
  {
   "cell_type": "markdown",
   "id": "0ad5d3dc",
   "metadata": {},
   "source": [
    "### Column Picture\n",
    "\n",
    "$\\begin{bmatrix}\n",
    "c_0&c_1&c_2\\\\\n",
    "\\end{bmatrix}\n",
    "\\cdot\n",
    "\\begin{bmatrix}\n",
    "x\\\\y\\\\z\\\\\n",
    "\\end{bmatrix}\n",
    "=(c_0*x) + (c_1*y) + (c_2*z)\n",
    "$\n",
    "\n",
    "matrix multiplication takes a **linear combination** of columns.\n",
    "\n",
    "$\\begin{bmatrix}\n",
    "4&5\\\\6&7\\\\8&9\\\\\n",
    "\\end{bmatrix}\n",
    "\\cdot\n",
    "\\begin{bmatrix}\n",
    "2\\\\3\\\\\n",
    "\\end{bmatrix}\n",
    "=\n",
    "\\begin{bmatrix}\n",
    "4\\\\6\\\\8\\\\\n",
    "\\end{bmatrix}*2\n",
    "+\n",
    "\\begin{bmatrix}\n",
    "5\\\\7\\\\9\\\\\n",
    "\\end{bmatrix}*3\n",
    "=\n",
    "\\begin{bmatrix}\n",
    "23\\\\\n",
    "33\\\\\n",
    "43\\\\\n",
    "\\end{bmatrix}\n",
    "$"
   ]
  },
  {
   "cell_type": "code",
   "execution_count": 5,
   "id": "4d6f0113",
   "metadata": {},
   "outputs": [
    {
     "data": {
      "text/plain": [
       "array([[23.],\n",
       "       [33.],\n",
       "       [43.]])"
      ]
     },
     "execution_count": 5,
     "metadata": {},
     "output_type": "execute_result"
    }
   ],
   "source": [
    "def matrix_multi_by_col(X, c):\n",
    "    \"\"\"\n",
    "    same result as matrix_multi_by_row above, \n",
    "    but different approach\n",
    "    \"\"\"\n",
    "    ???\n",
    "    \n",
    "matrix_multi_by_col(X, c)"
   ]
  },
  {
   "cell_type": "code",
   "execution_count": 6,
   "id": "66fae5a4",
   "metadata": {},
   "outputs": [
    {
     "data": {
      "text/plain": [
       "(3, 2)"
      ]
     },
     "execution_count": 6,
     "metadata": {},
     "output_type": "execute_result"
    }
   ],
   "source": [
    "X.shape"
   ]
  },
  {
   "cell_type": "code",
   "execution_count": 7,
   "id": "638b7071",
   "metadata": {},
   "outputs": [
    {
     "data": {
      "text/plain": [
       "array([[0.],\n",
       "       [0.],\n",
       "       [0.]])"
      ]
     },
     "execution_count": 7,
     "metadata": {},
     "output_type": "execute_result"
    }
   ],
   "source": [
    "# Create a vertical vector / array containing 3 0's\n",
    "np.???"
   ]
  },
  {
   "cell_type": "markdown",
   "id": "bbee3c66",
   "metadata": {},
   "source": [
    "### Part 1: Column Space of a Matrix\n",
    "\n",
    "Definition: the *column space* of a matrix is the set of all linear combinations of that matrix's columns."
   ]
  },
  {
   "cell_type": "code",
   "execution_count": 8,
   "id": "aa4aa683",
   "metadata": {},
   "outputs": [],
   "source": [
    "A = np.array([\n",
    "    [1, 100],\n",
    "    [2, 10],\n",
    "    [3, 0]\n",
    "])\n",
    "B = np.array([\n",
    "    [1, 0],\n",
    "    [0, 2],\n",
    "    [0, 3],\n",
    "    [0, 0]\n",
    "])"
   ]
  },
  {
   "cell_type": "markdown",
   "id": "fa66980f",
   "metadata": {},
   "source": [
    "$A = \\begin{bmatrix}\n",
    "1&100\\\\\n",
    "2&10\\\\\n",
    "3&0\\\\\n",
    "\\end{bmatrix}$"
   ]
  },
  {
   "cell_type": "code",
   "execution_count": 9,
   "id": "df474f66",
   "metadata": {},
   "outputs": [
    {
     "data": {
      "text/plain": [
       "array([[101],\n",
       "       [ 12],\n",
       "       [  3]])"
      ]
     },
     "execution_count": 9,
     "metadata": {},
     "output_type": "execute_result"
    }
   ],
   "source": [
    "# this is in the column space of A (it's a weighted mix of the columns)\n",
    "A @ ???"
   ]
  },
  {
   "cell_type": "code",
   "execution_count": 10,
   "id": "2b659e82",
   "metadata": {},
   "outputs": [
    {
     "data": {
      "text/plain": [
       "array([[-1],\n",
       "       [-2],\n",
       "       [-3]])"
      ]
     },
     "execution_count": 10,
     "metadata": {},
     "output_type": "execute_result"
    }
   ],
   "source": [
    "# this is in the column space of A (it's a weighted mix of the columns)\n",
    "A @ np.array([-1, 0]).reshape(-1, 1)"
   ]
  },
  {
   "cell_type": "code",
   "execution_count": 11,
   "id": "d1862fac",
   "metadata": {},
   "outputs": [
    {
     "data": {
      "text/plain": [
       "array([[200],\n",
       "       [ 20],\n",
       "       [  0]])"
      ]
     },
     "execution_count": 11,
     "metadata": {},
     "output_type": "execute_result"
    }
   ],
   "source": [
    "# this is in the column space of A (it's a weighted mix of the columns)\n",
    "A @ np.array([0, 2]).reshape(-1, 1)"
   ]
  },
  {
   "cell_type": "code",
   "execution_count": 12,
   "id": "c4914320",
   "metadata": {},
   "outputs": [
    {
     "data": {
      "text/plain": [
       "array([[0],\n",
       "       [0],\n",
       "       [0]])"
      ]
     },
     "execution_count": 12,
     "metadata": {},
     "output_type": "execute_result"
    }
   ],
   "source": [
    "# this is in the column space of A (it's a weighted mix of the columns)\n",
    "A @ np.array([0, 0]).reshape(-1, 1)"
   ]
  },
  {
   "cell_type": "markdown",
   "id": "03fb6c44",
   "metadata": {},
   "source": [
    "A right-sized zero vector will always be in the column space."
   ]
  },
  {
   "cell_type": "markdown",
   "id": "d1bbe5aa",
   "metadata": {},
   "source": [
    "What vectors are in the column space of B?\n",
    "\n",
    "$B = \\begin{bmatrix}\n",
    "1&0\\\\\n",
    "0&2\\\\\n",
    "0&3\\\\\n",
    "0&0\\\\\n",
    "\\end{bmatrix}$\n",
    "\n",
    "$a=\\begin{bmatrix}\n",
    "2\\\\\n",
    "2\\\\\n",
    "3\\\\\n",
    "0\n",
    "\\end{bmatrix}, b=\\begin{bmatrix}\n",
    "0\\\\\n",
    "0\\\\\n",
    "0\\\\\n",
    "1\n",
    "\\end{bmatrix}, c=\\begin{bmatrix}\n",
    "-10\\\\\n",
    "0\\\\\n",
    "0\\\\\n",
    "0\n",
    "\\end{bmatrix}, d=\\begin{bmatrix}\n",
    "0\\\\\n",
    "-2\\\\\n",
    "3\\\\\n",
    "0\n",
    "\\end{bmatrix}, e=\\begin{bmatrix}\n",
    "-1\\\\\n",
    "2\\\\\n",
    "3\\\\\n",
    "0\n",
    "\\end{bmatrix}$"
   ]
  },
  {
   "cell_type": "code",
   "execution_count": 13,
   "id": "69b66edd",
   "metadata": {},
   "outputs": [
    {
     "data": {
      "text/plain": [
       "array([[-1],\n",
       "       [ 2],\n",
       "       [ 3],\n",
       "       [ 0]])"
      ]
     },
     "execution_count": 13,
     "metadata": {},
     "output_type": "execute_result"
    }
   ],
   "source": [
    "c = np.array([-1, 1]).reshape(-1, 1) # coef\n",
    "B @ c"
   ]
  },
  {
   "cell_type": "markdown",
   "id": "8135c8d7",
   "metadata": {},
   "source": [
    "### Solution\n",
    "- in the column space of B: \n",
    "    - a [2, 1]\n",
    "    - c [-10, 0]\n",
    "    - e [-1, 1]\n",
    "- not in the column space: \n",
    "    - b (no weighting of 0 and 0 can make a 1)\n",
    "    - d (if you multiple 2 and 3 by the same constant, the sign will be the same)"
   ]
  },
  {
   "cell_type": "markdown",
   "id": "d83b40b1",
   "metadata": {},
   "source": [
    "### Part 2: When can we solve for c?\n",
    "\n",
    "Suppose $Xc = y$.\n",
    "\n",
    "$X$ and $y$ are known, and we want to solve for $c$.\n",
    "\n",
    "When does `c = np.linalg.solve(X, y)` work?\n",
    "\n",
    "#### Fruit Sales Example\n",
    "\n",
    "##### Data\n",
    "\n",
    "* `10 apples and 0 bananas sold for $7`\n",
    "* `2 apples and 8 bananas sold for $5`\n",
    "* `4 apples and 4 bananas sold for $5`\n",
    "\n",
    "##### Equations\n",
    "\n",
    "* `10*apple + basket = 7`\n",
    "* `2*apple + 8*banana + basket = 5`\n",
    "* `4*apple + 4*banana + basket = 5`"
   ]
  },
  {
   "cell_type": "code",
   "execution_count": 14,
   "id": "8163bbcc",
   "metadata": {},
   "outputs": [
    {
     "data": {
      "text/plain": [
       "array([[0.5 ],\n",
       "       [0.25],\n",
       "       [2.  ]])"
      ]
     },
     "execution_count": 14,
     "metadata": {},
     "output_type": "execute_result"
    }
   ],
   "source": [
    "X = np.array([\n",
    "    [10, 0, 1],\n",
    "    [2, 8, 1],\n",
    "    [4, 4, 1],\n",
    "])\n",
    "y = np.array([7, 5, 5]).reshape(-1, 1)\n",
    "\n",
    "c = np.linalg.solve(X, y)\n",
    "c"
   ]
  },
  {
   "cell_type": "code",
   "execution_count": 15,
   "id": "5b5f965c-0a01-464c-9dbf-1443cd745467",
   "metadata": {},
   "outputs": [
    {
     "ename": "LinAlgError",
     "evalue": "Last 2 dimensions of the array must be square",
     "output_type": "error",
     "traceback": [
      "\u001b[0;31m---------------------------------------------------------------------------\u001b[0m",
      "\u001b[0;31mLinAlgError\u001b[0m                               Traceback (most recent call last)",
      "Input \u001b[0;32mIn [15]\u001b[0m, in \u001b[0;36m<cell line: 10>\u001b[0;34m()\u001b[0m\n\u001b[1;32m      1\u001b[0m X \u001b[38;5;241m=\u001b[39m np\u001b[38;5;241m.\u001b[39marray([\n\u001b[1;32m      2\u001b[0m     [\u001b[38;5;241m10\u001b[39m, \u001b[38;5;241m0\u001b[39m, \u001b[38;5;241m1\u001b[39m],\n\u001b[1;32m      3\u001b[0m     [\u001b[38;5;241m2\u001b[39m, \u001b[38;5;241m8\u001b[39m, \u001b[38;5;241m1\u001b[39m],\n\u001b[0;32m   (...)\u001b[0m\n\u001b[1;32m      6\u001b[0m     [\u001b[38;5;241m4\u001b[39m, \u001b[38;5;241m4\u001b[39m, \u001b[38;5;241m1\u001b[39m],\n\u001b[1;32m      7\u001b[0m ])\n\u001b[1;32m      8\u001b[0m y \u001b[38;5;241m=\u001b[39m np\u001b[38;5;241m.\u001b[39marray([\u001b[38;5;241m7\u001b[39m, \u001b[38;5;241m5\u001b[39m, \u001b[38;5;241m5\u001b[39m, \u001b[38;5;241m6\u001b[39m])\u001b[38;5;241m.\u001b[39mreshape(\u001b[38;5;241m-\u001b[39m\u001b[38;5;241m1\u001b[39m, \u001b[38;5;241m1\u001b[39m) \u001b[38;5;66;03m# mathematically unsolvable\u001b[39;00m\n\u001b[0;32m---> 10\u001b[0m c \u001b[38;5;241m=\u001b[39m \u001b[43mnp\u001b[49m\u001b[38;5;241;43m.\u001b[39;49m\u001b[43mlinalg\u001b[49m\u001b[38;5;241;43m.\u001b[39;49m\u001b[43msolve\u001b[49m\u001b[43m(\u001b[49m\u001b[43mX\u001b[49m\u001b[43m,\u001b[49m\u001b[43m \u001b[49m\u001b[43my\u001b[49m\u001b[43m)\u001b[49m\n\u001b[1;32m     11\u001b[0m c\n",
      "File \u001b[0;32m<__array_function__ internals>:200\u001b[0m, in \u001b[0;36msolve\u001b[0;34m(*args, **kwargs)\u001b[0m\n",
      "File \u001b[0;32m~/.local/lib/python3.10/site-packages/numpy/linalg/linalg.py:373\u001b[0m, in \u001b[0;36msolve\u001b[0;34m(a, b)\u001b[0m\n\u001b[1;32m    371\u001b[0m a, _ \u001b[38;5;241m=\u001b[39m _makearray(a)\n\u001b[1;32m    372\u001b[0m _assert_stacked_2d(a)\n\u001b[0;32m--> 373\u001b[0m \u001b[43m_assert_stacked_square\u001b[49m\u001b[43m(\u001b[49m\u001b[43ma\u001b[49m\u001b[43m)\u001b[49m\n\u001b[1;32m    374\u001b[0m b, wrap \u001b[38;5;241m=\u001b[39m _makearray(b)\n\u001b[1;32m    375\u001b[0m t, result_t \u001b[38;5;241m=\u001b[39m _commonType(a, b)\n",
      "File \u001b[0;32m~/.local/lib/python3.10/site-packages/numpy/linalg/linalg.py:190\u001b[0m, in \u001b[0;36m_assert_stacked_square\u001b[0;34m(*arrays)\u001b[0m\n\u001b[1;32m    188\u001b[0m m, n \u001b[38;5;241m=\u001b[39m a\u001b[38;5;241m.\u001b[39mshape[\u001b[38;5;241m-\u001b[39m\u001b[38;5;241m2\u001b[39m:]\n\u001b[1;32m    189\u001b[0m \u001b[38;5;28;01mif\u001b[39;00m m \u001b[38;5;241m!=\u001b[39m n:\n\u001b[0;32m--> 190\u001b[0m     \u001b[38;5;28;01mraise\u001b[39;00m LinAlgError(\u001b[38;5;124m'\u001b[39m\u001b[38;5;124mLast 2 dimensions of the array must be square\u001b[39m\u001b[38;5;124m'\u001b[39m)\n",
      "\u001b[0;31mLinAlgError\u001b[0m: Last 2 dimensions of the array must be square"
     ]
    }
   ],
   "source": [
    "X = np.array([\n",
    "    [10, 0, 1],\n",
    "    [2, 8, 1],\n",
    "    [4, 4, 1],\n",
    "    # adding one more equation\n",
    "    ???\n",
    "])\n",
    "y = np.array([7, 5, 5, ???]).reshape(-1, 1) # mathematically unsolvable\n",
    "\n",
    "c = np.linalg.solve(X, y)\n",
    "c"
   ]
  },
  {
   "cell_type": "code",
   "execution_count": 16,
   "id": "902440c0",
   "metadata": {},
   "outputs": [
    {
     "data": {
      "text/plain": [
       "array([[10,  0,  1],\n",
       "       [ 2,  8,  1],\n",
       "       [ 4,  4,  1],\n",
       "       [ 4,  4,  1]])"
      ]
     },
     "execution_count": 16,
     "metadata": {},
     "output_type": "execute_result"
    }
   ],
   "source": [
    "X"
   ]
  },
  {
   "cell_type": "code",
   "execution_count": 17,
   "id": "c0d632cc",
   "metadata": {},
   "outputs": [
    {
     "data": {
      "text/plain": [
       "array([[5.]])"
      ]
     },
     "execution_count": 17,
     "metadata": {},
     "output_type": "execute_result"
    }
   ],
   "source": [
    "np.array([[ 4,  4,  1]]) @ c"
   ]
  },
  {
   "cell_type": "code",
   "execution_count": 18,
   "id": "d026099e",
   "metadata": {},
   "outputs": [
    {
     "data": {
      "text/plain": [
       "array([[5.75]])"
      ]
     },
     "execution_count": 18,
     "metadata": {},
     "output_type": "execute_result"
    }
   ],
   "source": [
    "np.array([[???]]) @ c"
   ]
  },
  {
   "cell_type": "markdown",
   "id": "4357aa78",
   "metadata": {},
   "source": [
    "#### There is a solution for $c$ (in $Xc = y$), even if `np.linalg.solve` can't find it.\n",
    "\n",
    "- mathematically solvable"
   ]
  },
  {
   "cell_type": "code",
   "execution_count": 19,
   "id": "5b2b7ed0",
   "metadata": {},
   "outputs": [
    {
     "ename": "LinAlgError",
     "evalue": "Last 2 dimensions of the array must be square",
     "output_type": "error",
     "traceback": [
      "\u001b[0;31m---------------------------------------------------------------------------\u001b[0m",
      "\u001b[0;31mLinAlgError\u001b[0m                               Traceback (most recent call last)",
      "Input \u001b[0;32mIn [19]\u001b[0m, in \u001b[0;36m<cell line: 10>\u001b[0;34m()\u001b[0m\n\u001b[1;32m      1\u001b[0m X \u001b[38;5;241m=\u001b[39m np\u001b[38;5;241m.\u001b[39marray([\n\u001b[1;32m      2\u001b[0m     [\u001b[38;5;241m10\u001b[39m, \u001b[38;5;241m0\u001b[39m, \u001b[38;5;241m1\u001b[39m],\n\u001b[1;32m      3\u001b[0m     [\u001b[38;5;241m2\u001b[39m, \u001b[38;5;241m8\u001b[39m, \u001b[38;5;241m1\u001b[39m],\n\u001b[0;32m   (...)\u001b[0m\n\u001b[1;32m      6\u001b[0m     [\u001b[38;5;241m5\u001b[39m, \u001b[38;5;241m5\u001b[39m, \u001b[38;5;241m1\u001b[39m],\n\u001b[1;32m      7\u001b[0m ])\n\u001b[1;32m      8\u001b[0m y \u001b[38;5;241m=\u001b[39m np\u001b[38;5;241m.\u001b[39marray([\u001b[38;5;241m7\u001b[39m, \u001b[38;5;241m5\u001b[39m, \u001b[38;5;241m5\u001b[39m, \u001b[38;5;241m5.75\u001b[39m])\u001b[38;5;241m.\u001b[39mreshape(\u001b[38;5;241m-\u001b[39m\u001b[38;5;241m1\u001b[39m, \u001b[38;5;241m1\u001b[39m)\n\u001b[0;32m---> 10\u001b[0m c \u001b[38;5;241m=\u001b[39m \u001b[43mnp\u001b[49m\u001b[38;5;241;43m.\u001b[39;49m\u001b[43mlinalg\u001b[49m\u001b[38;5;241;43m.\u001b[39;49m\u001b[43msolve\u001b[49m\u001b[43m(\u001b[49m\u001b[43mX\u001b[49m\u001b[43m,\u001b[49m\u001b[43m \u001b[49m\u001b[43my\u001b[49m\u001b[43m)\u001b[49m\n\u001b[1;32m     11\u001b[0m c\n",
      "File \u001b[0;32m<__array_function__ internals>:200\u001b[0m, in \u001b[0;36msolve\u001b[0;34m(*args, **kwargs)\u001b[0m\n",
      "File \u001b[0;32m~/.local/lib/python3.10/site-packages/numpy/linalg/linalg.py:373\u001b[0m, in \u001b[0;36msolve\u001b[0;34m(a, b)\u001b[0m\n\u001b[1;32m    371\u001b[0m a, _ \u001b[38;5;241m=\u001b[39m _makearray(a)\n\u001b[1;32m    372\u001b[0m _assert_stacked_2d(a)\n\u001b[0;32m--> 373\u001b[0m \u001b[43m_assert_stacked_square\u001b[49m\u001b[43m(\u001b[49m\u001b[43ma\u001b[49m\u001b[43m)\u001b[49m\n\u001b[1;32m    374\u001b[0m b, wrap \u001b[38;5;241m=\u001b[39m _makearray(b)\n\u001b[1;32m    375\u001b[0m t, result_t \u001b[38;5;241m=\u001b[39m _commonType(a, b)\n",
      "File \u001b[0;32m~/.local/lib/python3.10/site-packages/numpy/linalg/linalg.py:190\u001b[0m, in \u001b[0;36m_assert_stacked_square\u001b[0;34m(*arrays)\u001b[0m\n\u001b[1;32m    188\u001b[0m m, n \u001b[38;5;241m=\u001b[39m a\u001b[38;5;241m.\u001b[39mshape[\u001b[38;5;241m-\u001b[39m\u001b[38;5;241m2\u001b[39m:]\n\u001b[1;32m    189\u001b[0m \u001b[38;5;28;01mif\u001b[39;00m m \u001b[38;5;241m!=\u001b[39m n:\n\u001b[0;32m--> 190\u001b[0m     \u001b[38;5;28;01mraise\u001b[39;00m LinAlgError(\u001b[38;5;124m'\u001b[39m\u001b[38;5;124mLast 2 dimensions of the array must be square\u001b[39m\u001b[38;5;124m'\u001b[39m)\n",
      "\u001b[0;31mLinAlgError\u001b[0m: Last 2 dimensions of the array must be square"
     ]
    }
   ],
   "source": [
    "X = np.array([\n",
    "    [10, 0, 1],\n",
    "    [2, 8, 1],\n",
    "    [4, 4, 1],\n",
    "    # adding one more equation\n",
    "    [5, 5, 1],\n",
    "])\n",
    "y = np.array([7, 5, 5, 5.75]).reshape(-1, 1)\n",
    "\n",
    "c = np.linalg.solve(X, y)\n",
    "c"
   ]
  },
  {
   "cell_type": "markdown",
   "id": "9ab49f76",
   "metadata": {},
   "source": [
    "### Equivalent statements\n",
    "\n",
    "* there is a solution for the system of equations and `np.linalg.solve` can find it\n",
    "* there is a solution for $c$ (in $Xc = y$), even if `np.linalg.solve` can't find it\n",
    "* $y$ is in the column space of $X$"
   ]
  },
  {
   "cell_type": "markdown",
   "id": "36411a9d",
   "metadata": {},
   "source": [
    "### Problem with most tables\n",
    "\n",
    "For a system of equations, same # of equations == # of variables usually means it's solvable.  \n",
    "\n",
    "However, often cases, dataset has more rows than columns, which means more equations than variables.\n",
    "\n",
    "This *usually* means that:\n",
    "\n",
    "The equations aren't solvable, and y isn't in the column space of X."
   ]
  },
  {
   "cell_type": "code",
   "execution_count": 20,
   "id": "f719b210",
   "metadata": {},
   "outputs": [
    {
     "data": {
      "text/plain": [
       "array([[10,  0,  1],\n",
       "       [ 2,  8,  1],\n",
       "       [ 4,  4,  1],\n",
       "       [ 5,  5,  1]])"
      ]
     },
     "execution_count": 20,
     "metadata": {},
     "output_type": "execute_result"
    }
   ],
   "source": [
    "X"
   ]
  },
  {
   "cell_type": "code",
   "execution_count": 21,
   "id": "73e680f3",
   "metadata": {},
   "outputs": [
    {
     "data": {
      "text/plain": [
       "array([[7.  ],\n",
       "       [5.  ],\n",
       "       [5.  ],\n",
       "       [5.75]])"
      ]
     },
     "execution_count": 21,
     "metadata": {},
     "output_type": "execute_result"
    }
   ],
   "source": [
    "y"
   ]
  },
  {
   "cell_type": "markdown",
   "id": "d5c036f5",
   "metadata": {},
   "source": [
    "matrix multiplication both sides by `X.T` ---> this will usually make it solvable."
   ]
  },
  {
   "cell_type": "code",
   "execution_count": 22,
   "id": "bf3ec400",
   "metadata": {},
   "outputs": [
    {
     "data": {
      "text/plain": [
       "array([[0.5 ],\n",
       "       [0.25],\n",
       "       [2.  ]])"
      ]
     },
     "execution_count": 22,
     "metadata": {},
     "output_type": "execute_result"
    }
   ],
   "source": [
    "c = ???\n",
    "c"
   ]
  },
  {
   "cell_type": "markdown",
   "id": "d2e64af4",
   "metadata": {},
   "source": [
    "What is special about matrix multiplication of a matrix with its transpose? Resultant shape is always a square.\n",
    "\n",
    "Why? Say X has the shape of (a, b), then X.T has the shape of (b, a). Then X.T @ X has the shape of (b, b)."
   ]
  },
  {
   "cell_type": "code",
   "execution_count": 23,
   "id": "b4c45f0e",
   "metadata": {},
   "outputs": [
    {
     "data": {
      "text/plain": [
       "(3, 3)"
      ]
     },
     "execution_count": 23,
     "metadata": {},
     "output_type": "execute_result"
    }
   ],
   "source": [
    "???"
   ]
  },
  {
   "cell_type": "markdown",
   "id": "c382fa8e",
   "metadata": {},
   "source": [
    "### Part 3: Projection Matrix\n",
    "\n",
    "Say X and y are known, but we can't solve for c because X has more rows than columns:\n",
    "\n",
    "### <font color='red'>$Xc = y$</font>\n",
    "\n",
    "We can, however, usually (unless there are multiple equally good solutions) solve the following, which we get by multiplying both sides by $X^T$:\n",
    "\n",
    "### <font color='red'>$X^TXc = X^Ty$</font>\n",
    "\n",
    "If we can find a c to make the above true, we can multiple both sides by $(X^TX)^{-1}$ (which generally exists unless X columns are redundant) to get this equation:\n",
    "\n",
    "$(X^TX)^{-1}X^TXc = (X^TX)^{-1}X^Ty$\n",
    "\n",
    "Simplify:\n",
    "\n",
    "$c = (X^TX)^{-1}X^Ty$\n",
    "\n",
    "Multiply both sides by X:\n",
    "\n",
    "### <font color='red'>$Xc = X(X^TX)^{-1}X^Ty$</font>\n",
    "\n",
    "### Note we started with an unsolveable $Xc = ????$ problem but multiplied $y$ by something to get a different $Xc = ????$ that is solveable.\n",
    "\n",
    "Define <font color=\"red\">$P = X(X^TX)^{-1}X^T$</font>.  This is a **projection matrix**.  If you multiply a vector $c$ by $P$, you get back another vector $c'$ of the same size, with two properties:\n",
    "\n",
    "1. $c'$ will be in the column space of $X$\n",
    "2. the new vector $c'$ will be as \"close as possible\" to the original vector\n",
    "\n",
    "Note: computing P is generally very expensive.\n",
    "\n",
    "### Fruit Sales Example"
   ]
  },
  {
   "cell_type": "code",
   "execution_count": 24,
   "id": "3506a459",
   "metadata": {},
   "outputs": [
    {
     "data": {
      "text/plain": [
       "array([[7. ],\n",
       "       [5. ],\n",
       "       [5. ],\n",
       "       [8. ],\n",
       "       [8.5]])"
      ]
     },
     "execution_count": 24,
     "metadata": {},
     "output_type": "execute_result"
    }
   ],
   "source": [
    "X = np.array([\n",
    "    [10, 0, 1],\n",
    "    [2, 8, 1],\n",
    "    [4, 4, 1],\n",
    "    [10, 4, 1],\n",
    "    [10, 4, 1]\n",
    "])\n",
    "y = np.array([7, 5, 5, 8, 8.5]).reshape(-1, 1)\n",
    "y"
   ]
  },
  {
   "cell_type": "markdown",
   "id": "d08e23e1",
   "metadata": {},
   "source": [
    "Let's compute $P = X(X^TX)^{-1}X^T$.\n",
    "\n",
    "- **IMPORTANT**: We are not going to discuss how inverse works. That is beyond the scope of CS320.\n",
    "\n",
    "### `np.linalg.inv(a)`\n",
    "\n",
    "- computes the (multiplicative) inverse of a matrix.\n",
    "- documentation: https://numpy.org/doc/stable/reference/generated/numpy.linalg.inv.html"
   ]
  },
  {
   "cell_type": "code",
   "execution_count": 25,
   "id": "243c2127",
   "metadata": {},
   "outputs": [
    {
     "data": {
      "text/plain": [
       "array([[ 0.75      , -0.25      ,  0.33333333,  0.08333333,  0.08333333],\n",
       "       [-0.25      ,  0.75      ,  0.33333333,  0.08333333,  0.08333333],\n",
       "       [ 0.33333333,  0.33333333,  0.55555556, -0.11111111, -0.11111111],\n",
       "       [ 0.08333333,  0.08333333, -0.11111111,  0.47222222,  0.47222222],\n",
       "       [ 0.08333333,  0.08333333, -0.11111111,  0.47222222,  0.47222222]])"
      ]
     },
     "execution_count": 25,
     "metadata": {},
     "output_type": "execute_result"
    }
   ],
   "source": [
    "P = ???\n",
    "P"
   ]
  },
  {
   "cell_type": "code",
   "execution_count": 26,
   "id": "1e0681e9",
   "metadata": {},
   "outputs": [
    {
     "data": {
      "text/plain": [
       "array([[10,  0,  1],\n",
       "       [ 2,  8,  1],\n",
       "       [ 4,  4,  1],\n",
       "       [10,  4,  1],\n",
       "       [10,  4,  1]])"
      ]
     },
     "execution_count": 26,
     "metadata": {},
     "output_type": "execute_result"
    }
   ],
   "source": [
    "X"
   ]
  },
  {
   "cell_type": "code",
   "execution_count": 27,
   "id": "3e881e59",
   "metadata": {},
   "outputs": [
    {
     "data": {
      "text/plain": [
       "array([[7. ],\n",
       "       [5. ],\n",
       "       [5. ],\n",
       "       [8. ],\n",
       "       [8.5]])"
      ]
     },
     "execution_count": 27,
     "metadata": {},
     "output_type": "execute_result"
    }
   ],
   "source": [
    "y"
   ]
  },
  {
   "cell_type": "markdown",
   "id": "1d8e442c",
   "metadata": {},
   "source": [
    "The new vector will be as \"close as possible\" to the original vector."
   ]
  },
  {
   "cell_type": "code",
   "execution_count": 28,
   "id": "33aeabe1",
   "metadata": {},
   "outputs": [
    {
     "data": {
      "text/plain": [
       "array([[7.04166667],\n",
       "       [5.04166667],\n",
       "       [4.94444444],\n",
       "       [8.23611111],\n",
       "       [8.23611111]])"
      ]
     },
     "execution_count": 28,
     "metadata": {},
     "output_type": "execute_result"
    }
   ],
   "source": [
    "???"
   ]
  },
  {
   "cell_type": "markdown",
   "id": "b36c1335",
   "metadata": {},
   "source": [
    "#### Scatter plot visualization\n",
    "\n",
    "**IMPORTANT**: We are not going to discuss how `np.random.normal` works. You can look up the documentation if you are interested."
   ]
  },
  {
   "cell_type": "code",
   "execution_count": 29,
   "id": "921938e2",
   "metadata": {},
   "outputs": [
    {
     "data": {
      "text/html": [
       "<div>\n",
       "<style scoped>\n",
       "    .dataframe tbody tr th:only-of-type {\n",
       "        vertical-align: middle;\n",
       "    }\n",
       "\n",
       "    .dataframe tbody tr th {\n",
       "        vertical-align: top;\n",
       "    }\n",
       "\n",
       "    .dataframe thead th {\n",
       "        text-align: right;\n",
       "    }\n",
       "</style>\n",
       "<table border=\"1\" class=\"dataframe\">\n",
       "  <thead>\n",
       "    <tr style=\"text-align: right;\">\n",
       "      <th></th>\n",
       "      <th>x</th>\n",
       "      <th>y</th>\n",
       "    </tr>\n",
       "  </thead>\n",
       "  <tbody>\n",
       "    <tr>\n",
       "      <th>0</th>\n",
       "      <td>3.829531</td>\n",
       "      <td>7.359774</td>\n",
       "    </tr>\n",
       "    <tr>\n",
       "      <th>1</th>\n",
       "      <td>4.124254</td>\n",
       "      <td>7.213342</td>\n",
       "    </tr>\n",
       "    <tr>\n",
       "      <th>2</th>\n",
       "      <td>6.889804</td>\n",
       "      <td>13.761519</td>\n",
       "    </tr>\n",
       "    <tr>\n",
       "      <th>3</th>\n",
       "      <td>6.305543</td>\n",
       "      <td>14.193228</td>\n",
       "    </tr>\n",
       "    <tr>\n",
       "      <th>4</th>\n",
       "      <td>2.876830</td>\n",
       "      <td>5.576872</td>\n",
       "    </tr>\n",
       "    <tr>\n",
       "      <th>5</th>\n",
       "      <td>7.377743</td>\n",
       "      <td>14.308413</td>\n",
       "    </tr>\n",
       "    <tr>\n",
       "      <th>6</th>\n",
       "      <td>3.300590</td>\n",
       "      <td>4.643487</td>\n",
       "    </tr>\n",
       "    <tr>\n",
       "      <th>7</th>\n",
       "      <td>4.500651</td>\n",
       "      <td>6.915917</td>\n",
       "    </tr>\n",
       "    <tr>\n",
       "      <th>8</th>\n",
       "      <td>3.560770</td>\n",
       "      <td>7.357303</td>\n",
       "    </tr>\n",
       "    <tr>\n",
       "      <th>9</th>\n",
       "      <td>4.074755</td>\n",
       "      <td>9.587717</td>\n",
       "    </tr>\n",
       "  </tbody>\n",
       "</table>\n",
       "</div>"
      ],
      "text/plain": [
       "          x          y\n",
       "0  3.829531   7.359774\n",
       "1  4.124254   7.213342\n",
       "2  6.889804  13.761519\n",
       "3  6.305543  14.193228\n",
       "4  2.876830   5.576872\n",
       "5  7.377743  14.308413\n",
       "6  3.300590   4.643487\n",
       "7  4.500651   6.915917\n",
       "8  3.560770   7.357303\n",
       "9  4.074755   9.587717"
      ]
     },
     "execution_count": 29,
     "metadata": {},
     "output_type": "execute_result"
    }
   ],
   "source": [
    "x = np.random.normal(5, 2, size=(10, 1))\n",
    "y = 2*x + np.random.normal(size=x.shape)\n",
    "df = pd.DataFrame({\"x\": x.reshape(-1), \"y\": y.reshape(-1)})\n",
    "df"
   ]
  },
  {
   "cell_type": "code",
   "execution_count": 30,
   "id": "f6052130",
   "metadata": {},
   "outputs": [
    {
     "data": {
      "text/plain": [
       "<AxesSubplot:xlabel='x', ylabel='y'>"
      ]
     },
     "execution_count": 30,
     "metadata": {},
     "output_type": "execute_result"
    },
    {
     "data": {
      "image/png": "[encoded data removed]",
      "text/plain": [
       "<Figure size 216x144 with 1 Axes>"
      ]
     },
     "metadata": {
      "needs_background": "light"
     },
     "output_type": "display_data"
    }
   ],
   "source": [
    "df.plot.scatter(???, figsize=(3, 2))"
   ]
  },
  {
   "cell_type": "code",
   "execution_count": 31,
   "id": "8304b0fb",
   "metadata": {},
   "outputs": [
    {
     "data": {
      "text/plain": [
       "array([[3.82953116],\n",
       "       [4.12425358],\n",
       "       [6.88980417],\n",
       "       [6.3055428 ],\n",
       "       [2.87682978],\n",
       "       [7.37774293],\n",
       "       [3.30058966],\n",
       "       [4.500651  ],\n",
       "       [3.5607696 ],\n",
       "       [4.0747554 ]])"
      ]
     },
     "execution_count": 31,
     "metadata": {},
     "output_type": "execute_result"
    }
   ],
   "source": [
    "X = ???\n",
    "X"
   ]
  },
  {
   "cell_type": "code",
   "execution_count": 32,
   "id": "b9f4403e",
   "metadata": {},
   "outputs": [
    {
     "data": {
      "text/plain": [
       "array([[0.0605895 , 0.06525249, 0.10900806, 0.09976408, 0.04551619,\n",
       "        0.11672806, 0.05222077, 0.07120772, 0.05633724, 0.06446935],\n",
       "       [0.06525249, 0.07027435, 0.11739737, 0.10744197, 0.04901914,\n",
       "        0.1257115 , 0.0562397 , 0.0766879 , 0.06067298, 0.06943094],\n",
       "       [0.10900806, 0.11739737, 0.19611909, 0.17948803, 0.0818893 ,\n",
       "        0.21000833, 0.09395168, 0.12811157, 0.10135773, 0.1159884 ],\n",
       "       [0.09976408, 0.10744197, 0.17948803, 0.16426729, 0.07494502,\n",
       "        0.19219944, 0.08598449, 0.11724759, 0.09276251, 0.10615248],\n",
       "       [0.04551619, 0.04901914, 0.0818893 , 0.07494502, 0.03419278,\n",
       "        0.08768874, 0.03922941, 0.05349284, 0.0423218 , 0.04843082],\n",
       "       [0.11672806, 0.1257115 , 0.21000833, 0.19219944, 0.08768874,\n",
       "        0.22488121, 0.10060537, 0.13718448, 0.10853593, 0.12420274],\n",
       "       [0.05222077, 0.0562397 , 0.09395168, 0.08598449, 0.03922941,\n",
       "        0.10060537, 0.04500795, 0.06137238, 0.04855585, 0.05556473],\n",
       "       [0.07120772, 0.0766879 , 0.12811157, 0.11724759, 0.05349284,\n",
       "        0.13718448, 0.06137238, 0.08368677, 0.06621027, 0.07576751],\n",
       "       [0.05633724, 0.06067298, 0.10135773, 0.09276251, 0.0423218 ,\n",
       "        0.10853593, 0.04855585, 0.06621027, 0.05238342, 0.0599448 ],\n",
       "       [0.06446935, 0.06943094, 0.1159884 , 0.10615248, 0.04843082,\n",
       "        0.12420274, 0.05556473, 0.07576751, 0.0599448 , 0.06859765]])"
      ]
     },
     "execution_count": 32,
     "metadata": {},
     "output_type": "execute_result"
    }
   ],
   "source": [
    "P = ???\n",
    "P"
   ]
  },
  {
   "cell_type": "code",
   "execution_count": 33,
   "id": "db976c33",
   "metadata": {},
   "outputs": [
    {
     "data": {
      "text/html": [
       "<div>\n",
       "<style scoped>\n",
       "    .dataframe tbody tr th:only-of-type {\n",
       "        vertical-align: middle;\n",
       "    }\n",
       "\n",
       "    .dataframe tbody tr th {\n",
       "        vertical-align: top;\n",
       "    }\n",
       "\n",
       "    .dataframe thead th {\n",
       "        text-align: right;\n",
       "    }\n",
       "</style>\n",
       "<table border=\"1\" class=\"dataframe\">\n",
       "  <thead>\n",
       "    <tr style=\"text-align: right;\">\n",
       "      <th></th>\n",
       "      <th>x</th>\n",
       "      <th>y</th>\n",
       "      <th>p</th>\n",
       "    </tr>\n",
       "  </thead>\n",
       "  <tbody>\n",
       "    <tr>\n",
       "      <th>0</th>\n",
       "      <td>3.829531</td>\n",
       "      <td>7.359774</td>\n",
       "      <td>7.524293</td>\n",
       "    </tr>\n",
       "    <tr>\n",
       "      <th>1</th>\n",
       "      <td>4.124254</td>\n",
       "      <td>7.213342</td>\n",
       "      <td>8.103366</td>\n",
       "    </tr>\n",
       "    <tr>\n",
       "      <th>2</th>\n",
       "      <td>6.889804</td>\n",
       "      <td>13.761519</td>\n",
       "      <td>13.537141</td>\n",
       "    </tr>\n",
       "    <tr>\n",
       "      <th>3</th>\n",
       "      <td>6.305543</td>\n",
       "      <td>14.193228</td>\n",
       "      <td>12.389180</td>\n",
       "    </tr>\n",
       "    <tr>\n",
       "      <th>4</th>\n",
       "      <td>2.876830</td>\n",
       "      <td>5.576872</td>\n",
       "      <td>5.652418</td>\n",
       "    </tr>\n",
       "    <tr>\n",
       "      <th>5</th>\n",
       "      <td>7.377743</td>\n",
       "      <td>14.308413</td>\n",
       "      <td>14.495847</td>\n",
       "    </tr>\n",
       "    <tr>\n",
       "      <th>6</th>\n",
       "      <td>3.300590</td>\n",
       "      <td>4.643487</td>\n",
       "      <td>6.485024</td>\n",
       "    </tr>\n",
       "    <tr>\n",
       "      <th>7</th>\n",
       "      <td>4.500651</td>\n",
       "      <td>6.915917</td>\n",
       "      <td>8.842914</td>\n",
       "    </tr>\n",
       "    <tr>\n",
       "      <th>8</th>\n",
       "      <td>3.560770</td>\n",
       "      <td>7.357303</td>\n",
       "      <td>6.996228</td>\n",
       "    </tr>\n",
       "    <tr>\n",
       "      <th>9</th>\n",
       "      <td>4.074755</td>\n",
       "      <td>9.587717</td>\n",
       "      <td>8.006111</td>\n",
       "    </tr>\n",
       "  </tbody>\n",
       "</table>\n",
       "</div>"
      ],
      "text/plain": [
       "          x          y          p\n",
       "0  3.829531   7.359774   7.524293\n",
       "1  4.124254   7.213342   8.103366\n",
       "2  6.889804  13.761519  13.537141\n",
       "3  6.305543  14.193228  12.389180\n",
       "4  2.876830   5.576872   5.652418\n",
       "5  7.377743  14.308413  14.495847\n",
       "6  3.300590   4.643487   6.485024\n",
       "7  4.500651   6.915917   8.842914\n",
       "8  3.560770   7.357303   6.996228\n",
       "9  4.074755   9.587717   8.006111"
      ]
     },
     "execution_count": 33,
     "metadata": {},
     "output_type": "execute_result"
    }
   ],
   "source": [
    "df???\n",
    "df"
   ]
  },
  {
   "cell_type": "code",
   "execution_count": 34,
   "id": "9aab4539",
   "metadata": {},
   "outputs": [
    {
     "data": {
      "text/plain": [
       "<AxesSubplot:xlabel='x', ylabel='p'>"
      ]
     },
     "execution_count": 34,
     "metadata": {},
     "output_type": "execute_result"
    },
    {
     "data": {
      "image/png": "[encoded data removed]",
      "text/plain": [
       "<Figure size 216x144 with 1 Axes>"
      ]
     },
     "metadata": {
      "needs_background": "light"
     },
     "output_type": "display_data"
    }
   ],
   "source": [
    "ax = df.plot.scatter(???, figsize=(3, 2), color=\"k\")\n",
    "df.plot.scatter(???, color=\"r\", ax=ax)"
   ]
  },
  {
   "cell_type": "markdown",
   "id": "d1182ba3",
   "metadata": {},
   "source": [
    "### Euclidean Distance between columns\n",
    "\n",
    "- how close is the new vector (`P @ y`) to the original vector (`y`)?\n",
    "- $dist$ = $\\sqrt{(x2 - x1)^2 + (y2 - y1)^2}$"
   ]
  },
  {
   "cell_type": "code",
   "execution_count": 35,
   "id": "bfd1ce1d",
   "metadata": {},
   "outputs": [
    {
     "data": {
      "text/html": [
       "<div>\n",
       "<style scoped>\n",
       "    .dataframe tbody tr th:only-of-type {\n",
       "        vertical-align: middle;\n",
       "    }\n",
       "\n",
       "    .dataframe tbody tr th {\n",
       "        vertical-align: top;\n",
       "    }\n",
       "\n",
       "    .dataframe thead th {\n",
       "        text-align: right;\n",
       "    }\n",
       "</style>\n",
       "<table border=\"1\" class=\"dataframe\">\n",
       "  <thead>\n",
       "    <tr style=\"text-align: right;\">\n",
       "      <th></th>\n",
       "      <th>v1</th>\n",
       "      <th>v2</th>\n",
       "    </tr>\n",
       "  </thead>\n",
       "  <tbody>\n",
       "    <tr>\n",
       "      <th>x</th>\n",
       "      <td>1</td>\n",
       "      <td>4</td>\n",
       "    </tr>\n",
       "    <tr>\n",
       "      <th>y</th>\n",
       "      <td>8</td>\n",
       "      <td>12</td>\n",
       "    </tr>\n",
       "  </tbody>\n",
       "</table>\n",
       "</div>"
      ],
      "text/plain": [
       "   v1  v2\n",
       "x   1   4\n",
       "y   8  12"
      ]
     },
     "execution_count": 35,
     "metadata": {},
     "output_type": "execute_result"
    }
   ],
   "source": [
    "coords = pd.DataFrame({\n",
    "    \"v1\": [1, 8],\n",
    "    \"v2\": [4, 12],\n",
    "}, index=[\"x\", \"y\"])\n",
    "coords"
   ]
  },
  {
   "cell_type": "code",
   "execution_count": 36,
   "id": "cae18757",
   "metadata": {},
   "outputs": [
    {
     "data": {
      "text/plain": [
       "5.0"
      ]
     },
     "execution_count": 36,
     "metadata": {},
     "output_type": "execute_result"
    }
   ],
   "source": [
    "# distance between v1 and v2 is 5\n",
    "???"
   ]
  },
  {
   "cell_type": "code",
   "execution_count": 37,
   "id": "1e096c19",
   "metadata": {},
   "outputs": [
    {
     "data": {
      "text/plain": [
       "3.7284597597651445"
      ]
     },
     "execution_count": 37,
     "metadata": {},
     "output_type": "execute_result"
    }
   ],
   "source": [
    "# this is the smallest possible distance between y and p, such\n",
    "# that X @ c = p is solveable\n",
    "???"
   ]
  }
 ],
 "metadata": {
  "kernelspec": {
   "display_name": "Python 3 (ipykernel)",
   "language": "python",
   "name": "python3"
  },
  "language_info": {
   "codemirror_mode": {
    "name": "ipython",
    "version": 3
   },
   "file_extension": ".py",
   "mimetype": "text/x-python",
   "name": "python",
   "nbconvert_exporter": "python",
   "pygments_lexer": "ipython3",
   "version": "3.10.6"
  }
 },
 "nbformat": 4,
 "nbformat_minor": 5
}
