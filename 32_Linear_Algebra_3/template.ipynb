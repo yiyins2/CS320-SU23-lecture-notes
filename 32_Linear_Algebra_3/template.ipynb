{
 "cells": [
  {
   "cell_type": "code",
   "execution_count": null,
   "id": "cbd48a28",
   "metadata": {},
   "outputs": [],
   "source": [
    "import numpy as np\n",
    "import pandas as pd\n",
    "import matplotlib.pyplot as plt"
   ]
  },
  {
   "cell_type": "markdown",
   "id": "dc708de6",
   "metadata": {},
   "source": [
    "# Linear Algebra 3"
   ]
  },
  {
   "cell_type": "markdown",
   "id": "3e282e0c",
   "metadata": {},
   "source": [
    "### Two Perspectives on `Matrix @ vector`\n",
    "\n",
    "$\\begin{bmatrix}\n",
    "4&5\\\\6&7\\\\8&9\\\\\n",
    "\\end{bmatrix}\n",
    "\\cdot\n",
    "\\begin{bmatrix}\n",
    "2\\\\3\\\\\n",
    "\\end{bmatrix}\n",
    "= ????\n",
    "$"
   ]
  },
  {
   "cell_type": "code",
   "execution_count": null,
   "id": "a6979874",
   "metadata": {},
   "outputs": [],
   "source": [
    "X = np.array([[4, 5], [6, 7], [8, 9]])\n",
    "c = np.array([2, 3]).reshape(-1, 1)\n",
    "X @ c"
   ]
  },
  {
   "cell_type": "markdown",
   "id": "3bd4097b",
   "metadata": {},
   "source": [
    "### Row Picture\n",
    "\n",
    "Do matrix multiplication one row at a time.\n",
    "\n",
    "$\\begin{bmatrix}\n",
    "4&5\\\\6&7\\\\8&9\\\\\n",
    "\\end{bmatrix}\n",
    "\\cdot\n",
    "\\begin{bmatrix}\n",
    "2\\\\3\\\\\n",
    "\\end{bmatrix}\n",
    "=\n",
    "\\begin{bmatrix}\n",
    "(4*2)+(5*3)\\\\\n",
    "(6*2)+(7*3)\\\\\n",
    "(8*2)+(9*3)\\\\\n",
    "\\end{bmatrix}\n",
    "=\n",
    "\\begin{bmatrix}\n",
    "23\\\\\n",
    "33\\\\\n",
    "43\\\\\n",
    "\\end{bmatrix}\n",
    "$"
   ]
  },
  {
   "cell_type": "code",
   "execution_count": null,
   "id": "0524fc15",
   "metadata": {},
   "outputs": [],
   "source": [
    "def matrix_multi_by_row(X, c):\n",
    "    \"\"\"\n",
    "    function that performs same action as @ operator\n",
    "    \"\"\"\n",
    "    ???\n",
    "    \n",
    "matrix_multi_by_row(X, c)"
   ]
  },
  {
   "cell_type": "code",
   "execution_count": null,
   "id": "daefbfb9",
   "metadata": {},
   "outputs": [],
   "source": [
    "X.shape"
   ]
  },
  {
   "cell_type": "markdown",
   "id": "0ad5d3dc",
   "metadata": {},
   "source": [
    "### Column Picture\n",
    "\n",
    "$\\begin{bmatrix}\n",
    "c_0&c_1&c_2\\\\\n",
    "\\end{bmatrix}\n",
    "\\cdot\n",
    "\\begin{bmatrix}\n",
    "x\\\\y\\\\z\\\\\n",
    "\\end{bmatrix}\n",
    "=(c_0*x) + (c_1*y) + (c_2*z)\n",
    "$\n",
    "\n",
    "matrix multiplication takes a **linear combination** of columns.\n",
    "\n",
    "$\\begin{bmatrix}\n",
    "4&5\\\\6&7\\\\8&9\\\\\n",
    "\\end{bmatrix}\n",
    "\\cdot\n",
    "\\begin{bmatrix}\n",
    "2\\\\3\\\\\n",
    "\\end{bmatrix}\n",
    "=\n",
    "\\begin{bmatrix}\n",
    "4\\\\6\\\\8\\\\\n",
    "\\end{bmatrix}*2\n",
    "+\n",
    "\\begin{bmatrix}\n",
    "5\\\\7\\\\9\\\\\n",
    "\\end{bmatrix}*3\n",
    "=\n",
    "\\begin{bmatrix}\n",
    "23\\\\\n",
    "33\\\\\n",
    "43\\\\\n",
    "\\end{bmatrix}\n",
    "$"
   ]
  },
  {
   "cell_type": "code",
   "execution_count": null,
   "id": "4d6f0113",
   "metadata": {},
   "outputs": [],
   "source": [
    "def matrix_multi_by_col(X, c):\n",
    "    \"\"\"\n",
    "    same result as matrix_multi_by_row above, \n",
    "    but different approach\n",
    "    \"\"\"\n",
    "    ???\n",
    "    \n",
    "matrix_multi_by_col(X, c)"
   ]
  },
  {
   "cell_type": "code",
   "execution_count": null,
   "id": "66fae5a4",
   "metadata": {},
   "outputs": [],
   "source": [
    "X.shape"
   ]
  },
  {
   "cell_type": "code",
   "execution_count": null,
   "id": "638b7071",
   "metadata": {},
   "outputs": [],
   "source": [
    "# Create a vertical vector / array containing 3 0's\n",
    "np.???"
   ]
  },
  {
   "cell_type": "markdown",
   "id": "bbee3c66",
   "metadata": {},
   "source": [
    "### Part 1: Column Space of a Matrix\n",
    "\n",
    "Definition: the *column space* of a matrix is the set of all linear combinations of that matrix's columns."
   ]
  },
  {
   "cell_type": "code",
   "execution_count": null,
   "id": "aa4aa683",
   "metadata": {},
   "outputs": [],
   "source": [
    "A = np.array([\n",
    "    [1, 100],\n",
    "    [2, 10],\n",
    "    [3, 0]\n",
    "])\n",
    "B = np.array([\n",
    "    [1, 0],\n",
    "    [0, 2],\n",
    "    [0, 3],\n",
    "    [0, 0]\n",
    "])"
   ]
  },
  {
   "cell_type": "markdown",
   "id": "fa66980f",
   "metadata": {},
   "source": [
    "$A = \\begin{bmatrix}\n",
    "1&100\\\\\n",
    "2&10\\\\\n",
    "3&0\\\\\n",
    "\\end{bmatrix}$"
   ]
  },
  {
   "cell_type": "code",
   "execution_count": null,
   "id": "df474f66",
   "metadata": {},
   "outputs": [],
   "source": [
    "# this is in the column space of A (it's a weighted mix of the columns)\n",
    "A @ ???"
   ]
  },
  {
   "cell_type": "code",
   "execution_count": null,
   "id": "2b659e82",
   "metadata": {},
   "outputs": [],
   "source": [
    "# this is in the column space of A (it's a weighted mix of the columns)\n",
    "A @ np.array([-1, 0]).reshape(-1, 1)"
   ]
  },
  {
   "cell_type": "code",
   "execution_count": null,
   "id": "d1862fac",
   "metadata": {},
   "outputs": [],
   "source": [
    "# this is in the column space of A (it's a weighted mix of the columns)\n",
    "A @ np.array([0, 2]).reshape(-1, 1)"
   ]
  },
  {
   "cell_type": "code",
   "execution_count": null,
   "id": "c4914320",
   "metadata": {},
   "outputs": [],
   "source": [
    "# this is in the column space of A (it's a weighted mix of the columns)\n",
    "A @ np.array([0, 0]).reshape(-1, 1)"
   ]
  },
  {
   "cell_type": "markdown",
   "id": "03fb6c44",
   "metadata": {},
   "source": [
    "A right-sized zero vector will always be in the column space."
   ]
  },
  {
   "cell_type": "markdown",
   "id": "d1bbe5aa",
   "metadata": {},
   "source": [
    "What vectors are in the column space of B?\n",
    "\n",
    "$B = \\begin{bmatrix}\n",
    "1&0\\\\\n",
    "0&2\\\\\n",
    "0&3\\\\\n",
    "0&0\\\\\n",
    "\\end{bmatrix}$\n",
    "\n",
    "$a=\\begin{bmatrix}\n",
    "2\\\\\n",
    "2\\\\\n",
    "3\\\\\n",
    "0\n",
    "\\end{bmatrix}, b=\\begin{bmatrix}\n",
    "0\\\\\n",
    "0\\\\\n",
    "0\\\\\n",
    "1\n",
    "\\end{bmatrix}, c=\\begin{bmatrix}\n",
    "-10\\\\\n",
    "0\\\\\n",
    "0\\\\\n",
    "0\n",
    "\\end{bmatrix}, d=\\begin{bmatrix}\n",
    "0\\\\\n",
    "-2\\\\\n",
    "3\\\\\n",
    "0\n",
    "\\end{bmatrix}, e=\\begin{bmatrix}\n",
    "-1\\\\\n",
    "2\\\\\n",
    "3\\\\\n",
    "0\n",
    "\\end{bmatrix}$"
   ]
  },
  {
   "cell_type": "code",
   "execution_count": null,
   "id": "69b66edd",
   "metadata": {},
   "outputs": [],
   "source": [
    "c = np.array([-1, 1]).reshape(-1, 1) # coef\n",
    "B @ c"
   ]
  },
  {
   "cell_type": "markdown",
   "id": "8135c8d7",
   "metadata": {},
   "source": [
    "### Solution\n",
    "- in the column space of B: \n",
    "    - a [2, 1]\n",
    "    - c [-10, 0]\n",
    "    - e [-1, 1]\n",
    "- not in the column space: \n",
    "    - b (no weighting of 0 and 0 can make a 1)\n",
    "    - d (if you multiple 2 and 3 by the same constant, the sign will be the same)"
   ]
  },
  {
   "cell_type": "markdown",
   "id": "d83b40b1",
   "metadata": {},
   "source": [
    "### Part 2: When can we solve for c?\n",
    "\n",
    "Suppose $Xc = y$.\n",
    "\n",
    "$X$ and $y$ are known, and we want to solve for $c$.\n",
    "\n",
    "When does `c = np.linalg.solve(X, y)` work?\n",
    "\n",
    "#### Fruit Sales Example\n",
    "\n",
    "##### Data\n",
    "\n",
    "* `10 apples and 0 bananas sold for $7`\n",
    "* `2 apples and 8 bananas sold for $5`\n",
    "* `4 apples and 4 bananas sold for $5`\n",
    "\n",
    "##### Equations\n",
    "\n",
    "* `10*apple + basket = 7`\n",
    "* `2*apple + 8*banana + basket = 5`\n",
    "* `4*apple + 4*banana + basket = 5`"
   ]
  },
  {
   "cell_type": "code",
   "execution_count": null,
   "id": "8163bbcc",
   "metadata": {},
   "outputs": [],
   "source": [
    "X = np.array([\n",
    "    [10, 0, 1],\n",
    "    [2, 8, 1],\n",
    "    [4, 4, 1],\n",
    "])\n",
    "y = np.array([7, 5, 5]).reshape(-1, 1)\n",
    "\n",
    "c = np.linalg.solve(X, y)\n",
    "c"
   ]
  },
  {
   "cell_type": "code",
   "execution_count": null,
   "id": "5b5f965c-0a01-464c-9dbf-1443cd745467",
   "metadata": {},
   "outputs": [],
   "source": [
    "X = np.array([\n",
    "    [10, 0, 1],\n",
    "    [2, 8, 1],\n",
    "    [4, 4, 1],\n",
    "    # adding one more equation\n",
    "    ???\n",
    "])\n",
    "y = np.array([7, 5, 5, ???]).reshape(-1, 1) # mathematically unsolvable\n",
    "\n",
    "c = np.linalg.solve(X, y)\n",
    "c"
   ]
  },
  {
   "cell_type": "code",
   "execution_count": null,
   "id": "902440c0",
   "metadata": {},
   "outputs": [],
   "source": [
    "X"
   ]
  },
  {
   "cell_type": "code",
   "execution_count": null,
   "id": "c0d632cc",
   "metadata": {},
   "outputs": [],
   "source": [
    "np.array([[ 4,  4,  1]]) @ c"
   ]
  },
  {
   "cell_type": "code",
   "execution_count": null,
   "id": "d026099e",
   "metadata": {},
   "outputs": [],
   "source": [
    "np.array([[???]]) @ c"
   ]
  },
  {
   "cell_type": "markdown",
   "id": "4357aa78",
   "metadata": {},
   "source": [
    "#### There is a solution for $c$ (in $Xc = y$), even if `np.linalg.solve` can't find it.\n",
    "\n",
    "- mathematically solvable"
   ]
  },
  {
   "cell_type": "code",
   "execution_count": null,
   "id": "5b2b7ed0",
   "metadata": {},
   "outputs": [],
   "source": [
    "X = np.array([\n",
    "    [10, 0, 1],\n",
    "    [2, 8, 1],\n",
    "    [4, 4, 1],\n",
    "    # adding one more equation\n",
    "    [5, 5, 1],\n",
    "])\n",
    "y = np.array([7, 5, 5, 5.75]).reshape(-1, 1)\n",
    "\n",
    "c = np.linalg.solve(X, y)\n",
    "c"
   ]
  },
  {
   "cell_type": "markdown",
   "id": "9ab49f76",
   "metadata": {},
   "source": [
    "### Equivalent statements\n",
    "\n",
    "* there is a solution for the system of equations and `np.linalg.solve` can find it\n",
    "* there is a solution for $c$ (in $Xc = y$), even if `np.linalg.solve` can't find it\n",
    "* $y$ is in the column space of $X$"
   ]
  },
  {
   "cell_type": "markdown",
   "id": "36411a9d",
   "metadata": {},
   "source": [
    "### Problem with most tables\n",
    "\n",
    "For a system of equations, same # of equations == # of variables usually means it's solvable.  \n",
    "\n",
    "However, often cases, dataset has more rows than columns, which means more equations than variables.\n",
    "\n",
    "This *usually* means that:\n",
    "\n",
    "The equations aren't solvable, and y isn't in the column space of X."
   ]
  },
  {
   "cell_type": "code",
   "execution_count": null,
   "id": "f719b210",
   "metadata": {},
   "outputs": [],
   "source": [
    "X"
   ]
  },
  {
   "cell_type": "code",
   "execution_count": null,
   "id": "73e680f3",
   "metadata": {},
   "outputs": [],
   "source": [
    "y"
   ]
  },
  {
   "cell_type": "markdown",
   "id": "d5c036f5",
   "metadata": {},
   "source": [
    "matrix multiplication both sides by `X.T` ---> this will usually make it solvable."
   ]
  },
  {
   "cell_type": "code",
   "execution_count": null,
   "id": "bf3ec400",
   "metadata": {},
   "outputs": [],
   "source": [
    "c = ???\n",
    "c"
   ]
  },
  {
   "cell_type": "markdown",
   "id": "d2e64af4",
   "metadata": {},
   "source": [
    "What is special about matrix multiplication of a matrix with its transpose? Resultant shape is always a square.\n",
    "\n",
    "Why? Say X has the shape of (a, b), then X.T has the shape of (b, a). Then X.T @ X has the shape of (b, b)."
   ]
  },
  {
   "cell_type": "code",
   "execution_count": null,
   "id": "b4c45f0e",
   "metadata": {},
   "outputs": [],
   "source": [
    "???"
   ]
  },
  {
   "cell_type": "markdown",
   "id": "c382fa8e",
   "metadata": {},
   "source": [
    "### Part 3: Projection Matrix\n",
    "\n",
    "Say X and y are known, but we can't solve for c because X has more rows than columns:\n",
    "\n",
    "### <font color='red'>$Xc = y$</font>\n",
    "\n",
    "We can, however, usually (unless there are multiple equally good solutions) solve the following, which we get by multiplying both sides by $X^T$:\n",
    "\n",
    "### <font color='red'>$X^TXc = X^Ty$</font>\n",
    "\n",
    "If we can find a c to make the above true, we can multiple both sides by $(X^TX)^{-1}$ (which generally exists unless X columns are redundant) to get this equation:\n",
    "\n",
    "$(X^TX)^{-1}X^TXc = (X^TX)^{-1}X^Ty$\n",
    "\n",
    "Simplify:\n",
    "\n",
    "$c = (X^TX)^{-1}X^Ty$\n",
    "\n",
    "Multiply both sides by X:\n",
    "\n",
    "### <font color='red'>$Xc = X(X^TX)^{-1}X^Ty$</font>\n",
    "\n",
    "### Note we started with an unsolveable $Xc = ????$ problem but multiplied $y$ by something to get a different $Xc = ????$ that is solveable.\n",
    "\n",
    "Define <font color=\"red\">$P = X(X^TX)^{-1}X^T$</font>.  This is a **projection matrix**.  If you multiply a vector $c$ by $P$, you get back another vector $c'$ of the same size, with two properties:\n",
    "\n",
    "1. $c'$ will be in the column space of $X$\n",
    "2. the new vector $c'$ will be as \"close as possible\" to the original vector\n",
    "\n",
    "Note: computing P is generally very expensive.\n",
    "\n",
    "### Fruit Sales Example"
   ]
  },
  {
   "cell_type": "code",
   "execution_count": null,
   "id": "3506a459",
   "metadata": {},
   "outputs": [],
   "source": [
    "X = np.array([\n",
    "    [10, 0, 1],\n",
    "    [2, 8, 1],\n",
    "    [4, 4, 1],\n",
    "    [10, 4, 1],\n",
    "    [10, 4, 1]\n",
    "])\n",
    "y = np.array([7, 5, 5, 8, 8.5]).reshape(-1, 1)\n",
    "y"
   ]
  },
  {
   "cell_type": "markdown",
   "id": "d08e23e1",
   "metadata": {},
   "source": [
    "Let's compute $P = X(X^TX)^{-1}X^T$.\n",
    "\n",
    "- **IMPORTANT**: We are not going to discuss how inverse works. That is beyond the scope of CS320.\n",
    "\n",
    "### `np.linalg.inv(a)`\n",
    "\n",
    "- computes the (multiplicative) inverse of a matrix.\n",
    "- documentation: https://numpy.org/doc/stable/reference/generated/numpy.linalg.inv.html"
   ]
  },
  {
   "cell_type": "code",
   "execution_count": null,
   "id": "243c2127",
   "metadata": {},
   "outputs": [],
   "source": [
    "P = ???\n",
    "P"
   ]
  },
  {
   "cell_type": "code",
   "execution_count": null,
   "id": "1e0681e9",
   "metadata": {},
   "outputs": [],
   "source": [
    "X"
   ]
  },
  {
   "cell_type": "code",
   "execution_count": null,
   "id": "3e881e59",
   "metadata": {},
   "outputs": [],
   "source": [
    "y"
   ]
  },
  {
   "cell_type": "markdown",
   "id": "1d8e442c",
   "metadata": {},
   "source": [
    "The new vector will be as \"close as possible\" to the original vector."
   ]
  },
  {
   "cell_type": "code",
   "execution_count": null,
   "id": "33aeabe1",
   "metadata": {},
   "outputs": [],
   "source": [
    "???"
   ]
  },
  {
   "cell_type": "markdown",
   "id": "b36c1335",
   "metadata": {},
   "source": [
    "#### Scatter plot visualization\n",
    "\n",
    "**IMPORTANT**: We are not going to discuss how `np.random.normal` works. You can look up the documentation if you are interested."
   ]
  },
  {
   "cell_type": "code",
   "execution_count": null,
   "id": "921938e2",
   "metadata": {},
   "outputs": [],
   "source": [
    "x = np.random.normal(5, 2, size=(10, 1))\n",
    "y = 2*x + np.random.normal(size=x.shape)\n",
    "df = pd.DataFrame({\"x\": x.reshape(-1), \"y\": y.reshape(-1)})\n",
    "df"
   ]
  },
  {
   "cell_type": "code",
   "execution_count": null,
   "id": "f6052130",
   "metadata": {},
   "outputs": [],
   "source": [
    "df.plot.scatter(???, figsize=(3, 2))"
   ]
  },
  {
   "cell_type": "code",
   "execution_count": null,
   "id": "8304b0fb",
   "metadata": {},
   "outputs": [],
   "source": [
    "X = ???\n",
    "X"
   ]
  },
  {
   "cell_type": "code",
   "execution_count": null,
   "id": "b9f4403e",
   "metadata": {},
   "outputs": [],
   "source": [
    "P = ???\n",
    "P"
   ]
  },
  {
   "cell_type": "code",
   "execution_count": null,
   "id": "db976c33",
   "metadata": {},
   "outputs": [],
   "source": [
    "df???\n",
    "df"
   ]
  },
  {
   "cell_type": "code",
   "execution_count": null,
   "id": "9aab4539",
   "metadata": {},
   "outputs": [],
   "source": [
    "ax = df.plot.scatter(???, figsize=(3, 2), color=\"k\")\n",
    "df.plot.scatter(???, color=\"r\", ax=ax)"
   ]
  },
  {
   "cell_type": "markdown",
   "id": "d1182ba3",
   "metadata": {},
   "source": [
    "### Euclidean Distance between columns\n",
    "\n",
    "- how close is the new vector (`P @ y`) to the original vector (`y`)?\n",
    "- $dist$ = $\\sqrt{(x2 - x1)^2 + (y2 - y1)^2}$"
   ]
  },
  {
   "cell_type": "code",
   "execution_count": null,
   "id": "bfd1ce1d",
   "metadata": {},
   "outputs": [],
   "source": [
    "coords = pd.DataFrame({\n",
    "    \"v1\": [1, 8],\n",
    "    \"v2\": [4, 12],\n",
    "}, index=[\"x\", \"y\"])\n",
    "coords"
   ]
  },
  {
   "cell_type": "code",
   "execution_count": null,
   "id": "cae18757",
   "metadata": {},
   "outputs": [],
   "source": [
    "# distance between v1 and v2 is 5\n",
    "???"
   ]
  },
  {
   "cell_type": "code",
   "execution_count": null,
   "id": "1e096c19",
   "metadata": {},
   "outputs": [],
   "source": [
    "# this is the smallest possible distance between y and p, such\n",
    "# that X @ c = p is solveable\n",
    "???"
   ]
  }
 ],
 "metadata": {
  "kernelspec": {
   "display_name": "Python 3 (ipykernel)",
   "language": "python",
   "name": "python3"
  },
  "language_info": {
   "codemirror_mode": {
    "name": "ipython",
    "version": 3
   },
   "file_extension": ".py",
   "mimetype": "text/x-python",
   "name": "python",
   "nbconvert_exporter": "python",
   "pygments_lexer": "ipython3",
   "version": "3.10.6"
  }
 },
 "nbformat": 4,
 "nbformat_minor": 5
}
