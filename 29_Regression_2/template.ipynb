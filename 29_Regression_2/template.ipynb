{
 "cells": [
  {
   "cell_type": "code",
   "execution_count": 1,
   "id": "e6f50cc3",
   "metadata": {},
   "outputs": [],
   "source": [
    "import os\n",
    "import pandas as pd\n",
    "import geopandas as gpd\n",
    "import matplotlib.pyplot as plt\n",
    "\n",
    "import sklearn\n",
    "from sklearn.linear_model import LinearRegression\n",
    "from sklearn.model_selection import train_test_split, cross_val_score\n",
    "\n",
    "# new import statements\n",
    "from sklearn.preprocessing import PolynomialFeatures, OneHotEncoder\n",
    "from sklearn.pipeline import Pipeline\n",
    "from sklearn.compose import make_column_transformer\n",
    "\n",
    "import numpy as np\n",
    "\n",
    "# use \"text\" or \"diagram\" to set the html display of sklearn models\n",
    "sklearn.set_config(display=\"diagram\")"
   ]
  },
  {
   "cell_type": "markdown",
   "id": "9e33d56e",
   "metadata": {},
   "source": [
    "# Regression 2"
   ]
  },
  {
   "cell_type": "markdown",
   "id": "c854dab5",
   "metadata": {},
   "source": [
    "### Lake Michigan Waves\n",
    "\n",
    "Source: https://data.cityofchicago.org/Parks-Recreation/Beach-Water-Quality-Automated-Sensors/qmqz-2xku"
   ]
  },
  {
   "cell_type": "code",
   "execution_count": 2,
   "id": "a3109957",
   "metadata": {
    "scrolled": true
   },
   "outputs": [
    {
     "data": {
      "text/html": [
       "<div>\n",
       "<style scoped>\n",
       "    .dataframe tbody tr th:only-of-type {\n",
       "        vertical-align: middle;\n",
       "    }\n",
       "\n",
       "    .dataframe tbody tr th {\n",
       "        vertical-align: top;\n",
       "    }\n",
       "\n",
       "    .dataframe thead th {\n",
       "        text-align: right;\n",
       "    }\n",
       "</style>\n",
       "<table border=\"1\" class=\"dataframe\">\n",
       "  <thead>\n",
       "    <tr style=\"text-align: right;\">\n",
       "      <th></th>\n",
       "      <th>Beach Name</th>\n",
       "      <th>Measurement Timestamp</th>\n",
       "      <th>Water Temperature</th>\n",
       "      <th>Turbidity</th>\n",
       "      <th>Transducer Depth</th>\n",
       "      <th>Wave Height</th>\n",
       "      <th>Wave Period</th>\n",
       "      <th>Battery Life</th>\n",
       "      <th>Measurement Timestamp Label</th>\n",
       "      <th>Measurement ID</th>\n",
       "    </tr>\n",
       "  </thead>\n",
       "  <tbody>\n",
       "    <tr>\n",
       "      <th>0</th>\n",
       "      <td>Calumet Beach</td>\n",
       "      <td>04/07/2018 12:30:00 AM</td>\n",
       "      <td>21.7</td>\n",
       "      <td>3.15</td>\n",
       "      <td>NaN</td>\n",
       "      <td>0.389</td>\n",
       "      <td>3.0</td>\n",
       "      <td>0.0</td>\n",
       "      <td>04/07/2018 12:30 AM</td>\n",
       "      <td>CalumetBeach201804072430</td>\n",
       "    </tr>\n",
       "    <tr>\n",
       "      <th>1</th>\n",
       "      <td>Ohio Street Beach</td>\n",
       "      <td>06/14/2019 07:00:00 PM</td>\n",
       "      <td>16.0</td>\n",
       "      <td>2.18</td>\n",
       "      <td>NaN</td>\n",
       "      <td>0.137</td>\n",
       "      <td>3.0</td>\n",
       "      <td>11.8</td>\n",
       "      <td>06/14/2019 7:00 PM</td>\n",
       "      <td>OhioStreetBeach201906141900</td>\n",
       "    </tr>\n",
       "    <tr>\n",
       "      <th>2</th>\n",
       "      <td>Ohio Street Beach</td>\n",
       "      <td>05/16/2018 01:00:00 PM</td>\n",
       "      <td>21.7</td>\n",
       "      <td>1.92</td>\n",
       "      <td>NaN</td>\n",
       "      <td>0.023</td>\n",
       "      <td>1.0</td>\n",
       "      <td>10.3</td>\n",
       "      <td>05/16/2018 1:00 PM</td>\n",
       "      <td>OhioStreetBeach201805161300</td>\n",
       "    </tr>\n",
       "    <tr>\n",
       "      <th>3</th>\n",
       "      <td>Ohio Street Beach</td>\n",
       "      <td>05/16/2018 02:00:00 PM</td>\n",
       "      <td>21.9</td>\n",
       "      <td>1.81</td>\n",
       "      <td>NaN</td>\n",
       "      <td>0.026</td>\n",
       "      <td>6.0</td>\n",
       "      <td>10.3</td>\n",
       "      <td>05/16/2018 2:00 PM</td>\n",
       "      <td>OhioStreetBeach201805161400</td>\n",
       "    </tr>\n",
       "    <tr>\n",
       "      <th>4</th>\n",
       "      <td>Ohio Street Beach</td>\n",
       "      <td>06/04/2018 09:00:00 AM</td>\n",
       "      <td>23.0</td>\n",
       "      <td>0.03</td>\n",
       "      <td>NaN</td>\n",
       "      <td>0.021</td>\n",
       "      <td>8.0</td>\n",
       "      <td>12.4</td>\n",
       "      <td>06/04/2018 9:00 AM</td>\n",
       "      <td>OhioStreetBeach201806040900</td>\n",
       "    </tr>\n",
       "  </tbody>\n",
       "</table>\n",
       "</div>"
      ],
      "text/plain": [
       "          Beach Name   Measurement Timestamp  Water Temperature  Turbidity  \\\n",
       "0      Calumet Beach  04/07/2018 12:30:00 AM               21.7       3.15   \n",
       "1  Ohio Street Beach  06/14/2019 07:00:00 PM               16.0       2.18   \n",
       "2  Ohio Street Beach  05/16/2018 01:00:00 PM               21.7       1.92   \n",
       "3  Ohio Street Beach  05/16/2018 02:00:00 PM               21.9       1.81   \n",
       "4  Ohio Street Beach  06/04/2018 09:00:00 AM               23.0       0.03   \n",
       "\n",
       "   Transducer Depth  Wave Height  Wave Period  Battery Life  \\\n",
       "0               NaN        0.389          3.0           0.0   \n",
       "1               NaN        0.137          3.0          11.8   \n",
       "2               NaN        0.023          1.0          10.3   \n",
       "3               NaN        0.026          6.0          10.3   \n",
       "4               NaN        0.021          8.0          12.4   \n",
       "\n",
       "  Measurement Timestamp Label               Measurement ID  \n",
       "0         04/07/2018 12:30 AM     CalumetBeach201804072430  \n",
       "1          06/14/2019 7:00 PM  OhioStreetBeach201906141900  \n",
       "2          05/16/2018 1:00 PM  OhioStreetBeach201805161300  \n",
       "3          05/16/2018 2:00 PM  OhioStreetBeach201805161400  \n",
       "4          06/04/2018 9:00 AM  OhioStreetBeach201806040900  "
      ]
     },
     "execution_count": 2,
     "metadata": {},
     "output_type": "execute_result"
    }
   ],
   "source": [
    "df = pd.read_csv(\"waves.csv\")\n",
    "df.head()"
   ]
  },
  {
   "cell_type": "code",
   "execution_count": 3,
   "id": "18d71eb8",
   "metadata": {},
   "outputs": [
    {
     "data": {
      "text/plain": [
       "Index(['Beach Name', 'Measurement Timestamp', 'Water Temperature', 'Turbidity',\n",
       "       'Transducer Depth', 'Wave Height', 'Wave Period', 'Battery Life',\n",
       "       'Measurement Timestamp Label', 'Measurement ID'],\n",
       "      dtype='object')"
      ]
     },
     "execution_count": 3,
     "metadata": {},
     "output_type": "execute_result"
    }
   ],
   "source": [
    "df.???"
   ]
  },
  {
   "cell_type": "markdown",
   "id": "b03aed1e-6d53-497a-a6be-d74ad7835952",
   "metadata": {},
   "source": [
    "#### Remove missing values"
   ]
  },
  {
   "cell_type": "code",
   "execution_count": 4,
   "id": "a3591fe7-89b4-4628-9342-b698ec5051d0",
   "metadata": {},
   "outputs": [
    {
     "data": {
      "text/plain": [
       " 3.0         16244\n",
       " 4.0         10235\n",
       " 2.0          4268\n",
       " 5.0          3547\n",
       " 6.0          2447\n",
       " 7.0          1472\n",
       " 8.0           694\n",
       "-100000.0      651\n",
       " 9.0           568\n",
       " 10.0          294\n",
       " 1.0            60\n",
       "Name: Wave Period, dtype: int64"
      ]
     },
     "execution_count": 4,
     "metadata": {},
     "output_type": "execute_result"
    }
   ],
   "source": [
    "df[\"Wave Period\"].???"
   ]
  },
  {
   "cell_type": "code",
   "execution_count": 5,
   "id": "4dbc5552-92c9-4a2c-8416-18aea57aeb03",
   "metadata": {},
   "outputs": [
    {
     "data": {
      "text/plain": [
       " 0.187        2835\n",
       "-99999.992     651\n",
       " 0.105         279\n",
       " 0.110         277\n",
       " 0.109         277\n",
       "              ... \n",
       " 0.637           1\n",
       " 0.019           1\n",
       " 0.704           1\n",
       " 0.651           1\n",
       " 0.658           1\n",
       "Name: Wave Height, Length: 615, dtype: int64"
      ]
     },
     "execution_count": 5,
     "metadata": {},
     "output_type": "execute_result"
    }
   ],
   "source": [
    "df[\"Wave Height\"].value_counts()"
   ]
  },
  {
   "cell_type": "code",
   "execution_count": 6,
   "id": "74f29ad8-ee13-40d0-a8d4-35e6c32113b9",
   "metadata": {},
   "outputs": [],
   "source": [
    "df = ???"
   ]
  },
  {
   "cell_type": "markdown",
   "id": "d3f9dc12",
   "metadata": {},
   "source": [
    "#### Can we predict wave height based on wave period (time between waves)?"
   ]
  },
  {
   "cell_type": "code",
   "execution_count": 7,
   "id": "149aa67c",
   "metadata": {},
   "outputs": [
    {
     "data": {
      "text/plain": [
       "<AxesSubplot:xlabel='Wave Period', ylabel='Wave Height'>"
      ]
     },
     "execution_count": 7,
     "metadata": {},
     "output_type": "execute_result"
    },
    {
     "data": {
      "image/png": "[encoded data removed]",
      "text/plain": [
       "<Figure size 432x288 with 1 Axes>"
      ]
     },
     "metadata": {
      "needs_background": "light"
     },
     "output_type": "display_data"
    }
   ],
   "source": [
    "df.plot.scatter(???)"
   ]
  },
  {
   "cell_type": "markdown",
   "id": "4da30be1",
   "metadata": {},
   "source": [
    "Observation: non-linear relationship => fitting straight line will not work."
   ]
  },
  {
   "cell_type": "markdown",
   "id": "62bd175c",
   "metadata": {},
   "source": [
    "#### Can we predict wave height based on beach name and wave period?"
   ]
  },
  {
   "cell_type": "code",
   "execution_count": 8,
   "id": "3f045b08",
   "metadata": {},
   "outputs": [
    {
     "data": {
      "text/plain": [
       "['63rd Street Beach',\n",
       " 'Calumet Beach',\n",
       " 'Montrose Beach',\n",
       " 'Ohio Street Beach',\n",
       " 'Osterman Beach',\n",
       " 'Rainbow Beach']"
      ]
     },
     "execution_count": 8,
     "metadata": {},
     "output_type": "execute_result"
    }
   ],
   "source": [
    "beach_names = ???\n",
    "beach_names"
   ]
  },
  {
   "cell_type": "code",
   "execution_count": 9,
   "id": "bc626c9d",
   "metadata": {},
   "outputs": [
    {
     "data": {
      "image/png": "[encoded data removed]",
      "text/plain": [
       "<Figure size 864x576 with 6 Axes>"
      ]
     },
     "metadata": {
      "needs_background": "light"
     },
     "output_type": "display_data"
    }
   ],
   "source": [
    "fig, axes = plt.subplots(???, figsize=(12, 8), ???)\n",
    "plt.subplots_adjust(hspace=0.3)\n",
    "axes = list(axes.reshape(-1))\n",
    "???:\n",
    "    ax = axes.pop(0)\n",
    "    ax.???\n",
    "    beach_df = ???\n",
    "    beach_df.plot.scatter(x=\"Wave Period\", y=\"Wave Height\", \n",
    "                          color=\"k\", alpha=0.1, ???)\n"
   ]
  },
  {
   "cell_type": "markdown",
   "id": "ed02085d",
   "metadata": {},
   "source": [
    "Obversation: which beach (categorical feature) is important."
   ]
  },
  {
   "cell_type": "markdown",
   "id": "ceebe2c1",
   "metadata": {},
   "source": [
    "### Four Models\n",
    "\n",
    "1. wave period (linear)\n",
    "2. wave period (polynomial)\n",
    "3. beach\n",
    "4. beach and wave period"
   ]
  },
  {
   "cell_type": "markdown",
   "id": "2d4fe892",
   "metadata": {},
   "source": [
    "`train_test_split(<dataframe>, random_state=<some number>)`\n",
    "- `random_state` enables us to control the randomization\n",
    "- when we pass the same number, we will get the same training and test data (psuedo randomization)"
   ]
  },
  {
   "cell_type": "code",
   "execution_count": 10,
   "id": "a454b7ec",
   "metadata": {},
   "outputs": [
    {
     "data": {
      "text/html": [
       "<div>\n",
       "<style scoped>\n",
       "    .dataframe tbody tr th:only-of-type {\n",
       "        vertical-align: middle;\n",
       "    }\n",
       "\n",
       "    .dataframe tbody tr th {\n",
       "        vertical-align: top;\n",
       "    }\n",
       "\n",
       "    .dataframe thead th {\n",
       "        text-align: right;\n",
       "    }\n",
       "</style>\n",
       "<table border=\"1\" class=\"dataframe\">\n",
       "  <thead>\n",
       "    <tr style=\"text-align: right;\">\n",
       "      <th></th>\n",
       "      <th>Beach Name</th>\n",
       "      <th>Measurement Timestamp</th>\n",
       "      <th>Water Temperature</th>\n",
       "      <th>Turbidity</th>\n",
       "      <th>Transducer Depth</th>\n",
       "      <th>Wave Height</th>\n",
       "      <th>Wave Period</th>\n",
       "      <th>Battery Life</th>\n",
       "      <th>Measurement Timestamp Label</th>\n",
       "      <th>Measurement ID</th>\n",
       "    </tr>\n",
       "  </thead>\n",
       "  <tbody>\n",
       "    <tr>\n",
       "      <th>28830</th>\n",
       "      <td>Ohio Street Beach</td>\n",
       "      <td>07/04/2019 04:00:00 PM</td>\n",
       "      <td>21.5</td>\n",
       "      <td>0.94</td>\n",
       "      <td>NaN</td>\n",
       "      <td>0.137</td>\n",
       "      <td>4.0</td>\n",
       "      <td>11.8</td>\n",
       "      <td>07/04/2019 4:00 PM</td>\n",
       "      <td>OhioStreetBeach201907041600</td>\n",
       "    </tr>\n",
       "    <tr>\n",
       "      <th>13175</th>\n",
       "      <td>Calumet Beach</td>\n",
       "      <td>08/07/2016 04:00:00 PM</td>\n",
       "      <td>25.5</td>\n",
       "      <td>0.67</td>\n",
       "      <td>NaN</td>\n",
       "      <td>0.253</td>\n",
       "      <td>2.0</td>\n",
       "      <td>9.8</td>\n",
       "      <td>08/07/2016 4:00 PM</td>\n",
       "      <td>CalumetBeach201608071600</td>\n",
       "    </tr>\n",
       "    <tr>\n",
       "      <th>13123</th>\n",
       "      <td>Calumet Beach</td>\n",
       "      <td>08/05/2016 11:00:00 AM</td>\n",
       "      <td>24.1</td>\n",
       "      <td>1.03</td>\n",
       "      <td>NaN</td>\n",
       "      <td>0.173</td>\n",
       "      <td>3.0</td>\n",
       "      <td>10.1</td>\n",
       "      <td>08/05/2016 11:00 AM</td>\n",
       "      <td>CalumetBeach201608051100</td>\n",
       "    </tr>\n",
       "    <tr>\n",
       "      <th>23551</th>\n",
       "      <td>Ohio Street Beach</td>\n",
       "      <td>06/15/2015 08:00:00 AM</td>\n",
       "      <td>18.0</td>\n",
       "      <td>1.25</td>\n",
       "      <td>NaN</td>\n",
       "      <td>0.066</td>\n",
       "      <td>4.0</td>\n",
       "      <td>11.9</td>\n",
       "      <td>06/15/2015 8:00 AM</td>\n",
       "      <td>OhioStreetBeach201506150800</td>\n",
       "    </tr>\n",
       "    <tr>\n",
       "      <th>30655</th>\n",
       "      <td>Ohio Street Beach</td>\n",
       "      <td>07/29/2017 07:00:00 PM</td>\n",
       "      <td>23.4</td>\n",
       "      <td>3.80</td>\n",
       "      <td>NaN</td>\n",
       "      <td>0.187</td>\n",
       "      <td>3.0</td>\n",
       "      <td>11.5</td>\n",
       "      <td>07/29/2017 7:00 PM</td>\n",
       "      <td>OhioStreetBeach201707291900</td>\n",
       "    </tr>\n",
       "  </tbody>\n",
       "</table>\n",
       "</div>"
      ],
      "text/plain": [
       "              Beach Name   Measurement Timestamp  Water Temperature  \\\n",
       "28830  Ohio Street Beach  07/04/2019 04:00:00 PM               21.5   \n",
       "13175      Calumet Beach  08/07/2016 04:00:00 PM               25.5   \n",
       "13123      Calumet Beach  08/05/2016 11:00:00 AM               24.1   \n",
       "23551  Ohio Street Beach  06/15/2015 08:00:00 AM               18.0   \n",
       "30655  Ohio Street Beach  07/29/2017 07:00:00 PM               23.4   \n",
       "\n",
       "       Turbidity  Transducer Depth  Wave Height  Wave Period  Battery Life  \\\n",
       "28830       0.94               NaN        0.137          4.0          11.8   \n",
       "13175       0.67               NaN        0.253          2.0           9.8   \n",
       "13123       1.03               NaN        0.173          3.0          10.1   \n",
       "23551       1.25               NaN        0.066          4.0          11.9   \n",
       "30655       3.80               NaN        0.187          3.0          11.5   \n",
       "\n",
       "      Measurement Timestamp Label               Measurement ID  \n",
       "28830          07/04/2019 4:00 PM  OhioStreetBeach201907041600  \n",
       "13175          08/07/2016 4:00 PM     CalumetBeach201608071600  \n",
       "13123         08/05/2016 11:00 AM     CalumetBeach201608051100  \n",
       "23551          06/15/2015 8:00 AM  OhioStreetBeach201506150800  \n",
       "30655          07/29/2017 7:00 PM  OhioStreetBeach201707291900  "
      ]
     },
     "execution_count": 10,
     "metadata": {},
     "output_type": "execute_result"
    }
   ],
   "source": [
    "train, test = ???\n",
    "train.head()"
   ]
  },
  {
   "cell_type": "markdown",
   "id": "d6f3871a",
   "metadata": {},
   "source": [
    "#### Model 1: Wave Period (Linear)"
   ]
  },
  {
   "cell_type": "markdown",
   "id": "4c15ac91",
   "metadata": {},
   "source": [
    "`cross_val_score(estimator, X, y, cv=<number>)`\n",
    "- `cv` enables us mention how many folds we want for the cross-validation"
   ]
  },
  {
   "cell_type": "code",
   "execution_count": 11,
   "id": "199a5ca6",
   "metadata": {},
   "outputs": [
    {
     "data": {
      "text/plain": [
       "array([0.00454499, 0.00482062, 0.00061888, 0.00133774, 0.00212657,\n",
       "       0.0045607 , 0.00502461, 0.00087125, 0.00324929, 0.00139911])"
      ]
     },
     "execution_count": 11,
     "metadata": {},
     "output_type": "execute_result"
    }
   ],
   "source": [
    "xcols = ???\n",
    "ycol = ???\n",
    "\n",
    "m1 = ???\n",
    "scores = ???\n",
    "scores"
   ]
  },
  {
   "cell_type": "code",
   "execution_count": 12,
   "id": "15bec5d5",
   "metadata": {},
   "outputs": [
    {
     "data": {
      "text/plain": [
       "0.002855376036731605"
      ]
     },
     "execution_count": 12,
     "metadata": {},
     "output_type": "execute_result"
    }
   ],
   "source": [
    "scores.???"
   ]
  },
  {
   "cell_type": "markdown",
   "id": "aa5a272e",
   "metadata": {},
   "source": [
    "We want the mean score to be large."
   ]
  },
  {
   "cell_type": "code",
   "execution_count": 13,
   "id": "306e21bd",
   "metadata": {},
   "outputs": [
    {
     "data": {
      "text/plain": [
       "0.0016846248473168155"
      ]
     },
     "execution_count": 13,
     "metadata": {},
     "output_type": "execute_result"
    }
   ],
   "source": [
    "scores.???"
   ]
  },
  {
   "cell_type": "markdown",
   "id": "ea190e50",
   "metadata": {},
   "source": [
    "We want the standard deviation to be small, to make sure that our model isn't too sensitive to changes in training and test data."
   ]
  },
  {
   "cell_type": "markdown",
   "id": "b126b01f",
   "metadata": {},
   "source": [
    "#### Model 2: Wave Period (Polynomial)\n",
    "\n",
    "LinearRegression can do this:\n",
    "\n",
    "```\n",
    "y = 3*x1 + 5*x2\n",
    "```\n",
    "It CANNOT do this:\n",
    "```\n",
    "y = 3*x + 5*x^2\n",
    "```\n",
    "TRICK:\n",
    "```\n",
    "x1 = x\n",
    "x2 = x^2\n",
    "```"
   ]
  },
  {
   "cell_type": "code",
   "execution_count": 14,
   "id": "5b6f8a12",
   "metadata": {},
   "outputs": [
    {
     "data": {
      "text/html": [
       "<div>\n",
       "<style scoped>\n",
       "    .dataframe tbody tr th:only-of-type {\n",
       "        vertical-align: middle;\n",
       "    }\n",
       "\n",
       "    .dataframe tbody tr th {\n",
       "        vertical-align: top;\n",
       "    }\n",
       "\n",
       "    .dataframe thead th {\n",
       "        text-align: right;\n",
       "    }\n",
       "</style>\n",
       "<table border=\"1\" class=\"dataframe\">\n",
       "  <thead>\n",
       "    <tr style=\"text-align: right;\">\n",
       "      <th></th>\n",
       "      <th>Wave Period</th>\n",
       "    </tr>\n",
       "  </thead>\n",
       "  <tbody>\n",
       "    <tr>\n",
       "      <th>28830</th>\n",
       "      <td>4.0</td>\n",
       "    </tr>\n",
       "    <tr>\n",
       "      <th>13175</th>\n",
       "      <td>2.0</td>\n",
       "    </tr>\n",
       "    <tr>\n",
       "      <th>13123</th>\n",
       "      <td>3.0</td>\n",
       "    </tr>\n",
       "    <tr>\n",
       "      <th>23551</th>\n",
       "      <td>4.0</td>\n",
       "    </tr>\n",
       "    <tr>\n",
       "      <th>30655</th>\n",
       "      <td>3.0</td>\n",
       "    </tr>\n",
       "  </tbody>\n",
       "</table>\n",
       "</div>"
      ],
      "text/plain": [
       "       Wave Period\n",
       "28830          4.0\n",
       "13175          2.0\n",
       "13123          3.0\n",
       "23551          4.0\n",
       "30655          3.0"
      ]
     },
     "execution_count": 14,
     "metadata": {},
     "output_type": "execute_result"
    }
   ],
   "source": [
    "# Let's make a copy before we add new columns\n",
    "# Recommendation: don't change the data referred to by a specific variable \n",
    "# throughout your code\n",
    "\n",
    "train2 = ???\n",
    "train2.head()"
   ]
  },
  {
   "cell_type": "markdown",
   "id": "6be8df92",
   "metadata": {},
   "source": [
    "Manually adding columns for x^2, x^3, etc.,"
   ]
  },
  {
   "cell_type": "code",
   "execution_count": 15,
   "id": "54f8d249",
   "metadata": {},
   "outputs": [
    {
     "data": {
      "text/html": [
       "<div>\n",
       "<style scoped>\n",
       "    .dataframe tbody tr th:only-of-type {\n",
       "        vertical-align: middle;\n",
       "    }\n",
       "\n",
       "    .dataframe tbody tr th {\n",
       "        vertical-align: top;\n",
       "    }\n",
       "\n",
       "    .dataframe thead th {\n",
       "        text-align: right;\n",
       "    }\n",
       "</style>\n",
       "<table border=\"1\" class=\"dataframe\">\n",
       "  <thead>\n",
       "    <tr style=\"text-align: right;\">\n",
       "      <th></th>\n",
       "      <th>Wave Period</th>\n",
       "      <th>Wave Period ^ 2</th>\n",
       "      <th>Wave Period ^ 3</th>\n",
       "      <th>sqrt(Wave Period</th>\n",
       "    </tr>\n",
       "  </thead>\n",
       "  <tbody>\n",
       "    <tr>\n",
       "      <th>28830</th>\n",
       "      <td>4.0</td>\n",
       "      <td>16.0</td>\n",
       "      <td>64.0</td>\n",
       "      <td>2.000000</td>\n",
       "    </tr>\n",
       "    <tr>\n",
       "      <th>13175</th>\n",
       "      <td>2.0</td>\n",
       "      <td>4.0</td>\n",
       "      <td>8.0</td>\n",
       "      <td>1.414214</td>\n",
       "    </tr>\n",
       "    <tr>\n",
       "      <th>13123</th>\n",
       "      <td>3.0</td>\n",
       "      <td>9.0</td>\n",
       "      <td>27.0</td>\n",
       "      <td>1.732051</td>\n",
       "    </tr>\n",
       "    <tr>\n",
       "      <th>23551</th>\n",
       "      <td>4.0</td>\n",
       "      <td>16.0</td>\n",
       "      <td>64.0</td>\n",
       "      <td>2.000000</td>\n",
       "    </tr>\n",
       "    <tr>\n",
       "      <th>30655</th>\n",
       "      <td>3.0</td>\n",
       "      <td>9.0</td>\n",
       "      <td>27.0</td>\n",
       "      <td>1.732051</td>\n",
       "    </tr>\n",
       "  </tbody>\n",
       "</table>\n",
       "</div>"
      ],
      "text/plain": [
       "       Wave Period  Wave Period ^ 2  Wave Period ^ 3  sqrt(Wave Period\n",
       "28830          4.0             16.0             64.0          2.000000\n",
       "13175          2.0              4.0              8.0          1.414214\n",
       "13123          3.0              9.0             27.0          1.732051\n",
       "23551          4.0             16.0             64.0          2.000000\n",
       "30655          3.0              9.0             27.0          1.732051"
      ]
     },
     "execution_count": 15,
     "metadata": {},
     "output_type": "execute_result"
    }
   ],
   "source": [
    "???\n",
    "???\n",
    "???\n",
    "train2.head()"
   ]
  },
  {
   "cell_type": "markdown",
   "id": "155f7e7a",
   "metadata": {},
   "source": [
    "#### `PolynomialFeatures(degree=<val>, include_bias=False)`\n",
    "\n",
    "- `degree` enables us to mention how many degrees we need\n",
    "- `include_bias` default value is True, which will add a column of 1s - we typically don't use that.\n",
    "- returns an object instance on which we can invoke `fit` and `transform`:\n",
    "    - `transform(X, columns=<col names>)`: transform data to polynomial features`\n",
    "    - `fit_transform(X[, y])`: fit to data, then transform it.\n",
    "- documentation: https://scikit-learn.org/stable/modules/generated/sklearn.preprocessing.PolynomialFeatures.html"
   ]
  },
  {
   "cell_type": "code",
   "execution_count": 16,
   "id": "e6c43483",
   "metadata": {},
   "outputs": [
    {
     "data": {
      "text/html": [
       "<style>#sk-68c05115-fb2d-4522-bde4-62260a7e51c6 {color: black;background-color: white;}#sk-68c05115-fb2d-4522-bde4-62260a7e51c6 pre{padding: 0;}#sk-68c05115-fb2d-4522-bde4-62260a7e51c6 div.sk-toggleable {background-color: white;}#sk-68c05115-fb2d-4522-bde4-62260a7e51c6 label.sk-toggleable__label {cursor: pointer;display: block;width: 100%;margin-bottom: 0;padding: 0.3em;box-sizing: border-box;text-align: center;}#sk-68c05115-fb2d-4522-bde4-62260a7e51c6 label.sk-toggleable__label-arrow:before {content: \"▸\";float: left;margin-right: 0.25em;color: #696969;}#sk-68c05115-fb2d-4522-bde4-62260a7e51c6 label.sk-toggleable__label-arrow:hover:before {color: black;}#sk-68c05115-fb2d-4522-bde4-62260a7e51c6 div.sk-estimator:hover label.sk-toggleable__label-arrow:before {color: black;}#sk-68c05115-fb2d-4522-bde4-62260a7e51c6 div.sk-toggleable__content {max-height: 0;max-width: 0;overflow: hidden;text-align: left;background-color: #f0f8ff;}#sk-68c05115-fb2d-4522-bde4-62260a7e51c6 div.sk-toggleable__content pre {margin: 0.2em;color: black;border-radius: 0.25em;background-color: #f0f8ff;}#sk-68c05115-fb2d-4522-bde4-62260a7e51c6 input.sk-toggleable__control:checked~div.sk-toggleable__content {max-height: 200px;max-width: 100%;overflow: auto;}#sk-68c05115-fb2d-4522-bde4-62260a7e51c6 input.sk-toggleable__control:checked~label.sk-toggleable__label-arrow:before {content: \"▾\";}#sk-68c05115-fb2d-4522-bde4-62260a7e51c6 div.sk-estimator input.sk-toggleable__control:checked~label.sk-toggleable__label {background-color: #d4ebff;}#sk-68c05115-fb2d-4522-bde4-62260a7e51c6 div.sk-label input.sk-toggleable__control:checked~label.sk-toggleable__label {background-color: #d4ebff;}#sk-68c05115-fb2d-4522-bde4-62260a7e51c6 input.sk-hidden--visually {border: 0;clip: rect(1px 1px 1px 1px);clip: rect(1px, 1px, 1px, 1px);height: 1px;margin: -1px;overflow: hidden;padding: 0;position: absolute;width: 1px;}#sk-68c05115-fb2d-4522-bde4-62260a7e51c6 div.sk-estimator {font-family: monospace;background-color: #f0f8ff;border: 1px dotted black;border-radius: 0.25em;box-sizing: border-box;margin-bottom: 0.5em;}#sk-68c05115-fb2d-4522-bde4-62260a7e51c6 div.sk-estimator:hover {background-color: #d4ebff;}#sk-68c05115-fb2d-4522-bde4-62260a7e51c6 div.sk-parallel-item::after {content: \"\";width: 100%;border-bottom: 1px solid gray;flex-grow: 1;}#sk-68c05115-fb2d-4522-bde4-62260a7e51c6 div.sk-label:hover label.sk-toggleable__label {background-color: #d4ebff;}#sk-68c05115-fb2d-4522-bde4-62260a7e51c6 div.sk-serial::before {content: \"\";position: absolute;border-left: 1px solid gray;box-sizing: border-box;top: 2em;bottom: 0;left: 50%;}#sk-68c05115-fb2d-4522-bde4-62260a7e51c6 div.sk-serial {display: flex;flex-direction: column;align-items: center;background-color: white;padding-right: 0.2em;padding-left: 0.2em;}#sk-68c05115-fb2d-4522-bde4-62260a7e51c6 div.sk-item {z-index: 1;}#sk-68c05115-fb2d-4522-bde4-62260a7e51c6 div.sk-parallel {display: flex;align-items: stretch;justify-content: center;background-color: white;}#sk-68c05115-fb2d-4522-bde4-62260a7e51c6 div.sk-parallel::before {content: \"\";position: absolute;border-left: 1px solid gray;box-sizing: border-box;top: 2em;bottom: 0;left: 50%;}#sk-68c05115-fb2d-4522-bde4-62260a7e51c6 div.sk-parallel-item {display: flex;flex-direction: column;position: relative;background-color: white;}#sk-68c05115-fb2d-4522-bde4-62260a7e51c6 div.sk-parallel-item:first-child::after {align-self: flex-end;width: 50%;}#sk-68c05115-fb2d-4522-bde4-62260a7e51c6 div.sk-parallel-item:last-child::after {align-self: flex-start;width: 50%;}#sk-68c05115-fb2d-4522-bde4-62260a7e51c6 div.sk-parallel-item:only-child::after {width: 0;}#sk-68c05115-fb2d-4522-bde4-62260a7e51c6 div.sk-dashed-wrapped {border: 1px dashed gray;margin: 0 0.4em 0.5em 0.4em;box-sizing: border-box;padding-bottom: 0.4em;background-color: white;position: relative;}#sk-68c05115-fb2d-4522-bde4-62260a7e51c6 div.sk-label label {font-family: monospace;font-weight: bold;background-color: white;display: inline-block;line-height: 1.2em;}#sk-68c05115-fb2d-4522-bde4-62260a7e51c6 div.sk-label-container {position: relative;z-index: 2;text-align: center;}#sk-68c05115-fb2d-4522-bde4-62260a7e51c6 div.sk-container {/* jupyter's `normalize.less` sets `[hidden] { display: none; }` but bootstrap.min.css set `[hidden] { display: none !important; }` so we also need the `!important` here to be able to override the default hidden behavior on the sphinx rendered scikit-learn.org. See: https://github.com/scikit-learn/scikit-learn/issues/21755 */display: inline-block !important;position: relative;}#sk-68c05115-fb2d-4522-bde4-62260a7e51c6 div.sk-text-repr-fallback {display: none;}</style><div id=\"sk-68c05115-fb2d-4522-bde4-62260a7e51c6\" class=\"sk-top-container\"><div class=\"sk-text-repr-fallback\"><pre>PolynomialFeatures(degree=4, include_bias=False)</pre><b>Please rerun this cell to show the HTML repr or trust the notebook.</b></div><div class=\"sk-container\" hidden><div class=\"sk-item\"><div class=\"sk-estimator sk-toggleable\"><input class=\"sk-toggleable__control sk-hidden--visually\" id=\"78b44258-906f-4886-8e60-b502c67a3a18\" type=\"checkbox\" checked><label for=\"78b44258-906f-4886-8e60-b502c67a3a18\" class=\"sk-toggleable__label sk-toggleable__label-arrow\">PolynomialFeatures</label><div class=\"sk-toggleable__content\"><pre>PolynomialFeatures(degree=4, include_bias=False)</pre></div></div></div></div></div>"
      ],
      "text/plain": [
       "PolynomialFeatures(degree=4, include_bias=False)"
      ]
     },
     "execution_count": 16,
     "metadata": {},
     "output_type": "execute_result"
    }
   ],
   "source": [
    "pf = ???\n",
    "pf"
   ]
  },
  {
   "cell_type": "code",
   "execution_count": 17,
   "id": "8d6d2e1c",
   "metadata": {},
   "outputs": [
    {
     "data": {
      "text/plain": [
       "array([[4.000e+00, 1.600e+01, 6.400e+01, 2.560e+02],\n",
       "       [2.000e+00, 4.000e+00, 8.000e+00, 1.600e+01],\n",
       "       [3.000e+00, 9.000e+00, 2.700e+01, 8.100e+01],\n",
       "       ...,\n",
       "       [4.000e+00, 1.600e+01, 6.400e+01, 2.560e+02],\n",
       "       [4.000e+00, 1.600e+01, 6.400e+01, 2.560e+02],\n",
       "       [7.000e+00, 4.900e+01, 3.430e+02, 2.401e+03]])"
      ]
     },
     "execution_count": 17,
     "metadata": {},
     "output_type": "execute_result"
    }
   ],
   "source": [
    "# Fit the data\n",
    "???\n",
    "# Transform the data\n",
    "???"
   ]
  },
  {
   "cell_type": "code",
   "execution_count": 18,
   "id": "ecfc2493",
   "metadata": {},
   "outputs": [
    {
     "data": {
      "text/html": [
       "<div>\n",
       "<style scoped>\n",
       "    .dataframe tbody tr th:only-of-type {\n",
       "        vertical-align: middle;\n",
       "    }\n",
       "\n",
       "    .dataframe tbody tr th {\n",
       "        vertical-align: top;\n",
       "    }\n",
       "\n",
       "    .dataframe thead th {\n",
       "        text-align: right;\n",
       "    }\n",
       "</style>\n",
       "<table border=\"1\" class=\"dataframe\">\n",
       "  <thead>\n",
       "    <tr style=\"text-align: right;\">\n",
       "      <th></th>\n",
       "      <th>0</th>\n",
       "      <th>1</th>\n",
       "      <th>2</th>\n",
       "      <th>3</th>\n",
       "    </tr>\n",
       "  </thead>\n",
       "  <tbody>\n",
       "    <tr>\n",
       "      <th>0</th>\n",
       "      <td>4.0</td>\n",
       "      <td>16.0</td>\n",
       "      <td>64.0</td>\n",
       "      <td>256.0</td>\n",
       "    </tr>\n",
       "    <tr>\n",
       "      <th>1</th>\n",
       "      <td>2.0</td>\n",
       "      <td>4.0</td>\n",
       "      <td>8.0</td>\n",
       "      <td>16.0</td>\n",
       "    </tr>\n",
       "    <tr>\n",
       "      <th>2</th>\n",
       "      <td>3.0</td>\n",
       "      <td>9.0</td>\n",
       "      <td>27.0</td>\n",
       "      <td>81.0</td>\n",
       "    </tr>\n",
       "    <tr>\n",
       "      <th>3</th>\n",
       "      <td>4.0</td>\n",
       "      <td>16.0</td>\n",
       "      <td>64.0</td>\n",
       "      <td>256.0</td>\n",
       "    </tr>\n",
       "    <tr>\n",
       "      <th>4</th>\n",
       "      <td>3.0</td>\n",
       "      <td>9.0</td>\n",
       "      <td>27.0</td>\n",
       "      <td>81.0</td>\n",
       "    </tr>\n",
       "    <tr>\n",
       "      <th>...</th>\n",
       "      <td>...</td>\n",
       "      <td>...</td>\n",
       "      <td>...</td>\n",
       "      <td>...</td>\n",
       "    </tr>\n",
       "    <tr>\n",
       "      <th>29866</th>\n",
       "      <td>3.0</td>\n",
       "      <td>9.0</td>\n",
       "      <td>27.0</td>\n",
       "      <td>81.0</td>\n",
       "    </tr>\n",
       "    <tr>\n",
       "      <th>29867</th>\n",
       "      <td>5.0</td>\n",
       "      <td>25.0</td>\n",
       "      <td>125.0</td>\n",
       "      <td>625.0</td>\n",
       "    </tr>\n",
       "    <tr>\n",
       "      <th>29868</th>\n",
       "      <td>4.0</td>\n",
       "      <td>16.0</td>\n",
       "      <td>64.0</td>\n",
       "      <td>256.0</td>\n",
       "    </tr>\n",
       "    <tr>\n",
       "      <th>29869</th>\n",
       "      <td>4.0</td>\n",
       "      <td>16.0</td>\n",
       "      <td>64.0</td>\n",
       "      <td>256.0</td>\n",
       "    </tr>\n",
       "    <tr>\n",
       "      <th>29870</th>\n",
       "      <td>7.0</td>\n",
       "      <td>49.0</td>\n",
       "      <td>343.0</td>\n",
       "      <td>2401.0</td>\n",
       "    </tr>\n",
       "  </tbody>\n",
       "</table>\n",
       "<p>29871 rows × 4 columns</p>\n",
       "</div>"
      ],
      "text/plain": [
       "         0     1      2       3\n",
       "0      4.0  16.0   64.0   256.0\n",
       "1      2.0   4.0    8.0    16.0\n",
       "2      3.0   9.0   27.0    81.0\n",
       "3      4.0  16.0   64.0   256.0\n",
       "4      3.0   9.0   27.0    81.0\n",
       "...    ...   ...    ...     ...\n",
       "29866  3.0   9.0   27.0    81.0\n",
       "29867  5.0  25.0  125.0   625.0\n",
       "29868  4.0  16.0   64.0   256.0\n",
       "29869  4.0  16.0   64.0   256.0\n",
       "29870  7.0  49.0  343.0  2401.0\n",
       "\n",
       "[29871 rows x 4 columns]"
      ]
     },
     "execution_count": 18,
     "metadata": {},
     "output_type": "execute_result"
    }
   ],
   "source": [
    "# Convert result of transformation into a DataFrame - step 1\n",
    "pd.DataFrame(pf.transform(train[xcols]))"
   ]
  },
  {
   "cell_type": "markdown",
   "id": "129b21dc",
   "metadata": {},
   "source": [
    "How can we add meaningful column names? `pf.get_feature_names_out()`"
   ]
  },
  {
   "cell_type": "code",
   "execution_count": 19,
   "id": "1ab1eaa3",
   "metadata": {},
   "outputs": [
    {
     "data": {
      "text/plain": [
       "array(['Wave Period', 'Wave Period^2', 'Wave Period^3', 'Wave Period^4'],\n",
       "      dtype=object)"
      ]
     },
     "execution_count": 19,
     "metadata": {},
     "output_type": "execute_result"
    }
   ],
   "source": [
    "pf.???"
   ]
  },
  {
   "cell_type": "code",
   "execution_count": 20,
   "id": "2d62b3d3",
   "metadata": {},
   "outputs": [
    {
     "data": {
      "text/html": [
       "<div>\n",
       "<style scoped>\n",
       "    .dataframe tbody tr th:only-of-type {\n",
       "        vertical-align: middle;\n",
       "    }\n",
       "\n",
       "    .dataframe tbody tr th {\n",
       "        vertical-align: top;\n",
       "    }\n",
       "\n",
       "    .dataframe thead th {\n",
       "        text-align: right;\n",
       "    }\n",
       "</style>\n",
       "<table border=\"1\" class=\"dataframe\">\n",
       "  <thead>\n",
       "    <tr style=\"text-align: right;\">\n",
       "      <th></th>\n",
       "      <th>Wave Period</th>\n",
       "      <th>Wave Period^2</th>\n",
       "      <th>Wave Period^3</th>\n",
       "      <th>Wave Period^4</th>\n",
       "    </tr>\n",
       "  </thead>\n",
       "  <tbody>\n",
       "    <tr>\n",
       "      <th>0</th>\n",
       "      <td>4.0</td>\n",
       "      <td>16.0</td>\n",
       "      <td>64.0</td>\n",
       "      <td>256.0</td>\n",
       "    </tr>\n",
       "    <tr>\n",
       "      <th>1</th>\n",
       "      <td>2.0</td>\n",
       "      <td>4.0</td>\n",
       "      <td>8.0</td>\n",
       "      <td>16.0</td>\n",
       "    </tr>\n",
       "    <tr>\n",
       "      <th>2</th>\n",
       "      <td>3.0</td>\n",
       "      <td>9.0</td>\n",
       "      <td>27.0</td>\n",
       "      <td>81.0</td>\n",
       "    </tr>\n",
       "    <tr>\n",
       "      <th>3</th>\n",
       "      <td>4.0</td>\n",
       "      <td>16.0</td>\n",
       "      <td>64.0</td>\n",
       "      <td>256.0</td>\n",
       "    </tr>\n",
       "    <tr>\n",
       "      <th>4</th>\n",
       "      <td>3.0</td>\n",
       "      <td>9.0</td>\n",
       "      <td>27.0</td>\n",
       "      <td>81.0</td>\n",
       "    </tr>\n",
       "    <tr>\n",
       "      <th>...</th>\n",
       "      <td>...</td>\n",
       "      <td>...</td>\n",
       "      <td>...</td>\n",
       "      <td>...</td>\n",
       "    </tr>\n",
       "    <tr>\n",
       "      <th>29866</th>\n",
       "      <td>3.0</td>\n",
       "      <td>9.0</td>\n",
       "      <td>27.0</td>\n",
       "      <td>81.0</td>\n",
       "    </tr>\n",
       "    <tr>\n",
       "      <th>29867</th>\n",
       "      <td>5.0</td>\n",
       "      <td>25.0</td>\n",
       "      <td>125.0</td>\n",
       "      <td>625.0</td>\n",
       "    </tr>\n",
       "    <tr>\n",
       "      <th>29868</th>\n",
       "      <td>4.0</td>\n",
       "      <td>16.0</td>\n",
       "      <td>64.0</td>\n",
       "      <td>256.0</td>\n",
       "    </tr>\n",
       "    <tr>\n",
       "      <th>29869</th>\n",
       "      <td>4.0</td>\n",
       "      <td>16.0</td>\n",
       "      <td>64.0</td>\n",
       "      <td>256.0</td>\n",
       "    </tr>\n",
       "    <tr>\n",
       "      <th>29870</th>\n",
       "      <td>7.0</td>\n",
       "      <td>49.0</td>\n",
       "      <td>343.0</td>\n",
       "      <td>2401.0</td>\n",
       "    </tr>\n",
       "  </tbody>\n",
       "</table>\n",
       "<p>29871 rows × 4 columns</p>\n",
       "</div>"
      ],
      "text/plain": [
       "       Wave Period  Wave Period^2  Wave Period^3  Wave Period^4\n",
       "0              4.0           16.0           64.0          256.0\n",
       "1              2.0            4.0            8.0           16.0\n",
       "2              3.0            9.0           27.0           81.0\n",
       "3              4.0           16.0           64.0          256.0\n",
       "4              3.0            9.0           27.0           81.0\n",
       "...            ...            ...            ...            ...\n",
       "29866          3.0            9.0           27.0           81.0\n",
       "29867          5.0           25.0          125.0          625.0\n",
       "29868          4.0           16.0           64.0          256.0\n",
       "29869          4.0           16.0           64.0          256.0\n",
       "29870          7.0           49.0          343.0         2401.0\n",
       "\n",
       "[29871 rows x 4 columns]"
      ]
     },
     "execution_count": 20,
     "metadata": {},
     "output_type": "execute_result"
    }
   ],
   "source": [
    "# Convert result of transformation into a DataFrame - step 2\n",
    "pd.DataFrame(pf.transform(train[xcols]), ???)"
   ]
  },
  {
   "cell_type": "code",
   "execution_count": 21,
   "id": "4beebe68",
   "metadata": {},
   "outputs": [
    {
     "data": {
      "text/html": [
       "<div>\n",
       "<style scoped>\n",
       "    .dataframe tbody tr th:only-of-type {\n",
       "        vertical-align: middle;\n",
       "    }\n",
       "\n",
       "    .dataframe tbody tr th {\n",
       "        vertical-align: top;\n",
       "    }\n",
       "\n",
       "    .dataframe thead th {\n",
       "        text-align: right;\n",
       "    }\n",
       "</style>\n",
       "<table border=\"1\" class=\"dataframe\">\n",
       "  <thead>\n",
       "    <tr style=\"text-align: right;\">\n",
       "      <th></th>\n",
       "      <th>Wave Period</th>\n",
       "      <th>Wave Period^2</th>\n",
       "      <th>Wave Period^3</th>\n",
       "      <th>Wave Period^4</th>\n",
       "    </tr>\n",
       "  </thead>\n",
       "  <tbody>\n",
       "    <tr>\n",
       "      <th>0</th>\n",
       "      <td>4.0</td>\n",
       "      <td>16.0</td>\n",
       "      <td>64.0</td>\n",
       "      <td>256.0</td>\n",
       "    </tr>\n",
       "    <tr>\n",
       "      <th>1</th>\n",
       "      <td>2.0</td>\n",
       "      <td>4.0</td>\n",
       "      <td>8.0</td>\n",
       "      <td>16.0</td>\n",
       "    </tr>\n",
       "    <tr>\n",
       "      <th>2</th>\n",
       "      <td>3.0</td>\n",
       "      <td>9.0</td>\n",
       "      <td>27.0</td>\n",
       "      <td>81.0</td>\n",
       "    </tr>\n",
       "    <tr>\n",
       "      <th>3</th>\n",
       "      <td>4.0</td>\n",
       "      <td>16.0</td>\n",
       "      <td>64.0</td>\n",
       "      <td>256.0</td>\n",
       "    </tr>\n",
       "    <tr>\n",
       "      <th>4</th>\n",
       "      <td>3.0</td>\n",
       "      <td>9.0</td>\n",
       "      <td>27.0</td>\n",
       "      <td>81.0</td>\n",
       "    </tr>\n",
       "  </tbody>\n",
       "</table>\n",
       "</div>"
      ],
      "text/plain": [
       "   Wave Period  Wave Period^2  Wave Period^3  Wave Period^4\n",
       "0          4.0           16.0           64.0          256.0\n",
       "1          2.0            4.0            8.0           16.0\n",
       "2          3.0            9.0           27.0           81.0\n",
       "3          4.0           16.0           64.0          256.0\n",
       "4          3.0            9.0           27.0           81.0"
      ]
     },
     "execution_count": 21,
     "metadata": {},
     "output_type": "execute_result"
    }
   ],
   "source": [
    "# Putting all the steps together\n",
    "pf = PolynomialFeatures(degree=4, include_bias=False)\n",
    "pf.fit(train[xcols])\n",
    "pd.DataFrame(pf.transform(train[xcols]), columns=pf.get_feature_names_out()).head()"
   ]
  },
  {
   "cell_type": "markdown",
   "id": "29d11ffb",
   "metadata": {},
   "source": [
    "`fit_transform(X[, y])`: fit to data, then transform it."
   ]
  },
  {
   "cell_type": "code",
   "execution_count": 22,
   "id": "91c3a781",
   "metadata": {},
   "outputs": [
    {
     "data": {
      "text/html": [
       "<div>\n",
       "<style scoped>\n",
       "    .dataframe tbody tr th:only-of-type {\n",
       "        vertical-align: middle;\n",
       "    }\n",
       "\n",
       "    .dataframe tbody tr th {\n",
       "        vertical-align: top;\n",
       "    }\n",
       "\n",
       "    .dataframe thead th {\n",
       "        text-align: right;\n",
       "    }\n",
       "</style>\n",
       "<table border=\"1\" class=\"dataframe\">\n",
       "  <thead>\n",
       "    <tr style=\"text-align: right;\">\n",
       "      <th></th>\n",
       "      <th>Wave Period</th>\n",
       "      <th>Wave Period^2</th>\n",
       "      <th>Wave Period^3</th>\n",
       "      <th>Wave Period^4</th>\n",
       "    </tr>\n",
       "  </thead>\n",
       "  <tbody>\n",
       "    <tr>\n",
       "      <th>0</th>\n",
       "      <td>4.0</td>\n",
       "      <td>16.0</td>\n",
       "      <td>64.0</td>\n",
       "      <td>256.0</td>\n",
       "    </tr>\n",
       "    <tr>\n",
       "      <th>1</th>\n",
       "      <td>2.0</td>\n",
       "      <td>4.0</td>\n",
       "      <td>8.0</td>\n",
       "      <td>16.0</td>\n",
       "    </tr>\n",
       "    <tr>\n",
       "      <th>2</th>\n",
       "      <td>3.0</td>\n",
       "      <td>9.0</td>\n",
       "      <td>27.0</td>\n",
       "      <td>81.0</td>\n",
       "    </tr>\n",
       "    <tr>\n",
       "      <th>3</th>\n",
       "      <td>4.0</td>\n",
       "      <td>16.0</td>\n",
       "      <td>64.0</td>\n",
       "      <td>256.0</td>\n",
       "    </tr>\n",
       "    <tr>\n",
       "      <th>4</th>\n",
       "      <td>3.0</td>\n",
       "      <td>9.0</td>\n",
       "      <td>27.0</td>\n",
       "      <td>81.0</td>\n",
       "    </tr>\n",
       "  </tbody>\n",
       "</table>\n",
       "</div>"
      ],
      "text/plain": [
       "   Wave Period  Wave Period^2  Wave Period^3  Wave Period^4\n",
       "0          4.0           16.0           64.0          256.0\n",
       "1          2.0            4.0            8.0           16.0\n",
       "2          3.0            9.0           27.0           81.0\n",
       "3          4.0           16.0           64.0          256.0\n",
       "4          3.0            9.0           27.0           81.0"
      ]
     },
     "execution_count": 22,
     "metadata": {},
     "output_type": "execute_result"
    }
   ],
   "source": [
    "new_data = pf.???\n",
    "pd.DataFrame(new_data, columns=pf.get_feature_names_out()).head()"
   ]
  },
  {
   "cell_type": "markdown",
   "id": "86de680e",
   "metadata": {},
   "source": [
    "#### `Pipeline(...)`\n",
    "\n",
    "- Argument: list of steps in the pipeline:\n",
    "    - each step represented as a tuple with name of the step and the object instance\n",
    "    - last step will be the estimator\n",
    "- documention: https://scikit-learn.org/stable/modules/generated/sklearn.pipeline.Pipeline.html"
   ]
  },
  {
   "cell_type": "code",
   "execution_count": 23,
   "id": "bb509930",
   "metadata": {},
   "outputs": [
    {
     "data": {
      "text/html": [
       "<style>#sk-30e40d44-cca4-44f4-85b0-066446fa0521 {color: black;background-color: white;}#sk-30e40d44-cca4-44f4-85b0-066446fa0521 pre{padding: 0;}#sk-30e40d44-cca4-44f4-85b0-066446fa0521 div.sk-toggleable {background-color: white;}#sk-30e40d44-cca4-44f4-85b0-066446fa0521 label.sk-toggleable__label {cursor: pointer;display: block;width: 100%;margin-bottom: 0;padding: 0.3em;box-sizing: border-box;text-align: center;}#sk-30e40d44-cca4-44f4-85b0-066446fa0521 label.sk-toggleable__label-arrow:before {content: \"▸\";float: left;margin-right: 0.25em;color: #696969;}#sk-30e40d44-cca4-44f4-85b0-066446fa0521 label.sk-toggleable__label-arrow:hover:before {color: black;}#sk-30e40d44-cca4-44f4-85b0-066446fa0521 div.sk-estimator:hover label.sk-toggleable__label-arrow:before {color: black;}#sk-30e40d44-cca4-44f4-85b0-066446fa0521 div.sk-toggleable__content {max-height: 0;max-width: 0;overflow: hidden;text-align: left;background-color: #f0f8ff;}#sk-30e40d44-cca4-44f4-85b0-066446fa0521 div.sk-toggleable__content pre {margin: 0.2em;color: black;border-radius: 0.25em;background-color: #f0f8ff;}#sk-30e40d44-cca4-44f4-85b0-066446fa0521 input.sk-toggleable__control:checked~div.sk-toggleable__content {max-height: 200px;max-width: 100%;overflow: auto;}#sk-30e40d44-cca4-44f4-85b0-066446fa0521 input.sk-toggleable__control:checked~label.sk-toggleable__label-arrow:before {content: \"▾\";}#sk-30e40d44-cca4-44f4-85b0-066446fa0521 div.sk-estimator input.sk-toggleable__control:checked~label.sk-toggleable__label {background-color: #d4ebff;}#sk-30e40d44-cca4-44f4-85b0-066446fa0521 div.sk-label input.sk-toggleable__control:checked~label.sk-toggleable__label {background-color: #d4ebff;}#sk-30e40d44-cca4-44f4-85b0-066446fa0521 input.sk-hidden--visually {border: 0;clip: rect(1px 1px 1px 1px);clip: rect(1px, 1px, 1px, 1px);height: 1px;margin: -1px;overflow: hidden;padding: 0;position: absolute;width: 1px;}#sk-30e40d44-cca4-44f4-85b0-066446fa0521 div.sk-estimator {font-family: monospace;background-color: #f0f8ff;border: 1px dotted black;border-radius: 0.25em;box-sizing: border-box;margin-bottom: 0.5em;}#sk-30e40d44-cca4-44f4-85b0-066446fa0521 div.sk-estimator:hover {background-color: #d4ebff;}#sk-30e40d44-cca4-44f4-85b0-066446fa0521 div.sk-parallel-item::after {content: \"\";width: 100%;border-bottom: 1px solid gray;flex-grow: 1;}#sk-30e40d44-cca4-44f4-85b0-066446fa0521 div.sk-label:hover label.sk-toggleable__label {background-color: #d4ebff;}#sk-30e40d44-cca4-44f4-85b0-066446fa0521 div.sk-serial::before {content: \"\";position: absolute;border-left: 1px solid gray;box-sizing: border-box;top: 2em;bottom: 0;left: 50%;}#sk-30e40d44-cca4-44f4-85b0-066446fa0521 div.sk-serial {display: flex;flex-direction: column;align-items: center;background-color: white;padding-right: 0.2em;padding-left: 0.2em;}#sk-30e40d44-cca4-44f4-85b0-066446fa0521 div.sk-item {z-index: 1;}#sk-30e40d44-cca4-44f4-85b0-066446fa0521 div.sk-parallel {display: flex;align-items: stretch;justify-content: center;background-color: white;}#sk-30e40d44-cca4-44f4-85b0-066446fa0521 div.sk-parallel::before {content: \"\";position: absolute;border-left: 1px solid gray;box-sizing: border-box;top: 2em;bottom: 0;left: 50%;}#sk-30e40d44-cca4-44f4-85b0-066446fa0521 div.sk-parallel-item {display: flex;flex-direction: column;position: relative;background-color: white;}#sk-30e40d44-cca4-44f4-85b0-066446fa0521 div.sk-parallel-item:first-child::after {align-self: flex-end;width: 50%;}#sk-30e40d44-cca4-44f4-85b0-066446fa0521 div.sk-parallel-item:last-child::after {align-self: flex-start;width: 50%;}#sk-30e40d44-cca4-44f4-85b0-066446fa0521 div.sk-parallel-item:only-child::after {width: 0;}#sk-30e40d44-cca4-44f4-85b0-066446fa0521 div.sk-dashed-wrapped {border: 1px dashed gray;margin: 0 0.4em 0.5em 0.4em;box-sizing: border-box;padding-bottom: 0.4em;background-color: white;position: relative;}#sk-30e40d44-cca4-44f4-85b0-066446fa0521 div.sk-label label {font-family: monospace;font-weight: bold;background-color: white;display: inline-block;line-height: 1.2em;}#sk-30e40d44-cca4-44f4-85b0-066446fa0521 div.sk-label-container {position: relative;z-index: 2;text-align: center;}#sk-30e40d44-cca4-44f4-85b0-066446fa0521 div.sk-container {/* jupyter's `normalize.less` sets `[hidden] { display: none; }` but bootstrap.min.css set `[hidden] { display: none !important; }` so we also need the `!important` here to be able to override the default hidden behavior on the sphinx rendered scikit-learn.org. See: https://github.com/scikit-learn/scikit-learn/issues/21755 */display: inline-block !important;position: relative;}#sk-30e40d44-cca4-44f4-85b0-066446fa0521 div.sk-text-repr-fallback {display: none;}</style><div id=\"sk-30e40d44-cca4-44f4-85b0-066446fa0521\" class=\"sk-top-container\"><div class=\"sk-text-repr-fallback\"><pre>Pipeline(steps=[(&#x27;pf&#x27;, PolynomialFeatures(include_bias=False)),\n",
       "                (&#x27;lr&#x27;, LinearRegression())])</pre><b>Please rerun this cell to show the HTML repr or trust the notebook.</b></div><div class=\"sk-container\" hidden><div class=\"sk-item sk-dashed-wrapped\"><div class=\"sk-label-container\"><div class=\"sk-label sk-toggleable\"><input class=\"sk-toggleable__control sk-hidden--visually\" id=\"731e9a01-871c-47b4-8e8a-9f4afb4cb749\" type=\"checkbox\" ><label for=\"731e9a01-871c-47b4-8e8a-9f4afb4cb749\" class=\"sk-toggleable__label sk-toggleable__label-arrow\">Pipeline</label><div class=\"sk-toggleable__content\"><pre>Pipeline(steps=[(&#x27;pf&#x27;, PolynomialFeatures(include_bias=False)),\n",
       "                (&#x27;lr&#x27;, LinearRegression())])</pre></div></div></div><div class=\"sk-serial\"><div class=\"sk-item\"><div class=\"sk-estimator sk-toggleable\"><input class=\"sk-toggleable__control sk-hidden--visually\" id=\"bfaf41e3-4c97-47f9-8e0a-deb969b605ba\" type=\"checkbox\" ><label for=\"bfaf41e3-4c97-47f9-8e0a-deb969b605ba\" class=\"sk-toggleable__label sk-toggleable__label-arrow\">PolynomialFeatures</label><div class=\"sk-toggleable__content\"><pre>PolynomialFeatures(include_bias=False)</pre></div></div></div><div class=\"sk-item\"><div class=\"sk-estimator sk-toggleable\"><input class=\"sk-toggleable__control sk-hidden--visually\" id=\"dea92915-acff-4bb2-b541-18dbbaba7718\" type=\"checkbox\" ><label for=\"dea92915-acff-4bb2-b541-18dbbaba7718\" class=\"sk-toggleable__label sk-toggleable__label-arrow\">LinearRegression</label><div class=\"sk-toggleable__content\"><pre>LinearRegression()</pre></div></div></div></div></div></div></div>"
      ],
      "text/plain": [
       "Pipeline(steps=[('pf', PolynomialFeatures(include_bias=False)),\n",
       "                ('lr', LinearRegression())])"
      ]
     },
     "execution_count": 23,
     "metadata": {},
     "output_type": "execute_result"
    }
   ],
   "source": [
    "m2 = ???\n",
    "m2"
   ]
  },
  {
   "cell_type": "code",
   "execution_count": 24,
   "id": "ccf76663",
   "metadata": {},
   "outputs": [
    {
     "data": {
      "text/plain": [
       "0.04899677725538595"
      ]
     },
     "execution_count": 24,
     "metadata": {},
     "output_type": "execute_result"
    }
   ],
   "source": [
    "scores = ???\n",
    "scores.???"
   ]
  },
  {
   "cell_type": "markdown",
   "id": "b7acca2c",
   "metadata": {},
   "source": [
    "**Conclusion:** mean R^2 score increased from 0.0029 (linear model) to 0.0489 (polynomial) - not bad!"
   ]
  },
  {
   "cell_type": "markdown",
   "id": "7dff1435",
   "metadata": {},
   "source": [
    "#### Model 3: Beach Name (Categorical)"
   ]
  },
  {
   "cell_type": "code",
   "execution_count": 25,
   "id": "76a31355",
   "metadata": {},
   "outputs": [
    {
     "data": {
      "text/plain": [
       "array(['Ohio Street Beach', 'Calumet Beach', 'Rainbow Beach',\n",
       "       'Osterman Beach', '63rd Street Beach', 'Montrose Beach'],\n",
       "      dtype=object)"
      ]
     },
     "execution_count": 25,
     "metadata": {},
     "output_type": "execute_result"
    }
   ],
   "source": [
    "train[\"Beach Name\"].???"
   ]
  },
  {
   "cell_type": "markdown",
   "id": "61644774",
   "metadata": {},
   "source": [
    "Naive way of assigning numerial values to a categorical column:\n",
    "- `Ohio Street Beach`: 1\n",
    "- `Calumet Beach`: 2\n",
    "- `Rainbow Beach`: 3, etc.,\n",
    "- Problem: `Calumet Beach` will become an average of `Ohio Street Beach` and `Rainbow Beach` => this doesn't make any sense!"
   ]
  },
  {
   "cell_type": "markdown",
   "id": "41c6be06",
   "metadata": {},
   "source": [
    "#### `OneHotEncoder()`\n",
    "\n",
    "- encodes categorical features as a one-hot numeric array\n",
    "- returns a \"sparse matrix\", which needs to be explicitly converted into an `array` using `to_array()` method, before `DataFrame` conversion\n",
    "- documention: https://scikit-learn.org/stable/modules/generated/sklearn.preprocessing.OneHotEncoder.html"
   ]
  },
  {
   "cell_type": "code",
   "execution_count": 26,
   "id": "9c01ad37-ea34-4c35-9cf8-74552a54eec6",
   "metadata": {},
   "outputs": [],
   "source": [
    "xcols = ???"
   ]
  },
  {
   "cell_type": "code",
   "execution_count": 27,
   "id": "ef069c7b",
   "metadata": {},
   "outputs": [
    {
     "data": {
      "text/plain": [
       "<29871x6 sparse matrix of type '<class 'numpy.float64'>'\n",
       "\twith 29871 stored elements in Compressed Sparse Row format>"
      ]
     },
     "execution_count": 27,
     "metadata": {},
     "output_type": "execute_result"
    }
   ],
   "source": [
    "oh = ???"
   ]
  },
  {
   "cell_type": "code",
   "execution_count": 28,
   "id": "5cb24e10",
   "metadata": {},
   "outputs": [
    {
     "data": {
      "text/plain": [
       "<29871x6 sparse matrix of type '<class 'numpy.float64'>'\n",
       "\twith 29871 stored elements in Compressed Sparse Row format>"
      ]
     },
     "execution_count": 28,
     "metadata": {},
     "output_type": "execute_result"
    }
   ],
   "source": [
    "oh.???"
   ]
  },
  {
   "cell_type": "code",
   "execution_count": 29,
   "id": "d5303636",
   "metadata": {},
   "outputs": [
    {
     "data": {
      "text/html": [
       "<div>\n",
       "<style scoped>\n",
       "    .dataframe tbody tr th:only-of-type {\n",
       "        vertical-align: middle;\n",
       "    }\n",
       "\n",
       "    .dataframe tbody tr th {\n",
       "        vertical-align: top;\n",
       "    }\n",
       "\n",
       "    .dataframe thead th {\n",
       "        text-align: right;\n",
       "    }\n",
       "</style>\n",
       "<table border=\"1\" class=\"dataframe\">\n",
       "  <thead>\n",
       "    <tr style=\"text-align: right;\">\n",
       "      <th></th>\n",
       "      <th>Beach Name_63rd Street Beach</th>\n",
       "      <th>Beach Name_Calumet Beach</th>\n",
       "      <th>Beach Name_Montrose Beach</th>\n",
       "      <th>Beach Name_Ohio Street Beach</th>\n",
       "      <th>Beach Name_Osterman Beach</th>\n",
       "      <th>Beach Name_Rainbow Beach</th>\n",
       "    </tr>\n",
       "  </thead>\n",
       "  <tbody>\n",
       "    <tr>\n",
       "      <th>0</th>\n",
       "      <td>0.0</td>\n",
       "      <td>0.0</td>\n",
       "      <td>0.0</td>\n",
       "      <td>1.0</td>\n",
       "      <td>0.0</td>\n",
       "      <td>0.0</td>\n",
       "    </tr>\n",
       "    <tr>\n",
       "      <th>1</th>\n",
       "      <td>0.0</td>\n",
       "      <td>1.0</td>\n",
       "      <td>0.0</td>\n",
       "      <td>0.0</td>\n",
       "      <td>0.0</td>\n",
       "      <td>0.0</td>\n",
       "    </tr>\n",
       "    <tr>\n",
       "      <th>2</th>\n",
       "      <td>0.0</td>\n",
       "      <td>1.0</td>\n",
       "      <td>0.0</td>\n",
       "      <td>0.0</td>\n",
       "      <td>0.0</td>\n",
       "      <td>0.0</td>\n",
       "    </tr>\n",
       "    <tr>\n",
       "      <th>3</th>\n",
       "      <td>0.0</td>\n",
       "      <td>0.0</td>\n",
       "      <td>0.0</td>\n",
       "      <td>1.0</td>\n",
       "      <td>0.0</td>\n",
       "      <td>0.0</td>\n",
       "    </tr>\n",
       "    <tr>\n",
       "      <th>4</th>\n",
       "      <td>0.0</td>\n",
       "      <td>0.0</td>\n",
       "      <td>0.0</td>\n",
       "      <td>1.0</td>\n",
       "      <td>0.0</td>\n",
       "      <td>0.0</td>\n",
       "    </tr>\n",
       "    <tr>\n",
       "      <th>...</th>\n",
       "      <td>...</td>\n",
       "      <td>...</td>\n",
       "      <td>...</td>\n",
       "      <td>...</td>\n",
       "      <td>...</td>\n",
       "      <td>...</td>\n",
       "    </tr>\n",
       "    <tr>\n",
       "      <th>29866</th>\n",
       "      <td>0.0</td>\n",
       "      <td>0.0</td>\n",
       "      <td>0.0</td>\n",
       "      <td>0.0</td>\n",
       "      <td>1.0</td>\n",
       "      <td>0.0</td>\n",
       "    </tr>\n",
       "    <tr>\n",
       "      <th>29867</th>\n",
       "      <td>0.0</td>\n",
       "      <td>0.0</td>\n",
       "      <td>0.0</td>\n",
       "      <td>1.0</td>\n",
       "      <td>0.0</td>\n",
       "      <td>0.0</td>\n",
       "    </tr>\n",
       "    <tr>\n",
       "      <th>29868</th>\n",
       "      <td>0.0</td>\n",
       "      <td>0.0</td>\n",
       "      <td>0.0</td>\n",
       "      <td>0.0</td>\n",
       "      <td>1.0</td>\n",
       "      <td>0.0</td>\n",
       "    </tr>\n",
       "    <tr>\n",
       "      <th>29869</th>\n",
       "      <td>1.0</td>\n",
       "      <td>0.0</td>\n",
       "      <td>0.0</td>\n",
       "      <td>0.0</td>\n",
       "      <td>0.0</td>\n",
       "      <td>0.0</td>\n",
       "    </tr>\n",
       "    <tr>\n",
       "      <th>29870</th>\n",
       "      <td>0.0</td>\n",
       "      <td>0.0</td>\n",
       "      <td>0.0</td>\n",
       "      <td>1.0</td>\n",
       "      <td>0.0</td>\n",
       "      <td>0.0</td>\n",
       "    </tr>\n",
       "  </tbody>\n",
       "</table>\n",
       "<p>29871 rows × 6 columns</p>\n",
       "</div>"
      ],
      "text/plain": [
       "       Beach Name_63rd Street Beach  Beach Name_Calumet Beach  \\\n",
       "0                               0.0                       0.0   \n",
       "1                               0.0                       1.0   \n",
       "2                               0.0                       1.0   \n",
       "3                               0.0                       0.0   \n",
       "4                               0.0                       0.0   \n",
       "...                             ...                       ...   \n",
       "29866                           0.0                       0.0   \n",
       "29867                           0.0                       0.0   \n",
       "29868                           0.0                       0.0   \n",
       "29869                           1.0                       0.0   \n",
       "29870                           0.0                       0.0   \n",
       "\n",
       "       Beach Name_Montrose Beach  Beach Name_Ohio Street Beach  \\\n",
       "0                            0.0                           1.0   \n",
       "1                            0.0                           0.0   \n",
       "2                            0.0                           0.0   \n",
       "3                            0.0                           1.0   \n",
       "4                            0.0                           1.0   \n",
       "...                          ...                           ...   \n",
       "29866                        0.0                           0.0   \n",
       "29867                        0.0                           1.0   \n",
       "29868                        0.0                           0.0   \n",
       "29869                        0.0                           0.0   \n",
       "29870                        0.0                           1.0   \n",
       "\n",
       "       Beach Name_Osterman Beach  Beach Name_Rainbow Beach  \n",
       "0                            0.0                       0.0  \n",
       "1                            0.0                       0.0  \n",
       "2                            0.0                       0.0  \n",
       "3                            0.0                       0.0  \n",
       "4                            0.0                       0.0  \n",
       "...                          ...                       ...  \n",
       "29866                        1.0                       0.0  \n",
       "29867                        0.0                       0.0  \n",
       "29868                        1.0                       0.0  \n",
       "29869                        0.0                       0.0  \n",
       "29870                        0.0                       0.0  \n",
       "\n",
       "[29871 rows x 6 columns]"
      ]
     },
     "execution_count": 29,
     "metadata": {},
     "output_type": "execute_result"
    }
   ],
   "source": [
    "# All steps\n",
    "oh = OneHotEncoder()\n",
    "pd.DataFrame(oh.???, columns=oh.get_feature_names_out())"
   ]
  },
  {
   "cell_type": "code",
   "execution_count": 30,
   "id": "625a8edc",
   "metadata": {},
   "outputs": [
    {
     "data": {
      "text/html": [
       "<style>#sk-d899cd4f-e3a5-4c96-9905-ed0a06af195a {color: black;background-color: white;}#sk-d899cd4f-e3a5-4c96-9905-ed0a06af195a pre{padding: 0;}#sk-d899cd4f-e3a5-4c96-9905-ed0a06af195a div.sk-toggleable {background-color: white;}#sk-d899cd4f-e3a5-4c96-9905-ed0a06af195a label.sk-toggleable__label {cursor: pointer;display: block;width: 100%;margin-bottom: 0;padding: 0.3em;box-sizing: border-box;text-align: center;}#sk-d899cd4f-e3a5-4c96-9905-ed0a06af195a label.sk-toggleable__label-arrow:before {content: \"▸\";float: left;margin-right: 0.25em;color: #696969;}#sk-d899cd4f-e3a5-4c96-9905-ed0a06af195a label.sk-toggleable__label-arrow:hover:before {color: black;}#sk-d899cd4f-e3a5-4c96-9905-ed0a06af195a div.sk-estimator:hover label.sk-toggleable__label-arrow:before {color: black;}#sk-d899cd4f-e3a5-4c96-9905-ed0a06af195a div.sk-toggleable__content {max-height: 0;max-width: 0;overflow: hidden;text-align: left;background-color: #f0f8ff;}#sk-d899cd4f-e3a5-4c96-9905-ed0a06af195a div.sk-toggleable__content pre {margin: 0.2em;color: black;border-radius: 0.25em;background-color: #f0f8ff;}#sk-d899cd4f-e3a5-4c96-9905-ed0a06af195a input.sk-toggleable__control:checked~div.sk-toggleable__content {max-height: 200px;max-width: 100%;overflow: auto;}#sk-d899cd4f-e3a5-4c96-9905-ed0a06af195a input.sk-toggleable__control:checked~label.sk-toggleable__label-arrow:before {content: \"▾\";}#sk-d899cd4f-e3a5-4c96-9905-ed0a06af195a div.sk-estimator input.sk-toggleable__control:checked~label.sk-toggleable__label {background-color: #d4ebff;}#sk-d899cd4f-e3a5-4c96-9905-ed0a06af195a div.sk-label input.sk-toggleable__control:checked~label.sk-toggleable__label {background-color: #d4ebff;}#sk-d899cd4f-e3a5-4c96-9905-ed0a06af195a input.sk-hidden--visually {border: 0;clip: rect(1px 1px 1px 1px);clip: rect(1px, 1px, 1px, 1px);height: 1px;margin: -1px;overflow: hidden;padding: 0;position: absolute;width: 1px;}#sk-d899cd4f-e3a5-4c96-9905-ed0a06af195a div.sk-estimator {font-family: monospace;background-color: #f0f8ff;border: 1px dotted black;border-radius: 0.25em;box-sizing: border-box;margin-bottom: 0.5em;}#sk-d899cd4f-e3a5-4c96-9905-ed0a06af195a div.sk-estimator:hover {background-color: #d4ebff;}#sk-d899cd4f-e3a5-4c96-9905-ed0a06af195a div.sk-parallel-item::after {content: \"\";width: 100%;border-bottom: 1px solid gray;flex-grow: 1;}#sk-d899cd4f-e3a5-4c96-9905-ed0a06af195a div.sk-label:hover label.sk-toggleable__label {background-color: #d4ebff;}#sk-d899cd4f-e3a5-4c96-9905-ed0a06af195a div.sk-serial::before {content: \"\";position: absolute;border-left: 1px solid gray;box-sizing: border-box;top: 2em;bottom: 0;left: 50%;}#sk-d899cd4f-e3a5-4c96-9905-ed0a06af195a div.sk-serial {display: flex;flex-direction: column;align-items: center;background-color: white;padding-right: 0.2em;padding-left: 0.2em;}#sk-d899cd4f-e3a5-4c96-9905-ed0a06af195a div.sk-item {z-index: 1;}#sk-d899cd4f-e3a5-4c96-9905-ed0a06af195a div.sk-parallel {display: flex;align-items: stretch;justify-content: center;background-color: white;}#sk-d899cd4f-e3a5-4c96-9905-ed0a06af195a div.sk-parallel::before {content: \"\";position: absolute;border-left: 1px solid gray;box-sizing: border-box;top: 2em;bottom: 0;left: 50%;}#sk-d899cd4f-e3a5-4c96-9905-ed0a06af195a div.sk-parallel-item {display: flex;flex-direction: column;position: relative;background-color: white;}#sk-d899cd4f-e3a5-4c96-9905-ed0a06af195a div.sk-parallel-item:first-child::after {align-self: flex-end;width: 50%;}#sk-d899cd4f-e3a5-4c96-9905-ed0a06af195a div.sk-parallel-item:last-child::after {align-self: flex-start;width: 50%;}#sk-d899cd4f-e3a5-4c96-9905-ed0a06af195a div.sk-parallel-item:only-child::after {width: 0;}#sk-d899cd4f-e3a5-4c96-9905-ed0a06af195a div.sk-dashed-wrapped {border: 1px dashed gray;margin: 0 0.4em 0.5em 0.4em;box-sizing: border-box;padding-bottom: 0.4em;background-color: white;position: relative;}#sk-d899cd4f-e3a5-4c96-9905-ed0a06af195a div.sk-label label {font-family: monospace;font-weight: bold;background-color: white;display: inline-block;line-height: 1.2em;}#sk-d899cd4f-e3a5-4c96-9905-ed0a06af195a div.sk-label-container {position: relative;z-index: 2;text-align: center;}#sk-d899cd4f-e3a5-4c96-9905-ed0a06af195a div.sk-container {/* jupyter's `normalize.less` sets `[hidden] { display: none; }` but bootstrap.min.css set `[hidden] { display: none !important; }` so we also need the `!important` here to be able to override the default hidden behavior on the sphinx rendered scikit-learn.org. See: https://github.com/scikit-learn/scikit-learn/issues/21755 */display: inline-block !important;position: relative;}#sk-d899cd4f-e3a5-4c96-9905-ed0a06af195a div.sk-text-repr-fallback {display: none;}</style><div id=\"sk-d899cd4f-e3a5-4c96-9905-ed0a06af195a\" class=\"sk-top-container\"><div class=\"sk-text-repr-fallback\"><pre>Pipeline(steps=[(&#x27;oh&#x27;, OneHotEncoder()), (&#x27;lr&#x27;, LinearRegression())])</pre><b>Please rerun this cell to show the HTML repr or trust the notebook.</b></div><div class=\"sk-container\" hidden><div class=\"sk-item sk-dashed-wrapped\"><div class=\"sk-label-container\"><div class=\"sk-label sk-toggleable\"><input class=\"sk-toggleable__control sk-hidden--visually\" id=\"58713939-8b12-4c45-91ce-987610126044\" type=\"checkbox\" ><label for=\"58713939-8b12-4c45-91ce-987610126044\" class=\"sk-toggleable__label sk-toggleable__label-arrow\">Pipeline</label><div class=\"sk-toggleable__content\"><pre>Pipeline(steps=[(&#x27;oh&#x27;, OneHotEncoder()), (&#x27;lr&#x27;, LinearRegression())])</pre></div></div></div><div class=\"sk-serial\"><div class=\"sk-item\"><div class=\"sk-estimator sk-toggleable\"><input class=\"sk-toggleable__control sk-hidden--visually\" id=\"f74ce052-484e-49e9-96fc-074fb495ad52\" type=\"checkbox\" ><label for=\"f74ce052-484e-49e9-96fc-074fb495ad52\" class=\"sk-toggleable__label sk-toggleable__label-arrow\">OneHotEncoder</label><div class=\"sk-toggleable__content\"><pre>OneHotEncoder()</pre></div></div></div><div class=\"sk-item\"><div class=\"sk-estimator sk-toggleable\"><input class=\"sk-toggleable__control sk-hidden--visually\" id=\"246d6cec-14bc-49d9-bc65-aa64834c232b\" type=\"checkbox\" ><label for=\"246d6cec-14bc-49d9-bc65-aa64834c232b\" class=\"sk-toggleable__label sk-toggleable__label-arrow\">LinearRegression</label><div class=\"sk-toggleable__content\"><pre>LinearRegression()</pre></div></div></div></div></div></div></div>"
      ],
      "text/plain": [
       "Pipeline(steps=[('oh', OneHotEncoder()), ('lr', LinearRegression())])"
      ]
     },
     "execution_count": 30,
     "metadata": {},
     "output_type": "execute_result"
    }
   ],
   "source": [
    "m3 = ???\n",
    "m3"
   ]
  },
  {
   "cell_type": "code",
   "execution_count": 31,
   "id": "5494c1fa",
   "metadata": {},
   "outputs": [
    {
     "data": {
      "text/plain": [
       "0.04564252182679625"
      ]
     },
     "execution_count": 31,
     "metadata": {},
     "output_type": "execute_result"
    }
   ],
   "source": [
    "scores = cross_val_score(m3, train[xcols], train[ycol], cv=10)\n",
    "scores.mean()"
   ]
  },
  {
   "cell_type": "markdown",
   "id": "2ce15dac",
   "metadata": {},
   "source": [
    "**Conclusion:** mean R^2 score is slightly lower than 0.0489 (polynomial)."
   ]
  },
  {
   "cell_type": "markdown",
   "id": "0f5a1a98",
   "metadata": {},
   "source": [
    "#### `make_column_transformer(...)`\n",
    "\n",
    "- Argument: transformations\n",
    "    - each transformer argument will be a `tuple` with object instance as first item and list of feature columns as the second\n",
    "- documention: https://scikit-learn.org/stable/modules/generated/sklearn.compose.make_column_transformer.html"
   ]
  },
  {
   "cell_type": "markdown",
   "id": "a41f509f",
   "metadata": {},
   "source": [
    "#### Model 4: Beach Name (Categorical) and Wave Period (Polynomial)"
   ]
  },
  {
   "cell_type": "code",
   "execution_count": 32,
   "id": "40378fb3",
   "metadata": {},
   "outputs": [
    {
     "data": {
      "text/html": [
       "<style>#sk-aa73471a-b75f-4315-af58-727d51bd0586 {color: black;background-color: white;}#sk-aa73471a-b75f-4315-af58-727d51bd0586 pre{padding: 0;}#sk-aa73471a-b75f-4315-af58-727d51bd0586 div.sk-toggleable {background-color: white;}#sk-aa73471a-b75f-4315-af58-727d51bd0586 label.sk-toggleable__label {cursor: pointer;display: block;width: 100%;margin-bottom: 0;padding: 0.3em;box-sizing: border-box;text-align: center;}#sk-aa73471a-b75f-4315-af58-727d51bd0586 label.sk-toggleable__label-arrow:before {content: \"▸\";float: left;margin-right: 0.25em;color: #696969;}#sk-aa73471a-b75f-4315-af58-727d51bd0586 label.sk-toggleable__label-arrow:hover:before {color: black;}#sk-aa73471a-b75f-4315-af58-727d51bd0586 div.sk-estimator:hover label.sk-toggleable__label-arrow:before {color: black;}#sk-aa73471a-b75f-4315-af58-727d51bd0586 div.sk-toggleable__content {max-height: 0;max-width: 0;overflow: hidden;text-align: left;background-color: #f0f8ff;}#sk-aa73471a-b75f-4315-af58-727d51bd0586 div.sk-toggleable__content pre {margin: 0.2em;color: black;border-radius: 0.25em;background-color: #f0f8ff;}#sk-aa73471a-b75f-4315-af58-727d51bd0586 input.sk-toggleable__control:checked~div.sk-toggleable__content {max-height: 200px;max-width: 100%;overflow: auto;}#sk-aa73471a-b75f-4315-af58-727d51bd0586 input.sk-toggleable__control:checked~label.sk-toggleable__label-arrow:before {content: \"▾\";}#sk-aa73471a-b75f-4315-af58-727d51bd0586 div.sk-estimator input.sk-toggleable__control:checked~label.sk-toggleable__label {background-color: #d4ebff;}#sk-aa73471a-b75f-4315-af58-727d51bd0586 div.sk-label input.sk-toggleable__control:checked~label.sk-toggleable__label {background-color: #d4ebff;}#sk-aa73471a-b75f-4315-af58-727d51bd0586 input.sk-hidden--visually {border: 0;clip: rect(1px 1px 1px 1px);clip: rect(1px, 1px, 1px, 1px);height: 1px;margin: -1px;overflow: hidden;padding: 0;position: absolute;width: 1px;}#sk-aa73471a-b75f-4315-af58-727d51bd0586 div.sk-estimator {font-family: monospace;background-color: #f0f8ff;border: 1px dotted black;border-radius: 0.25em;box-sizing: border-box;margin-bottom: 0.5em;}#sk-aa73471a-b75f-4315-af58-727d51bd0586 div.sk-estimator:hover {background-color: #d4ebff;}#sk-aa73471a-b75f-4315-af58-727d51bd0586 div.sk-parallel-item::after {content: \"\";width: 100%;border-bottom: 1px solid gray;flex-grow: 1;}#sk-aa73471a-b75f-4315-af58-727d51bd0586 div.sk-label:hover label.sk-toggleable__label {background-color: #d4ebff;}#sk-aa73471a-b75f-4315-af58-727d51bd0586 div.sk-serial::before {content: \"\";position: absolute;border-left: 1px solid gray;box-sizing: border-box;top: 2em;bottom: 0;left: 50%;}#sk-aa73471a-b75f-4315-af58-727d51bd0586 div.sk-serial {display: flex;flex-direction: column;align-items: center;background-color: white;padding-right: 0.2em;padding-left: 0.2em;}#sk-aa73471a-b75f-4315-af58-727d51bd0586 div.sk-item {z-index: 1;}#sk-aa73471a-b75f-4315-af58-727d51bd0586 div.sk-parallel {display: flex;align-items: stretch;justify-content: center;background-color: white;}#sk-aa73471a-b75f-4315-af58-727d51bd0586 div.sk-parallel::before {content: \"\";position: absolute;border-left: 1px solid gray;box-sizing: border-box;top: 2em;bottom: 0;left: 50%;}#sk-aa73471a-b75f-4315-af58-727d51bd0586 div.sk-parallel-item {display: flex;flex-direction: column;position: relative;background-color: white;}#sk-aa73471a-b75f-4315-af58-727d51bd0586 div.sk-parallel-item:first-child::after {align-self: flex-end;width: 50%;}#sk-aa73471a-b75f-4315-af58-727d51bd0586 div.sk-parallel-item:last-child::after {align-self: flex-start;width: 50%;}#sk-aa73471a-b75f-4315-af58-727d51bd0586 div.sk-parallel-item:only-child::after {width: 0;}#sk-aa73471a-b75f-4315-af58-727d51bd0586 div.sk-dashed-wrapped {border: 1px dashed gray;margin: 0 0.4em 0.5em 0.4em;box-sizing: border-box;padding-bottom: 0.4em;background-color: white;position: relative;}#sk-aa73471a-b75f-4315-af58-727d51bd0586 div.sk-label label {font-family: monospace;font-weight: bold;background-color: white;display: inline-block;line-height: 1.2em;}#sk-aa73471a-b75f-4315-af58-727d51bd0586 div.sk-label-container {position: relative;z-index: 2;text-align: center;}#sk-aa73471a-b75f-4315-af58-727d51bd0586 div.sk-container {/* jupyter's `normalize.less` sets `[hidden] { display: none; }` but bootstrap.min.css set `[hidden] { display: none !important; }` so we also need the `!important` here to be able to override the default hidden behavior on the sphinx rendered scikit-learn.org. See: https://github.com/scikit-learn/scikit-learn/issues/21755 */display: inline-block !important;position: relative;}#sk-aa73471a-b75f-4315-af58-727d51bd0586 div.sk-text-repr-fallback {display: none;}</style><div id=\"sk-aa73471a-b75f-4315-af58-727d51bd0586\" class=\"sk-top-container\"><div class=\"sk-text-repr-fallback\"><pre>ColumnTransformer(transformers=[(&#x27;polynomialfeatures&#x27;, PolynomialFeatures(),\n",
       "                                 [&#x27;Wave Period&#x27;]),\n",
       "                                (&#x27;onehotencoder&#x27;, OneHotEncoder(),\n",
       "                                 [&#x27;Beach Name&#x27;])])</pre><b>Please rerun this cell to show the HTML repr or trust the notebook.</b></div><div class=\"sk-container\" hidden><div class=\"sk-item sk-dashed-wrapped\"><div class=\"sk-label-container\"><div class=\"sk-label sk-toggleable\"><input class=\"sk-toggleable__control sk-hidden--visually\" id=\"2a010074-0366-494c-b083-1eb8132352db\" type=\"checkbox\" ><label for=\"2a010074-0366-494c-b083-1eb8132352db\" class=\"sk-toggleable__label sk-toggleable__label-arrow\">ColumnTransformer</label><div class=\"sk-toggleable__content\"><pre>ColumnTransformer(transformers=[(&#x27;polynomialfeatures&#x27;, PolynomialFeatures(),\n",
       "                                 [&#x27;Wave Period&#x27;]),\n",
       "                                (&#x27;onehotencoder&#x27;, OneHotEncoder(),\n",
       "                                 [&#x27;Beach Name&#x27;])])</pre></div></div></div><div class=\"sk-parallel\"><div class=\"sk-parallel-item\"><div class=\"sk-item\"><div class=\"sk-label-container\"><div class=\"sk-label sk-toggleable\"><input class=\"sk-toggleable__control sk-hidden--visually\" id=\"15e35441-3d91-4cec-8513-0d5a698ebe6e\" type=\"checkbox\" ><label for=\"15e35441-3d91-4cec-8513-0d5a698ebe6e\" class=\"sk-toggleable__label sk-toggleable__label-arrow\">polynomialfeatures</label><div class=\"sk-toggleable__content\"><pre>[&#x27;Wave Period&#x27;]</pre></div></div></div><div class=\"sk-serial\"><div class=\"sk-item\"><div class=\"sk-estimator sk-toggleable\"><input class=\"sk-toggleable__control sk-hidden--visually\" id=\"1481d38a-418b-4d1b-bbda-a7ea8c5f9202\" type=\"checkbox\" ><label for=\"1481d38a-418b-4d1b-bbda-a7ea8c5f9202\" class=\"sk-toggleable__label sk-toggleable__label-arrow\">PolynomialFeatures</label><div class=\"sk-toggleable__content\"><pre>PolynomialFeatures()</pre></div></div></div></div></div></div><div class=\"sk-parallel-item\"><div class=\"sk-item\"><div class=\"sk-label-container\"><div class=\"sk-label sk-toggleable\"><input class=\"sk-toggleable__control sk-hidden--visually\" id=\"1353c4b8-76ca-4de2-9330-5bfa75d3f48a\" type=\"checkbox\" ><label for=\"1353c4b8-76ca-4de2-9330-5bfa75d3f48a\" class=\"sk-toggleable__label sk-toggleable__label-arrow\">onehotencoder</label><div class=\"sk-toggleable__content\"><pre>[&#x27;Beach Name&#x27;]</pre></div></div></div><div class=\"sk-serial\"><div class=\"sk-item\"><div class=\"sk-estimator sk-toggleable\"><input class=\"sk-toggleable__control sk-hidden--visually\" id=\"78435c08-e8c1-4eaf-8f09-0281f1b284fd\" type=\"checkbox\" ><label for=\"78435c08-e8c1-4eaf-8f09-0281f1b284fd\" class=\"sk-toggleable__label sk-toggleable__label-arrow\">OneHotEncoder</label><div class=\"sk-toggleable__content\"><pre>OneHotEncoder()</pre></div></div></div></div></div></div></div></div></div></div>"
      ],
      "text/plain": [
       "ColumnTransformer(transformers=[('polynomialfeatures', PolynomialFeatures(),\n",
       "                                 ['Wave Period']),\n",
       "                                ('onehotencoder', OneHotEncoder(),\n",
       "                                 ['Beach Name'])])"
      ]
     },
     "execution_count": 32,
     "metadata": {},
     "output_type": "execute_result"
    }
   ],
   "source": [
    "custom_trans = ???\n",
    "custom_trans"
   ]
  },
  {
   "cell_type": "code",
   "execution_count": 33,
   "id": "2d6e0ba2",
   "metadata": {},
   "outputs": [
    {
     "data": {
      "text/html": [
       "<style>#sk-be3ea97b-707b-4ad4-a863-e321cda74bfc {color: black;background-color: white;}#sk-be3ea97b-707b-4ad4-a863-e321cda74bfc pre{padding: 0;}#sk-be3ea97b-707b-4ad4-a863-e321cda74bfc div.sk-toggleable {background-color: white;}#sk-be3ea97b-707b-4ad4-a863-e321cda74bfc label.sk-toggleable__label {cursor: pointer;display: block;width: 100%;margin-bottom: 0;padding: 0.3em;box-sizing: border-box;text-align: center;}#sk-be3ea97b-707b-4ad4-a863-e321cda74bfc label.sk-toggleable__label-arrow:before {content: \"▸\";float: left;margin-right: 0.25em;color: #696969;}#sk-be3ea97b-707b-4ad4-a863-e321cda74bfc label.sk-toggleable__label-arrow:hover:before {color: black;}#sk-be3ea97b-707b-4ad4-a863-e321cda74bfc div.sk-estimator:hover label.sk-toggleable__label-arrow:before {color: black;}#sk-be3ea97b-707b-4ad4-a863-e321cda74bfc div.sk-toggleable__content {max-height: 0;max-width: 0;overflow: hidden;text-align: left;background-color: #f0f8ff;}#sk-be3ea97b-707b-4ad4-a863-e321cda74bfc div.sk-toggleable__content pre {margin: 0.2em;color: black;border-radius: 0.25em;background-color: #f0f8ff;}#sk-be3ea97b-707b-4ad4-a863-e321cda74bfc input.sk-toggleable__control:checked~div.sk-toggleable__content {max-height: 200px;max-width: 100%;overflow: auto;}#sk-be3ea97b-707b-4ad4-a863-e321cda74bfc input.sk-toggleable__control:checked~label.sk-toggleable__label-arrow:before {content: \"▾\";}#sk-be3ea97b-707b-4ad4-a863-e321cda74bfc div.sk-estimator input.sk-toggleable__control:checked~label.sk-toggleable__label {background-color: #d4ebff;}#sk-be3ea97b-707b-4ad4-a863-e321cda74bfc div.sk-label input.sk-toggleable__control:checked~label.sk-toggleable__label {background-color: #d4ebff;}#sk-be3ea97b-707b-4ad4-a863-e321cda74bfc input.sk-hidden--visually {border: 0;clip: rect(1px 1px 1px 1px);clip: rect(1px, 1px, 1px, 1px);height: 1px;margin: -1px;overflow: hidden;padding: 0;position: absolute;width: 1px;}#sk-be3ea97b-707b-4ad4-a863-e321cda74bfc div.sk-estimator {font-family: monospace;background-color: #f0f8ff;border: 1px dotted black;border-radius: 0.25em;box-sizing: border-box;margin-bottom: 0.5em;}#sk-be3ea97b-707b-4ad4-a863-e321cda74bfc div.sk-estimator:hover {background-color: #d4ebff;}#sk-be3ea97b-707b-4ad4-a863-e321cda74bfc div.sk-parallel-item::after {content: \"\";width: 100%;border-bottom: 1px solid gray;flex-grow: 1;}#sk-be3ea97b-707b-4ad4-a863-e321cda74bfc div.sk-label:hover label.sk-toggleable__label {background-color: #d4ebff;}#sk-be3ea97b-707b-4ad4-a863-e321cda74bfc div.sk-serial::before {content: \"\";position: absolute;border-left: 1px solid gray;box-sizing: border-box;top: 2em;bottom: 0;left: 50%;}#sk-be3ea97b-707b-4ad4-a863-e321cda74bfc div.sk-serial {display: flex;flex-direction: column;align-items: center;background-color: white;padding-right: 0.2em;padding-left: 0.2em;}#sk-be3ea97b-707b-4ad4-a863-e321cda74bfc div.sk-item {z-index: 1;}#sk-be3ea97b-707b-4ad4-a863-e321cda74bfc div.sk-parallel {display: flex;align-items: stretch;justify-content: center;background-color: white;}#sk-be3ea97b-707b-4ad4-a863-e321cda74bfc div.sk-parallel::before {content: \"\";position: absolute;border-left: 1px solid gray;box-sizing: border-box;top: 2em;bottom: 0;left: 50%;}#sk-be3ea97b-707b-4ad4-a863-e321cda74bfc div.sk-parallel-item {display: flex;flex-direction: column;position: relative;background-color: white;}#sk-be3ea97b-707b-4ad4-a863-e321cda74bfc div.sk-parallel-item:first-child::after {align-self: flex-end;width: 50%;}#sk-be3ea97b-707b-4ad4-a863-e321cda74bfc div.sk-parallel-item:last-child::after {align-self: flex-start;width: 50%;}#sk-be3ea97b-707b-4ad4-a863-e321cda74bfc div.sk-parallel-item:only-child::after {width: 0;}#sk-be3ea97b-707b-4ad4-a863-e321cda74bfc div.sk-dashed-wrapped {border: 1px dashed gray;margin: 0 0.4em 0.5em 0.4em;box-sizing: border-box;padding-bottom: 0.4em;background-color: white;position: relative;}#sk-be3ea97b-707b-4ad4-a863-e321cda74bfc div.sk-label label {font-family: monospace;font-weight: bold;background-color: white;display: inline-block;line-height: 1.2em;}#sk-be3ea97b-707b-4ad4-a863-e321cda74bfc div.sk-label-container {position: relative;z-index: 2;text-align: center;}#sk-be3ea97b-707b-4ad4-a863-e321cda74bfc div.sk-container {/* jupyter's `normalize.less` sets `[hidden] { display: none; }` but bootstrap.min.css set `[hidden] { display: none !important; }` so we also need the `!important` here to be able to override the default hidden behavior on the sphinx rendered scikit-learn.org. See: https://github.com/scikit-learn/scikit-learn/issues/21755 */display: inline-block !important;position: relative;}#sk-be3ea97b-707b-4ad4-a863-e321cda74bfc div.sk-text-repr-fallback {display: none;}</style><div id=\"sk-be3ea97b-707b-4ad4-a863-e321cda74bfc\" class=\"sk-top-container\"><div class=\"sk-text-repr-fallback\"><pre>Pipeline(steps=[(&#x27;transformers&#x27;,\n",
       "                 ColumnTransformer(transformers=[(&#x27;polynomialfeatures&#x27;,\n",
       "                                                  PolynomialFeatures(),\n",
       "                                                  [&#x27;Wave Period&#x27;]),\n",
       "                                                 (&#x27;onehotencoder&#x27;,\n",
       "                                                  OneHotEncoder(),\n",
       "                                                  [&#x27;Beach Name&#x27;])])),\n",
       "                (&#x27;lr&#x27;, LinearRegression())])</pre><b>Please rerun this cell to show the HTML repr or trust the notebook.</b></div><div class=\"sk-container\" hidden><div class=\"sk-item sk-dashed-wrapped\"><div class=\"sk-label-container\"><div class=\"sk-label sk-toggleable\"><input class=\"sk-toggleable__control sk-hidden--visually\" id=\"c6dcb66d-683f-4014-9bea-805ee32762dc\" type=\"checkbox\" ><label for=\"c6dcb66d-683f-4014-9bea-805ee32762dc\" class=\"sk-toggleable__label sk-toggleable__label-arrow\">Pipeline</label><div class=\"sk-toggleable__content\"><pre>Pipeline(steps=[(&#x27;transformers&#x27;,\n",
       "                 ColumnTransformer(transformers=[(&#x27;polynomialfeatures&#x27;,\n",
       "                                                  PolynomialFeatures(),\n",
       "                                                  [&#x27;Wave Period&#x27;]),\n",
       "                                                 (&#x27;onehotencoder&#x27;,\n",
       "                                                  OneHotEncoder(),\n",
       "                                                  [&#x27;Beach Name&#x27;])])),\n",
       "                (&#x27;lr&#x27;, LinearRegression())])</pre></div></div></div><div class=\"sk-serial\"><div class=\"sk-item sk-dashed-wrapped\"><div class=\"sk-label-container\"><div class=\"sk-label sk-toggleable\"><input class=\"sk-toggleable__control sk-hidden--visually\" id=\"3a720b8a-480c-4fe9-815d-901a18d67fef\" type=\"checkbox\" ><label for=\"3a720b8a-480c-4fe9-815d-901a18d67fef\" class=\"sk-toggleable__label sk-toggleable__label-arrow\">transformers: ColumnTransformer</label><div class=\"sk-toggleable__content\"><pre>ColumnTransformer(transformers=[(&#x27;polynomialfeatures&#x27;, PolynomialFeatures(),\n",
       "                                 [&#x27;Wave Period&#x27;]),\n",
       "                                (&#x27;onehotencoder&#x27;, OneHotEncoder(),\n",
       "                                 [&#x27;Beach Name&#x27;])])</pre></div></div></div><div class=\"sk-parallel\"><div class=\"sk-parallel-item\"><div class=\"sk-item\"><div class=\"sk-label-container\"><div class=\"sk-label sk-toggleable\"><input class=\"sk-toggleable__control sk-hidden--visually\" id=\"cfae3afa-8b8c-4211-9220-32db0039c797\" type=\"checkbox\" ><label for=\"cfae3afa-8b8c-4211-9220-32db0039c797\" class=\"sk-toggleable__label sk-toggleable__label-arrow\">polynomialfeatures</label><div class=\"sk-toggleable__content\"><pre>[&#x27;Wave Period&#x27;]</pre></div></div></div><div class=\"sk-serial\"><div class=\"sk-item\"><div class=\"sk-estimator sk-toggleable\"><input class=\"sk-toggleable__control sk-hidden--visually\" id=\"e43cffd9-cbeb-4f12-95fe-0835286bcc31\" type=\"checkbox\" ><label for=\"e43cffd9-cbeb-4f12-95fe-0835286bcc31\" class=\"sk-toggleable__label sk-toggleable__label-arrow\">PolynomialFeatures</label><div class=\"sk-toggleable__content\"><pre>PolynomialFeatures()</pre></div></div></div></div></div></div><div class=\"sk-parallel-item\"><div class=\"sk-item\"><div class=\"sk-label-container\"><div class=\"sk-label sk-toggleable\"><input class=\"sk-toggleable__control sk-hidden--visually\" id=\"b546fef9-2c53-4d10-a1e5-ccd3144e182f\" type=\"checkbox\" ><label for=\"b546fef9-2c53-4d10-a1e5-ccd3144e182f\" class=\"sk-toggleable__label sk-toggleable__label-arrow\">onehotencoder</label><div class=\"sk-toggleable__content\"><pre>[&#x27;Beach Name&#x27;]</pre></div></div></div><div class=\"sk-serial\"><div class=\"sk-item\"><div class=\"sk-estimator sk-toggleable\"><input class=\"sk-toggleable__control sk-hidden--visually\" id=\"8628459a-dbfc-44ca-a921-ab9d12ebf446\" type=\"checkbox\" ><label for=\"8628459a-dbfc-44ca-a921-ab9d12ebf446\" class=\"sk-toggleable__label sk-toggleable__label-arrow\">OneHotEncoder</label><div class=\"sk-toggleable__content\"><pre>OneHotEncoder()</pre></div></div></div></div></div></div></div></div><div class=\"sk-item\"><div class=\"sk-estimator sk-toggleable\"><input class=\"sk-toggleable__control sk-hidden--visually\" id=\"bfb2a73a-7e4c-416b-b6c5-52d1aa12ea05\" type=\"checkbox\" ><label for=\"bfb2a73a-7e4c-416b-b6c5-52d1aa12ea05\" class=\"sk-toggleable__label sk-toggleable__label-arrow\">LinearRegression</label><div class=\"sk-toggleable__content\"><pre>LinearRegression()</pre></div></div></div></div></div></div></div>"
      ],
      "text/plain": [
       "Pipeline(steps=[('transformers',\n",
       "                 ColumnTransformer(transformers=[('polynomialfeatures',\n",
       "                                                  PolynomialFeatures(),\n",
       "                                                  ['Wave Period']),\n",
       "                                                 ('onehotencoder',\n",
       "                                                  OneHotEncoder(),\n",
       "                                                  ['Beach Name'])])),\n",
       "                ('lr', LinearRegression())])"
      ]
     },
     "execution_count": 33,
     "metadata": {},
     "output_type": "execute_result"
    }
   ],
   "source": [
    "m4 = ???\n",
    "m4"
   ]
  },
  {
   "cell_type": "code",
   "execution_count": 34,
   "id": "4248010b",
   "metadata": {},
   "outputs": [],
   "source": [
    "xcols = ???"
   ]
  },
  {
   "cell_type": "code",
   "execution_count": 35,
   "id": "57b9ffc8",
   "metadata": {},
   "outputs": [
    {
     "data": {
      "text/plain": [
       "0.0885410474257976"
      ]
     },
     "execution_count": 35,
     "metadata": {},
     "output_type": "execute_result"
    }
   ],
   "source": [
    "scores = cross_val_score(m4, train[xcols], train[ycol], cv=10)\n",
    "scores.mean()"
   ]
  },
  {
   "cell_type": "markdown",
   "id": "73ade800",
   "metadata": {},
   "source": [
    "**Conclusion:** mean R^2 score increased to 0.0885 when compared to 0.0489 (polynomial)."
   ]
  },
  {
   "cell_type": "markdown",
   "id": "247947ef",
   "metadata": {},
   "source": [
    "### Let's evaluate this model by running it against the test data"
   ]
  },
  {
   "cell_type": "code",
   "execution_count": 36,
   "id": "e7e58157",
   "metadata": {},
   "outputs": [
    {
     "data": {
      "text/plain": [
       "0.08646200561980977"
      ]
     },
     "execution_count": 36,
     "metadata": {},
     "output_type": "execute_result"
    }
   ],
   "source": [
    "m4.???\n",
    "m4.???"
   ]
  },
  {
   "cell_type": "markdown",
   "id": "cd689ae1",
   "metadata": {},
   "source": [
    "How to extract `coef_` for this `Pipeline`?"
   ]
  },
  {
   "cell_type": "code",
   "execution_count": 37,
   "id": "50c7e102",
   "metadata": {},
   "outputs": [
    {
     "data": {
      "text/plain": [
       "array(['polynomialfeatures__1', 'polynomialfeatures__Wave Period',\n",
       "       'polynomialfeatures__Wave Period^2',\n",
       "       'onehotencoder__Beach Name_63rd Street Beach',\n",
       "       'onehotencoder__Beach Name_Calumet Beach',\n",
       "       'onehotencoder__Beach Name_Montrose Beach',\n",
       "       'onehotencoder__Beach Name_Ohio Street Beach',\n",
       "       'onehotencoder__Beach Name_Osterman Beach',\n",
       "       'onehotencoder__Beach Name_Rainbow Beach'], dtype=object)"
      ]
     },
     "execution_count": 37,
     "metadata": {},
     "output_type": "execute_result"
    }
   ],
   "source": [
    "???"
   ]
  },
  {
   "cell_type": "code",
   "execution_count": 38,
   "id": "28ccbf92",
   "metadata": {},
   "outputs": [
    {
     "data": {
      "text/plain": [
       "array([ 0.        ,  0.05204894, -0.00500107, -0.02594686, -0.01941658,\n",
       "        0.0229691 , -0.01070319,  0.00846027,  0.02463726])"
      ]
     },
     "execution_count": 38,
     "metadata": {},
     "output_type": "execute_result"
    }
   ],
   "source": [
    "???"
   ]
  },
  {
   "cell_type": "code",
   "execution_count": 39,
   "id": "acd00dc3",
   "metadata": {},
   "outputs": [
    {
     "data": {
      "text/plain": [
       "<AxesSubplot:>"
      ]
     },
     "execution_count": 39,
     "metadata": {},
     "output_type": "execute_result"
    },
    {
     "data": {
      "image/png": "[encoded data removed]",
      "text/plain": [
       "<Figure size 432x288 with 1 Axes>"
      ]
     },
     "metadata": {
      "needs_background": "light"
     },
     "output_type": "display_data"
    }
   ],
   "source": [
    "s = pd.Series(???, ???)\n",
    "s.plot.???"
   ]
  }
 ],
 "metadata": {
  "kernelspec": {
   "display_name": "Python 3 (ipykernel)",
   "language": "python",
   "name": "python3"
  },
  "language_info": {
   "codemirror_mode": {
    "name": "ipython",
    "version": 3
   },
   "file_extension": ".py",
   "mimetype": "text/x-python",
   "name": "python",
   "nbconvert_exporter": "python",
   "pygments_lexer": "ipython3",
   "version": "3.10.6"
  }
 },
 "nbformat": 4,
 "nbformat_minor": 5
}
