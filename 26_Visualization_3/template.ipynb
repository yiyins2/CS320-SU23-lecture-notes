{
 "cells": [
  {
   "cell_type": "markdown",
   "id": "471a762b",
   "metadata": {},
   "source": [
    "# Visualization 3"
   ]
  },
  {
   "cell_type": "code",
   "execution_count": null,
   "id": "e6f50cc3",
   "metadata": {},
   "outputs": [],
   "source": [
    "import matplotlib\n",
    "import matplotlib.pyplot as plt\n",
    "import pandas as pd\n",
    "import math\n",
    "import requests\n",
    "import re\n",
    "\n",
    "# new import statements\n",
    "import geopandas as gpd\n",
    "from shapely.geometry import Point, Polygon, box"
   ]
  },
  {
   "cell_type": "code",
   "execution_count": null,
   "id": "273ed288",
   "metadata": {},
   "outputs": [],
   "source": [
    "# Find the path for \"naturalearth_lowres\"\n",
    "path = gpd.datasets.get_path(\"naturalearth_lowres\")\n",
    "# Read the shapefile for \"naturalearth_lowres\" and\n",
    "# set index using \"name\" column\n",
    "gdf = gpd.read_file(path).set_index(\"name\")"
   ]
  },
  {
   "cell_type": "markdown",
   "id": "bf500303",
   "metadata": {},
   "source": [
    "### Extracting \"Europe\" data from \"naturalearth_lowres\""
   ]
  },
  {
   "cell_type": "code",
   "execution_count": null,
   "id": "410b08cf",
   "metadata": {},
   "outputs": [],
   "source": [
    "# Europe bounding box\n",
    "eur_window = box(-10.67, 34.5, 31.55, 71.05)"
   ]
  },
  {
   "cell_type": "markdown",
   "id": "d45fdfcb-b244-4eff-a9d6-5cc4fefdfbd8",
   "metadata": {},
   "source": [
    "Can we use `intersects` method?"
   ]
  },
  {
   "cell_type": "code",
   "execution_count": null,
   "id": "24f4a32b-9ed4-468b-a194-ebe0395fcdb6",
   "metadata": {},
   "outputs": [],
   "source": [
    "gdf.intersects(eur_window)"
   ]
  },
  {
   "cell_type": "code",
   "execution_count": null,
   "id": "ff455178-84da-45bf-b5b9-a71a7f9160f7",
   "metadata": {},
   "outputs": [],
   "source": [
    "# Incorrect\n",
    "???.plot()"
   ]
  },
  {
   "cell_type": "markdown",
   "id": "4173f3c5-017f-44ff-b713-158219fcf3e5",
   "metadata": {},
   "source": [
    "Can we use `intersection` method?"
   ]
  },
  {
   "cell_type": "code",
   "execution_count": null,
   "id": "d7226fd9-3bb2-48c3-a5e9-5ce1ca0dd88f",
   "metadata": {},
   "outputs": [],
   "source": [
    "gdf.intersection(eur_window)"
   ]
  },
  {
   "cell_type": "code",
   "execution_count": null,
   "id": "108b8b8a",
   "metadata": {},
   "outputs": [],
   "source": [
    "???.plot()"
   ]
  },
  {
   "cell_type": "markdown",
   "id": "f13e4e16-286a-4681-8bc5-9bd3fcf599a7",
   "metadata": {},
   "source": [
    "How can we get rid of empty polygons?\n",
    "- Sometimes empty polygons will mess up with your plot in case of specifying colors or other formatting"
   ]
  },
  {
   "cell_type": "code",
   "execution_count": null,
   "id": "8c0dd051-a808-4fd4-b5ff-fee6ed580753",
   "metadata": {},
   "outputs": [],
   "source": [
    "eur = gdf.intersection(eur_window)\n",
    "eur.???"
   ]
  },
  {
   "cell_type": "markdown",
   "id": "acb1b886-f7c8-41d4-979a-2309c2b973bd",
   "metadata": {},
   "source": [
    "Remove all the empty polygons using `is_empty`."
   ]
  },
  {
   "cell_type": "code",
   "execution_count": null,
   "id": "55a76a00",
   "metadata": {},
   "outputs": [],
   "source": [
    "eur = ???\n",
    "eur"
   ]
  },
  {
   "cell_type": "code",
   "execution_count": null,
   "id": "08c59df7",
   "metadata": {},
   "outputs": [],
   "source": [
    "eur.plot()"
   ]
  },
  {
   "cell_type": "markdown",
   "id": "97a12d23",
   "metadata": {},
   "source": [
    "### Centroids of European countries"
   ]
  },
  {
   "cell_type": "code",
   "execution_count": null,
   "id": "eb5c83b7",
   "metadata": {},
   "outputs": [],
   "source": [
    "# plot the centroids\n",
    "eur.plot(facecolor=\"lightgray\", edgecolor=\"k\")\n",
    "eur.???"
   ]
  },
  {
   "cell_type": "markdown",
   "id": "dbfab5e7-5941-438a-baf2-e05369106004",
   "metadata": {},
   "source": [
    "### Lat / long CRS\n",
    "\n",
    "- Long is x-coord\n",
    "- Lat is y-coord\n",
    "    - tells you where the point on Earth is\n",
    "- **IMPORTANT**: degrees are not a unit of distance. 1 degree of longitute near the equator is a lot farther than moving 1 degree of longitute near the north pole\n",
    "\n",
    "Using `.crs` to access CRS of a gdf.\n",
    "\n",
    "\n"
   ]
  },
  {
   "cell_type": "code",
   "execution_count": null,
   "id": "89251896",
   "metadata": {},
   "outputs": [],
   "source": [
    "eur.???"
   ]
  },
  {
   "cell_type": "markdown",
   "id": "2a6ba447-6f1a-4d31-8c33-ec1eeb9e0deb",
   "metadata": {},
   "source": [
    "#### Single meter-based CRS doesn't work for the whole earth\n",
    "\n",
    "- Setting a different CRS for Europe that is based on meters.\n",
    "- https://spatialreference.org/ref/?search=europe"
   ]
  },
  {
   "cell_type": "code",
   "execution_count": null,
   "id": "586038b1",
   "metadata": {},
   "outputs": [],
   "source": [
    "# Setting CRS to \"EPSG:3035\" for European Union\n",
    "eur_m = eur.???\n",
    "eur_m.crs"
   ]
  },
  {
   "cell_type": "code",
   "execution_count": null,
   "id": "045b9c33",
   "metadata": {},
   "outputs": [],
   "source": [
    "ax = eur_m.plot(facecolor=\"lightgray\", edgecolor=\"k\")\n",
    "eur_m.centroid.plot(ax=ax)"
   ]
  },
  {
   "cell_type": "markdown",
   "id": "0634941f",
   "metadata": {},
   "source": [
    "#### How much error does lat/long computation introduce?"
   ]
  },
  {
   "cell_type": "code",
   "execution_count": null,
   "id": "c0b72aff",
   "metadata": {},
   "outputs": [],
   "source": [
    "ax = eur_m.plot(facecolor=\"lightgray\", edgecolor=\"k\")\n",
    "eur_m.centroid.plot(ax=ax, ???) # black => correct\n",
    "eur.centroid.???.plot(ax=ax, ???)  # red => miscalculated"
   ]
  },
  {
   "cell_type": "markdown",
   "id": "85880c73",
   "metadata": {},
   "source": [
    "### Areas of European countries"
   ]
  },
  {
   "cell_type": "code",
   "execution_count": null,
   "id": "3e4874d9",
   "metadata": {},
   "outputs": [],
   "source": [
    "eur_m.??? # area in sq meters"
   ]
  },
  {
   "cell_type": "markdown",
   "id": "95f55824",
   "metadata": {},
   "source": [
    "What is the area in **sq miles**?"
   ]
  },
  {
   "cell_type": "code",
   "execution_count": null,
   "id": "85ee20c2",
   "metadata": {},
   "outputs": [],
   "source": [
    "# Conversion: / 1000 / 1000 / 2.59\n",
    "(eur_m.area / ???).???\n",
    "# careful!  some countries (e.g., Russia) were cropped when we did intersection"
   ]
  },
  {
   "cell_type": "code",
   "execution_count": null,
   "id": "cd600837",
   "metadata": {},
   "outputs": [],
   "source": [
    "# area on screen, not real area\n",
    "eur.area"
   ]
  },
  {
   "cell_type": "markdown",
   "id": "9da3ee4c",
   "metadata": {},
   "source": [
    "## Madison area emergency services\n",
    "\n",
    "- Data source: https://data-cityofmadison.opendata.arcgis.com/\n",
    "    - Search for:\n",
    "        - \"City limit\"\n",
    "        - \"Lakes and rivers\"\n",
    "        - \"Fire stations\"\n",
    "        - \"Police stations\"\n",
    "\n",
    "- CRS for Madison area: https://en.wikipedia.org/wiki/Universal_Transverse_Mercator_coordinate_system#/media/File:Universal_Transverse_Mercator_zones.svg"
   ]
  },
  {
   "cell_type": "code",
   "execution_count": null,
   "id": "a6f80847",
   "metadata": {},
   "outputs": [],
   "source": [
    "city = gpd.read_file(\"City_Limit.zip\").to_crs(???)\n",
    "# 3rd digit (6 stands for north hemisphere, 7 stands for south)\n",
    "# last two digits stand for the vertical mercator coordinate "
   ]
  },
  {
   "cell_type": "code",
   "execution_count": null,
   "id": "7f8595be",
   "metadata": {},
   "outputs": [],
   "source": [
    "city.crs"
   ]
  },
  {
   "cell_type": "code",
   "execution_count": null,
   "id": "9ebd361f",
   "metadata": {},
   "outputs": [],
   "source": [
    "water = gpd.read_file(\"Lakes_and_Rivers.zip\").to_crs(???)\n",
    "fire = gpd.read_file(\"Fire_Stations.zip\").to_crs(???)\n",
    "police = gpd.read_file(\"Police_Stations.zip\").to_crs(???)"
   ]
  },
  {
   "cell_type": "markdown",
   "id": "723e2bff-545f-4a8c-9f72-8a9906a99b1b",
   "metadata": {},
   "source": [
    "#### Run this on your virtual machine\n",
    "\n",
    "`sudo sh -c \"echo 'Options = UnsafeLegacyRenegotiation' >> /etc/ssl/openssl.cnf\"`\n",
    "\n",
    "then restart notebook!"
   ]
  },
  {
   "cell_type": "markdown",
   "id": "b6069860-7dd9-43f2-970e-fd15980135ef",
   "metadata": {},
   "source": [
    "#### GeoJSON\n",
    "\n",
    "How to find the below URL?\n",
    "\n",
    "- Go to info page of a dataset, for example: https://data-cityofmadison.opendata.arcgis.com/datasets/police-stations/explore?location=43.081769%2C-89.391550%2C12.81\n",
    "- Then click on \"I want to use this\" > \"View API Resources\" > \"GeoJSON\""
   ]
  },
  {
   "cell_type": "code",
   "execution_count": null,
   "id": "3a095d5e",
   "metadata": {},
   "outputs": [],
   "source": [
    "url = \"https://maps.cityofmadison.com/arcgis/rest/services/Public/OPEN_DATA/MapServer/2/query?outFields=*&where=1%3D1&f=geojson\"\n",
    "police2 = gpd.read_file(url).to_crs(city.crs)"
   ]
  },
  {
   "cell_type": "code",
   "execution_count": null,
   "id": "248be81e",
   "metadata": {},
   "outputs": [],
   "source": [
    "ax = city.plot(color=\"lightgray\")\n",
    "water.plot(color=\"lightblue\", ax=ax)\n",
    "fire.plot(color=\"red\", ax=ax, ???)\n",
    "police2.plot(color=\"blue\", ax=ax, ???)\n",
    "ax.???\n",
    "ax.???"
   ]
  },
  {
   "cell_type": "code",
   "execution_count": null,
   "id": "3a609d81",
   "metadata": {},
   "outputs": [],
   "source": [
    "fire.to_file(\"fire.geojson\")"
   ]
  },
  {
   "cell_type": "markdown",
   "id": "77600884",
   "metadata": {},
   "source": [
    "### Geocoding: street address => lat / lon\n",
    "\n",
    "- Daily incident reports: https://www.cityofmadison.com/fire/daily-reports"
   ]
  },
  {
   "cell_type": "code",
   "execution_count": null,
   "id": "6b0b2aa0",
   "metadata": {},
   "outputs": [],
   "source": [
    "url = \"https://www.cityofmadison.com/fire/daily-reports\"\n",
    "r = requests.get(url)\n",
    "r"
   ]
  },
  {
   "cell_type": "code",
   "execution_count": null,
   "id": "bee28b41",
   "metadata": {},
   "outputs": [],
   "source": [
    "r.raise_for_status() # give me an exception if not 200 (e.g., 404 file not found)"
   ]
  },
  {
   "cell_type": "code",
   "execution_count": null,
   "id": "0bae00e7",
   "metadata": {},
   "outputs": [],
   "source": [
    "# doesn't work\n",
    "# pd.read_html(url)"
   ]
  },
  {
   "cell_type": "code",
   "execution_count": null,
   "id": "47173ec2",
   "metadata": {},
   "outputs": [],
   "source": [
    "# print(r.text)"
   ]
  },
  {
   "cell_type": "markdown",
   "id": "39f166c5",
   "metadata": {},
   "source": [
    "Find all **span** tags with **streeAddress** using regex."
   ]
  },
  {
   "cell_type": "code",
   "execution_count": null,
   "id": "bbf8bdc8",
   "metadata": {},
   "outputs": [],
   "source": [
    "addrs = re.findall(r'<span itemprop=\"streetAddress\">(.*?)</span>', r.text)[:-1]\n",
    "addrs = pd.Series(addrs) + \"; Madison, WI\"\n",
    "addrs"
   ]
  },
  {
   "cell_type": "code",
   "execution_count": null,
   "id": "35b79ffb",
   "metadata": {},
   "outputs": [],
   "source": [
    "gpd.tools.geocode(\"4200 block West Beltline Highway; Madison, WI\")"
   ]
  },
  {
   "cell_type": "code",
   "execution_count": null,
   "id": "ab0e699f",
   "metadata": {},
   "outputs": [],
   "source": [
    "incidents = gpd.tools.geocode(addrs).dropna()\n",
    "incidents"
   ]
  },
  {
   "cell_type": "code",
   "execution_count": null,
   "id": "1a04c2b0",
   "metadata": {},
   "outputs": [],
   "source": [
    "ax = city.plot(color=\"lightgray\")\n",
    "water.plot(color=\"lightblue\", ax=ax)\n",
    "fire.plot(color=\"red\", ax=ax, marker=\"+\", label=\"Fire\")\n",
    "police2.plot(color=\"blue\", ax=ax, marker=\"^\", label=\"Police\")\n",
    "incidents.to_crs(city.crs).plot(ax=ax, color=\"k\", marker=\"*\", label=\"Incidents\")\n",
    "ax.legend(loc=\"upper left\", frameon=False)\n",
    "ax.set_axis_off()"
   ]
  },
  {
   "cell_type": "code",
   "execution_count": null,
   "id": "99aa4750-d7c4-4aee-945a-84f43b0cc3bd",
   "metadata": {},
   "outputs": [],
   "source": []
  }
 ],
 "metadata": {
  "kernelspec": {
   "display_name": "Python 3 (ipykernel)",
   "language": "python",
   "name": "python3"
  },
  "language_info": {
   "codemirror_mode": {
    "name": "ipython",
    "version": 3
   },
   "file_extension": ".py",
   "mimetype": "text/x-python",
   "name": "python",
   "nbconvert_exporter": "python",
   "pygments_lexer": "ipython3",
   "version": "3.10.6"
  }
 },
 "nbformat": 4,
 "nbformat_minor": 5
}
