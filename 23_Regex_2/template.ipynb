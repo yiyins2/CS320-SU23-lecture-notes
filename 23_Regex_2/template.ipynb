{
 "cells": [
  {
   "cell_type": "markdown",
   "id": "e60c1c48",
   "metadata": {},
   "source": [
    "# Regex 2"
   ]
  },
  {
   "cell_type": "code",
   "execution_count": null,
   "id": "0dba68b0",
   "metadata": {},
   "outputs": [],
   "source": [
    "#import statements\n",
    "import re\n",
    "from subprocess import check_output\n",
    "import pandas as pd"
   ]
  },
  {
   "cell_type": "code",
   "execution_count": null,
   "id": "b97c8008-8e39-4a9f-89a1-0d1ddbb1ac01",
   "metadata": {},
   "outputs": [],
   "source": [
    "# Example strings\n",
    "# from DS100 book...\n",
    "def reg(regex, text):\n",
    "    \"\"\"\n",
    "    Prints the string with the regex match highlighted.\n",
    "    \"\"\"\n",
    "    print(re.sub(f'({regex})', r'\\033[1;30;43m\\1\\033[m', text))\n",
    "s1 = \" \".join([\"A DAG is a directed graph without cycles.\",\n",
    "               \"A tree is a DAG where every node has one parent (except the root, which has none).\",\n",
    "               \"To learn more, visit www.example.com or call 1-608-123-4567. :) ¯\\_(ツ)_/¯\"])\n",
    "print(s1)\n",
    "\n",
    "s2 = \"\"\"1-608-123-4567\n",
    "a-bcd-efg-hijg (not a phone number)\n",
    "1-608-123-456 (not a phone number)\n",
    "608-123-4567\n",
    "123-4567\n",
    "1-123-4567 (not a phone number)\n",
    "\"\"\"\n",
    "print(s2)\n",
    "\n",
    "s3 = \"In CS 320, there are 8 quizzes, 7 projects, 38 lectures, and 1000 things to learn.  CS 320 is awesome!\"\n",
    "print(s3)\n",
    "\n",
    "s4 = \"\"\"In CS 320,  there are 8 quizzes,    7 projects,\n",
    "38 lectures, and 1000 things to learn.  CS 320 is awesome!\"\"\"\n",
    "print(s4)"
   ]
  },
  {
   "cell_type": "markdown",
   "id": "4a973271",
   "metadata": {},
   "source": [
    "### `re` module\n",
    "- `re.findall(<PATTERN>, <SEARCH STRING>)`: regular expression matches\n",
    "    - returns a list of strings \n",
    "- `re.sub(<PATTERN>, <REPLACEMENT>, <SEARCH STRING>)`: regular expression match + substitution\n",
    "    - returns a new string with the substitutions (remember strings are immutable)"
   ]
  },
  {
   "cell_type": "markdown",
   "id": "34998a5e",
   "metadata": {},
   "source": [
    "#### Find all digits."
   ]
  },
  {
   "cell_type": "code",
   "execution_count": null,
   "id": "7f42c25a",
   "metadata": {},
   "outputs": [],
   "source": [
    "re.???(r\"???\", s4)"
   ]
  },
  {
   "cell_type": "markdown",
   "id": "70b2f488",
   "metadata": {},
   "source": [
    "### Groups\n",
    "- we can capture matches using `()` => this is the special meaning of `()`\n",
    "- returns a list of tuples, where length of the tuple will be number of groups\n",
    "\n",
    "#### Find all digits and the word that comes after that."
   ]
  },
  {
   "cell_type": "code",
   "execution_count": null,
   "id": "5309adee",
   "metadata": {},
   "outputs": [],
   "source": [
    "matches = re.findall(r\"???\", s4)\n",
    "matches"
   ]
  },
  {
   "cell_type": "markdown",
   "id": "c138ff9a",
   "metadata": {},
   "source": [
    "#### Goal: make a dict (course component => count, like \"projects\" => 7)"
   ]
  },
  {
   "cell_type": "code",
   "execution_count": null,
   "id": "6654bd71",
   "metadata": {},
   "outputs": [],
   "source": [
    "course_dict = {}\n",
    "for count, component in matches:\n",
    "    course_dict[component] = int(count)\n",
    "course_dict"
   ]
  },
  {
   "cell_type": "markdown",
   "id": "c4b6b505",
   "metadata": {},
   "source": [
    "### You can have nested groups\n",
    "\n",
    "#### Find and group all digits and the word that comes after that."
   ]
  },
  {
   "cell_type": "code",
   "execution_count": null,
   "id": "491c3460",
   "metadata": {},
   "outputs": [],
   "source": [
    "re.findall(r\"???\", s4)"
   ]
  },
  {
   "cell_type": "markdown",
   "id": "d2227e69",
   "metadata": {},
   "source": [
    "#### Substitute all digits with \"###\"."
   ]
  },
  {
   "cell_type": "code",
   "execution_count": null,
   "id": "6d1fede1",
   "metadata": {},
   "outputs": [],
   "source": [
    "re.sub(r\"???\", \"???\", s3)"
   ]
  },
  {
   "cell_type": "markdown",
   "id": "9d531122",
   "metadata": {},
   "source": [
    "#### Goal: normalize whitespace (everything will be a single space)"
   ]
  },
  {
   "cell_type": "code",
   "execution_count": null,
   "id": "4becbe70",
   "metadata": {},
   "outputs": [],
   "source": [
    "print(s4)"
   ]
  },
  {
   "cell_type": "code",
   "execution_count": null,
   "id": "72a6eb42",
   "metadata": {},
   "outputs": [],
   "source": [
    "re.sub(r\"???\", \"???\", s4)"
   ]
  },
  {
   "cell_type": "markdown",
   "id": "6faf33fd",
   "metadata": {},
   "source": [
    "### How to use groups for substitution?\n",
    "- `\\g<N>` gives you the result of the N'th grouping.\n",
    "\n",
    "#### Substitute all course component counts with HTML bold tags."
   ]
  },
  {
   "cell_type": "code",
   "execution_count": null,
   "id": "8df577fd",
   "metadata": {},
   "outputs": [],
   "source": [
    "print(re.sub(r\"???\", \"???\", s3))"
   ]
  },
  {
   "cell_type": "markdown",
   "id": "35a15a41",
   "metadata": {},
   "source": [
    "In CS <b>320</b>, there are <b>40</b> lectures, <b>10</b> quizzes, <b>3</b> exams, <b>7</b> projects, and <b>1000</b> things to learn. CS <b>320</b> is awesome!"
   ]
  },
  {
   "cell_type": "markdown",
   "id": "bede932a",
   "metadata": {},
   "source": [
    "### Git log example\n",
    "\n",
    "Goal: analyze the git repository for the flask package:\n",
    "https://github.com/pallets/flask/ "
   ]
  },
  {
   "cell_type": "markdown",
   "id": "f816ab34",
   "metadata": {},
   "source": [
    "#### Run `git log` as a shell command"
   ]
  },
  {
   "cell_type": "code",
   "execution_count": null,
   "id": "ad6cd0a1",
   "metadata": {},
   "outputs": [],
   "source": [
    "git_log_output = str(check_output(???), encoding=\"utf-8\")\n",
    "print(git_log_output[:500])"
   ]
  },
  {
   "cell_type": "markdown",
   "id": "f550942e",
   "metadata": {},
   "source": [
    "#### GOAL: find all the commit numbers"
   ]
  },
  {
   "cell_type": "code",
   "execution_count": null,
   "id": "33489c0f",
   "metadata": {},
   "outputs": [],
   "source": [
    "commits = re.findall(r\"???\", git_log_output)\n",
    "# recent 10 commit numbers\n",
    "commits[:10]"
   ]
  },
  {
   "cell_type": "markdown",
   "id": "a2d1c384",
   "metadata": {},
   "source": [
    "#### Which day of the week do the programmers push to the repo most frequently?"
   ]
  },
  {
   "cell_type": "code",
   "execution_count": null,
   "id": "40198305",
   "metadata": {},
   "outputs": [],
   "source": [
    "days = re.findall(r\"???\", git_log_output)\n",
    "days[:30]"
   ]
  },
  {
   "cell_type": "markdown",
   "id": "d04f0835",
   "metadata": {},
   "source": [
    "#### Count unique days"
   ]
  },
  {
   "cell_type": "code",
   "execution_count": null,
   "id": "24c3f4a0",
   "metadata": {},
   "outputs": [],
   "source": [
    "day_counts = pd.Series(days).???()\n",
    "day_counts"
   ]
  },
  {
   "cell_type": "markdown",
   "id": "7c2c6899",
   "metadata": {},
   "source": [
    "#### Sort by day of the week"
   ]
  },
  {
   "cell_type": "code",
   "execution_count": null,
   "id": "cca2506c",
   "metadata": {},
   "outputs": [],
   "source": [
    "sorted_day_counts = day_counts.loc[[\"Mon\", \"Tue\", \"Wed\", \"Thu\", \"Fri\", \"Sat\", \"Sun\"]]\n",
    "sorted_day_counts"
   ]
  },
  {
   "cell_type": "markdown",
   "id": "c7f30c6a",
   "metadata": {},
   "source": [
    "#### Create a bar plot"
   ]
  },
  {
   "cell_type": "code",
   "execution_count": null,
   "id": "18eb90d6",
   "metadata": {},
   "outputs": [],
   "source": [
    "sorted_day_counts.???(\n",
    "    ylabel = \"Commit counts\", \n",
    "    xlabel = \"Days of the week\")"
   ]
  },
  {
   "cell_type": "markdown",
   "id": "42758038",
   "metadata": {},
   "source": [
    "#### Find all commit autho names."
   ]
  },
  {
   "cell_type": "code",
   "execution_count": null,
   "id": "a87693e9",
   "metadata": {},
   "outputs": [],
   "source": [
    "authors = re.findall(r\"???\", git_log_output)\n",
    "author_count = {}\n",
    "for a in authors:\n",
    "    if a not in author_count:\n",
    "        author_count[a] = 0\n",
    "    author_count[a] += 1\n",
    "pd.Series(author_count)"
   ]
  },
  {
   "cell_type": "markdown",
   "id": "cbc516d7",
   "metadata": {},
   "source": [
    "### Find commits that are related to the 2.x.x releases"
   ]
  },
  {
   "cell_type": "code",
   "execution_count": null,
   "id": "59acc090",
   "metadata": {},
   "outputs": [],
   "source": [
    "re.findall(r\"???\", git_log_output)[:50]"
   ]
  },
  {
   "cell_type": "markdown",
   "id": "29085f57",
   "metadata": {},
   "source": [
    "### Emails example"
   ]
  },
  {
   "cell_type": "code",
   "execution_count": null,
   "id": "25b005af",
   "metadata": {},
   "outputs": [],
   "source": [
    "s = \"\"\"\n",
    "Yiyin [Instructor] - yshen82 (AT) wisc.edu\n",
    "Victor (TA): vsuciu@wisc.edu \n",
    "Evie (Peer Mentor) - ebrowning2 [at]wisc.edu\n",
    "\"\"\"\n",
    "print(s)"
   ]
  },
  {
   "cell_type": "code",
   "execution_count": null,
   "id": "ea45c263",
   "metadata": {},
   "outputs": [],
   "source": [
    "name = r\"???\"\n",
    "at = r\"???\"\n",
    "domain = r\"???\"\n",
    "\n",
    "full_regex = f\"???\"\n",
    "\n",
    "re.findall(full_regex, s)"
   ]
  },
  {
   "cell_type": "code",
   "execution_count": null,
   "id": "7d04d86f",
   "metadata": {},
   "outputs": [],
   "source": [
    "print(\"REGEX:\", full_regex)\n",
    "for match in re.findall(full_regex, s):\n",
    "    print(f\"{match[0]}@{match[3]}\")"
   ]
  },
  {
   "cell_type": "code",
   "execution_count": null,
   "id": "faf07d9f-2784-4ca5-ad6d-4074b6e9e664",
   "metadata": {},
   "outputs": [],
   "source": []
  }
 ],
 "metadata": {
  "kernelspec": {
   "display_name": "Python 3 (ipykernel)",
   "language": "python",
   "name": "python3"
  },
  "language_info": {
   "codemirror_mode": {
    "name": "ipython",
    "version": 3
   },
   "file_extension": ".py",
   "mimetype": "text/x-python",
   "name": "python",
   "nbconvert_exporter": "python",
   "pygments_lexer": "ipython3",
   "version": "3.10.6"
  }
 },
 "nbformat": 4,
 "nbformat_minor": 5
}
