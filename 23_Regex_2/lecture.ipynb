{
 "cells": [
  {
   "cell_type": "markdown",
   "id": "e60c1c48",
   "metadata": {},
   "source": [
    "# Regex 2"
   ]
  },
  {
   "cell_type": "code",
   "execution_count": 1,
   "id": "0dba68b0",
   "metadata": {},
   "outputs": [],
   "source": [
    "#import statements\n",
    "import re\n",
    "from subprocess import check_output\n",
    "import pandas as pd"
   ]
  },
  {
   "cell_type": "code",
   "execution_count": 2,
   "id": "b97c8008-8e39-4a9f-89a1-0d1ddbb1ac01",
   "metadata": {},
   "outputs": [
    {
     "name": "stdout",
     "output_type": "stream",
     "text": [
      "A DAG is a directed graph without cycles. A tree is a DAG where every node has one parent (except the root, which has none). To learn more, visit www.example.com or call 1-608-123-4567. :) ¯\\_(ツ)_/¯\n",
      "1-608-123-4567\n",
      "a-bcd-efg-hijg (not a phone number)\n",
      "1-608-123-456 (not a phone number)\n",
      "608-123-4567\n",
      "123-4567\n",
      "1-123-4567 (not a phone number)\n",
      "\n",
      "In CS 320, there are 8 quizzes, 7 projects, 38 lectures, and 1000 things to learn.  CS 320 is awesome!\n",
      "In CS 320,  there are 8 quizzes,    7 projects,\n",
      "38 lectures, and 1000 things to learn.  CS 320 is awesome!\n"
     ]
    }
   ],
   "source": [
    "# Example strings\n",
    "# from DS100 book...\n",
    "def reg(regex, text):\n",
    "    \"\"\"\n",
    "    Prints the string with the regex match highlighted.\n",
    "    \"\"\"\n",
    "    print(re.sub(f'({regex})', r'\\033[1;30;43m\\1\\033[m', text))\n",
    "s1 = \" \".join([\"A DAG is a directed graph without cycles.\",\n",
    "               \"A tree is a DAG where every node has one parent (except the root, which has none).\",\n",
    "               \"To learn more, visit www.example.com or call 1-608-123-4567. :) ¯\\_(ツ)_/¯\"])\n",
    "print(s1)\n",
    "\n",
    "s2 = \"\"\"1-608-123-4567\n",
    "a-bcd-efg-hijg (not a phone number)\n",
    "1-608-123-456 (not a phone number)\n",
    "608-123-4567\n",
    "123-4567\n",
    "1-123-4567 (not a phone number)\n",
    "\"\"\"\n",
    "print(s2)\n",
    "\n",
    "s3 = \"In CS 320, there are 8 quizzes, 7 projects, 38 lectures, and 1000 things to learn.  CS 320 is awesome!\"\n",
    "print(s3)\n",
    "\n",
    "s4 = \"\"\"In CS 320,  there are 8 quizzes,    7 projects,\n",
    "38 lectures, and 1000 things to learn.  CS 320 is awesome!\"\"\"\n",
    "print(s4)"
   ]
  },
  {
   "cell_type": "markdown",
   "id": "4a973271",
   "metadata": {},
   "source": [
    "### `re` module\n",
    "- `re.findall(<PATTERN>, <SEARCH STRING>)`: regular expression matches\n",
    "    - returns a list of strings \n",
    "- `re.sub(<PATTERN>, <REPLACEMENT>, <SEARCH STRING>)`: regular expression match + substitution\n",
    "    - returns a new string with the substitutions (remember strings are immutable)"
   ]
  },
  {
   "cell_type": "markdown",
   "id": "34998a5e",
   "metadata": {},
   "source": [
    "#### Find all digits."
   ]
  },
  {
   "cell_type": "code",
   "execution_count": 3,
   "id": "7f42c25a",
   "metadata": {},
   "outputs": [
    {
     "data": {
      "text/plain": [
       "['320', '8', '7', '38', '1000', '320']"
      ]
     },
     "execution_count": 3,
     "metadata": {},
     "output_type": "execute_result"
    }
   ],
   "source": [
    "re.findall(r\"\\d+\", s4)"
   ]
  },
  {
   "cell_type": "markdown",
   "id": "70b2f488",
   "metadata": {},
   "source": [
    "### Groups\n",
    "- we can capture matches using `()` => this is the special meaning of `()`\n",
    "- returns a list of tuples, where length of the tuple will be number of groups\n",
    "\n",
    "#### Find all digits and the word that comes after that."
   ]
  },
  {
   "cell_type": "code",
   "execution_count": 4,
   "id": "5309adee",
   "metadata": {},
   "outputs": [
    {
     "data": {
      "text/plain": [
       "[('8', 'quizzes'),\n",
       " ('7', 'projects'),\n",
       " ('38', 'lectures'),\n",
       " ('1000', 'things'),\n",
       " ('320', 'is')]"
      ]
     },
     "execution_count": 4,
     "metadata": {},
     "output_type": "execute_result"
    }
   ],
   "source": [
    "matches = re.findall(r\"(\\d+) (\\w+)\", s4)\n",
    "matches"
   ]
  },
  {
   "cell_type": "markdown",
   "id": "c138ff9a",
   "metadata": {},
   "source": [
    "#### Goal: make a dict (course component => count, like \"projects\" => 7)"
   ]
  },
  {
   "cell_type": "code",
   "execution_count": 5,
   "id": "6654bd71",
   "metadata": {},
   "outputs": [
    {
     "data": {
      "text/plain": [
       "{'quizzes': 8, 'projects': 7, 'lectures': 38, 'things': 1000, 'is': 320}"
      ]
     },
     "execution_count": 5,
     "metadata": {},
     "output_type": "execute_result"
    }
   ],
   "source": [
    "course_dict = {}\n",
    "for count, component in matches:\n",
    "    course_dict[component] = int(count)\n",
    "course_dict"
   ]
  },
  {
   "cell_type": "markdown",
   "id": "c4b6b505",
   "metadata": {},
   "source": [
    "### You can have nested groups\n",
    "\n",
    "#### Find and group all digits and the word that comes after that."
   ]
  },
  {
   "cell_type": "code",
   "execution_count": 6,
   "id": "491c3460",
   "metadata": {},
   "outputs": [
    {
     "data": {
      "text/plain": [
       "[('8 quizzes', '8', 'quizzes'),\n",
       " ('7 projects', '7', 'projects'),\n",
       " ('38 lectures', '38', 'lectures'),\n",
       " ('1000 things', '1000', 'things'),\n",
       " ('320 is', '320', 'is')]"
      ]
     },
     "execution_count": 6,
     "metadata": {},
     "output_type": "execute_result"
    }
   ],
   "source": [
    "re.findall(r\"((\\d+) (\\w+))\", s4)"
   ]
  },
  {
   "cell_type": "markdown",
   "id": "d2227e69",
   "metadata": {},
   "source": [
    "#### Substitute all digits with \"###\"."
   ]
  },
  {
   "cell_type": "code",
   "execution_count": 7,
   "id": "6d1fede1",
   "metadata": {},
   "outputs": [
    {
     "data": {
      "text/plain": [
       "'In CS ###, there are ### quizzes, ### projects, ### lectures, and ### things to learn.  CS ### is awesome!'"
      ]
     },
     "execution_count": 7,
     "metadata": {},
     "output_type": "execute_result"
    }
   ],
   "source": [
    "re.sub(r\"\\d+\", \"###\", s3)"
   ]
  },
  {
   "cell_type": "markdown",
   "id": "9d531122",
   "metadata": {},
   "source": [
    "#### Goal: normalize whitespace (everything will be a single space)"
   ]
  },
  {
   "cell_type": "code",
   "execution_count": 8,
   "id": "4becbe70",
   "metadata": {},
   "outputs": [
    {
     "name": "stdout",
     "output_type": "stream",
     "text": [
      "In CS 320,  there are 8 quizzes,    7 projects,\n",
      "38 lectures, and 1000 things to learn.  CS 320 is awesome!\n"
     ]
    }
   ],
   "source": [
    "print(s4)"
   ]
  },
  {
   "cell_type": "code",
   "execution_count": 9,
   "id": "72a6eb42",
   "metadata": {},
   "outputs": [
    {
     "data": {
      "text/plain": [
       "'In CS 320, there are 8 quizzes, 7 projects, 38 lectures, and 1000 things to learn. CS 320 is awesome!'"
      ]
     },
     "execution_count": 9,
     "metadata": {},
     "output_type": "execute_result"
    }
   ],
   "source": [
    "re.sub(r\"\\s+\", \" \", s4)"
   ]
  },
  {
   "cell_type": "markdown",
   "id": "6faf33fd",
   "metadata": {},
   "source": [
    "### How to use groups for substitution?\n",
    "- `\\g<N>` gives you the result of the N'th grouping.\n",
    "\n",
    "#### Substitute all course component counts with HTML bold tags."
   ]
  },
  {
   "cell_type": "code",
   "execution_count": 10,
   "id": "8df577fd",
   "metadata": {},
   "outputs": [
    {
     "name": "stdout",
     "output_type": "stream",
     "text": [
      "In CS <b>320</b>, there are <b>8</b> quizzes, <b>7</b> projects, <b>38</b> lectures, and <b>1000</b> things to learn.  CS <b>320</b> is awesome!\n"
     ]
    }
   ],
   "source": [
    "print(re.sub(r\"(\\d+)\", \"<b>\\g<1></b>\", s3))"
   ]
  },
  {
   "cell_type": "markdown",
   "id": "35a15a41",
   "metadata": {},
   "source": [
    "In CS <b>320</b>, there are <b>40</b> lectures, <b>10</b> quizzes, <b>3</b> exams, <b>7</b> projects, and <b>1000</b> things to learn. CS <b>320</b> is awesome!"
   ]
  },
  {
   "cell_type": "markdown",
   "id": "bede932a",
   "metadata": {},
   "source": [
    "### Git log example\n",
    "\n",
    "Goal: analyze the git repository for the flask package:\n",
    "https://github.com/pallets/flask/ "
   ]
  },
  {
   "cell_type": "markdown",
   "id": "f816ab34",
   "metadata": {},
   "source": [
    "#### Run `git log` as a shell command"
   ]
  },
  {
   "cell_type": "code",
   "execution_count": 11,
   "id": "ad6cd0a1",
   "metadata": {},
   "outputs": [
    {
     "name": "stdout",
     "output_type": "stream",
     "text": [
      "commit cb825687a592709f902f3d320d93987a0546fd28\n",
      "Merge: 51bf0fdd 1ce4d95d\n",
      "Author: David Lord <davidism@gmail.com>\n",
      "Date:   Sat Jul 1 09:24:20 2023 -0700\n",
      "\n",
      "    Bump actions/checkout from 3.5.2 to 3.5.3 (#5186)\n",
      "\n",
      "commit 51bf0fdd9018d63b7bc09db52a66b726c2c4bad8\n",
      "Merge: 0da5788e 1fb18863\n",
      "Author: David Lord <davidism@gmail.com>\n",
      "Date:   Sat Jul 1 09:24:11 2023 -0700\n",
      "\n",
      "    Bump slsa-framework/slsa-github-generator from 1.6.0 to 1.7.0 (#5185)\n",
      "\n",
      "commit 0da5788efbda92b6b6239352c2b9a835efe0888f\n",
      "Merge: 326484a8 f6\n"
     ]
    }
   ],
   "source": [
    "git_log_output = str(check_output([\"git\", \"log\"], cwd=\"../../flask\"), encoding=\"utf-8\")\n",
    "print(git_log_output[:500])"
   ]
  },
  {
   "cell_type": "markdown",
   "id": "f550942e",
   "metadata": {},
   "source": [
    "#### GOAL: find all the commit numbers"
   ]
  },
  {
   "cell_type": "code",
   "execution_count": 12,
   "id": "33489c0f",
   "metadata": {},
   "outputs": [
    {
     "data": {
      "text/plain": [
       "['cb825687a592709f902f3d320d93987a0546fd28',\n",
       " '51bf0fdd9018d63b7bc09db52a66b726c2c4bad8',\n",
       " '0da5788efbda92b6b6239352c2b9a835efe0888f',\n",
       " '326484a8d107c3af490d7d294c17832afabae785',\n",
       " '1ce4d95de92fdd9423c295bf9b63117817fab3bf',\n",
       " '8e5e7e5ab8b370d6c329ec480221332ada57f0ab',\n",
       " 'c85c95e3d7251135ab7dc9ce3241c5835cc595a9',\n",
       " '1fb188636e6a21e9c1fefdf4dd8c671dd3f332d6',\n",
       " 'f62580b947e3be4d8b5ef5fa486d1472884aacd5',\n",
       " 'c1b35aecc5cdb1a34539d14196df55838bb2f836']"
      ]
     },
     "execution_count": 12,
     "metadata": {},
     "output_type": "execute_result"
    }
   ],
   "source": [
    "commits = re.findall(r\"[0-9a-f]{40}\", git_log_output)\n",
    "# recent 10 commit numbers\n",
    "commits[:10]"
   ]
  },
  {
   "cell_type": "markdown",
   "id": "a2d1c384",
   "metadata": {},
   "source": [
    "#### Which day of the week do the programmers push to the repo most frequently?"
   ]
  },
  {
   "cell_type": "code",
   "execution_count": 13,
   "id": "40198305",
   "metadata": {},
   "outputs": [
    {
     "data": {
      "text/plain": [
       "['Sat',\n",
       " 'Sat',\n",
       " 'Sat',\n",
       " 'Sat',\n",
       " 'Sat',\n",
       " 'Sat',\n",
       " 'Sat',\n",
       " 'Sat',\n",
       " 'Tue',\n",
       " 'Tue',\n",
       " 'Tue',\n",
       " 'Tue',\n",
       " 'Tue',\n",
       " 'Tue',\n",
       " 'Tue',\n",
       " 'Tue',\n",
       " 'Tue',\n",
       " 'Tue',\n",
       " 'Tue',\n",
       " 'Tue',\n",
       " 'Wed',\n",
       " 'Wed',\n",
       " 'Fri',\n",
       " 'Fri',\n",
       " 'Fri',\n",
       " 'Fri',\n",
       " 'Thu',\n",
       " 'Thu',\n",
       " 'Wed',\n",
       " 'Wed']"
      ]
     },
     "execution_count": 13,
     "metadata": {},
     "output_type": "execute_result"
    }
   ],
   "source": [
    "days = re.findall(r\"Date:\\s+(\\w+)\", git_log_output)\n",
    "days[:30]"
   ]
  },
  {
   "cell_type": "markdown",
   "id": "d04f0835",
   "metadata": {},
   "source": [
    "#### Count unique days"
   ]
  },
  {
   "cell_type": "code",
   "execution_count": 14,
   "id": "24c3f4a0",
   "metadata": {},
   "outputs": [
    {
     "data": {
      "text/plain": [
       "Mon    906\n",
       "Thu    787\n",
       "Tue    735\n",
       "Wed    730\n",
       "Fri    708\n",
       "Sun    693\n",
       "Sat    559\n",
       "dtype: int64"
      ]
     },
     "execution_count": 14,
     "metadata": {},
     "output_type": "execute_result"
    }
   ],
   "source": [
    "day_counts = pd.Series(days).value_counts()\n",
    "day_counts"
   ]
  },
  {
   "cell_type": "markdown",
   "id": "7c2c6899",
   "metadata": {},
   "source": [
    "#### Sort by day of the week"
   ]
  },
  {
   "cell_type": "code",
   "execution_count": 15,
   "id": "cca2506c",
   "metadata": {},
   "outputs": [
    {
     "data": {
      "text/plain": [
       "Mon    906\n",
       "Tue    735\n",
       "Wed    730\n",
       "Thu    787\n",
       "Fri    708\n",
       "Sat    559\n",
       "Sun    693\n",
       "dtype: int64"
      ]
     },
     "execution_count": 15,
     "metadata": {},
     "output_type": "execute_result"
    }
   ],
   "source": [
    "sorted_day_counts = day_counts.loc[[\"Mon\", \"Tue\", \"Wed\", \"Thu\", \"Fri\", \"Sat\", \"Sun\"]]\n",
    "sorted_day_counts"
   ]
  },
  {
   "cell_type": "markdown",
   "id": "c7f30c6a",
   "metadata": {},
   "source": [
    "#### Create a bar plot"
   ]
  },
  {
   "cell_type": "code",
   "execution_count": 16,
   "id": "18eb90d6",
   "metadata": {},
   "outputs": [
    {
     "data": {
      "text/plain": [
       "<AxesSubplot:xlabel='Days of the week', ylabel='Commit counts'>"
      ]
     },
     "execution_count": 16,
     "metadata": {},
     "output_type": "execute_result"
    },
    {
     "data": {
      "image/png": "[encoded data removed]",
      "text/plain": [
       "<Figure size 432x288 with 1 Axes>"
      ]
     },
     "metadata": {
      "needs_background": "light"
     },
     "output_type": "display_data"
    }
   ],
   "source": [
    "sorted_day_counts.plot.bar(\n",
    "    ylabel = \"Commit counts\", \n",
    "    xlabel = \"Days of the week\")"
   ]
  },
  {
   "cell_type": "markdown",
   "id": "42758038",
   "metadata": {},
   "source": [
    "#### Find all commit autho names."
   ]
  },
  {
   "cell_type": "code",
   "execution_count": 17,
   "id": "a87693e9",
   "metadata": {},
   "outputs": [
    {
     "data": {
      "text/plain": [
       "David Lord            1509\n",
       "dependabot[bot]         40\n",
       "mohammad m. moniri       1\n",
       "pre-commit-ci[bot]      29\n",
       "Jeroendevr               1\n",
       "                      ... \n",
       "unknown                  2\n",
       "Sebastien Estienne       3\n",
       "cgrinds                  2\n",
       "Chris Edgemon            1\n",
       "moraes                   1\n",
       "Length: 816, dtype: int64"
      ]
     },
     "execution_count": 17,
     "metadata": {},
     "output_type": "execute_result"
    }
   ],
   "source": [
    "authors = re.findall(r\"Author:\\s+(.+?)\\s*<\", git_log_output)\n",
    "author_count = {}\n",
    "for a in authors:\n",
    "    if a not in author_count:\n",
    "        author_count[a] = 0\n",
    "    author_count[a] += 1\n",
    "pd.Series(author_count)"
   ]
  },
  {
   "cell_type": "markdown",
   "id": "cbc516d7",
   "metadata": {},
   "source": [
    "### Find commits that are related to the 2.x.x releases"
   ]
  },
  {
   "cell_type": "code",
   "execution_count": 18,
   "id": "59acc090",
   "metadata": {},
   "outputs": [
    {
     "data": {
      "text/plain": [
       "[(\"    Merge branch '2.3.x'\", 'x'),\n",
       " (\"    Merge branch '2.3.x'\", 'x'),\n",
       " (\"    Merge branch '2.3.x'\", 'x'),\n",
       " (\"    Merge branch '2.3.x'\", 'x'),\n",
       " (\"    Merge branch '2.3.x'\", 'x'),\n",
       " (\"    Merge branch '2.3.x'\", 'x'),\n",
       " (\"    Merge branch '2.3.x'\", 'x'),\n",
       " ('    update werkzeug to 2.3.5', '5'),\n",
       " ('    start version 2.3.3', '3'),\n",
       " (\"    Merge branch '2.3.x'\", 'x'),\n",
       " (\"    Merge branch '2.3.x'\", 'x'),\n",
       " ('    In the API docs using a TOML file to load config is referred to as https://flask.palletsprojects.com/en/2.3.x/api/#flask.Config.from_file',\n",
       "  'x'),\n",
       " (\"    Merge branch '2.3.x'\", 'x'),\n",
       " (\"    Merge branch '2.3.x'\", 'x'),\n",
       " (\"    Merge branch '2.3.x'\", 'x'),\n",
       " (\"    Merge branch '2.2.x' into 2.3.x\", 'x'),\n",
       " ('    Merge pull request #5110 from pallets/release-2.2.5', '5'),\n",
       " ('    release version 2.2.5', '5'),\n",
       " ('    release version 2.2.5', '5'),\n",
       " ('    backport 2.2.x: set `Vary: Cookie` header consistently for session',\n",
       "  'x'),\n",
       " ('    werkzeug 2.3.3 compatibility', '3'),\n",
       " ('    werkzeug 2.3.3 compatibility', '3'),\n",
       " ('    start version 2.2.5', '5'),\n",
       " ('    Merge pull request #5102 from pallets/release-2.3.2', '2'),\n",
       " ('    release version 2.3.2', '2'),\n",
       " ('    release version 2.3.2', '2'),\n",
       " ('    update werkzeug to >=2.3.3', '3'),\n",
       " ('    start version 2.3.2', '2'),\n",
       " ('    Merge pull request #5086 from pallets/release-2.3.1', '1'),\n",
       " ('    release version 2.3.1', '1'),\n",
       " ('    release version 2.3.1', '1'),\n",
       " ('    start version 2.3.1', '1'),\n",
       " ('    Merge pull request #5083 from pallets/release-2.3.0', '0'),\n",
       " ('    release version 2.3.0', '0'),\n",
       " ('    release version 2.3.0', '0'),\n",
       " (\"    Merge branch '2.2.x'\", 'x'),\n",
       " ('    Merge pull request #5081 from pallets/release-2.2.4', '4'),\n",
       " ('    release version 2.2.4', '4'),\n",
       " (\"    Merge branch '2.2.x'\", 'x'),\n",
       " ('    release version 2.2.4', '4'),\n",
       " (\"    Merge branch '2.2.x'\", 'x'),\n",
       " (\"    Merge branch '2.2.x'\", 'x'),\n",
       " (\"    Merge branch '2.2.x'\", 'x'),\n",
       " (\"    Merge branch '2.2.x'\", 'x'),\n",
       " (\"    Merge branch '2.2.x'\", 'x'),\n",
       " (\"    Merge branch '2.2.x'\", 'x'),\n",
       " (\"    Merge branch '2.2.x'\", 'x'),\n",
       " ('    Merge pull request #4980 from pallets/release-2.2.3', '3'),\n",
       " ('    release version 2.2.3', '3'),\n",
       " ('    release version 2.2.3', '3')]"
      ]
     },
     "execution_count": 18,
     "metadata": {},
     "output_type": "execute_result"
    }
   ],
   "source": [
    "re.findall(r\"(.*2\\.\\d\\.(\\d|x).*)\", git_log_output)[:50]"
   ]
  },
  {
   "cell_type": "markdown",
   "id": "29085f57",
   "metadata": {},
   "source": [
    "### Emails example"
   ]
  },
  {
   "cell_type": "code",
   "execution_count": 19,
   "id": "25b005af",
   "metadata": {},
   "outputs": [
    {
     "name": "stdout",
     "output_type": "stream",
     "text": [
      "\n",
      "Yiyin [Instructor] - yshen82 (AT) wisc.edu\n",
      "Victor (TA): vsuciu@wisc.edu \n",
      "Evie (Peer Mentor) - ebrowning2 [at]wisc.edu\n",
      "\n"
     ]
    }
   ],
   "source": [
    "s = \"\"\"\n",
    "Yiyin [Instructor] - yshen82 (AT) wisc.edu\n",
    "Victor (TA): vsuciu@wisc.edu \n",
    "Evie (Peer Mentor) - ebrowning2 [at]wisc.edu\n",
    "\"\"\"\n",
    "print(s)"
   ]
  },
  {
   "cell_type": "code",
   "execution_count": 20,
   "id": "ea45c263",
   "metadata": {},
   "outputs": [
    {
     "data": {
      "text/plain": [
       "[('yshen82', '(AT)', 'wisc.edu', 'edu'),\n",
       " ('vsuciu', '@', 'wisc.edu', 'edu'),\n",
       " ('ebrowning2', '[at]', 'wisc.edu', 'edu')]"
      ]
     },
     "execution_count": 20,
     "metadata": {},
     "output_type": "execute_result"
    }
   ],
   "source": [
    "name = r\"\\w+\"\n",
    "at = r\"@|[\\(\\[][Aa][Tt][\\)\\]]\"\n",
    "domain = r\"\\w+\\.(edu|com|org|net|io|gov)\"\n",
    "\n",
    "full_regex = f\"\\s+({name})\\s*({at})\\s*({domain})\"\n",
    "\n",
    "re.findall(full_regex, s)"
   ]
  },
  {
   "cell_type": "code",
   "execution_count": 21,
   "id": "7d04d86f",
   "metadata": {},
   "outputs": [
    {
     "name": "stdout",
     "output_type": "stream",
     "text": [
      "REGEX: \\s+(\\w+)\\s*(@|[\\(\\[][Aa][Tt][\\)\\]])\\s*(\\w+\\.(edu|com|org|net|io|gov))\n",
      "yshen82@edu\n",
      "vsuciu@edu\n",
      "ebrowning2@edu\n"
     ]
    }
   ],
   "source": [
    "print(\"REGEX:\", full_regex)\n",
    "for match in re.findall(full_regex, s):\n",
    "    print(f\"{match[0]}@{match[3]}\")"
   ]
  },
  {
   "cell_type": "code",
   "execution_count": null,
   "id": "faf07d9f-2784-4ca5-ad6d-4074b6e9e664",
   "metadata": {},
   "outputs": [],
   "source": []
  }
 ],
 "metadata": {
  "kernelspec": {
   "display_name": "Python 3 (ipykernel)",
   "language": "python",
   "name": "python3"
  },
  "language_info": {
   "codemirror_mode": {
    "name": "ipython",
    "version": 3
   },
   "file_extension": ".py",
   "mimetype": "text/x-python",
   "name": "python",
   "nbconvert_exporter": "python",
   "pygments_lexer": "ipython3",
   "version": "3.10.6"
  }
 },
 "nbformat": 4,
 "nbformat_minor": 5
}
