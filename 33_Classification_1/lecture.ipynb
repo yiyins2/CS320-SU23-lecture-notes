{
 "cells": [
  {
   "cell_type": "code",
   "execution_count": null,
   "id": "cbd48a28",
   "metadata": {},
   "outputs": [],
   "source": [
    "import numpy as np\n",
    "import pandas as pd\n",
    "import matplotlib.pyplot as plt\n",
    "\n",
    "from sklearn import datasets\n",
    "from sklearn.model_selection import train_test_split\n",
    "from sklearn.linear_model import LinearRegression, LogisticRegression"
   ]
  },
  {
   "cell_type": "markdown",
   "id": "f53db4d6",
   "metadata": {},
   "source": [
    "# Classification 1\n",
    "\n",
    "The iris flower: https://www.fs.usda.gov/wildflowers/beauty/iris/flower.shtml"
   ]
  },
  {
   "cell_type": "code",
   "execution_count": null,
   "id": "cff661e3",
   "metadata": {},
   "outputs": [],
   "source": [
    "data = datasets.load_iris()\n",
    "df = pd.DataFrame(data[\"data\"], columns=data[\"feature_names\"]).drop(columns=[\"petal length (cm)\"])\n",
    "df.insert(2, \"const\", 1)\n",
    "df[\"variety\"] = data[\"target_names\"][data[\"target\"]]\n",
    "df.insert(4, \"setosa\", df[\"variety\"] == \"setosa\")"
   ]
  },
  {
   "cell_type": "code",
   "execution_count": null,
   "id": "de38eb62",
   "metadata": {},
   "outputs": [],
   "source": [
    "xcols = [\"sepal length (cm)\", \"sepal width (cm)\", \"const\"]\n",
    "train, test = train_test_split(df, test_size=10, random_state=5)\n",
    "test"
   ]
  },
  {
   "cell_type": "markdown",
   "id": "2c26bfa5",
   "metadata": {},
   "source": [
    "### Model 1: Predict petal width\n",
    "\n",
    "- regression problem"
   ]
  },
  {
   "cell_type": "code",
   "execution_count": null,
   "id": "1ee84b66",
   "metadata": {},
   "outputs": [],
   "source": [
    "xcols = [\"sepal length (cm)\", \"sepal width (cm)\", ???]\n",
    "ycol = ???\n",
    "\n",
    "# 1. initialize model\n",
    "reg_model = LinearRegression(???)\n",
    "# 2. fit using train data\n",
    "reg_model.???\n",
    "# 3. predict for test data and add predictions as a column\n",
    "test[???] = reg_model.???\n",
    "test"
   ]
  },
  {
   "cell_type": "markdown",
   "id": "a14a9c10",
   "metadata": {},
   "source": [
    "Review of `score` method that enables us compute R^2 score."
   ]
  },
  {
   "cell_type": "code",
   "execution_count": null,
   "id": "f08c6d0d-37f3-4f5e-8869-208fa4f483c3",
   "metadata": {},
   "outputs": [],
   "source": [
    "reg_model.???"
   ]
  },
  {
   "cell_type": "markdown",
   "id": "80df6835",
   "metadata": {},
   "source": [
    "##### Math behind model 1: how does it predict?\n",
    "\n",
    "Recall that we can extract co-efficients using `<model obj>.coef_`."
   ]
  },
  {
   "cell_type": "code",
   "execution_count": null,
   "id": "754013ca",
   "metadata": {},
   "outputs": [],
   "source": [
    "reg_model.???"
   ]
  },
  {
   "cell_type": "code",
   "execution_count": null,
   "id": "17067f15",
   "metadata": {},
   "outputs": [],
   "source": [
    "# converting into a vertical array / vector and assigning values to c\n",
    "c = reg_model.coef_.???\n",
    "c"
   ]
  },
  {
   "cell_type": "code",
   "execution_count": null,
   "id": "2973e35c",
   "metadata": {},
   "outputs": [],
   "source": [
    "# assign X\n",
    "X = test[xcols].values\n",
    "X"
   ]
  },
  {
   "cell_type": "markdown",
   "id": "69f1ba7f",
   "metadata": {},
   "source": [
    "Let's use Linear Algebra to do the prediction `y = X @ c`."
   ]
  },
  {
   "cell_type": "code",
   "execution_count": null,
   "id": "4f499c7f",
   "metadata": {},
   "outputs": [],
   "source": [
    "y = X @ c\n",
    "y"
   ]
  },
  {
   "cell_type": "code",
   "execution_count": null,
   "id": "db574422",
   "metadata": {},
   "outputs": [],
   "source": [
    "# comparing with model predictions\n",
    "test[\"pet_width_predictions\"]"
   ]
  },
  {
   "cell_type": "markdown",
   "id": "897596a3",
   "metadata": {},
   "source": [
    "## LogisticRegression\n",
    "\n",
    "- classification model\n",
    "- predict categorical labels"
   ]
  },
  {
   "cell_type": "markdown",
   "id": "66d1deca",
   "metadata": {},
   "source": [
    "### Model 2 - part a: Predict whether flower is \"setosa\"\n",
    "\n",
    "- classification problem, specifically binary classification: True / False"
   ]
  },
  {
   "cell_type": "code",
   "execution_count": null,
   "id": "6025224c",
   "metadata": {
    "scrolled": true
   },
   "outputs": [],
   "source": [
    "xcols = [\"sepal length (cm)\", \"sepal width (cm)\", \"const\"]\n",
    "ycol = ???\n",
    "\n",
    "# 1. initialize model\n",
    "cls_model = ???\n",
    "# 2. fit using train data\n",
    "cls_model.fit(train[xcols], train[ycol])\n",
    "# 3. predict for test data and add predictions as a column\n",
    "test[???] = cls_model.predict(test[xcols])\n",
    "test"
   ]
  },
  {
   "cell_type": "markdown",
   "id": "4f70c5cb",
   "metadata": {},
   "source": [
    "What is the accuracy? That is what percent of the time is it correct?"
   ]
  },
  {
   "cell_type": "code",
   "execution_count": null,
   "id": "1e9cc9d0",
   "metadata": {},
   "outputs": [],
   "source": [
    "cls_model.score(test[xcols], test[ycol])"
   ]
  },
  {
   "cell_type": "markdown",
   "id": "49ac5f5d",
   "metadata": {},
   "source": [
    "##### Math behind model 2 - part a: how does it predict?"
   ]
  },
  {
   "cell_type": "code",
   "execution_count": null,
   "id": "18ee8a87",
   "metadata": {},
   "outputs": [],
   "source": [
    "cls_model.coef_.reshape(-1, 1)"
   ]
  },
  {
   "cell_type": "code",
   "execution_count": null,
   "id": "664627db",
   "metadata": {},
   "outputs": [],
   "source": [
    "# converting into a vertical array / vector and assigning values to c\n",
    "c = cls_model.coef_.T"
   ]
  },
  {
   "cell_type": "code",
   "execution_count": null,
   "id": "a98e6ac3",
   "metadata": {},
   "outputs": [],
   "source": [
    "# assign X\n",
    "X = test[xcols].values\n",
    "X"
   ]
  },
  {
   "cell_type": "markdown",
   "id": "d6dae65a",
   "metadata": {},
   "source": [
    "Let's use Linear Algebra to do the prediction `y = X @ c`."
   ]
  },
  {
   "cell_type": "code",
   "execution_count": null,
   "id": "31e160e4",
   "metadata": {},
   "outputs": [],
   "source": [
    "X @ c"
   ]
  },
  {
   "cell_type": "markdown",
   "id": "b40a2b9c",
   "metadata": {},
   "source": [
    "Negative values => False and positive => True."
   ]
  },
  {
   "cell_type": "code",
   "execution_count": null,
   "id": "a4e61944",
   "metadata": {},
   "outputs": [],
   "source": [
    "X @ c ???"
   ]
  },
  {
   "cell_type": "code",
   "execution_count": null,
   "id": "f2cfb8e1",
   "metadata": {},
   "outputs": [],
   "source": [
    "# comparing with model predictions\n",
    "test[\"setosa_predictions\"]"
   ]
  },
  {
   "cell_type": "markdown",
   "id": "99f3abec",
   "metadata": {},
   "source": [
    "### Model 2 - part b: Predict probablity of flower being \"setosa\"\n",
    "\n",
    "- classification problem, probablity between 0 to 1"
   ]
  },
  {
   "cell_type": "markdown",
   "id": "740f37a4",
   "metadata": {},
   "source": [
    "#### `<model object>.predict_proba(X)`\n",
    "\n",
    "- Calibrated probabilities of classification.\n",
    "- returns a numpy array of probabilities (that it is True):\n",
    "    - [[False probablity, True probablity], ...]\n",
    "- documentation: https://scikit-learn.org/stable/modules/generated/sklearn.calibration.CalibratedClassifierCV.html#sklearn.calibration.CalibratedClassifierCV.predict_proba"
   ]
  },
  {
   "cell_type": "code",
   "execution_count": null,
   "id": "99888847",
   "metadata": {},
   "outputs": [],
   "source": [
    "cls_model.???"
   ]
  },
  {
   "cell_type": "markdown",
   "id": "347e47d1",
   "metadata": {},
   "source": [
    "Extract just the True probablities."
   ]
  },
  {
   "cell_type": "code",
   "execution_count": null,
   "id": "b305853c",
   "metadata": {},
   "outputs": [],
   "source": [
    "cls_model.predict_proba(test[xcols])???"
   ]
  },
  {
   "cell_type": "code",
   "execution_count": null,
   "id": "2e951243",
   "metadata": {},
   "outputs": [],
   "source": [
    "test[\"setosa_prob\"] = cls_model.predict_proba(test[xcols])[:, 1]\n",
    "test"
   ]
  },
  {
   "cell_type": "markdown",
   "id": "d3cff860",
   "metadata": {},
   "source": [
    "##### Math behind model 2 - part b: how does it predict?"
   ]
  },
  {
   "cell_type": "code",
   "execution_count": null,
   "id": "090c19b6",
   "metadata": {},
   "outputs": [],
   "source": [
    "def sigmoid(x):\n",
    "    return 1 / (1 + np.exp(-x))\n",
    "\n",
    "x = np.arange(-10, 10, 0.1)\n",
    "y = sigmoid(x)\n",
    "plt.plot(x, y)"
   ]
  },
  {
   "cell_type": "markdown",
   "id": "d7259360",
   "metadata": {},
   "source": [
    "Let's use Linear Algebra to do the prediction `y = X @ c`."
   ]
  },
  {
   "cell_type": "code",
   "execution_count": null,
   "id": "9f20df9b",
   "metadata": {},
   "outputs": [],
   "source": [
    "# Predict the probability of True\n",
    "???"
   ]
  },
  {
   "cell_type": "code",
   "execution_count": null,
   "id": "d1f58ef2",
   "metadata": {},
   "outputs": [],
   "source": [
    "# comparing with model predictions\n",
    "test[\"setosa_prob\"]"
   ]
  },
  {
   "cell_type": "markdown",
   "id": "05949884",
   "metadata": {},
   "source": [
    "### Model 4: Predict variety of flower\n",
    "\n",
    "- classification problem, specifically multi-class classification for `variety`"
   ]
  },
  {
   "cell_type": "code",
   "execution_count": null,
   "id": "c5b193b9",
   "metadata": {},
   "outputs": [],
   "source": [
    "# PREDICT: which of the 3 varieties is a particular Iris?\n",
    "xcols = [\"sepal length (cm)\", \"sepal width (cm)\", \"const\"]\n",
    "ycol = ???\n",
    "\n",
    "# 1. initialize model\n",
    "mult_model = ???\n",
    "# 2. fit using train data\n",
    "mult_model.fit(train[xcols], train[ycol])\n",
    "# 3. predict for test data and add predictions as a column\n",
    "test[???] = mult_model.predict(test[xcols])\n",
    "test"
   ]
  },
  {
   "cell_type": "markdown",
   "id": "e6f289e0",
   "metadata": {},
   "source": [
    "What is the accuracy?"
   ]
  },
  {
   "cell_type": "code",
   "execution_count": null,
   "id": "aadff6a5",
   "metadata": {},
   "outputs": [],
   "source": [
    "mult_model.score(test[xcols], test[ycol])"
   ]
  },
  {
   "cell_type": "markdown",
   "id": "a6b7b461",
   "metadata": {},
   "source": [
    "##### Math behind model 3: how does it predict?"
   ]
  },
  {
   "cell_type": "code",
   "execution_count": null,
   "id": "618e9526",
   "metadata": {},
   "outputs": [],
   "source": [
    "mult_model.coef_"
   ]
  },
  {
   "cell_type": "code",
   "execution_count": null,
   "id": "6b2975ed",
   "metadata": {},
   "outputs": [],
   "source": [
    "# taking transpose and assigning values to c\n",
    "c = mult_model.coef_.T\n",
    "c"
   ]
  },
  {
   "cell_type": "markdown",
   "id": "0d9cafb1",
   "metadata": {},
   "source": [
    "Each column contains coefficients for scoring a different `variety`."
   ]
  },
  {
   "cell_type": "code",
   "execution_count": null,
   "id": "4347f214",
   "metadata": {},
   "outputs": [],
   "source": [
    "c.shape # 3 varities"
   ]
  },
  {
   "cell_type": "markdown",
   "id": "75cb66ce",
   "metadata": {},
   "source": [
    "How can we determine name of each `variety`? \n",
    "\n",
    "#### `<model object>.classes_`\n",
    "\n",
    "- ndarray containing label for each class.\n",
    "- documentation: https://scikit-learn.org/stable/modules/generated/sklearn.preprocessing.LabelEncoder.html"
   ]
  },
  {
   "cell_type": "code",
   "execution_count": null,
   "id": "c5dc7d56",
   "metadata": {},
   "outputs": [],
   "source": [
    "mult_model.???"
   ]
  },
  {
   "cell_type": "code",
   "execution_count": null,
   "id": "f3fd17a6",
   "metadata": {},
   "outputs": [],
   "source": [
    "# assign X\n",
    "X = test[xcols].values\n",
    "X"
   ]
  },
  {
   "cell_type": "markdown",
   "id": "e8b09ee5",
   "metadata": {},
   "source": [
    "Extracting \"setosa\" co-efficients."
   ]
  },
  {
   "cell_type": "code",
   "execution_count": null,
   "id": "d7fceffe",
   "metadata": {},
   "outputs": [],
   "source": [
    "# we need a 2-D array\n",
    "setosa_c = mult_model.coef_.T[:, [0]]\n",
    "setosa_c"
   ]
  },
  {
   "cell_type": "markdown",
   "id": "2a70c00c",
   "metadata": {},
   "source": [
    "Let's use Linear Algebra to do the prediction just for \"setosa\" `y = X @ c`."
   ]
  },
  {
   "cell_type": "code",
   "execution_count": null,
   "id": "89bd4836",
   "metadata": {},
   "outputs": [],
   "source": [
    "X @ setosa_c"
   ]
  },
  {
   "cell_type": "markdown",
   "id": "f1dc05ce",
   "metadata": {},
   "source": [
    "Repeating for other varities."
   ]
  },
  {
   "cell_type": "code",
   "execution_count": null,
   "id": "9b2af9c6",
   "metadata": {},
   "outputs": [],
   "source": [
    "# versicolor scores\n",
    "versicolor_c = mult_model.coef_.T[:, [1]] \n",
    "X @ versicolor_c"
   ]
  },
  {
   "cell_type": "code",
   "execution_count": null,
   "id": "096c4a7f",
   "metadata": {},
   "outputs": [],
   "source": [
    "# virginica scores\n",
    "virginica_c = mult_model.coef_.T[:, [2]] \n",
    "X @ virginica_c"
   ]
  },
  {
   "cell_type": "markdown",
   "id": "f817bd39",
   "metadata": {},
   "source": [
    "#### Review: how does `MATRIX @ vertical vector` work?\n",
    "\n",
    "- MATRIX (data) @ vertical vector (coef) gets computed using the below LOOP:\n",
    "    - For each DATA ROW of MATRIX\n",
    "        - ROW (horizontal) @ c (vertical)\n",
    "\n",
    "#### How does `MATRIX 1 @ MATRIX 2` work?\n",
    "\n",
    "- MATRIX 1 (data) @ MATRIX 2 (coef) gets computed using the below NESTED LOOP:\n",
    "    - For each DATA ROW of MATRIX 1\n",
    "        - For each COEFFICIENT COLUMN of MATRIX 2\n",
    "            - compute the vector @ vector\n",
    "            \n",
    "Computing all predictions.            "
   ]
  },
  {
   "cell_type": "code",
   "execution_count": null,
   "id": "96e6c1ad",
   "metadata": {},
   "outputs": [],
   "source": [
    "# all varities\n",
    "c = mult_model.coef_.T\n",
    "X @ c\n",
    "# Largest score determines the classification prediction output"
   ]
  },
  {
   "cell_type": "code",
   "execution_count": null,
   "id": "c5312de8",
   "metadata": {},
   "outputs": [],
   "source": [
    "test[\"variety_predictions\"]"
   ]
  },
  {
   "cell_type": "markdown",
   "id": "915a84c0",
   "metadata": {},
   "source": [
    "### `max`, `argmax` methods on `np.array` \n",
    "\n",
    "- `max`: returns max value\n",
    "- `argmax`: returns index of the max value\n",
    "- same idea for min, argmin"
   ]
  },
  {
   "cell_type": "code",
   "execution_count": null,
   "id": "9a176050",
   "metadata": {},
   "outputs": [],
   "source": [
    "a = np.array([1, 2, 9, 8, 7])\n",
    "a.max()"
   ]
  },
  {
   "cell_type": "code",
   "execution_count": null,
   "id": "1d7a2214",
   "metadata": {},
   "outputs": [],
   "source": [
    "a.???"
   ]
  },
  {
   "cell_type": "markdown",
   "id": "a5d1c730",
   "metadata": {},
   "source": [
    "Let's convert `X @ c` to actual label predictions."
   ]
  },
  {
   "cell_type": "code",
   "execution_count": null,
   "id": "579d769c",
   "metadata": {},
   "outputs": [],
   "source": [
    "# gives the index of tha max value\n",
    "(X @ c).???"
   ]
  },
  {
   "cell_type": "code",
   "execution_count": null,
   "id": "05e6c697",
   "metadata": {},
   "outputs": [],
   "source": [
    "# we want max of each row\n",
    "(X @ c).???"
   ]
  },
  {
   "cell_type": "code",
   "execution_count": null,
   "id": "7d89d2f9",
   "metadata": {},
   "outputs": [],
   "source": [
    "mult_model.???"
   ]
  },
  {
   "cell_type": "markdown",
   "id": "eea23815",
   "metadata": {},
   "source": [
    "`<model obj>.classes_` can return labels given a list of indices."
   ]
  },
  {
   "cell_type": "code",
   "execution_count": null,
   "id": "eee36c14",
   "metadata": {},
   "outputs": [],
   "source": [
    "mult_model.classes_???"
   ]
  },
  {
   "cell_type": "markdown",
   "id": "9056a031",
   "metadata": {},
   "source": [
    "Putting `argmax` and `classes_` together."
   ]
  },
  {
   "cell_type": "code",
   "execution_count": null,
   "id": "c953b4cb",
   "metadata": {},
   "outputs": [],
   "source": [
    "???"
   ]
  },
  {
   "cell_type": "code",
   "execution_count": null,
   "id": "58f73217",
   "metadata": {},
   "outputs": [],
   "source": [
    "pd.Series(mult_model.classes_[(X @ c).argmax(axis=1)])"
   ]
  },
  {
   "cell_type": "code",
   "execution_count": null,
   "id": "3e98b6e4",
   "metadata": {},
   "outputs": [],
   "source": [
    "test[\"variety_predictions\"]"
   ]
  }
 ],
 "metadata": {
  "kernelspec": {
   "display_name": "Python 3 (ipykernel)",
   "language": "python",
   "name": "python3"
  },
  "language_info": {
   "codemirror_mode": {
    "name": "ipython",
    "version": 3
   },
   "file_extension": ".py",
   "mimetype": "text/x-python",
   "name": "python",
   "nbconvert_exporter": "python",
   "pygments_lexer": "ipython3",
   "version": "3.10.6"
  }
 },
 "nbformat": 4,
 "nbformat_minor": 5
}
