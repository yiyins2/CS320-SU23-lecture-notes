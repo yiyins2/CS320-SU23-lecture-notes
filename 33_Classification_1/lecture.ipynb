{
 "cells": [
  {
   "cell_type": "code",
   "execution_count": 1,
   "id": "cbd48a28",
   "metadata": {},
   "outputs": [],
   "source": [
    "import numpy as np\n",
    "import pandas as pd\n",
    "import matplotlib.pyplot as plt\n",
    "\n",
    "from sklearn import datasets\n",
    "from sklearn.model_selection import train_test_split\n",
    "from sklearn.linear_model import LinearRegression, LogisticRegression"
   ]
  },
  {
   "cell_type": "markdown",
   "id": "f53db4d6",
   "metadata": {},
   "source": [
    "# Classification 1"
   ]
  },
  {
   "cell_type": "code",
   "execution_count": 22,
   "id": "cff661e3",
   "metadata": {},
   "outputs": [],
   "source": [
    "data = datasets.load_iris()\n",
    "df = pd.DataFrame(data[\"data\"], columns=data[\"feature_names\"]).drop(columns=[\"petal length (cm)\"])\n",
    "df.insert(2, \"const\", 1)\n",
    "df[\"variety\"] = data[\"target_names\"][data[\"target\"]]\n",
    "df.insert(4, \"setosa\", df[\"variety\"] == \"setosa\")"
   ]
  },
  {
   "cell_type": "code",
   "execution_count": 23,
   "id": "de38eb62",
   "metadata": {},
   "outputs": [
    {
     "data": {
      "text/html": [
       "<div>\n",
       "<style scoped>\n",
       "    .dataframe tbody tr th:only-of-type {\n",
       "        vertical-align: middle;\n",
       "    }\n",
       "\n",
       "    .dataframe tbody tr th {\n",
       "        vertical-align: top;\n",
       "    }\n",
       "\n",
       "    .dataframe thead th {\n",
       "        text-align: right;\n",
       "    }\n",
       "</style>\n",
       "<table border=\"1\" class=\"dataframe\">\n",
       "  <thead>\n",
       "    <tr style=\"text-align: right;\">\n",
       "      <th></th>\n",
       "      <th>sepal length (cm)</th>\n",
       "      <th>sepal width (cm)</th>\n",
       "      <th>const</th>\n",
       "      <th>petal width (cm)</th>\n",
       "      <th>setosa</th>\n",
       "      <th>variety</th>\n",
       "    </tr>\n",
       "  </thead>\n",
       "  <tbody>\n",
       "    <tr>\n",
       "      <th>82</th>\n",
       "      <td>5.8</td>\n",
       "      <td>2.7</td>\n",
       "      <td>1</td>\n",
       "      <td>1.2</td>\n",
       "      <td>False</td>\n",
       "      <td>versicolor</td>\n",
       "    </tr>\n",
       "    <tr>\n",
       "      <th>134</th>\n",
       "      <td>6.1</td>\n",
       "      <td>2.6</td>\n",
       "      <td>1</td>\n",
       "      <td>1.4</td>\n",
       "      <td>False</td>\n",
       "      <td>virginica</td>\n",
       "    </tr>\n",
       "    <tr>\n",
       "      <th>114</th>\n",
       "      <td>5.8</td>\n",
       "      <td>2.8</td>\n",
       "      <td>1</td>\n",
       "      <td>2.4</td>\n",
       "      <td>False</td>\n",
       "      <td>virginica</td>\n",
       "    </tr>\n",
       "    <tr>\n",
       "      <th>42</th>\n",
       "      <td>4.4</td>\n",
       "      <td>3.2</td>\n",
       "      <td>1</td>\n",
       "      <td>0.2</td>\n",
       "      <td>True</td>\n",
       "      <td>setosa</td>\n",
       "    </tr>\n",
       "    <tr>\n",
       "      <th>109</th>\n",
       "      <td>7.2</td>\n",
       "      <td>3.6</td>\n",
       "      <td>1</td>\n",
       "      <td>2.5</td>\n",
       "      <td>False</td>\n",
       "      <td>virginica</td>\n",
       "    </tr>\n",
       "    <tr>\n",
       "      <th>57</th>\n",
       "      <td>4.9</td>\n",
       "      <td>2.4</td>\n",
       "      <td>1</td>\n",
       "      <td>1.0</td>\n",
       "      <td>False</td>\n",
       "      <td>versicolor</td>\n",
       "    </tr>\n",
       "    <tr>\n",
       "      <th>1</th>\n",
       "      <td>4.9</td>\n",
       "      <td>3.0</td>\n",
       "      <td>1</td>\n",
       "      <td>0.2</td>\n",
       "      <td>True</td>\n",
       "      <td>setosa</td>\n",
       "    </tr>\n",
       "    <tr>\n",
       "      <th>70</th>\n",
       "      <td>5.9</td>\n",
       "      <td>3.2</td>\n",
       "      <td>1</td>\n",
       "      <td>1.8</td>\n",
       "      <td>False</td>\n",
       "      <td>versicolor</td>\n",
       "    </tr>\n",
       "    <tr>\n",
       "      <th>25</th>\n",
       "      <td>5.0</td>\n",
       "      <td>3.0</td>\n",
       "      <td>1</td>\n",
       "      <td>0.2</td>\n",
       "      <td>True</td>\n",
       "      <td>setosa</td>\n",
       "    </tr>\n",
       "    <tr>\n",
       "      <th>84</th>\n",
       "      <td>5.4</td>\n",
       "      <td>3.0</td>\n",
       "      <td>1</td>\n",
       "      <td>1.5</td>\n",
       "      <td>False</td>\n",
       "      <td>versicolor</td>\n",
       "    </tr>\n",
       "  </tbody>\n",
       "</table>\n",
       "</div>"
      ],
      "text/plain": [
       "     sepal length (cm)  sepal width (cm)  const  petal width (cm)  setosa  \\\n",
       "82                 5.8               2.7      1               1.2   False   \n",
       "134                6.1               2.6      1               1.4   False   \n",
       "114                5.8               2.8      1               2.4   False   \n",
       "42                 4.4               3.2      1               0.2    True   \n",
       "109                7.2               3.6      1               2.5   False   \n",
       "57                 4.9               2.4      1               1.0   False   \n",
       "1                  4.9               3.0      1               0.2    True   \n",
       "70                 5.9               3.2      1               1.8   False   \n",
       "25                 5.0               3.0      1               0.2    True   \n",
       "84                 5.4               3.0      1               1.5   False   \n",
       "\n",
       "        variety  \n",
       "82   versicolor  \n",
       "134   virginica  \n",
       "114   virginica  \n",
       "42       setosa  \n",
       "109   virginica  \n",
       "57   versicolor  \n",
       "1        setosa  \n",
       "70   versicolor  \n",
       "25       setosa  \n",
       "84   versicolor  "
      ]
     },
     "execution_count": 23,
     "metadata": {},
     "output_type": "execute_result"
    }
   ],
   "source": [
    "xcols = [\"sepal length (cm)\", \"sepal width (cm)\", \"const\"]\n",
    "train, test = train_test_split(df, test_size=10, random_state=5)\n",
    "test"
   ]
  },
  {
   "cell_type": "markdown",
   "id": "2c26bfa5",
   "metadata": {},
   "source": [
    "### Model 1: Predict petal width\n",
    "\n",
    "- regression problem"
   ]
  },
  {
   "cell_type": "code",
   "execution_count": 24,
   "id": "1ee84b66",
   "metadata": {},
   "outputs": [
    {
     "data": {
      "text/html": [
       "<div>\n",
       "<style scoped>\n",
       "    .dataframe tbody tr th:only-of-type {\n",
       "        vertical-align: middle;\n",
       "    }\n",
       "\n",
       "    .dataframe tbody tr th {\n",
       "        vertical-align: top;\n",
       "    }\n",
       "\n",
       "    .dataframe thead th {\n",
       "        text-align: right;\n",
       "    }\n",
       "</style>\n",
       "<table border=\"1\" class=\"dataframe\">\n",
       "  <thead>\n",
       "    <tr style=\"text-align: right;\">\n",
       "      <th></th>\n",
       "      <th>sepal length (cm)</th>\n",
       "      <th>sepal width (cm)</th>\n",
       "      <th>const</th>\n",
       "      <th>petal width (cm)</th>\n",
       "      <th>setosa</th>\n",
       "      <th>variety</th>\n",
       "      <th>pet_width_predictions</th>\n",
       "    </tr>\n",
       "  </thead>\n",
       "  <tbody>\n",
       "    <tr>\n",
       "      <th>82</th>\n",
       "      <td>5.8</td>\n",
       "      <td>2.7</td>\n",
       "      <td>1</td>\n",
       "      <td>1.2</td>\n",
       "      <td>False</td>\n",
       "      <td>versicolor</td>\n",
       "      <td>1.327769</td>\n",
       "    </tr>\n",
       "    <tr>\n",
       "      <th>134</th>\n",
       "      <td>6.1</td>\n",
       "      <td>2.6</td>\n",
       "      <td>1</td>\n",
       "      <td>1.4</td>\n",
       "      <td>False</td>\n",
       "      <td>virginica</td>\n",
       "      <td>1.590835</td>\n",
       "    </tr>\n",
       "    <tr>\n",
       "      <th>114</th>\n",
       "      <td>5.8</td>\n",
       "      <td>2.8</td>\n",
       "      <td>1</td>\n",
       "      <td>2.4</td>\n",
       "      <td>False</td>\n",
       "      <td>virginica</td>\n",
       "      <td>1.279061</td>\n",
       "    </tr>\n",
       "    <tr>\n",
       "      <th>42</th>\n",
       "      <td>4.4</td>\n",
       "      <td>3.2</td>\n",
       "      <td>1</td>\n",
       "      <td>0.2</td>\n",
       "      <td>True</td>\n",
       "      <td>setosa</td>\n",
       "      <td>0.083889</td>\n",
       "    </tr>\n",
       "    <tr>\n",
       "      <th>109</th>\n",
       "      <td>7.2</td>\n",
       "      <td>3.6</td>\n",
       "      <td>1</td>\n",
       "      <td>2.5</td>\n",
       "      <td>False</td>\n",
       "      <td>virginica</td>\n",
       "      <td>1.889735</td>\n",
       "    </tr>\n",
       "    <tr>\n",
       "      <th>57</th>\n",
       "      <td>4.9</td>\n",
       "      <td>2.4</td>\n",
       "      <td>1</td>\n",
       "      <td>1.0</td>\n",
       "      <td>False</td>\n",
       "      <td>versicolor</td>\n",
       "      <td>0.830818</td>\n",
       "    </tr>\n",
       "    <tr>\n",
       "      <th>1</th>\n",
       "      <td>4.9</td>\n",
       "      <td>3.0</td>\n",
       "      <td>1</td>\n",
       "      <td>0.2</td>\n",
       "      <td>True</td>\n",
       "      <td>setosa</td>\n",
       "      <td>0.538569</td>\n",
       "    </tr>\n",
       "    <tr>\n",
       "      <th>70</th>\n",
       "      <td>5.9</td>\n",
       "      <td>3.2</td>\n",
       "      <td>1</td>\n",
       "      <td>1.8</td>\n",
       "      <td>False</td>\n",
       "      <td>versicolor</td>\n",
       "      <td>1.155681</td>\n",
       "    </tr>\n",
       "    <tr>\n",
       "      <th>25</th>\n",
       "      <td>5.0</td>\n",
       "      <td>3.0</td>\n",
       "      <td>1</td>\n",
       "      <td>0.2</td>\n",
       "      <td>True</td>\n",
       "      <td>setosa</td>\n",
       "      <td>0.610022</td>\n",
       "    </tr>\n",
       "    <tr>\n",
       "      <th>84</th>\n",
       "      <td>5.4</td>\n",
       "      <td>3.0</td>\n",
       "      <td>1</td>\n",
       "      <td>1.5</td>\n",
       "      <td>False</td>\n",
       "      <td>versicolor</td>\n",
       "      <td>0.895833</td>\n",
       "    </tr>\n",
       "  </tbody>\n",
       "</table>\n",
       "</div>"
      ],
      "text/plain": [
       "     sepal length (cm)  sepal width (cm)  const  petal width (cm)  setosa  \\\n",
       "82                 5.8               2.7      1               1.2   False   \n",
       "134                6.1               2.6      1               1.4   False   \n",
       "114                5.8               2.8      1               2.4   False   \n",
       "42                 4.4               3.2      1               0.2    True   \n",
       "109                7.2               3.6      1               2.5   False   \n",
       "57                 4.9               2.4      1               1.0   False   \n",
       "1                  4.9               3.0      1               0.2    True   \n",
       "70                 5.9               3.2      1               1.8   False   \n",
       "25                 5.0               3.0      1               0.2    True   \n",
       "84                 5.4               3.0      1               1.5   False   \n",
       "\n",
       "        variety  pet_width_predictions  \n",
       "82   versicolor               1.327769  \n",
       "134   virginica               1.590835  \n",
       "114   virginica               1.279061  \n",
       "42       setosa               0.083889  \n",
       "109   virginica               1.889735  \n",
       "57   versicolor               0.830818  \n",
       "1        setosa               0.538569  \n",
       "70   versicolor               1.155681  \n",
       "25       setosa               0.610022  \n",
       "84   versicolor               0.895833  "
      ]
     },
     "execution_count": 24,
     "metadata": {},
     "output_type": "execute_result"
    }
   ],
   "source": [
    "xcols = [\"sepal length (cm)\", \"sepal width (cm)\", \"const\"]\n",
    "ycol = \"petal width (cm)\"\n",
    "\n",
    "# 1. initialize model\n",
    "reg_model = LinearRegression(fit_intercept=False)\n",
    "# 2. fit using train data\n",
    "reg_model.fit(train[xcols], train[ycol])\n",
    "# 3. predict for test data and add predictions as a column\n",
    "test[\"pet_width_predictions\"] = reg_model.predict(test[xcols])\n",
    "test"
   ]
  },
  {
   "cell_type": "markdown",
   "id": "a14a9c10",
   "metadata": {},
   "source": [
    "Review of `score` method that enables us compute R^2 score."
   ]
  },
  {
   "cell_type": "code",
   "execution_count": 25,
   "id": "f08c6d0d-37f3-4f5e-8869-208fa4f483c3",
   "metadata": {},
   "outputs": [
    {
     "data": {
      "text/plain": [
       "0.5805709195672956"
      ]
     },
     "execution_count": 25,
     "metadata": {},
     "output_type": "execute_result"
    }
   ],
   "source": [
    "reg_model.score(test[xcols], test[ycol])"
   ]
  },
  {
   "cell_type": "markdown",
   "id": "80df6835",
   "metadata": {},
   "source": [
    "##### Math behind model 1: how does it predict?\n",
    "\n",
    "Recall that we can extract co-efficients using `<model obj>.coef_`."
   ]
  },
  {
   "cell_type": "code",
   "execution_count": 26,
   "id": "754013ca",
   "metadata": {},
   "outputs": [
    {
     "data": {
      "text/plain": [
       "array([ 0.71452794, -0.48708032, -1.5013766 ])"
      ]
     },
     "execution_count": 26,
     "metadata": {},
     "output_type": "execute_result"
    }
   ],
   "source": [
    "reg_model.coef_"
   ]
  },
  {
   "cell_type": "code",
   "execution_count": 27,
   "id": "17067f15",
   "metadata": {},
   "outputs": [
    {
     "data": {
      "text/plain": [
       "array([[ 0.71452794],\n",
       "       [-0.48708032],\n",
       "       [-1.5013766 ]])"
      ]
     },
     "execution_count": 27,
     "metadata": {},
     "output_type": "execute_result"
    }
   ],
   "source": [
    "# converting into a vertical array / vector and assigning values to c\n",
    "c = reg_model.coef_.reshape(-1, 1)\n",
    "c"
   ]
  },
  {
   "cell_type": "code",
   "execution_count": 28,
   "id": "2973e35c",
   "metadata": {},
   "outputs": [
    {
     "data": {
      "text/plain": [
       "array([[5.8, 2.7, 1. ],\n",
       "       [6.1, 2.6, 1. ],\n",
       "       [5.8, 2.8, 1. ],\n",
       "       [4.4, 3.2, 1. ],\n",
       "       [7.2, 3.6, 1. ],\n",
       "       [4.9, 2.4, 1. ],\n",
       "       [4.9, 3. , 1. ],\n",
       "       [5.9, 3.2, 1. ],\n",
       "       [5. , 3. , 1. ],\n",
       "       [5.4, 3. , 1. ]])"
      ]
     },
     "execution_count": 28,
     "metadata": {},
     "output_type": "execute_result"
    }
   ],
   "source": [
    "# assign X\n",
    "X = test[xcols].values\n",
    "X"
   ]
  },
  {
   "cell_type": "markdown",
   "id": "69f1ba7f",
   "metadata": {},
   "source": [
    "Let's use Linear Algebra to do the prediction `y = X @ c`."
   ]
  },
  {
   "cell_type": "code",
   "execution_count": 29,
   "id": "4f499c7f",
   "metadata": {},
   "outputs": [
    {
     "data": {
      "text/plain": [
       "array([[1.32776857],\n",
       "       [1.59083498],\n",
       "       [1.27906054],\n",
       "       [0.0838893 ],\n",
       "       [1.8897354 ],\n",
       "       [0.83081752],\n",
       "       [0.53856933],\n",
       "       [1.15568121],\n",
       "       [0.61002213],\n",
       "       [0.8958333 ]])"
      ]
     },
     "execution_count": 29,
     "metadata": {},
     "output_type": "execute_result"
    }
   ],
   "source": [
    "y = X @ c\n",
    "y"
   ]
  },
  {
   "cell_type": "code",
   "execution_count": 30,
   "id": "db574422",
   "metadata": {},
   "outputs": [
    {
     "data": {
      "text/plain": [
       "82     1.327769\n",
       "134    1.590835\n",
       "114    1.279061\n",
       "42     0.083889\n",
       "109    1.889735\n",
       "57     0.830818\n",
       "1      0.538569\n",
       "70     1.155681\n",
       "25     0.610022\n",
       "84     0.895833\n",
       "Name: pet_width_predictions, dtype: float64"
      ]
     },
     "execution_count": 30,
     "metadata": {},
     "output_type": "execute_result"
    }
   ],
   "source": [
    "# comparing with model predictions\n",
    "test[\"pet_width_predictions\"]"
   ]
  },
  {
   "cell_type": "markdown",
   "id": "897596a3",
   "metadata": {},
   "source": [
    "## LogisticRegression\n",
    "\n",
    "- classification model\n",
    "- predict categorical labels"
   ]
  },
  {
   "cell_type": "markdown",
   "id": "66d1deca",
   "metadata": {},
   "source": [
    "### Model 2 - part a: Predict whether flower is \"setosa\"\n",
    "\n",
    "- classification problem, specifically binary classification: True / False"
   ]
  },
  {
   "cell_type": "code",
   "execution_count": 31,
   "id": "6025224c",
   "metadata": {
    "scrolled": true
   },
   "outputs": [
    {
     "data": {
      "text/html": [
       "<div>\n",
       "<style scoped>\n",
       "    .dataframe tbody tr th:only-of-type {\n",
       "        vertical-align: middle;\n",
       "    }\n",
       "\n",
       "    .dataframe tbody tr th {\n",
       "        vertical-align: top;\n",
       "    }\n",
       "\n",
       "    .dataframe thead th {\n",
       "        text-align: right;\n",
       "    }\n",
       "</style>\n",
       "<table border=\"1\" class=\"dataframe\">\n",
       "  <thead>\n",
       "    <tr style=\"text-align: right;\">\n",
       "      <th></th>\n",
       "      <th>sepal length (cm)</th>\n",
       "      <th>sepal width (cm)</th>\n",
       "      <th>const</th>\n",
       "      <th>petal width (cm)</th>\n",
       "      <th>setosa</th>\n",
       "      <th>variety</th>\n",
       "      <th>pet_width_predictions</th>\n",
       "      <th>setosa_predictions</th>\n",
       "    </tr>\n",
       "  </thead>\n",
       "  <tbody>\n",
       "    <tr>\n",
       "      <th>82</th>\n",
       "      <td>5.8</td>\n",
       "      <td>2.7</td>\n",
       "      <td>1</td>\n",
       "      <td>1.2</td>\n",
       "      <td>False</td>\n",
       "      <td>versicolor</td>\n",
       "      <td>1.327769</td>\n",
       "      <td>False</td>\n",
       "    </tr>\n",
       "    <tr>\n",
       "      <th>134</th>\n",
       "      <td>6.1</td>\n",
       "      <td>2.6</td>\n",
       "      <td>1</td>\n",
       "      <td>1.4</td>\n",
       "      <td>False</td>\n",
       "      <td>virginica</td>\n",
       "      <td>1.590835</td>\n",
       "      <td>False</td>\n",
       "    </tr>\n",
       "    <tr>\n",
       "      <th>114</th>\n",
       "      <td>5.8</td>\n",
       "      <td>2.8</td>\n",
       "      <td>1</td>\n",
       "      <td>2.4</td>\n",
       "      <td>False</td>\n",
       "      <td>virginica</td>\n",
       "      <td>1.279061</td>\n",
       "      <td>False</td>\n",
       "    </tr>\n",
       "    <tr>\n",
       "      <th>42</th>\n",
       "      <td>4.4</td>\n",
       "      <td>3.2</td>\n",
       "      <td>1</td>\n",
       "      <td>0.2</td>\n",
       "      <td>True</td>\n",
       "      <td>setosa</td>\n",
       "      <td>0.083889</td>\n",
       "      <td>True</td>\n",
       "    </tr>\n",
       "    <tr>\n",
       "      <th>109</th>\n",
       "      <td>7.2</td>\n",
       "      <td>3.6</td>\n",
       "      <td>1</td>\n",
       "      <td>2.5</td>\n",
       "      <td>False</td>\n",
       "      <td>virginica</td>\n",
       "      <td>1.889735</td>\n",
       "      <td>False</td>\n",
       "    </tr>\n",
       "    <tr>\n",
       "      <th>57</th>\n",
       "      <td>4.9</td>\n",
       "      <td>2.4</td>\n",
       "      <td>1</td>\n",
       "      <td>1.0</td>\n",
       "      <td>False</td>\n",
       "      <td>versicolor</td>\n",
       "      <td>0.830818</td>\n",
       "      <td>False</td>\n",
       "    </tr>\n",
       "    <tr>\n",
       "      <th>1</th>\n",
       "      <td>4.9</td>\n",
       "      <td>3.0</td>\n",
       "      <td>1</td>\n",
       "      <td>0.2</td>\n",
       "      <td>True</td>\n",
       "      <td>setosa</td>\n",
       "      <td>0.538569</td>\n",
       "      <td>True</td>\n",
       "    </tr>\n",
       "    <tr>\n",
       "      <th>70</th>\n",
       "      <td>5.9</td>\n",
       "      <td>3.2</td>\n",
       "      <td>1</td>\n",
       "      <td>1.8</td>\n",
       "      <td>False</td>\n",
       "      <td>versicolor</td>\n",
       "      <td>1.155681</td>\n",
       "      <td>False</td>\n",
       "    </tr>\n",
       "    <tr>\n",
       "      <th>25</th>\n",
       "      <td>5.0</td>\n",
       "      <td>3.0</td>\n",
       "      <td>1</td>\n",
       "      <td>0.2</td>\n",
       "      <td>True</td>\n",
       "      <td>setosa</td>\n",
       "      <td>0.610022</td>\n",
       "      <td>True</td>\n",
       "    </tr>\n",
       "    <tr>\n",
       "      <th>84</th>\n",
       "      <td>5.4</td>\n",
       "      <td>3.0</td>\n",
       "      <td>1</td>\n",
       "      <td>1.5</td>\n",
       "      <td>False</td>\n",
       "      <td>versicolor</td>\n",
       "      <td>0.895833</td>\n",
       "      <td>False</td>\n",
       "    </tr>\n",
       "  </tbody>\n",
       "</table>\n",
       "</div>"
      ],
      "text/plain": [
       "     sepal length (cm)  sepal width (cm)  const  petal width (cm)  setosa  \\\n",
       "82                 5.8               2.7      1               1.2   False   \n",
       "134                6.1               2.6      1               1.4   False   \n",
       "114                5.8               2.8      1               2.4   False   \n",
       "42                 4.4               3.2      1               0.2    True   \n",
       "109                7.2               3.6      1               2.5   False   \n",
       "57                 4.9               2.4      1               1.0   False   \n",
       "1                  4.9               3.0      1               0.2    True   \n",
       "70                 5.9               3.2      1               1.8   False   \n",
       "25                 5.0               3.0      1               0.2    True   \n",
       "84                 5.4               3.0      1               1.5   False   \n",
       "\n",
       "        variety  pet_width_predictions  setosa_predictions  \n",
       "82   versicolor               1.327769               False  \n",
       "134   virginica               1.590835               False  \n",
       "114   virginica               1.279061               False  \n",
       "42       setosa               0.083889                True  \n",
       "109   virginica               1.889735               False  \n",
       "57   versicolor               0.830818               False  \n",
       "1        setosa               0.538569                True  \n",
       "70   versicolor               1.155681               False  \n",
       "25       setosa               0.610022                True  \n",
       "84   versicolor               0.895833               False  "
      ]
     },
     "execution_count": 31,
     "metadata": {},
     "output_type": "execute_result"
    }
   ],
   "source": [
    "xcols = [\"sepal length (cm)\", \"sepal width (cm)\", \"const\"]\n",
    "ycol = \"setosa\"\n",
    "\n",
    "# 1. initialize model\n",
    "cls_model = LogisticRegression(fit_intercept=False)\n",
    "# 2. fit using train data\n",
    "cls_model.fit(train[xcols], train[ycol])\n",
    "# 3. predict for test data and add predictions as a column\n",
    "test[\"setosa_predictions\"] = cls_model.predict(test[xcols])\n",
    "test"
   ]
  },
  {
   "cell_type": "markdown",
   "id": "4f70c5cb",
   "metadata": {},
   "source": [
    "What is the accuracy? That is what percent of the time is it correct?"
   ]
  },
  {
   "cell_type": "code",
   "execution_count": 32,
   "id": "1e9cc9d0",
   "metadata": {},
   "outputs": [
    {
     "data": {
      "text/plain": [
       "1.0"
      ]
     },
     "execution_count": 32,
     "metadata": {},
     "output_type": "execute_result"
    }
   ],
   "source": [
    "cls_model.score(test[xcols], test[ycol])"
   ]
  },
  {
   "cell_type": "markdown",
   "id": "49ac5f5d",
   "metadata": {},
   "source": [
    "##### Math behind model 2 - part a: how does it predict?"
   ]
  },
  {
   "cell_type": "code",
   "execution_count": 33,
   "id": "18ee8a87",
   "metadata": {},
   "outputs": [
    {
     "data": {
      "text/plain": [
       "array([[-2.42108094],\n",
       "       [ 3.90002306],\n",
       "       [ 0.75064911]])"
      ]
     },
     "execution_count": 33,
     "metadata": {},
     "output_type": "execute_result"
    }
   ],
   "source": [
    "cls_model.coef_.reshape(-1, 1)"
   ]
  },
  {
   "cell_type": "code",
   "execution_count": 34,
   "id": "664627db",
   "metadata": {},
   "outputs": [],
   "source": [
    "# converting into a vertical array / vector and assigning values to c\n",
    "c = cls_model.coef_.T"
   ]
  },
  {
   "cell_type": "code",
   "execution_count": 35,
   "id": "a98e6ac3",
   "metadata": {},
   "outputs": [
    {
     "data": {
      "text/plain": [
       "array([[5.8, 2.7, 1. ],\n",
       "       [6.1, 2.6, 1. ],\n",
       "       [5.8, 2.8, 1. ],\n",
       "       [4.4, 3.2, 1. ],\n",
       "       [7.2, 3.6, 1. ],\n",
       "       [4.9, 2.4, 1. ],\n",
       "       [4.9, 3. , 1. ],\n",
       "       [5.9, 3.2, 1. ],\n",
       "       [5. , 3. , 1. ],\n",
       "       [5.4, 3. , 1. ]])"
      ]
     },
     "execution_count": 35,
     "metadata": {},
     "output_type": "execute_result"
    }
   ],
   "source": [
    "# assign X\n",
    "X = test[xcols].values\n",
    "X"
   ]
  },
  {
   "cell_type": "markdown",
   "id": "d6dae65a",
   "metadata": {},
   "source": [
    "Let's use Linear Algebra to do the prediction `y = X @ c`."
   ]
  },
  {
   "cell_type": "code",
   "execution_count": 36,
   "id": "31e160e4",
   "metadata": {},
   "outputs": [
    {
     "data": {
      "text/plain": [
       "array([[-2.76155804],\n",
       "       [-3.87788463],\n",
       "       [-2.37155574],\n",
       "       [ 2.5779668 ],\n",
       "       [-2.6410506 ],\n",
       "       [-1.75259212],\n",
       "       [ 0.58742172],\n",
       "       [-1.05365461],\n",
       "       [ 0.34531362],\n",
       "       [-0.62311875]])"
      ]
     },
     "execution_count": 36,
     "metadata": {},
     "output_type": "execute_result"
    }
   ],
   "source": [
    "X @ c"
   ]
  },
  {
   "cell_type": "markdown",
   "id": "b40a2b9c",
   "metadata": {},
   "source": [
    "Negative values => False and positive => True."
   ]
  },
  {
   "cell_type": "code",
   "execution_count": 37,
   "id": "a4e61944",
   "metadata": {},
   "outputs": [
    {
     "data": {
      "text/plain": [
       "array([[False],\n",
       "       [False],\n",
       "       [False],\n",
       "       [ True],\n",
       "       [False],\n",
       "       [False],\n",
       "       [ True],\n",
       "       [False],\n",
       "       [ True],\n",
       "       [False]])"
      ]
     },
     "execution_count": 37,
     "metadata": {},
     "output_type": "execute_result"
    }
   ],
   "source": [
    "X @ c > 0"
   ]
  },
  {
   "cell_type": "code",
   "execution_count": 38,
   "id": "f2cfb8e1",
   "metadata": {},
   "outputs": [
    {
     "data": {
      "text/plain": [
       "82     False\n",
       "134    False\n",
       "114    False\n",
       "42      True\n",
       "109    False\n",
       "57     False\n",
       "1       True\n",
       "70     False\n",
       "25      True\n",
       "84     False\n",
       "Name: setosa_predictions, dtype: bool"
      ]
     },
     "execution_count": 38,
     "metadata": {},
     "output_type": "execute_result"
    }
   ],
   "source": [
    "# comparing with model predictions\n",
    "test[\"setosa_predictions\"]"
   ]
  },
  {
   "cell_type": "markdown",
   "id": "99f3abec",
   "metadata": {},
   "source": [
    "### Model 2 - part b: Predict probablity of flower being \"setosa\"\n",
    "\n",
    "- classification problem, probablity between 0 to 1"
   ]
  },
  {
   "cell_type": "markdown",
   "id": "740f37a4",
   "metadata": {},
   "source": [
    "#### `<model object>.predict_proba(X)`\n",
    "\n",
    "- Calibrated probabilities of classification.\n",
    "- returns a numpy array of probabilities (that it is True):\n",
    "    - [[False probablity, True probablity], ...]\n",
    "- documentation: https://scikit-learn.org/stable/modules/generated/sklearn.calibration.CalibratedClassifierCV.html#sklearn.calibration.CalibratedClassifierCV.predict_proba"
   ]
  },
  {
   "cell_type": "code",
   "execution_count": 39,
   "id": "99888847",
   "metadata": {},
   "outputs": [
    {
     "data": {
      "text/plain": [
       "array([[0.9405628 , 0.0594372 ],\n",
       "       [0.97972503, 0.02027497],\n",
       "       [0.91463241, 0.08536759],\n",
       "       [0.07056997, 0.92943003],\n",
       "       [0.93345725, 0.06654275],\n",
       "       [0.85227945, 0.14772055],\n",
       "       [0.35722665, 0.64277335],\n",
       "       [0.74147607, 0.25852393],\n",
       "       [0.41451931, 0.58548069],\n",
       "       [0.65092753, 0.34907247]])"
      ]
     },
     "execution_count": 39,
     "metadata": {},
     "output_type": "execute_result"
    }
   ],
   "source": [
    "cls_model.predict_proba(test[xcols])  "
   ]
  },
  {
   "cell_type": "markdown",
   "id": "347e47d1",
   "metadata": {},
   "source": [
    "Extract just the True probablities."
   ]
  },
  {
   "cell_type": "code",
   "execution_count": 40,
   "id": "b305853c",
   "metadata": {},
   "outputs": [
    {
     "data": {
      "text/plain": [
       "array([0.0594372 , 0.02027497, 0.08536759, 0.92943003, 0.06654275,\n",
       "       0.14772055, 0.64277335, 0.25852393, 0.58548069, 0.34907247])"
      ]
     },
     "execution_count": 40,
     "metadata": {},
     "output_type": "execute_result"
    }
   ],
   "source": [
    "cls_model.predict_proba(test[xcols])[:, 1]"
   ]
  },
  {
   "cell_type": "code",
   "execution_count": 41,
   "id": "2e951243",
   "metadata": {},
   "outputs": [
    {
     "data": {
      "text/html": [
       "<div>\n",
       "<style scoped>\n",
       "    .dataframe tbody tr th:only-of-type {\n",
       "        vertical-align: middle;\n",
       "    }\n",
       "\n",
       "    .dataframe tbody tr th {\n",
       "        vertical-align: top;\n",
       "    }\n",
       "\n",
       "    .dataframe thead th {\n",
       "        text-align: right;\n",
       "    }\n",
       "</style>\n",
       "<table border=\"1\" class=\"dataframe\">\n",
       "  <thead>\n",
       "    <tr style=\"text-align: right;\">\n",
       "      <th></th>\n",
       "      <th>sepal length (cm)</th>\n",
       "      <th>sepal width (cm)</th>\n",
       "      <th>const</th>\n",
       "      <th>petal width (cm)</th>\n",
       "      <th>setosa</th>\n",
       "      <th>variety</th>\n",
       "      <th>pet_width_predictions</th>\n",
       "      <th>setosa_predictions</th>\n",
       "      <th>setosa_prob</th>\n",
       "    </tr>\n",
       "  </thead>\n",
       "  <tbody>\n",
       "    <tr>\n",
       "      <th>82</th>\n",
       "      <td>5.8</td>\n",
       "      <td>2.7</td>\n",
       "      <td>1</td>\n",
       "      <td>1.2</td>\n",
       "      <td>False</td>\n",
       "      <td>versicolor</td>\n",
       "      <td>1.327769</td>\n",
       "      <td>False</td>\n",
       "      <td>0.059437</td>\n",
       "    </tr>\n",
       "    <tr>\n",
       "      <th>134</th>\n",
       "      <td>6.1</td>\n",
       "      <td>2.6</td>\n",
       "      <td>1</td>\n",
       "      <td>1.4</td>\n",
       "      <td>False</td>\n",
       "      <td>virginica</td>\n",
       "      <td>1.590835</td>\n",
       "      <td>False</td>\n",
       "      <td>0.020275</td>\n",
       "    </tr>\n",
       "    <tr>\n",
       "      <th>114</th>\n",
       "      <td>5.8</td>\n",
       "      <td>2.8</td>\n",
       "      <td>1</td>\n",
       "      <td>2.4</td>\n",
       "      <td>False</td>\n",
       "      <td>virginica</td>\n",
       "      <td>1.279061</td>\n",
       "      <td>False</td>\n",
       "      <td>0.085368</td>\n",
       "    </tr>\n",
       "    <tr>\n",
       "      <th>42</th>\n",
       "      <td>4.4</td>\n",
       "      <td>3.2</td>\n",
       "      <td>1</td>\n",
       "      <td>0.2</td>\n",
       "      <td>True</td>\n",
       "      <td>setosa</td>\n",
       "      <td>0.083889</td>\n",
       "      <td>True</td>\n",
       "      <td>0.929430</td>\n",
       "    </tr>\n",
       "    <tr>\n",
       "      <th>109</th>\n",
       "      <td>7.2</td>\n",
       "      <td>3.6</td>\n",
       "      <td>1</td>\n",
       "      <td>2.5</td>\n",
       "      <td>False</td>\n",
       "      <td>virginica</td>\n",
       "      <td>1.889735</td>\n",
       "      <td>False</td>\n",
       "      <td>0.066543</td>\n",
       "    </tr>\n",
       "    <tr>\n",
       "      <th>57</th>\n",
       "      <td>4.9</td>\n",
       "      <td>2.4</td>\n",
       "      <td>1</td>\n",
       "      <td>1.0</td>\n",
       "      <td>False</td>\n",
       "      <td>versicolor</td>\n",
       "      <td>0.830818</td>\n",
       "      <td>False</td>\n",
       "      <td>0.147721</td>\n",
       "    </tr>\n",
       "    <tr>\n",
       "      <th>1</th>\n",
       "      <td>4.9</td>\n",
       "      <td>3.0</td>\n",
       "      <td>1</td>\n",
       "      <td>0.2</td>\n",
       "      <td>True</td>\n",
       "      <td>setosa</td>\n",
       "      <td>0.538569</td>\n",
       "      <td>True</td>\n",
       "      <td>0.642773</td>\n",
       "    </tr>\n",
       "    <tr>\n",
       "      <th>70</th>\n",
       "      <td>5.9</td>\n",
       "      <td>3.2</td>\n",
       "      <td>1</td>\n",
       "      <td>1.8</td>\n",
       "      <td>False</td>\n",
       "      <td>versicolor</td>\n",
       "      <td>1.155681</td>\n",
       "      <td>False</td>\n",
       "      <td>0.258524</td>\n",
       "    </tr>\n",
       "    <tr>\n",
       "      <th>25</th>\n",
       "      <td>5.0</td>\n",
       "      <td>3.0</td>\n",
       "      <td>1</td>\n",
       "      <td>0.2</td>\n",
       "      <td>True</td>\n",
       "      <td>setosa</td>\n",
       "      <td>0.610022</td>\n",
       "      <td>True</td>\n",
       "      <td>0.585481</td>\n",
       "    </tr>\n",
       "    <tr>\n",
       "      <th>84</th>\n",
       "      <td>5.4</td>\n",
       "      <td>3.0</td>\n",
       "      <td>1</td>\n",
       "      <td>1.5</td>\n",
       "      <td>False</td>\n",
       "      <td>versicolor</td>\n",
       "      <td>0.895833</td>\n",
       "      <td>False</td>\n",
       "      <td>0.349072</td>\n",
       "    </tr>\n",
       "  </tbody>\n",
       "</table>\n",
       "</div>"
      ],
      "text/plain": [
       "     sepal length (cm)  sepal width (cm)  const  petal width (cm)  setosa  \\\n",
       "82                 5.8               2.7      1               1.2   False   \n",
       "134                6.1               2.6      1               1.4   False   \n",
       "114                5.8               2.8      1               2.4   False   \n",
       "42                 4.4               3.2      1               0.2    True   \n",
       "109                7.2               3.6      1               2.5   False   \n",
       "57                 4.9               2.4      1               1.0   False   \n",
       "1                  4.9               3.0      1               0.2    True   \n",
       "70                 5.9               3.2      1               1.8   False   \n",
       "25                 5.0               3.0      1               0.2    True   \n",
       "84                 5.4               3.0      1               1.5   False   \n",
       "\n",
       "        variety  pet_width_predictions  setosa_predictions  setosa_prob  \n",
       "82   versicolor               1.327769               False     0.059437  \n",
       "134   virginica               1.590835               False     0.020275  \n",
       "114   virginica               1.279061               False     0.085368  \n",
       "42       setosa               0.083889                True     0.929430  \n",
       "109   virginica               1.889735               False     0.066543  \n",
       "57   versicolor               0.830818               False     0.147721  \n",
       "1        setosa               0.538569                True     0.642773  \n",
       "70   versicolor               1.155681               False     0.258524  \n",
       "25       setosa               0.610022                True     0.585481  \n",
       "84   versicolor               0.895833               False     0.349072  "
      ]
     },
     "execution_count": 41,
     "metadata": {},
     "output_type": "execute_result"
    }
   ],
   "source": [
    "test[\"setosa_prob\"] = cls_model.predict_proba(test[xcols])[:, 1]\n",
    "test"
   ]
  },
  {
   "cell_type": "markdown",
   "id": "d3cff860",
   "metadata": {},
   "source": [
    "##### Math behind model 2 - part b: how does it predict?"
   ]
  },
  {
   "cell_type": "code",
   "execution_count": 42,
   "id": "090c19b6",
   "metadata": {},
   "outputs": [
    {
     "data": {
      "text/plain": [
       "[<matplotlib.lines.Line2D at 0x7fd60412aec0>]"
      ]
     },
     "execution_count": 42,
     "metadata": {},
     "output_type": "execute_result"
    },
    {
     "data": {
      "image/png": "[encoded data removed]",
      "text/plain": [
       "<Figure size 640x480 with 1 Axes>"
      ]
     },
     "metadata": {},
     "output_type": "display_data"
    }
   ],
   "source": [
    "def sigmoid(x):\n",
    "    return 1 / (1 + np.exp(-x))\n",
    "\n",
    "x = np.arange(-10, 10, 0.1)\n",
    "y = sigmoid(x)\n",
    "plt.plot(x, y)"
   ]
  },
  {
   "cell_type": "markdown",
   "id": "d7259360",
   "metadata": {},
   "source": [
    "Let's use Linear Algebra to do the prediction `y = X @ c`."
   ]
  },
  {
   "cell_type": "code",
   "execution_count": 43,
   "id": "9f20df9b",
   "metadata": {},
   "outputs": [
    {
     "data": {
      "text/plain": [
       "array([[0.0594372 ],\n",
       "       [0.02027497],\n",
       "       [0.08536759],\n",
       "       [0.92943003],\n",
       "       [0.06654275],\n",
       "       [0.14772055],\n",
       "       [0.64277335],\n",
       "       [0.25852393],\n",
       "       [0.58548069],\n",
       "       [0.34907247]])"
      ]
     },
     "execution_count": 43,
     "metadata": {},
     "output_type": "execute_result"
    }
   ],
   "source": [
    "# Predict the probability of True\n",
    "sigmoid(X @ c)"
   ]
  },
  {
   "cell_type": "code",
   "execution_count": 44,
   "id": "d1f58ef2",
   "metadata": {},
   "outputs": [
    {
     "data": {
      "text/plain": [
       "82     0.059437\n",
       "134    0.020275\n",
       "114    0.085368\n",
       "42     0.929430\n",
       "109    0.066543\n",
       "57     0.147721\n",
       "1      0.642773\n",
       "70     0.258524\n",
       "25     0.585481\n",
       "84     0.349072\n",
       "Name: setosa_prob, dtype: float64"
      ]
     },
     "execution_count": 44,
     "metadata": {},
     "output_type": "execute_result"
    }
   ],
   "source": [
    "# comparing with model predictions\n",
    "test[\"setosa_prob\"]"
   ]
  },
  {
   "cell_type": "markdown",
   "id": "05949884",
   "metadata": {},
   "source": [
    "### Model 4: Predict variety of flower\n",
    "\n",
    "- classification problem, specifically multi-class classification for `variety`"
   ]
  },
  {
   "cell_type": "code",
   "execution_count": 45,
   "id": "c5b193b9",
   "metadata": {},
   "outputs": [
    {
     "data": {
      "text/html": [
       "<div>\n",
       "<style scoped>\n",
       "    .dataframe tbody tr th:only-of-type {\n",
       "        vertical-align: middle;\n",
       "    }\n",
       "\n",
       "    .dataframe tbody tr th {\n",
       "        vertical-align: top;\n",
       "    }\n",
       "\n",
       "    .dataframe thead th {\n",
       "        text-align: right;\n",
       "    }\n",
       "</style>\n",
       "<table border=\"1\" class=\"dataframe\">\n",
       "  <thead>\n",
       "    <tr style=\"text-align: right;\">\n",
       "      <th></th>\n",
       "      <th>sepal length (cm)</th>\n",
       "      <th>sepal width (cm)</th>\n",
       "      <th>const</th>\n",
       "      <th>petal width (cm)</th>\n",
       "      <th>setosa</th>\n",
       "      <th>variety</th>\n",
       "      <th>pet_width_predictions</th>\n",
       "      <th>setosa_predictions</th>\n",
       "      <th>setosa_prob</th>\n",
       "      <th>variety_predictions</th>\n",
       "    </tr>\n",
       "  </thead>\n",
       "  <tbody>\n",
       "    <tr>\n",
       "      <th>82</th>\n",
       "      <td>5.8</td>\n",
       "      <td>2.7</td>\n",
       "      <td>1</td>\n",
       "      <td>1.2</td>\n",
       "      <td>False</td>\n",
       "      <td>versicolor</td>\n",
       "      <td>1.327769</td>\n",
       "      <td>False</td>\n",
       "      <td>0.059437</td>\n",
       "      <td>versicolor</td>\n",
       "    </tr>\n",
       "    <tr>\n",
       "      <th>134</th>\n",
       "      <td>6.1</td>\n",
       "      <td>2.6</td>\n",
       "      <td>1</td>\n",
       "      <td>1.4</td>\n",
       "      <td>False</td>\n",
       "      <td>virginica</td>\n",
       "      <td>1.590835</td>\n",
       "      <td>False</td>\n",
       "      <td>0.020275</td>\n",
       "      <td>virginica</td>\n",
       "    </tr>\n",
       "    <tr>\n",
       "      <th>114</th>\n",
       "      <td>5.8</td>\n",
       "      <td>2.8</td>\n",
       "      <td>1</td>\n",
       "      <td>2.4</td>\n",
       "      <td>False</td>\n",
       "      <td>virginica</td>\n",
       "      <td>1.279061</td>\n",
       "      <td>False</td>\n",
       "      <td>0.085368</td>\n",
       "      <td>versicolor</td>\n",
       "    </tr>\n",
       "    <tr>\n",
       "      <th>42</th>\n",
       "      <td>4.4</td>\n",
       "      <td>3.2</td>\n",
       "      <td>1</td>\n",
       "      <td>0.2</td>\n",
       "      <td>True</td>\n",
       "      <td>setosa</td>\n",
       "      <td>0.083889</td>\n",
       "      <td>True</td>\n",
       "      <td>0.929430</td>\n",
       "      <td>setosa</td>\n",
       "    </tr>\n",
       "    <tr>\n",
       "      <th>109</th>\n",
       "      <td>7.2</td>\n",
       "      <td>3.6</td>\n",
       "      <td>1</td>\n",
       "      <td>2.5</td>\n",
       "      <td>False</td>\n",
       "      <td>virginica</td>\n",
       "      <td>1.889735</td>\n",
       "      <td>False</td>\n",
       "      <td>0.066543</td>\n",
       "      <td>virginica</td>\n",
       "    </tr>\n",
       "    <tr>\n",
       "      <th>57</th>\n",
       "      <td>4.9</td>\n",
       "      <td>2.4</td>\n",
       "      <td>1</td>\n",
       "      <td>1.0</td>\n",
       "      <td>False</td>\n",
       "      <td>versicolor</td>\n",
       "      <td>0.830818</td>\n",
       "      <td>False</td>\n",
       "      <td>0.147721</td>\n",
       "      <td>versicolor</td>\n",
       "    </tr>\n",
       "    <tr>\n",
       "      <th>1</th>\n",
       "      <td>4.9</td>\n",
       "      <td>3.0</td>\n",
       "      <td>1</td>\n",
       "      <td>0.2</td>\n",
       "      <td>True</td>\n",
       "      <td>setosa</td>\n",
       "      <td>0.538569</td>\n",
       "      <td>True</td>\n",
       "      <td>0.642773</td>\n",
       "      <td>setosa</td>\n",
       "    </tr>\n",
       "    <tr>\n",
       "      <th>70</th>\n",
       "      <td>5.9</td>\n",
       "      <td>3.2</td>\n",
       "      <td>1</td>\n",
       "      <td>1.8</td>\n",
       "      <td>False</td>\n",
       "      <td>versicolor</td>\n",
       "      <td>1.155681</td>\n",
       "      <td>False</td>\n",
       "      <td>0.258524</td>\n",
       "      <td>versicolor</td>\n",
       "    </tr>\n",
       "    <tr>\n",
       "      <th>25</th>\n",
       "      <td>5.0</td>\n",
       "      <td>3.0</td>\n",
       "      <td>1</td>\n",
       "      <td>0.2</td>\n",
       "      <td>True</td>\n",
       "      <td>setosa</td>\n",
       "      <td>0.610022</td>\n",
       "      <td>True</td>\n",
       "      <td>0.585481</td>\n",
       "      <td>setosa</td>\n",
       "    </tr>\n",
       "    <tr>\n",
       "      <th>84</th>\n",
       "      <td>5.4</td>\n",
       "      <td>3.0</td>\n",
       "      <td>1</td>\n",
       "      <td>1.5</td>\n",
       "      <td>False</td>\n",
       "      <td>versicolor</td>\n",
       "      <td>0.895833</td>\n",
       "      <td>False</td>\n",
       "      <td>0.349072</td>\n",
       "      <td>versicolor</td>\n",
       "    </tr>\n",
       "  </tbody>\n",
       "</table>\n",
       "</div>"
      ],
      "text/plain": [
       "     sepal length (cm)  sepal width (cm)  const  petal width (cm)  setosa  \\\n",
       "82                 5.8               2.7      1               1.2   False   \n",
       "134                6.1               2.6      1               1.4   False   \n",
       "114                5.8               2.8      1               2.4   False   \n",
       "42                 4.4               3.2      1               0.2    True   \n",
       "109                7.2               3.6      1               2.5   False   \n",
       "57                 4.9               2.4      1               1.0   False   \n",
       "1                  4.9               3.0      1               0.2    True   \n",
       "70                 5.9               3.2      1               1.8   False   \n",
       "25                 5.0               3.0      1               0.2    True   \n",
       "84                 5.4               3.0      1               1.5   False   \n",
       "\n",
       "        variety  pet_width_predictions  setosa_predictions  setosa_prob  \\\n",
       "82   versicolor               1.327769               False     0.059437   \n",
       "134   virginica               1.590835               False     0.020275   \n",
       "114   virginica               1.279061               False     0.085368   \n",
       "42       setosa               0.083889                True     0.929430   \n",
       "109   virginica               1.889735               False     0.066543   \n",
       "57   versicolor               0.830818               False     0.147721   \n",
       "1        setosa               0.538569                True     0.642773   \n",
       "70   versicolor               1.155681               False     0.258524   \n",
       "25       setosa               0.610022                True     0.585481   \n",
       "84   versicolor               0.895833               False     0.349072   \n",
       "\n",
       "    variety_predictions  \n",
       "82           versicolor  \n",
       "134           virginica  \n",
       "114          versicolor  \n",
       "42               setosa  \n",
       "109           virginica  \n",
       "57           versicolor  \n",
       "1                setosa  \n",
       "70           versicolor  \n",
       "25               setosa  \n",
       "84           versicolor  "
      ]
     },
     "execution_count": 45,
     "metadata": {},
     "output_type": "execute_result"
    }
   ],
   "source": [
    "# PREDICT: which of the 3 varieties is a particular Iris?\n",
    "xcols = [\"sepal length (cm)\", \"sepal width (cm)\", \"const\"]\n",
    "ycol = \"variety\"\n",
    "\n",
    "# 1. initialize model\n",
    "mult_model = LogisticRegression(fit_intercept=False)\n",
    "# 2. fit using train data\n",
    "mult_model.fit(train[xcols], train[ycol])\n",
    "# 3. predict for test data and add predictions as a column\n",
    "test[\"variety_predictions\"] = mult_model.predict(test[xcols])\n",
    "test"
   ]
  },
  {
   "cell_type": "markdown",
   "id": "e6f289e0",
   "metadata": {},
   "source": [
    "What is the accuracy?"
   ]
  },
  {
   "cell_type": "code",
   "execution_count": 46,
   "id": "aadff6a5",
   "metadata": {},
   "outputs": [
    {
     "data": {
      "text/plain": [
       "0.9"
      ]
     },
     "execution_count": 46,
     "metadata": {},
     "output_type": "execute_result"
    }
   ],
   "source": [
    "mult_model.score(test[xcols], test[ycol])"
   ]
  },
  {
   "cell_type": "markdown",
   "id": "a6b7b461",
   "metadata": {},
   "source": [
    "##### Math behind model 3: how does it predict?"
   ]
  },
  {
   "cell_type": "code",
   "execution_count": 47,
   "id": "618e9526",
   "metadata": {},
   "outputs": [
    {
     "data": {
      "text/plain": [
       "array([[-1.80097204,  3.01989635,  0.69404974],\n",
       "       [ 0.64875706, -1.46308696,  1.04354373],\n",
       "       [ 1.15221498, -1.55680939, -1.73759347]])"
      ]
     },
     "execution_count": 47,
     "metadata": {},
     "output_type": "execute_result"
    }
   ],
   "source": [
    "mult_model.coef_"
   ]
  },
  {
   "cell_type": "code",
   "execution_count": 48,
   "id": "6b2975ed",
   "metadata": {},
   "outputs": [
    {
     "data": {
      "text/plain": [
       "array([[-1.80097204,  0.64875706,  1.15221498],\n",
       "       [ 3.01989635, -1.46308696, -1.55680939],\n",
       "       [ 0.69404974,  1.04354373, -1.73759347]])"
      ]
     },
     "execution_count": 48,
     "metadata": {},
     "output_type": "execute_result"
    }
   ],
   "source": [
    "# taking transpose and assigning values to c\n",
    "c = mult_model.coef_.T\n",
    "c"
   ]
  },
  {
   "cell_type": "markdown",
   "id": "0d9cafb1",
   "metadata": {},
   "source": [
    "Each column contains coefficients for scoring a different `variety`."
   ]
  },
  {
   "cell_type": "code",
   "execution_count": 49,
   "id": "4347f214",
   "metadata": {},
   "outputs": [
    {
     "data": {
      "text/plain": [
       "(3, 3)"
      ]
     },
     "execution_count": 49,
     "metadata": {},
     "output_type": "execute_result"
    }
   ],
   "source": [
    "c.shape # 3 varities"
   ]
  },
  {
   "cell_type": "markdown",
   "id": "75cb66ce",
   "metadata": {},
   "source": [
    "How can we determine name of each `variety`? \n",
    "\n",
    "#### `<model object>.classes_`\n",
    "\n",
    "- ndarray containing label for each class.\n",
    "- documentation: https://scikit-learn.org/stable/modules/generated/sklearn.preprocessing.LabelEncoder.html"
   ]
  },
  {
   "cell_type": "code",
   "execution_count": 50,
   "id": "c5dc7d56",
   "metadata": {},
   "outputs": [
    {
     "data": {
      "text/plain": [
       "array(['setosa', 'versicolor', 'virginica'], dtype=object)"
      ]
     },
     "execution_count": 50,
     "metadata": {},
     "output_type": "execute_result"
    }
   ],
   "source": [
    "mult_model.classes_"
   ]
  },
  {
   "cell_type": "code",
   "execution_count": 51,
   "id": "f3fd17a6",
   "metadata": {},
   "outputs": [
    {
     "data": {
      "text/plain": [
       "array([[5.8, 2.7, 1. ],\n",
       "       [6.1, 2.6, 1. ],\n",
       "       [5.8, 2.8, 1. ],\n",
       "       [4.4, 3.2, 1. ],\n",
       "       [7.2, 3.6, 1. ],\n",
       "       [4.9, 2.4, 1. ],\n",
       "       [4.9, 3. , 1. ],\n",
       "       [5.9, 3.2, 1. ],\n",
       "       [5. , 3. , 1. ],\n",
       "       [5.4, 3. , 1. ]])"
      ]
     },
     "execution_count": 51,
     "metadata": {},
     "output_type": "execute_result"
    }
   ],
   "source": [
    "# assign X\n",
    "X = test[xcols].values\n",
    "X"
   ]
  },
  {
   "cell_type": "markdown",
   "id": "e8b09ee5",
   "metadata": {},
   "source": [
    "Extracting \"setosa\" co-efficients."
   ]
  },
  {
   "cell_type": "code",
   "execution_count": 52,
   "id": "d7fceffe",
   "metadata": {},
   "outputs": [
    {
     "data": {
      "text/plain": [
       "array([[-1.80097204],\n",
       "       [ 3.01989635],\n",
       "       [ 0.69404974]])"
      ]
     },
     "execution_count": 52,
     "metadata": {},
     "output_type": "execute_result"
    }
   ],
   "source": [
    "# we need a 2-D array\n",
    "setosa_c = mult_model.coef_.T[:, [0]]\n",
    "setosa_c"
   ]
  },
  {
   "cell_type": "markdown",
   "id": "2a70c00c",
   "metadata": {},
   "source": [
    "Let's use Linear Algebra to do the prediction just for \"setosa\" `y = X @ c`."
   ]
  },
  {
   "cell_type": "code",
   "execution_count": 53,
   "id": "89bd4836",
   "metadata": {},
   "outputs": [
    {
     "data": {
      "text/plain": [
       "array([[-1.59786793],\n",
       "       [-2.44014918],\n",
       "       [-1.2958783 ],\n",
       "       [ 2.43344109],\n",
       "       [-1.40132207],\n",
       "       [-0.88296201],\n",
       "       [ 0.9289758 ],\n",
       "       [-0.26801696],\n",
       "       [ 0.7488786 ],\n",
       "       [ 0.02848978]])"
      ]
     },
     "execution_count": 53,
     "metadata": {},
     "output_type": "execute_result"
    }
   ],
   "source": [
    "X @ setosa_c"
   ]
  },
  {
   "cell_type": "markdown",
   "id": "f1dc05ce",
   "metadata": {},
   "source": [
    "Repeating for other varities."
   ]
  },
  {
   "cell_type": "code",
   "execution_count": 54,
   "id": "9b2af9c6",
   "metadata": {},
   "outputs": [
    {
     "data": {
      "text/plain": [
       "array([[ 0.85599987],\n",
       "       [ 1.19693568],\n",
       "       [ 0.70969118],\n",
       "       [-0.78380349],\n",
       "       [ 0.44748149],\n",
       "       [ 0.71104461],\n",
       "       [-0.16680757],\n",
       "       [ 0.1893321 ],\n",
       "       [-0.10193186],\n",
       "       [ 0.15757096]])"
      ]
     },
     "execution_count": 54,
     "metadata": {},
     "output_type": "execute_result"
    }
   ],
   "source": [
    "# versicolor scores\n",
    "versicolor_c = mult_model.coef_.T[:, [1]] \n",
    "X @ versicolor_c"
   ]
  },
  {
   "cell_type": "code",
   "execution_count": 55,
   "id": "096c4a7f",
   "metadata": {},
   "outputs": [
    {
     "data": {
      "text/plain": [
       "array([[ 0.74186806],\n",
       "       [ 1.24321349],\n",
       "       [ 0.58618712],\n",
       "       [-1.6496376 ],\n",
       "       [ 0.95384058],\n",
       "       [ 0.1719174 ],\n",
       "       [-0.76216824],\n",
       "       [ 0.07868487],\n",
       "       [-0.64694674],\n",
       "       [-0.18606075]])"
      ]
     },
     "execution_count": 55,
     "metadata": {},
     "output_type": "execute_result"
    }
   ],
   "source": [
    "# virginica scores\n",
    "virginica_c = mult_model.coef_.T[:, [2]] \n",
    "X @ virginica_c"
   ]
  },
  {
   "cell_type": "markdown",
   "id": "f817bd39",
   "metadata": {},
   "source": [
    "#### Review: how does `MATRIX @ vertical vector` work?\n",
    "\n",
    "- MATRIX (data) @ vertical vector (coef) gets computed using the below LOOP:\n",
    "    - For each DATA ROW of MATRIX\n",
    "        - ROW (horizontal) @ c (vertical)\n",
    "\n",
    "#### How does `MATRIX 1 @ MATRIX 2` work?\n",
    "\n",
    "- MATRIX 1 (data) @ MATRIX 2 (coef) gets computed using the below NESTED LOOP:\n",
    "    - For each DATA ROW of MATRIX 1\n",
    "        - For each COEFFICIENT COLUMN of MATRIX 2\n",
    "            - compute the vector @ vector (dot product)\n",
    "            \n",
    "Computing all predictions.            "
   ]
  },
  {
   "cell_type": "code",
   "execution_count": 56,
   "id": "96e6c1ad",
   "metadata": {},
   "outputs": [
    {
     "data": {
      "text/plain": [
       "array([[-1.59786793,  0.85599987,  0.74186806],\n",
       "       [-2.44014918,  1.19693568,  1.24321349],\n",
       "       [-1.2958783 ,  0.70969118,  0.58618712],\n",
       "       [ 2.43344109, -0.78380349, -1.6496376 ],\n",
       "       [-1.40132207,  0.44748149,  0.95384058],\n",
       "       [-0.88296201,  0.71104461,  0.1719174 ],\n",
       "       [ 0.9289758 , -0.16680757, -0.76216824],\n",
       "       [-0.26801696,  0.1893321 ,  0.07868487],\n",
       "       [ 0.7488786 , -0.10193186, -0.64694674],\n",
       "       [ 0.02848978,  0.15757096, -0.18606075]])"
      ]
     },
     "execution_count": 56,
     "metadata": {},
     "output_type": "execute_result"
    }
   ],
   "source": [
    "# all varities\n",
    "c = mult_model.coef_.T\n",
    "X @ c\n",
    "# Largest score determines the classification prediction output"
   ]
  },
  {
   "cell_type": "code",
   "execution_count": 57,
   "id": "c5312de8",
   "metadata": {},
   "outputs": [
    {
     "data": {
      "text/plain": [
       "82     versicolor\n",
       "134     virginica\n",
       "114    versicolor\n",
       "42         setosa\n",
       "109     virginica\n",
       "57     versicolor\n",
       "1          setosa\n",
       "70     versicolor\n",
       "25         setosa\n",
       "84     versicolor\n",
       "Name: variety_predictions, dtype: object"
      ]
     },
     "execution_count": 57,
     "metadata": {},
     "output_type": "execute_result"
    }
   ],
   "source": [
    "test[\"variety_predictions\"]"
   ]
  },
  {
   "cell_type": "markdown",
   "id": "915a84c0",
   "metadata": {},
   "source": [
    "### `max`, `argmax` methods on `np.array` \n",
    "\n",
    "- `max`: returns max value\n",
    "- `argmax`: returns index of the max value\n",
    "- same idea for min, argmin"
   ]
  },
  {
   "cell_type": "code",
   "execution_count": 58,
   "id": "9a176050",
   "metadata": {},
   "outputs": [
    {
     "data": {
      "text/plain": [
       "9"
      ]
     },
     "execution_count": 58,
     "metadata": {},
     "output_type": "execute_result"
    }
   ],
   "source": [
    "a = np.array([1, 2, 9, 8, 7])\n",
    "a.max()"
   ]
  },
  {
   "cell_type": "code",
   "execution_count": 59,
   "id": "1d7a2214",
   "metadata": {},
   "outputs": [
    {
     "data": {
      "text/plain": [
       "2"
      ]
     },
     "execution_count": 59,
     "metadata": {},
     "output_type": "execute_result"
    }
   ],
   "source": [
    "a.argmax()"
   ]
  },
  {
   "cell_type": "markdown",
   "id": "a5d1c730",
   "metadata": {},
   "source": [
    "Let's convert `X @ c` to actual label predictions."
   ]
  },
  {
   "cell_type": "code",
   "execution_count": 60,
   "id": "579d769c",
   "metadata": {},
   "outputs": [
    {
     "data": {
      "text/plain": [
       "9"
      ]
     },
     "execution_count": 60,
     "metadata": {},
     "output_type": "execute_result"
    }
   ],
   "source": [
    "# gives the index of tha max value\n",
    "(X @ c).argmax()"
   ]
  },
  {
   "cell_type": "code",
   "execution_count": 61,
   "id": "05e6c697",
   "metadata": {},
   "outputs": [
    {
     "data": {
      "text/plain": [
       "array([1, 2, 1, 0, 2, 1, 0, 1, 0, 1])"
      ]
     },
     "execution_count": 61,
     "metadata": {},
     "output_type": "execute_result"
    }
   ],
   "source": [
    "# we want max of each row\n",
    "(X @ c).argmax(axis=1)"
   ]
  },
  {
   "cell_type": "code",
   "execution_count": 62,
   "id": "7d89d2f9",
   "metadata": {},
   "outputs": [
    {
     "data": {
      "text/plain": [
       "array(['setosa', 'versicolor', 'virginica'], dtype=object)"
      ]
     },
     "execution_count": 62,
     "metadata": {},
     "output_type": "execute_result"
    }
   ],
   "source": [
    "mult_model.classes_"
   ]
  },
  {
   "cell_type": "markdown",
   "id": "eea23815",
   "metadata": {},
   "source": [
    "`<model obj>.classes_` can return labels given a list of indices."
   ]
  },
  {
   "cell_type": "code",
   "execution_count": 63,
   "id": "eee36c14",
   "metadata": {},
   "outputs": [
    {
     "data": {
      "text/plain": [
       "array(['setosa', 'versicolor', 'virginica', 'setosa', 'versicolor',\n",
       "       'virginica'], dtype=object)"
      ]
     },
     "execution_count": 63,
     "metadata": {},
     "output_type": "execute_result"
    }
   ],
   "source": [
    "mult_model.classes_[[0, 1, 2, 0, 1, 2]]"
   ]
  },
  {
   "cell_type": "markdown",
   "id": "9056a031",
   "metadata": {},
   "source": [
    "Putting `argmax` and `classes_` together."
   ]
  },
  {
   "cell_type": "code",
   "execution_count": 64,
   "id": "c953b4cb",
   "metadata": {},
   "outputs": [
    {
     "data": {
      "text/plain": [
       "array(['versicolor', 'virginica', 'versicolor', 'setosa', 'virginica',\n",
       "       'versicolor', 'setosa', 'versicolor', 'setosa', 'versicolor'],\n",
       "      dtype=object)"
      ]
     },
     "execution_count": 64,
     "metadata": {},
     "output_type": "execute_result"
    }
   ],
   "source": [
    "mult_model.classes_[(X @ c).argmax(axis=1)]"
   ]
  },
  {
   "cell_type": "code",
   "execution_count": 65,
   "id": "58f73217",
   "metadata": {},
   "outputs": [
    {
     "data": {
      "text/plain": [
       "0    versicolor\n",
       "1     virginica\n",
       "2    versicolor\n",
       "3        setosa\n",
       "4     virginica\n",
       "5    versicolor\n",
       "6        setosa\n",
       "7    versicolor\n",
       "8        setosa\n",
       "9    versicolor\n",
       "dtype: object"
      ]
     },
     "execution_count": 65,
     "metadata": {},
     "output_type": "execute_result"
    }
   ],
   "source": [
    "pd.Series(mult_model.classes_[(X @ c).argmax(axis=1)])"
   ]
  },
  {
   "cell_type": "code",
   "execution_count": 66,
   "id": "3e98b6e4",
   "metadata": {},
   "outputs": [
    {
     "data": {
      "text/plain": [
       "82     versicolor\n",
       "134     virginica\n",
       "114    versicolor\n",
       "42         setosa\n",
       "109     virginica\n",
       "57     versicolor\n",
       "1          setosa\n",
       "70     versicolor\n",
       "25         setosa\n",
       "84     versicolor\n",
       "Name: variety_predictions, dtype: object"
      ]
     },
     "execution_count": 66,
     "metadata": {},
     "output_type": "execute_result"
    }
   ],
   "source": [
    "test[\"variety_predictions\"]"
   ]
  }
 ],
 "metadata": {
  "kernelspec": {
   "display_name": "Python 3 (ipykernel)",
   "language": "python",
   "name": "python3"
  },
  "language_info": {
   "codemirror_mode": {
    "name": "ipython",
    "version": 3
   },
   "file_extension": ".py",
   "mimetype": "text/x-python",
   "name": "python",
   "nbconvert_exporter": "python",
   "pygments_lexer": "ipython3",
   "version": "3.10.6"
  }
 },
 "nbformat": 4,
 "nbformat_minor": 5
}
