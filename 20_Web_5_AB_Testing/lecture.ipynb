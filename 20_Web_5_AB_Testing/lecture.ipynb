{
 "cells": [
  {
   "cell_type": "code",
   "execution_count": 1,
   "id": "875971bb-7baa-437b-9b1c-6f1c6269bedf",
   "metadata": {},
   "outputs": [],
   "source": [
    "import pandas as pd\n",
    "# new import statement: requires pip3 install scipy\n",
    "from scipy import stats"
   ]
  },
  {
   "cell_type": "markdown",
   "id": "818af0d5",
   "metadata": {},
   "source": [
    "# Web 5: A/B testing"
   ]
  },
  {
   "cell_type": "code",
   "execution_count": 2,
   "id": "4df2692d",
   "metadata": {},
   "outputs": [
    {
     "data": {
      "text/html": [
       "<div>\n",
       "<style scoped>\n",
       "    .dataframe tbody tr th:only-of-type {\n",
       "        vertical-align: middle;\n",
       "    }\n",
       "\n",
       "    .dataframe tbody tr th {\n",
       "        vertical-align: top;\n",
       "    }\n",
       "\n",
       "    .dataframe thead th {\n",
       "        text-align: right;\n",
       "    }\n",
       "</style>\n",
       "<table border=\"1\" class=\"dataframe\">\n",
       "  <thead>\n",
       "    <tr style=\"text-align: right;\">\n",
       "      <th></th>\n",
       "      <th>click</th>\n",
       "      <th>no-click</th>\n",
       "    </tr>\n",
       "  </thead>\n",
       "  <tbody>\n",
       "    <tr>\n",
       "      <th>A</th>\n",
       "      <td>50</td>\n",
       "      <td>50</td>\n",
       "    </tr>\n",
       "    <tr>\n",
       "      <th>B</th>\n",
       "      <td>55</td>\n",
       "      <td>45</td>\n",
       "    </tr>\n",
       "  </tbody>\n",
       "</table>\n",
       "</div>"
      ],
      "text/plain": [
       "   click  no-click\n",
       "A     50        50\n",
       "B     55        45"
      ]
     },
     "execution_count": 2,
     "metadata": {},
     "output_type": "execute_result"
    }
   ],
   "source": [
    "df = pd.DataFrame({\n",
    "    \"click\":    {\"A\": 50, \"B\": 55},\n",
    "    \"no-click\": {\"A\": 50, \"B\": 45}\n",
    "})\n",
    "df\n",
    "# Which has the higher CTR A or B?"
   ]
  },
  {
   "cell_type": "code",
   "execution_count": 3,
   "id": "7cfd6524",
   "metadata": {},
   "outputs": [
    {
     "data": {
      "text/plain": [
       "0.5712421394829712"
      ]
     },
     "execution_count": 3,
     "metadata": {},
     "output_type": "execute_result"
    }
   ],
   "source": [
    "_, pvalue = stats.fisher_exact(df)\n",
    "pvalue \n",
    "# no evidence that A and B are difference because pvalue is not less than 5%"
   ]
  },
  {
   "cell_type": "markdown",
   "id": "6feb87ad",
   "metadata": {},
   "source": [
    "### Two situations when pvalue will be lower than significance threshold\n",
    "\n",
    "1. Sample size is the same, but skew is very heavy --- unlikely to have that by chance\n",
    "2. Sample size is large, but skew is small "
   ]
  },
  {
   "cell_type": "code",
   "execution_count": 4,
   "id": "0c991824",
   "metadata": {},
   "outputs": [
    {
     "data": {
      "text/plain": [
       "0.00042033045869994034"
      ]
     },
     "execution_count": 4,
     "metadata": {},
     "output_type": "execute_result"
    }
   ],
   "source": [
    "# Scenario 1: \n",
    "# Sample size is the same, but skew is very heavy --- \n",
    "# unlikely to have that by chance\n",
    "\n",
    "df = pd.DataFrame({\n",
    "    \"click\":    {\"A\": 50, \"B\": 75},\n",
    "    \"no-click\": {\"A\": 50, \"B\": 25}\n",
    "})\n",
    "_, pvalue = stats.fisher_exact(df)\n",
    "pvalue"
   ]
  },
  {
   "cell_type": "code",
   "execution_count": 5,
   "id": "d88fe9f6",
   "metadata": {},
   "outputs": [
    {
     "data": {
      "text/plain": [
       "0.02820356890423392"
      ]
     },
     "execution_count": 5,
     "metadata": {},
     "output_type": "execute_result"
    }
   ],
   "source": [
    "# Scenario 2: \n",
    "# Sample size is large, but skew is small \n",
    "\n",
    "df = pd.DataFrame({\n",
    "    \"click\":    {\"A\": 500, \"B\": 550},\n",
    "    \"no-click\": {\"A\": 500, \"B\": 450}\n",
    "})\n",
    "_, pvalue = stats.fisher_exact(df)\n",
    "pvalue"
   ]
  }
 ],
 "metadata": {
  "kernelspec": {
   "display_name": "Python 3 (ipykernel)",
   "language": "python",
   "name": "python3"
  },
  "language_info": {
   "codemirror_mode": {
    "name": "ipython",
    "version": 3
   },
   "file_extension": ".py",
   "mimetype": "text/x-python",
   "name": "python",
   "nbconvert_exporter": "python",
   "pygments_lexer": "ipython3",
   "version": "3.10.6"
  }
 },
 "nbformat": 4,
 "nbformat_minor": 5
}
