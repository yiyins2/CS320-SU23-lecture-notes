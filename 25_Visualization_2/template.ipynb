{
 "cells": [
  {
   "cell_type": "markdown",
   "id": "471a762b",
   "metadata": {},
   "source": [
    "# Visualization 2\n",
    "\n",
    "- Advanced visualization example: https://trailsofwind.figures.cc/"
   ]
  },
  {
   "cell_type": "markdown",
   "id": "ffb0b058",
   "metadata": {},
   "source": [
    "### Geographic Data / Maps\n",
    "\n",
    "#### Installation\n",
    "```python\n",
    "pip3 install --upgrade pip\n",
    "pip3 install geopandas shapely descartes geopy netaddr\n",
    "sudo apt install -y python3-rtree\n",
    "```\n",
    "\n",
    "- `import geopandas as gpd`\n",
    "- `.shp` => Shapefile\n",
    "- `gpd.datasets.get_path(<shp file path>)`:\n",
    "    - example: `gpd.datasets.get_path(\"naturalearth_lowres\")`\n",
    "- `gpd.read_file(<path>)`"
   ]
  },
  {
   "cell_type": "code",
   "execution_count": null,
   "id": "0cd907b5-9b44-40b0-ac0e-3908d90b9762",
   "metadata": {},
   "outputs": [],
   "source": [
    "# new import statements\n",
    "import geopandas as gpd\n",
    "\n",
    "from shapely.geometry import Point, Polygon, box"
   ]
  },
  {
   "cell_type": "code",
   "execution_count": null,
   "id": "a020dd8a",
   "metadata": {},
   "outputs": [],
   "source": [
    "!ls /home/suophia/.local/lib/python3.10/site-packages/geopandas/datasets"
   ]
  },
  {
   "cell_type": "code",
   "execution_count": null,
   "id": "3d763a94",
   "metadata": {},
   "outputs": [],
   "source": [
    "!ls /home/suophia/.local/lib/python3.10/site-packages/geopandas/datasets/naturalearth_lowres"
   ]
  },
  {
   "cell_type": "code",
   "execution_count": null,
   "id": "273ed288",
   "metadata": {},
   "outputs": [],
   "source": [
    "# Find the path for \"naturalearth_lowres\"\n",
    "path = ???\n",
    "# Read the shapefile for \"naturalearth_lowres\" and\n",
    "# set index using \"name\" column\n",
    "gdf = ???"
   ]
  },
  {
   "cell_type": "code",
   "execution_count": null,
   "id": "661c3ba5",
   "metadata": {},
   "outputs": [],
   "source": [
    "gdf.head()"
   ]
  },
  {
   "cell_type": "code",
   "execution_count": null,
   "id": "9221e1ba",
   "metadata": {},
   "outputs": [],
   "source": [
    "type(gdf).__mro__"
   ]
  },
  {
   "cell_type": "code",
   "execution_count": null,
   "id": "25797a57",
   "metadata": {},
   "outputs": [],
   "source": [
    "# All shapefiles have a column called \"geometry\"\n",
    "gdf[???]"
   ]
  },
  {
   "cell_type": "code",
   "execution_count": null,
   "id": "d9f91f9c",
   "metadata": {},
   "outputs": [],
   "source": [
    "type(gdf[\"geometry\"]).__mro__"
   ]
  },
  {
   "cell_type": "code",
   "execution_count": null,
   "id": "ea15791b",
   "metadata": {},
   "outputs": [],
   "source": [
    "# First country's geometry\n",
    "print(gdf.???)\n",
    "gdf[\"geometry\"].???"
   ]
  },
  {
   "cell_type": "code",
   "execution_count": null,
   "id": "52447baf",
   "metadata": {},
   "outputs": [],
   "source": [
    "# Second country's geometry\n",
    "print(gdf.index[1])\n",
    "gdf[\"geometry\"].iat[1]"
   ]
  },
  {
   "cell_type": "code",
   "execution_count": null,
   "id": "0f643a95",
   "metadata": {},
   "outputs": [],
   "source": [
    "# Geometry for \"United States of America\"\n",
    "gdf.???"
   ]
  },
  {
   "cell_type": "code",
   "execution_count": null,
   "id": "90f03ea1",
   "metadata": {},
   "outputs": [],
   "source": [
    "# Type of Tanzania's geometry\n",
    "print(gdf.index[1], type(gdf[\"geometry\"].iat[1]))\n",
    "\n",
    "# Type of United States of America's geometry\n",
    "print(\"United States of America\", type(gdf.at[\"United States of America\", \"geometry\"]))"
   ]
  },
  {
   "cell_type": "markdown",
   "id": "40b3f821-ff60-4221-a6ce-0ee24c89ea50",
   "metadata": {},
   "source": [
    "- `gdf.plot(figsize=(<width>, <height>), column=<column name>)`\n",
    "- `ax.set_axis_off()`"
   ]
  },
  {
   "cell_type": "code",
   "execution_count": null,
   "id": "6ef66ae4",
   "metadata": {},
   "outputs": [],
   "source": [
    "ax = gdf.???(figsize=(8,4))"
   ]
  },
  {
   "cell_type": "code",
   "execution_count": null,
   "id": "fa07e031",
   "metadata": {},
   "outputs": [],
   "source": [
    "# Set facecolor=\"0.7\", edgecolor=\"black\"\n",
    "gdf.plot(figsize=(8,4), ???)\n",
    "# Turn off the axes\n",
    "???"
   ]
  },
  {
   "cell_type": "code",
   "execution_count": null,
   "id": "58da716e",
   "metadata": {},
   "outputs": [],
   "source": [
    "# Color the map based on population column and set cmap=\"cool\"\n",
    "ax = gdf.plot(figsize=(8,4), ???)\n",
    "ax.set_axis_off()"
   ]
  },
  {
   "cell_type": "markdown",
   "id": "c7a85431-bdab-46ab-8e29-5f91d8a2e0bc",
   "metadata": {},
   "source": [
    "#### Create a map where countries with >100M people are red, others are gray."
   ]
  },
  {
   "cell_type": "code",
   "execution_count": null,
   "id": "11214c90",
   "metadata": {},
   "outputs": [],
   "source": [
    "# Create a map where countries with >100M people are red, others are gray\n",
    "\n",
    "# Add a new column called color to gdf and set default value to \"lightgray\"\n",
    "gdf[???] = ???\n",
    "# Boolean indexing to set color to red for countries with \"pop_est\" > 1e8\n",
    "gdf.??? = ???\n",
    "# Create the plot\n",
    "ax = gdf.plot(figsize=(8,4), ???)\n",
    "ax.set_axis_off()"
   ]
  },
  {
   "cell_type": "markdown",
   "id": "39c95c23",
   "metadata": {},
   "source": [
    "### Shapely shapes\n",
    "\n",
    "- `from shapely.geometry import Point, Polygon, box`\n",
    "- `Polygon([(<x1>, <y1>), (<x2>, <y2>), (<x3>, <y3>), ...])`\n",
    "- `box(<minx>, <miny>, <maxx>, <maxy>)`\n",
    "- `Point(<x>, <y>)`\n",
    "- `<shapely object>.buffer(<size>)`\n",
    "    - example: `Point(5, 5).buffer(3)` creates a circle\n",
    "- Shapely methods:\n",
    "    - `union`:  any point that is in either shape (OR)\n",
    "    - `intersection`: any point that is in both shapes (AND)\n",
    "    - `difference`: subtraction\n",
    "    - `intersects`: do they overlap? return T/F"
   ]
  },
  {
   "cell_type": "code",
   "execution_count": null,
   "id": "61716db9",
   "metadata": {},
   "outputs": [],
   "source": [
    "triangle = Polygon(???)   # triangle\n",
    "triangle"
   ]
  },
  {
   "cell_type": "code",
   "execution_count": null,
   "id": "bddd958d-6fde-42df-8ae3-459e25fa3f04",
   "metadata": {},
   "outputs": [],
   "source": [
    "box1 = box(???)\n",
    "box1"
   ]
  },
  {
   "cell_type": "code",
   "execution_count": null,
   "id": "e5308c61-b1fa-433b-bb05-485ca7bd23da",
   "metadata": {},
   "outputs": [],
   "source": [
    "point = Point(???)\n",
    "point"
   ]
  },
  {
   "cell_type": "code",
   "execution_count": null,
   "id": "f015d27e-8fd8-446f-992f-4f7a88cc582d",
   "metadata": {},
   "outputs": [],
   "source": [
    "circle = point.???\n",
    "circle"
   ]
  },
  {
   "cell_type": "code",
   "execution_count": null,
   "id": "800cc48d-c241-4439-9161-ff309e50373f",
   "metadata": {},
   "outputs": [],
   "source": [
    "triangle_buffer = triangle.???\n",
    "triangle_buffer"
   ]
  },
  {
   "cell_type": "code",
   "execution_count": null,
   "id": "d1c5f9f7",
   "metadata": {},
   "outputs": [],
   "source": [
    "triangle.???(box1)   # any point that is in either shape (OR)"
   ]
  },
  {
   "cell_type": "code",
   "execution_count": null,
   "id": "8a2d3357",
   "metadata": {},
   "outputs": [],
   "source": [
    "triangle.???(box1)   # any point that is in both shapes (AND)"
   ]
  },
  {
   "cell_type": "code",
   "execution_count": null,
   "id": "153a6b72",
   "metadata": {},
   "outputs": [],
   "source": [
    "triangle.???(box1)   # subtraction (triangle subtracts box1)"
   ]
  },
  {
   "cell_type": "code",
   "execution_count": null,
   "id": "9082b54a",
   "metadata": {},
   "outputs": [],
   "source": [
    "box1.???(triangle)   # subtraction  (box1 subtracts triangle)"
   ]
  },
  {
   "cell_type": "code",
   "execution_count": null,
   "id": "59493a5b",
   "metadata": {},
   "outputs": [],
   "source": [
    "triangle.???(box1) # do they overlap?"
   ]
  },
  {
   "cell_type": "code",
   "execution_count": null,
   "id": "7a87b70f",
   "metadata": {},
   "outputs": [],
   "source": [
    "# is the point \"near\" (<6 units) the triangle?\n",
    "triangle.???(point.???(6))"
   ]
  },
  {
   "cell_type": "code",
   "execution_count": null,
   "id": "e04daa60",
   "metadata": {},
   "outputs": [],
   "source": [
    "triangle.???(point.???(6))"
   ]
  },
  {
   "cell_type": "code",
   "execution_count": null,
   "id": "410b08cf",
   "metadata": {},
   "outputs": [],
   "source": [
    "# Europe bounding box\n",
    "b = box(-10.67, 34.5, 31.55, 71.05)\n",
    "\n",
    "# attempt 1\n",
    "???"
   ]
  },
  {
   "cell_type": "code",
   "execution_count": null,
   "id": "108b8b8a",
   "metadata": {},
   "outputs": [],
   "source": [
    "eur1 = gdf.???\n",
    "eur1.plot()"
   ]
  },
  {
   "cell_type": "code",
   "execution_count": null,
   "id": "55a76a00",
   "metadata": {},
   "outputs": [],
   "source": [
    "eur2 = ???\n",
    "eur2"
   ]
  },
  {
   "cell_type": "code",
   "execution_count": null,
   "id": "08c59df7",
   "metadata": {},
   "outputs": [],
   "source": [
    "eur2.plot()"
   ]
  },
  {
   "cell_type": "code",
   "execution_count": null,
   "id": "2e82a9c6",
   "metadata": {},
   "outputs": [],
   "source": []
  }
 ],
 "metadata": {
  "kernelspec": {
   "display_name": "Python 3 (ipykernel)",
   "language": "python",
   "name": "python3"
  },
  "language_info": {
   "codemirror_mode": {
    "name": "ipython",
    "version": 3
   },
   "file_extension": ".py",
   "mimetype": "text/x-python",
   "name": "python",
   "nbconvert_exporter": "python",
   "pygments_lexer": "ipython3",
   "version": "3.10.6"
  }
 },
 "nbformat": 4,
 "nbformat_minor": 5
}
