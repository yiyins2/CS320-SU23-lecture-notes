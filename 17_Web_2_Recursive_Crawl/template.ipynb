{
 "cells": [
  {
   "cell_type": "code",
   "execution_count": null,
   "id": "6f9bec30-8c27-4cc6-8e64-b44c46bd34c6",
   "metadata": {},
   "outputs": [],
   "source": [
    "from selenium.webdriver.chrome.options import Options\n",
    "from selenium.webdriver.chrome.service import Service\n",
    "from selenium.webdriver.common.by import By\n",
    "from selenium.common.exceptions import NoSuchElementException\n",
    "from selenium import webdriver\n",
    "\n",
    "from IPython.display import display, Image\n",
    "\n",
    "import time\n",
    "import pandas as pd\n",
    "\n",
    "from collections import deque\n",
    "from graphviz import Digraph"
   ]
  },
  {
   "cell_type": "code",
   "execution_count": null,
   "id": "371ee5f8-22fd-4bdc-8878-b8467f53223d",
   "metadata": {},
   "outputs": [],
   "source": [
    "options = Options()\n",
    "options.headless = True # don't use a GUI (necessary on a VM)\n",
    "service = Service(executable_path=\"chromium.chromedriver\")\n",
    "b = webdriver.Chrome(options=options, service=service)"
   ]
  },
  {
   "cell_type": "markdown",
   "id": "aacab1b9",
   "metadata": {},
   "source": [
    "# Web 2: Recursive Crawl\n",
    "\n",
    "- crawling: process of finding all the webpages inside a website\n",
    "\n",
    "example: https://tyler.caraza-harter.com/cs320/crawl/practice.html"
   ]
  },
  {
   "cell_type": "code",
   "execution_count": null,
   "id": "139fe7ce",
   "metadata": {
    "tags": []
   },
   "outputs": [],
   "source": [
    "# TODO: initialize url, send GET request, and display page source\n",
    "url = \"https://tyler.caraza-harter.com/cs320/crawl/practice1/1.html\"\n",
    "???\n",
    "???"
   ]
  },
  {
   "cell_type": "code",
   "execution_count": null,
   "id": "65b4c862-55a3-4bcf-9b20-7f9a201d4d8c",
   "metadata": {},
   "outputs": [],
   "source": [
    "def show_screen(width, height):\n",
    "    pass"
   ]
  },
  {
   "cell_type": "code",
   "execution_count": null,
   "id": "e5ef0aa0",
   "metadata": {},
   "outputs": [],
   "source": [
    "# TODO: show the screen\n",
    "show_screen(300, 200)"
   ]
  },
  {
   "cell_type": "markdown",
   "id": "d59fda68",
   "metadata": {},
   "source": [
    "### Final all hyperlinks\n",
    "\n",
    "- Selenium operations:\n",
    "    - `b.get(URL)`: sends HTTP GET request to the URL\n",
    "    - `b.page_source`: HTML source for the page\n",
    "    - `b.find_elements(\"id\", <ID>)`: searches for a specific element that matches the \"id\"\n",
    "    - `b.find_elements(\"tag name\", <TAG>)`: searches for a specific element using corresponding tag name\n",
    "    - `b.find_element` versus `b.find_elements`:\n",
    "        - `find_element` gives first match\n",
    "        - `find_elements` gives all matches\n",
    "    - `<element obj>.text`: gives text associated with that element   \n",
    "    - `<element obj>.get_attribute(<attribute>)`: gives attribute value; for ex: `<anchor_obj>.get_attribute(\"href\")`\n",
    "    \n",
    "    - `b.save_screenshot(\"some_file.png\")`: saves a screenshot of the rendered page\n",
    "    - `b.set_window_size(<width>, <height>)`: controls size of the image\n",
    "    - import statement: `from IPython.display import display, Image`: helps us show the screenshot as an image inside the notebook\n",
    "    - `button_oject.click()`: enables us to click the button\n",
    "    - `text_object.send_keys()`: enables us to send data to textbox"
   ]
  },
  {
   "cell_type": "code",
   "execution_count": null,
   "id": "3e30d08c",
   "metadata": {},
   "outputs": [],
   "source": [
    "a_elements = b.find_elements(???, ???)\n",
    "# for ???:\n",
    "#     print(???, ???)"
   ]
  },
  {
   "cell_type": "code",
   "execution_count": null,
   "id": "60f66f53",
   "metadata": {},
   "outputs": [],
   "source": [
    "# TODO: Generalize to a function\n",
    "def get_children(url):\n",
    "    \"\"\"\n",
    "    Finds all hyperlinks in the given url by sending GET request and parsing page source.\n",
    "    Returns a list of children URLs.\n",
    "    \"\"\"\n",
    "    pass\n",
    "\n",
    "url = \"https://tyler.caraza-harter.com/cs320/crawl/practice1/1.html\"\n",
    "get_children(url)"
   ]
  },
  {
   "cell_type": "markdown",
   "id": "9b5a130d",
   "metadata": {},
   "source": [
    "### Breadth First Search\n",
    "\n",
    "- for crawling, there is no specific \"destination\", as we need to find all the webpages."
   ]
  },
  {
   "cell_type": "code",
   "execution_count": null,
   "id": "c7fc7f73",
   "metadata": {},
   "outputs": [],
   "source": [
    "start_url = \"https://tyler.caraza-harter.com/cs320/crawl/practice1/1.html\"\n",
    "#start_url = \"https://tyler.caraza-harter.com/cs320/crawl/practice7/1.html\"\n",
    "\n",
    "\n",
    " # Why use a set to keep track of visited nodes?\n",
    "\n",
    "# TODO: create a Digraph\n",
    "\n",
    "while len(to_visit) > 0: \n",
    "    \n",
    "    \n",
    "    # TODO: add current node to digraph\n",
    "    \n",
    "    \n",
    "    # TODO: how do we get all the children?\n",
    "    \n",
    "    \n",
    "    #show_screen(300, 200)\n",
    "    \n",
    "    \n",
    "        # TODO: add an edge"
   ]
  }
 ],
 "metadata": {
  "kernelspec": {
   "display_name": "Python 3 (ipykernel)",
   "language": "python",
   "name": "python3"
  },
  "language_info": {
   "codemirror_mode": {
    "name": "ipython",
    "version": 3
   },
   "file_extension": ".py",
   "mimetype": "text/x-python",
   "name": "python",
   "nbconvert_exporter": "python",
   "pygments_lexer": "ipython3",
   "version": "3.10.6"
  }
 },
 "nbformat": 4,
 "nbformat_minor": 5
}
