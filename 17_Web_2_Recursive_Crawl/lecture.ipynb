{
 "cells": [
  {
   "cell_type": "code",
   "execution_count": 1,
   "id": "6f9bec30-8c27-4cc6-8e64-b44c46bd34c6",
   "metadata": {},
   "outputs": [],
   "source": [
    "from selenium.webdriver.chrome.options import Options\n",
    "from selenium.webdriver.chrome.service import Service\n",
    "from selenium.webdriver.common.by import By\n",
    "from selenium.common.exceptions import NoSuchElementException\n",
    "from selenium import webdriver\n",
    "\n",
    "from IPython.display import display, Image\n",
    "\n",
    "import time\n",
    "import pandas as pd\n",
    "\n",
    "from collections import deque\n",
    "from graphviz import Digraph"
   ]
  },
  {
   "cell_type": "code",
   "execution_count": 2,
   "id": "371ee5f8-22fd-4bdc-8878-b8467f53223d",
   "metadata": {},
   "outputs": [],
   "source": [
    "options = Options()\n",
    "options.headless = True # don't use a GUI (necessary on a VM)\n",
    "service = Service(executable_path=\"chromium.chromedriver\")\n",
    "b = webdriver.Chrome(options=options, service=service)"
   ]
  },
  {
   "cell_type": "markdown",
   "id": "aacab1b9",
   "metadata": {},
   "source": [
    "# Web 2: Recursive Crawl\n",
    "\n",
    "- crawling: process of finding all the webpages inside a website\n",
    "\n",
    "example: https://tyler.caraza-harter.com/cs320/crawl/practice.html"
   ]
  },
  {
   "cell_type": "code",
   "execution_count": 3,
   "id": "139fe7ce",
   "metadata": {
    "tags": []
   },
   "outputs": [
    {
     "name": "stdout",
     "output_type": "stream",
     "text": [
      "<html><head></head><body>\n",
      "<h1>Node: 1</h1>\n",
      "<h3>Children:</h3>\n",
      "<ul>\n",
      "<li><a href=\"2.html\">2</a></li><li><a href=\"3.html\">3</a></li></ul>\n",
      "\n",
      "</body></html>\n"
     ]
    }
   ],
   "source": [
    "# TODO: initialize url, send GET request, and display page source\n",
    "url = \"https://tyler.caraza-harter.com/cs320/crawl/practice1/1.html\"\n",
    "b.get(url)\n",
    "print(b.page_source)"
   ]
  },
  {
   "cell_type": "code",
   "execution_count": 4,
   "id": "65b4c862-55a3-4bcf-9b20-7f9a201d4d8c",
   "metadata": {},
   "outputs": [],
   "source": [
    "def show_screen(width, height):\n",
    "    b.set_window_size(width, height)\n",
    "    b.save_screenshot(\"out.png\")\n",
    "    display(Image(\"out.png\"))"
   ]
  },
  {
   "cell_type": "code",
   "execution_count": 5,
   "id": "e5ef0aa0",
   "metadata": {},
   "outputs": [
    {
     "data": {
      "image/png": "[encoded data removed]",
      "text/plain": [
       "<IPython.core.display.Image object>"
      ]
     },
     "metadata": {},
     "output_type": "display_data"
    }
   ],
   "source": [
    "# TODO: show the screen\n",
    "show_screen(300, 200)"
   ]
  },
  {
   "cell_type": "markdown",
   "id": "d59fda68",
   "metadata": {},
   "source": [
    "### Final all hyperlinks\n",
    "\n",
    "- Selenium operations:\n",
    "    - `b.get(URL)`: sends HTTP GET request to the URL\n",
    "    - `b.page_source`: HTML source for the page\n",
    "    - `b.find_elements(\"id\", <ID>)`: searches for a specific element that matches the \"id\"\n",
    "    - `b.find_elements(\"tag name\", <TAG>)`: searches for a specific element using corresponding tag name\n",
    "    - `b.find_element` versus `b.find_elements`:\n",
    "        - `find_element` gives first match\n",
    "        - `find_elements` gives all matches\n",
    "    - `<element obj>.text`: gives text associated with that element   \n",
    "    - `<element obj>.get_attribute(<attribute>)`: gives attribute value; for ex: `<anchor_obj>.get_attribute(\"href\")`\n",
    "    \n",
    "    - `b.save_screenshot(\"some_file.png\")`: saves a screenshot of the rendered page\n",
    "    - `b.set_window_size(<width>, <height>)`: controls size of the image\n",
    "    - import statement: `from IPython.display import display, Image`: helps us show the screenshot as an image inside the notebook\n",
    "    - `button_oject.click()`: enables us to click the button\n",
    "    - `text_object.send_keys()`: enables us to send data to textbox"
   ]
  },
  {
   "cell_type": "code",
   "execution_count": 6,
   "id": "3e30d08c",
   "metadata": {},
   "outputs": [
    {
     "name": "stdout",
     "output_type": "stream",
     "text": [
      "2 https://tyler.caraza-harter.com/cs320/crawl/practice1/2.html\n",
      "3 https://tyler.caraza-harter.com/cs320/crawl/practice1/3.html\n"
     ]
    }
   ],
   "source": [
    "a_elements = b.find_elements(\"tag name\", \"a\")\n",
    "for a_element in a_elements:\n",
    "    print(a_element.text, a_element.get_attribute(\"href\"))"
   ]
  },
  {
   "cell_type": "code",
   "execution_count": 7,
   "id": "60f66f53",
   "metadata": {},
   "outputs": [
    {
     "data": {
      "text/plain": [
       "['https://tyler.caraza-harter.com/cs320/crawl/practice1/2.html',\n",
       " 'https://tyler.caraza-harter.com/cs320/crawl/practice1/3.html']"
      ]
     },
     "execution_count": 7,
     "metadata": {},
     "output_type": "execute_result"
    }
   ],
   "source": [
    "# TODO: Generalize to a function\n",
    "def get_children(url):\n",
    "    \"\"\"\n",
    "    Finds all hyperlinks in the given url by sending GET request and parsing page source.\n",
    "    Returns a list of children URLs.\n",
    "    \"\"\"\n",
    "    b.get(url)\n",
    "    children = []\n",
    "    for a_element in b.find_elements(\"tag name\", \"a\"):\n",
    "        children.append(a_element.get_attribute(\"href\"))\n",
    "    return children\n",
    "\n",
    "url = \"https://tyler.caraza-harter.com/cs320/crawl/practice1/1.html\"\n",
    "get_children(url)"
   ]
  },
  {
   "cell_type": "markdown",
   "id": "9b5a130d",
   "metadata": {},
   "source": [
    "### Breadth First Search\n",
    "\n",
    "- for crawling, there is no specific \"destination\", as we need to find all the webpages."
   ]
  },
  {
   "cell_type": "code",
   "execution_count": 8,
   "id": "c7fc7f73",
   "metadata": {},
   "outputs": [
    {
     "name": "stdout",
     "output_type": "stream",
     "text": [
      "CURR: https://tyler.caraza-harter.com/cs320/crawl/practice1/1.html\n",
      "TO VISIT: deque(['https://tyler.caraza-harter.com/cs320/crawl/practice1/2.html', 'https://tyler.caraza-harter.com/cs320/crawl/practice1/3.html'])\n",
      "CURR: https://tyler.caraza-harter.com/cs320/crawl/practice1/2.html\n",
      "TO VISIT: deque(['https://tyler.caraza-harter.com/cs320/crawl/practice1/3.html', 'https://tyler.caraza-harter.com/cs320/crawl/practice1/4.html'])\n",
      "CURR: https://tyler.caraza-harter.com/cs320/crawl/practice1/3.html\n",
      "TO VISIT: deque(['https://tyler.caraza-harter.com/cs320/crawl/practice1/4.html', 'https://tyler.caraza-harter.com/cs320/crawl/practice1/5.html'])\n",
      "CURR: https://tyler.caraza-harter.com/cs320/crawl/practice1/4.html\n",
      "TO VISIT: deque(['https://tyler.caraza-harter.com/cs320/crawl/practice1/5.html', 'https://tyler.caraza-harter.com/cs320/crawl/practice1/6.html'])\n",
      "CURR: https://tyler.caraza-harter.com/cs320/crawl/practice1/5.html\n",
      "TO VISIT: deque(['https://tyler.caraza-harter.com/cs320/crawl/practice1/6.html'])\n",
      "CURR: https://tyler.caraza-harter.com/cs320/crawl/practice1/6.html\n",
      "TO VISIT: deque([])\n"
     ]
    },
    {
     "data": {
      "image/svg+xml": [
       "<?xml version=\"1.0\" encoding=\"UTF-8\" standalone=\"no\"?>\n",
       "<!DOCTYPE svg PUBLIC \"-//W3C//DTD SVG 1.1//EN\"\n",
       " \"http://www.w3.org/Graphics/SVG/1.1/DTD/svg11.dtd\">\n",
       "<!-- Generated by graphviz version 2.43.0 (0)\n",
       " -->\n",
       "<!-- Title: %3 Pages: 1 -->\n",
       "<svg width=\"190pt\" height=\"260pt\"\n",
       " viewBox=\"0.00 0.00 189.89 260.00\" xmlns=\"http://www.w3.org/2000/svg\" xmlns:xlink=\"http://www.w3.org/1999/xlink\">\n",
       "<g id=\"graph0\" class=\"graph\" transform=\"scale(1 1) rotate(0) translate(4 256)\">\n",
       "<title>%3</title>\n",
       "<polygon fill=\"white\" stroke=\"transparent\" points=\"-4,4 -4,-256 185.89,-256 185.89,4 -4,4\"/>\n",
       "<!-- 1.html -->\n",
       "<g id=\"node1\" class=\"node\">\n",
       "<title>1.html</title>\n",
       "<ellipse fill=\"none\" stroke=\"black\" cx=\"90.95\" cy=\"-234\" rx=\"40.89\" ry=\"18\"/>\n",
       "<text text-anchor=\"middle\" x=\"90.95\" y=\"-230.3\" font-family=\"Times,serif\" font-size=\"14.00\">1.html</text>\n",
       "</g>\n",
       "<!-- 2.html -->\n",
       "<g id=\"node2\" class=\"node\">\n",
       "<title>2.html</title>\n",
       "<ellipse fill=\"none\" stroke=\"black\" cx=\"40.95\" cy=\"-162\" rx=\"40.89\" ry=\"18\"/>\n",
       "<text text-anchor=\"middle\" x=\"40.95\" y=\"-158.3\" font-family=\"Times,serif\" font-size=\"14.00\">2.html</text>\n",
       "</g>\n",
       "<!-- 1.html&#45;&gt;2.html -->\n",
       "<g id=\"edge1\" class=\"edge\">\n",
       "<title>1.html&#45;&gt;2.html</title>\n",
       "<path fill=\"none\" stroke=\"black\" d=\"M79.1,-216.41C72.99,-207.87 65.43,-197.28 58.65,-187.79\"/>\n",
       "<polygon fill=\"black\" stroke=\"black\" points=\"61.37,-185.57 52.71,-179.47 55.67,-189.64 61.37,-185.57\"/>\n",
       "</g>\n",
       "<!-- 3.html -->\n",
       "<g id=\"node3\" class=\"node\">\n",
       "<title>3.html</title>\n",
       "<ellipse fill=\"none\" stroke=\"black\" cx=\"140.95\" cy=\"-162\" rx=\"40.89\" ry=\"18\"/>\n",
       "<text text-anchor=\"middle\" x=\"140.95\" y=\"-158.3\" font-family=\"Times,serif\" font-size=\"14.00\">3.html</text>\n",
       "</g>\n",
       "<!-- 1.html&#45;&gt;3.html -->\n",
       "<g id=\"edge2\" class=\"edge\">\n",
       "<title>1.html&#45;&gt;3.html</title>\n",
       "<path fill=\"none\" stroke=\"black\" d=\"M102.8,-216.41C108.9,-207.87 116.46,-197.28 123.24,-187.79\"/>\n",
       "<polygon fill=\"black\" stroke=\"black\" points=\"126.22,-189.64 129.18,-179.47 120.52,-185.57 126.22,-189.64\"/>\n",
       "</g>\n",
       "<!-- 4.html -->\n",
       "<g id=\"node4\" class=\"node\">\n",
       "<title>4.html</title>\n",
       "<ellipse fill=\"none\" stroke=\"black\" cx=\"40.95\" cy=\"-90\" rx=\"40.89\" ry=\"18\"/>\n",
       "<text text-anchor=\"middle\" x=\"40.95\" y=\"-86.3\" font-family=\"Times,serif\" font-size=\"14.00\">4.html</text>\n",
       "</g>\n",
       "<!-- 2.html&#45;&gt;4.html -->\n",
       "<g id=\"edge3\" class=\"edge\">\n",
       "<title>2.html&#45;&gt;4.html</title>\n",
       "<path fill=\"none\" stroke=\"black\" d=\"M40.95,-143.7C40.95,-135.98 40.95,-126.71 40.95,-118.11\"/>\n",
       "<polygon fill=\"black\" stroke=\"black\" points=\"44.45,-118.1 40.95,-108.1 37.45,-118.1 44.45,-118.1\"/>\n",
       "</g>\n",
       "<!-- 5.html -->\n",
       "<g id=\"node5\" class=\"node\">\n",
       "<title>5.html</title>\n",
       "<ellipse fill=\"none\" stroke=\"black\" cx=\"140.95\" cy=\"-90\" rx=\"40.89\" ry=\"18\"/>\n",
       "<text text-anchor=\"middle\" x=\"140.95\" y=\"-86.3\" font-family=\"Times,serif\" font-size=\"14.00\">5.html</text>\n",
       "</g>\n",
       "<!-- 3.html&#45;&gt;5.html -->\n",
       "<g id=\"edge4\" class=\"edge\">\n",
       "<title>3.html&#45;&gt;5.html</title>\n",
       "<path fill=\"none\" stroke=\"black\" d=\"M140.95,-143.7C140.95,-135.98 140.95,-126.71 140.95,-118.11\"/>\n",
       "<polygon fill=\"black\" stroke=\"black\" points=\"144.45,-118.1 140.95,-108.1 137.45,-118.1 144.45,-118.1\"/>\n",
       "</g>\n",
       "<!-- 6.html -->\n",
       "<g id=\"node6\" class=\"node\">\n",
       "<title>6.html</title>\n",
       "<ellipse fill=\"none\" stroke=\"black\" cx=\"90.95\" cy=\"-18\" rx=\"40.89\" ry=\"18\"/>\n",
       "<text text-anchor=\"middle\" x=\"90.95\" y=\"-14.3\" font-family=\"Times,serif\" font-size=\"14.00\">6.html</text>\n",
       "</g>\n",
       "<!-- 4.html&#45;&gt;6.html -->\n",
       "<g id=\"edge5\" class=\"edge\">\n",
       "<title>4.html&#45;&gt;6.html</title>\n",
       "<path fill=\"none\" stroke=\"black\" d=\"M52.8,-72.41C58.9,-63.87 66.46,-53.28 73.24,-43.79\"/>\n",
       "<polygon fill=\"black\" stroke=\"black\" points=\"76.22,-45.64 79.18,-35.47 70.52,-41.57 76.22,-45.64\"/>\n",
       "</g>\n",
       "<!-- 5.html&#45;&gt;6.html -->\n",
       "<g id=\"edge6\" class=\"edge\">\n",
       "<title>5.html&#45;&gt;6.html</title>\n",
       "<path fill=\"none\" stroke=\"black\" d=\"M129.1,-72.41C122.99,-63.87 115.43,-53.28 108.65,-43.79\"/>\n",
       "<polygon fill=\"black\" stroke=\"black\" points=\"111.37,-41.57 102.71,-35.47 105.67,-45.64 111.37,-41.57\"/>\n",
       "</g>\n",
       "</g>\n",
       "</svg>\n"
      ],
      "text/plain": [
       "<graphviz.graphs.Digraph at 0x7f622c2a3460>"
      ]
     },
     "execution_count": 8,
     "metadata": {},
     "output_type": "execute_result"
    }
   ],
   "source": [
    "start_url = \"https://tyler.caraza-harter.com/cs320/crawl/practice1/1.html\"\n",
    "#start_url = \"https://tyler.caraza-harter.com/cs320/crawl/practice7/1.html\"\n",
    "\n",
    "to_visit = deque([start_url])\n",
    "added = {start_url} # Why use a set to keep track of visited nodes?\n",
    "\n",
    "# TODO: create a Digraph\n",
    "g = Digraph()\n",
    "\n",
    "while len(to_visit) > 0: \n",
    "    curr_node = to_visit.popleft()\n",
    "    print(\"CURR:\", curr_node)\n",
    "    \n",
    "    # TODO: add current node to digraph\n",
    "    g.node(curr_node.split(\"/\")[-1])\n",
    "    \n",
    "    # TODO: how do we get all the children?\n",
    "    children = get_children(curr_node)\n",
    "    \n",
    "    #show_screen(300, 200)\n",
    "    \n",
    "    for child in children:\n",
    "        # TODO: add an edge\n",
    "        g.edge(curr_node.split(\"/\")[-1], child.split(\"/\")[-1])\n",
    "        \n",
    "        if not (child in added):\n",
    "            to_visit.append(child)\n",
    "            added.add(child)\n",
    "            \n",
    "    print(\"TO VISIT:\", to_visit)\n",
    "    \n",
    "g"
   ]
  }
 ],
 "metadata": {
  "kernelspec": {
   "display_name": "Python 3 (ipykernel)",
   "language": "python",
   "name": "python3"
  },
  "language_info": {
   "codemirror_mode": {
    "name": "ipython",
    "version": 3
   },
   "file_extension": ".py",
   "mimetype": "text/x-python",
   "name": "python",
   "nbconvert_exporter": "python",
   "pygments_lexer": "ipython3",
   "version": "3.10.6"
  }
 },
 "nbformat": 4,
 "nbformat_minor": 5
}
