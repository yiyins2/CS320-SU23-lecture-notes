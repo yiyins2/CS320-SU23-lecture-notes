{
 "cells": [
  {
   "cell_type": "code",
   "execution_count": 1,
   "id": "e6f50cc3",
   "metadata": {},
   "outputs": [],
   "source": [
    "import os\n",
    "import pandas as pd\n",
    "import geopandas as gpd\n",
    "\n",
    "# new import statements\n",
    "from sklearn.linear_model import LinearRegression\n",
    "from sklearn.metrics import explained_variance_score, r2_score\n",
    "from sklearn.model_selection import train_test_split\n",
    "from sklearn.model_selection import cross_val_score"
   ]
  },
  {
   "cell_type": "markdown",
   "id": "9e33d56e",
   "metadata": {},
   "source": [
    "# Regression 1"
   ]
  },
  {
   "cell_type": "markdown",
   "id": "570b4253",
   "metadata": {},
   "source": [
    "#### Covid deaths analysis\n",
    "\n",
    "- Source: https://data.dhsgis.wi.gov/\n",
    "    - Specifically, let's analyze \"COVID-19 Data by Census Tract V2\": https://data.dhsgis.wi.gov/datasets/wi-dhs::covid-19-data-by-census-tract-v2/explore"
   ]
  },
  {
   "cell_type": "code",
   "execution_count": 2,
   "id": "696eec18",
   "metadata": {},
   "outputs": [
    {
     "name": "stdout",
     "output_type": "stream",
     "text": [
      "Reading local file.\n"
     ]
    }
   ],
   "source": [
    "# Do not reptitivitely download large datasets\n",
    "# Save a local copy instead\n",
    "dataset_file = \"covid.geojson\"\n",
    "if os.path.exists(dataset_file):\n",
    "    print(\"Reading local file.\")\n",
    "    df = gpd.read_file(dataset_file)\n",
    "else:\n",
    "    print(\"Downloading the dataset.\")\n",
    "    url = \"https://dhsgis.wi.gov/server/rest/services/DHS_COVID19/COVID19_WI_V2/MapServer/9/query?outFields=*&where=1%3D1&f=geojson\"\n",
    "    df = gpd.read_file(url)\n",
    "    df.to_file(dataset_file)"
   ]
  },
  {
   "cell_type": "code",
   "execution_count": 3,
   "id": "c3e6454f",
   "metadata": {},
   "outputs": [
    {
     "data": {
      "text/html": [
       "<div>\n",
       "<style scoped>\n",
       "    .dataframe tbody tr th:only-of-type {\n",
       "        vertical-align: middle;\n",
       "    }\n",
       "\n",
       "    .dataframe tbody tr th {\n",
       "        vertical-align: top;\n",
       "    }\n",
       "\n",
       "    .dataframe thead th {\n",
       "        text-align: right;\n",
       "    }\n",
       "</style>\n",
       "<table border=\"1\" class=\"dataframe\">\n",
       "  <thead>\n",
       "    <tr style=\"text-align: right;\">\n",
       "      <th></th>\n",
       "      <th>RptDt</th>\n",
       "      <th>GEOID</th>\n",
       "      <th>GEOName</th>\n",
       "      <th>POS_CUM_CP</th>\n",
       "      <th>POS_NEW_CP</th>\n",
       "      <th>POS_7DAYAVG_CP</th>\n",
       "      <th>DTH_CUM_CP</th>\n",
       "      <th>DTH_NEW_CP</th>\n",
       "      <th>DTH_7DAYAVG_CP</th>\n",
       "      <th>DTH_OVER_30DAYS_CP</th>\n",
       "      <th>...</th>\n",
       "      <th>HOSP_NO_CP</th>\n",
       "      <th>HOSP_UNK_CP</th>\n",
       "      <th>Date</th>\n",
       "      <th>POP</th>\n",
       "      <th>POP_MOE</th>\n",
       "      <th>OBJECTID</th>\n",
       "      <th>GEO</th>\n",
       "      <th>Shape.STArea()</th>\n",
       "      <th>Shape.STLength()</th>\n",
       "      <th>geometry</th>\n",
       "    </tr>\n",
       "  </thead>\n",
       "  <tbody>\n",
       "    <tr>\n",
       "      <th>0</th>\n",
       "      <td>1689966000000</td>\n",
       "      <td>55001950100</td>\n",
       "      <td>None</td>\n",
       "      <td>1041</td>\n",
       "      <td>0</td>\n",
       "      <td>0.00</td>\n",
       "      <td>13</td>\n",
       "      <td>0</td>\n",
       "      <td>0.00</td>\n",
       "      <td>0</td>\n",
       "      <td>...</td>\n",
       "      <td>626</td>\n",
       "      <td>361</td>\n",
       "      <td>1689832800000</td>\n",
       "      <td>2870</td>\n",
       "      <td>66.0</td>\n",
       "      <td>1831</td>\n",
       "      <td>Census tract</td>\n",
       "      <td>4.894706e+08</td>\n",
       "      <td>108089.745033</td>\n",
       "      <td>POLYGON ((-89.72475 44.24769, -89.72492 44.247...</td>\n",
       "    </tr>\n",
       "    <tr>\n",
       "      <th>1</th>\n",
       "      <td>1689966000000</td>\n",
       "      <td>55001950201</td>\n",
       "      <td>None</td>\n",
       "      <td>365</td>\n",
       "      <td>1</td>\n",
       "      <td>0.14</td>\n",
       "      <td>6</td>\n",
       "      <td>1</td>\n",
       "      <td>0.14</td>\n",
       "      <td>0</td>\n",
       "      <td>...</td>\n",
       "      <td>171</td>\n",
       "      <td>171</td>\n",
       "      <td>1689832800000</td>\n",
       "      <td>1244</td>\n",
       "      <td>96.0</td>\n",
       "      <td>1832</td>\n",
       "      <td>Census tract</td>\n",
       "      <td>2.277343e+08</td>\n",
       "      <td>97033.719846</td>\n",
       "      <td>POLYGON ((-89.73892 43.98186, -89.73925 43.982...</td>\n",
       "    </tr>\n",
       "    <tr>\n",
       "      <th>2</th>\n",
       "      <td>1689966000000</td>\n",
       "      <td>55001950202</td>\n",
       "      <td>None</td>\n",
       "      <td>673</td>\n",
       "      <td>0</td>\n",
       "      <td>0.00</td>\n",
       "      <td>8</td>\n",
       "      <td>0</td>\n",
       "      <td>0.00</td>\n",
       "      <td>0</td>\n",
       "      <td>...</td>\n",
       "      <td>390</td>\n",
       "      <td>262</td>\n",
       "      <td>1689832800000</td>\n",
       "      <td>2599</td>\n",
       "      <td>146.0</td>\n",
       "      <td>1833</td>\n",
       "      <td>Census tract</td>\n",
       "      <td>1.004937e+09</td>\n",
       "      <td>162456.681081</td>\n",
       "      <td>POLYGON ((-89.90890 44.17627, -89.90907 44.176...</td>\n",
       "    </tr>\n",
       "    <tr>\n",
       "      <th>3</th>\n",
       "      <td>1689966000000</td>\n",
       "      <td>55001950400</td>\n",
       "      <td>None</td>\n",
       "      <td>1442</td>\n",
       "      <td>0</td>\n",
       "      <td>0.00</td>\n",
       "      <td>26</td>\n",
       "      <td>0</td>\n",
       "      <td>0.00</td>\n",
       "      <td>0</td>\n",
       "      <td>...</td>\n",
       "      <td>704</td>\n",
       "      <td>649</td>\n",
       "      <td>1689832800000</td>\n",
       "      <td>4533</td>\n",
       "      <td>183.0</td>\n",
       "      <td>2741</td>\n",
       "      <td>Census tract</td>\n",
       "      <td>4.567996e+08</td>\n",
       "      <td>121861.166562</td>\n",
       "      <td>POLYGON ((-89.73892 43.98186, -89.75025 43.981...</td>\n",
       "    </tr>\n",
       "    <tr>\n",
       "      <th>4</th>\n",
       "      <td>1689966000000</td>\n",
       "      <td>55001950501</td>\n",
       "      <td>None</td>\n",
       "      <td>423</td>\n",
       "      <td>0</td>\n",
       "      <td>0.00</td>\n",
       "      <td>0</td>\n",
       "      <td>0</td>\n",
       "      <td>0.00</td>\n",
       "      <td>0</td>\n",
       "      <td>...</td>\n",
       "      <td>173</td>\n",
       "      <td>229</td>\n",
       "      <td>1689832800000</td>\n",
       "      <td>1603</td>\n",
       "      <td>133.0</td>\n",
       "      <td>2742</td>\n",
       "      <td>Census tract</td>\n",
       "      <td>2.575669e+08</td>\n",
       "      <td>77494.089221</td>\n",
       "      <td>POLYGON ((-89.93773 43.96630, -89.93779 43.966...</td>\n",
       "    </tr>\n",
       "  </tbody>\n",
       "</table>\n",
       "<p>5 rows × 90 columns</p>\n",
       "</div>"
      ],
      "text/plain": [
       "           RptDt        GEOID GEOName  POS_CUM_CP  POS_NEW_CP  POS_7DAYAVG_CP  \\\n",
       "0  1689966000000  55001950100    None        1041           0            0.00   \n",
       "1  1689966000000  55001950201    None         365           1            0.14   \n",
       "2  1689966000000  55001950202    None         673           0            0.00   \n",
       "3  1689966000000  55001950400    None        1442           0            0.00   \n",
       "4  1689966000000  55001950501    None         423           0            0.00   \n",
       "\n",
       "   DTH_CUM_CP  DTH_NEW_CP  DTH_7DAYAVG_CP  DTH_OVER_30DAYS_CP  ...  \\\n",
       "0          13           0            0.00                   0  ...   \n",
       "1           6           1            0.14                   0  ...   \n",
       "2           8           0            0.00                   0  ...   \n",
       "3          26           0            0.00                   0  ...   \n",
       "4           0           0            0.00                   0  ...   \n",
       "\n",
       "   HOSP_NO_CP HOSP_UNK_CP           Date   POP POP_MOE  OBJECTID  \\\n",
       "0         626         361  1689832800000  2870    66.0      1831   \n",
       "1         171         171  1689832800000  1244    96.0      1832   \n",
       "2         390         262  1689832800000  2599   146.0      1833   \n",
       "3         704         649  1689832800000  4533   183.0      2741   \n",
       "4         173         229  1689832800000  1603   133.0      2742   \n",
       "\n",
       "            GEO  Shape.STArea()  Shape.STLength()  \\\n",
       "0  Census tract    4.894706e+08     108089.745033   \n",
       "1  Census tract    2.277343e+08      97033.719846   \n",
       "2  Census tract    1.004937e+09     162456.681081   \n",
       "3  Census tract    4.567996e+08     121861.166562   \n",
       "4  Census tract    2.575669e+08      77494.089221   \n",
       "\n",
       "                                            geometry  \n",
       "0  POLYGON ((-89.72475 44.24769, -89.72492 44.247...  \n",
       "1  POLYGON ((-89.73892 43.98186, -89.73925 43.982...  \n",
       "2  POLYGON ((-89.90890 44.17627, -89.90907 44.176...  \n",
       "3  POLYGON ((-89.73892 43.98186, -89.75025 43.981...  \n",
       "4  POLYGON ((-89.93773 43.96630, -89.93779 43.966...  \n",
       "\n",
       "[5 rows x 90 columns]"
      ]
     },
     "execution_count": 3,
     "metadata": {},
     "output_type": "execute_result"
    }
   ],
   "source": [
    "df.head()"
   ]
  },
  {
   "cell_type": "markdown",
   "id": "43cebffa",
   "metadata": {},
   "source": [
    "### How can we get a clean dataset of COVID deaths in WI?"
   ]
  },
  {
   "cell_type": "code",
   "execution_count": 4,
   "id": "fa2f30ae",
   "metadata": {},
   "outputs": [],
   "source": [
    "# Replace -999 with 2; 2 is between 0-4; random choice instead of using 0\n",
    "df = df.replace(-999, 2) \n",
    "# we must communicate in final results what percent of values were guessed (imputed)"
   ]
  },
  {
   "cell_type": "markdown",
   "id": "4cff709d",
   "metadata": {},
   "source": [
    "How would we know if the data is now clean?"
   ]
  },
  {
   "cell_type": "code",
   "execution_count": 5,
   "id": "950c2041",
   "metadata": {},
   "outputs": [
    {
     "data": {
      "text/plain": [
       "<AxesSubplot:xlabel='POP', ylabel='DTH_CUM_CP'>"
      ]
     },
     "execution_count": 5,
     "metadata": {},
     "output_type": "execute_result"
    },
    {
     "data": {
      "image/png": "[encoded data removed]",
      "text/plain": [
       "<Figure size 432x288 with 1 Axes>"
      ]
     },
     "metadata": {
      "needs_background": "light"
     },
     "output_type": "display_data"
    }
   ],
   "source": [
    "# Create a scatter plot to visualize relationship between \"POP\" and \"DTH_CUM_CP\"\n",
    "df.plot.scatter(x=\"POP\", y=\"DTH_CUM_CP\")"
   ]
  },
  {
   "cell_type": "markdown",
   "id": "4073a940",
   "metadata": {},
   "source": [
    "Which points are concerning? Let's take a closer look.\n",
    "\n",
    "#### Which rows have \"DTH_CUM_CP\" greater than 300?"
   ]
  },
  {
   "cell_type": "code",
   "execution_count": 6,
   "id": "a655c465",
   "metadata": {},
   "outputs": [
    {
     "data": {
      "text/html": [
       "<div>\n",
       "<style scoped>\n",
       "    .dataframe tbody tr th:only-of-type {\n",
       "        vertical-align: middle;\n",
       "    }\n",
       "\n",
       "    .dataframe tbody tr th {\n",
       "        vertical-align: top;\n",
       "    }\n",
       "\n",
       "    .dataframe thead th {\n",
       "        text-align: right;\n",
       "    }\n",
       "</style>\n",
       "<table border=\"1\" class=\"dataframe\">\n",
       "  <thead>\n",
       "    <tr style=\"text-align: right;\">\n",
       "      <th></th>\n",
       "      <th>RptDt</th>\n",
       "      <th>GEOID</th>\n",
       "      <th>GEOName</th>\n",
       "      <th>POS_CUM_CP</th>\n",
       "      <th>POS_NEW_CP</th>\n",
       "      <th>POS_7DAYAVG_CP</th>\n",
       "      <th>DTH_CUM_CP</th>\n",
       "      <th>DTH_NEW_CP</th>\n",
       "      <th>DTH_7DAYAVG_CP</th>\n",
       "      <th>DTH_OVER_30DAYS_CP</th>\n",
       "      <th>...</th>\n",
       "      <th>HOSP_NO_CP</th>\n",
       "      <th>HOSP_UNK_CP</th>\n",
       "      <th>Date</th>\n",
       "      <th>POP</th>\n",
       "      <th>POP_MOE</th>\n",
       "      <th>OBJECTID</th>\n",
       "      <th>GEO</th>\n",
       "      <th>Shape.STArea()</th>\n",
       "      <th>Shape.STLength()</th>\n",
       "      <th>geometry</th>\n",
       "    </tr>\n",
       "  </thead>\n",
       "  <tbody>\n",
       "    <tr>\n",
       "      <th>1392</th>\n",
       "      <td>1689966000000</td>\n",
       "      <td>TRACT N/A</td>\n",
       "      <td>None</td>\n",
       "      <td>51027</td>\n",
       "      <td>7</td>\n",
       "      <td>5.14</td>\n",
       "      <td>466</td>\n",
       "      <td>0</td>\n",
       "      <td>0.0</td>\n",
       "      <td>0</td>\n",
       "      <td>...</td>\n",
       "      <td>22408</td>\n",
       "      <td>26672</td>\n",
       "      <td>1689832800000</td>\n",
       "      <td>0</td>\n",
       "      <td>NaN</td>\n",
       "      <td>1372</td>\n",
       "      <td>Census tract</td>\n",
       "      <td>466.180086</td>\n",
       "      <td>80.071546</td>\n",
       "      <td>POLYGON ((-87.04159 44.13490, -87.04161 44.134...</td>\n",
       "    </tr>\n",
       "  </tbody>\n",
       "</table>\n",
       "<p>1 rows × 90 columns</p>\n",
       "</div>"
      ],
      "text/plain": [
       "              RptDt      GEOID GEOName  POS_CUM_CP  POS_NEW_CP  \\\n",
       "1392  1689966000000  TRACT N/A    None       51027           7   \n",
       "\n",
       "      POS_7DAYAVG_CP  DTH_CUM_CP  DTH_NEW_CP  DTH_7DAYAVG_CP  \\\n",
       "1392            5.14         466           0             0.0   \n",
       "\n",
       "      DTH_OVER_30DAYS_CP  ...  HOSP_NO_CP HOSP_UNK_CP           Date POP  \\\n",
       "1392                   0  ...       22408       26672  1689832800000   0   \n",
       "\n",
       "     POP_MOE  OBJECTID           GEO  Shape.STArea()  Shape.STLength()  \\\n",
       "1392     NaN      1372  Census tract      466.180086         80.071546   \n",
       "\n",
       "                                               geometry  \n",
       "1392  POLYGON ((-87.04159 44.13490, -87.04161 44.134...  \n",
       "\n",
       "[1 rows x 90 columns]"
      ]
     },
     "execution_count": 6,
     "metadata": {},
     "output_type": "execute_result"
    }
   ],
   "source": [
    "df[df[\"DTH_CUM_CP\"] > 300]"
   ]
  },
  {
   "cell_type": "markdown",
   "id": "d377143e",
   "metadata": {},
   "source": [
    "#### Valid rows have \"GEOID\" that only contains digits\n",
    "\n",
    "Using `str` methods to perform filtering: `str.fullmatch` does a full string match given a reg-ex. Because it does full string match anchor characters (`^`, `$`) won't be needed."
   ]
  },
  {
   "cell_type": "code",
   "execution_count": 7,
   "id": "529781db",
   "metadata": {},
   "outputs": [
    {
     "data": {
      "text/plain": [
       "0       55001950100\n",
       "1       55001950201\n",
       "2       55001950202\n",
       "3       55001950400\n",
       "4       55001950501\n",
       "           ...     \n",
       "1388    55141011400\n",
       "1389    55141011500\n",
       "1390    55141011600\n",
       "1391    55141011700\n",
       "1392      TRACT N/A\n",
       "Name: GEOID, Length: 1393, dtype: object"
      ]
     },
     "execution_count": 7,
     "metadata": {},
     "output_type": "execute_result"
    }
   ],
   "source": [
    "df[\"GEOID\"]"
   ]
  },
  {
   "cell_type": "code",
   "execution_count": 8,
   "id": "af16925b",
   "metadata": {},
   "outputs": [
    {
     "data": {
      "text/plain": [
       "0        True\n",
       "1        True\n",
       "2        True\n",
       "3        True\n",
       "4        True\n",
       "        ...  \n",
       "1388     True\n",
       "1389     True\n",
       "1390     True\n",
       "1391     True\n",
       "1392    False\n",
       "Name: GEOID, Length: 1393, dtype: bool"
      ]
     },
     "execution_count": 8,
     "metadata": {},
     "output_type": "execute_result"
    }
   ],
   "source": [
    "df[\"GEOID\"].str.fullmatch(r\"\\d+\")"
   ]
  },
  {
   "cell_type": "code",
   "execution_count": 9,
   "id": "1d583d06",
   "metadata": {},
   "outputs": [
    {
     "data": {
      "text/plain": [
       "<AxesSubplot:xlabel='POP', ylabel='DTH_CUM_CP'>"
      ]
     },
     "execution_count": 9,
     "metadata": {},
     "output_type": "execute_result"
    },
    {
     "data": {
      "image/png": "[encoded data removed]",
      "text/plain": [
       "<Figure size 432x288 with 1 Axes>"
      ]
     },
     "metadata": {
      "needs_background": "light"
     },
     "output_type": "display_data"
    }
   ],
   "source": [
    "df = df[df[\"GEOID\"].str.fullmatch(r\"\\d+\")]\n",
    "df.plot.scatter(x=\"POP\", y=\"DTH_CUM_CP\")"
   ]
  },
  {
   "cell_type": "markdown",
   "id": "1be50600",
   "metadata": {},
   "source": [
    "### How can we train/fit models to known data to predict unknowns?\n",
    "\n",
    "- Feature(s) => Predictions, e.g.,\n",
    "    - Population => Deaths\n",
    "    - Cases => Deaths\n",
    "    - Cases by Age => Deaths\n",
    "    \n",
    "- General structure for fitting models:\n",
    "    ```python\n",
    "    model = <some model>\n",
    "    model.fit(X, y)\n",
    "    y = model.predict(X)\n",
    "    ```\n",
    "    - where `X` needs to be a matrix or a `DataFrame` and `y` needs to be an array (vector) or a `Series`\n",
    "    - after fitting, `model` object instance stores the information about relationship between features (x values) and predictions (y values)\n",
    "    - `predict` returns a `numpy` array, which can be treated like a list"
   ]
  },
  {
   "cell_type": "markdown",
   "id": "0d0e65c3",
   "metadata": {},
   "source": [
    "### Predicting \"DTH_CUM_CP\" using \"POP\" as feature."
   ]
  },
  {
   "cell_type": "code",
   "execution_count": 10,
   "id": "3dbdbba4",
   "metadata": {},
   "outputs": [
    {
     "data": {
      "text/html": [
       "<div>\n",
       "<style scoped>\n",
       "    .dataframe tbody tr th:only-of-type {\n",
       "        vertical-align: middle;\n",
       "    }\n",
       "\n",
       "    .dataframe tbody tr th {\n",
       "        vertical-align: top;\n",
       "    }\n",
       "\n",
       "    .dataframe thead th {\n",
       "        text-align: right;\n",
       "    }\n",
       "</style>\n",
       "<table border=\"1\" class=\"dataframe\">\n",
       "  <thead>\n",
       "    <tr style=\"text-align: right;\">\n",
       "      <th></th>\n",
       "      <th>POP</th>\n",
       "    </tr>\n",
       "  </thead>\n",
       "  <tbody>\n",
       "    <tr>\n",
       "      <th>0</th>\n",
       "      <td>2870</td>\n",
       "    </tr>\n",
       "    <tr>\n",
       "      <th>1</th>\n",
       "      <td>1244</td>\n",
       "    </tr>\n",
       "    <tr>\n",
       "      <th>2</th>\n",
       "      <td>2599</td>\n",
       "    </tr>\n",
       "    <tr>\n",
       "      <th>3</th>\n",
       "      <td>4533</td>\n",
       "    </tr>\n",
       "    <tr>\n",
       "      <th>4</th>\n",
       "      <td>1603</td>\n",
       "    </tr>\n",
       "  </tbody>\n",
       "</table>\n",
       "</div>"
      ],
      "text/plain": [
       "    POP\n",
       "0  2870\n",
       "1  1244\n",
       "2  2599\n",
       "3  4533\n",
       "4  1603"
      ]
     },
     "execution_count": 10,
     "metadata": {},
     "output_type": "execute_result"
    }
   ],
   "source": [
    "# We must specify a list of columns to make sure we extract a DataFrame and not a Series\n",
    "# Feature DataFrame\n",
    "df[[\"POP\"]].head()"
   ]
  },
  {
   "cell_type": "code",
   "execution_count": 11,
   "id": "22aad05e",
   "metadata": {},
   "outputs": [
    {
     "data": {
      "text/plain": [
       "0    13\n",
       "1     6\n",
       "2     8\n",
       "3    26\n",
       "4     0\n",
       "Name: DTH_CUM_CP, dtype: int64"
      ]
     },
     "execution_count": 11,
     "metadata": {},
     "output_type": "execute_result"
    }
   ],
   "source": [
    "# Label Series: \"DTH_CUM_CP\"\n",
    "df[\"DTH_CUM_CP\"].head()"
   ]
  },
  {
   "cell_type": "markdown",
   "id": "797d6831",
   "metadata": {},
   "source": [
    "### Let's use `LinearRegression` model.\n",
    "\n",
    "- `from sklearn.linear_model import LinearRegression`"
   ]
  },
  {
   "cell_type": "code",
   "execution_count": 12,
   "id": "51ad5b05",
   "metadata": {},
   "outputs": [],
   "source": [
    "xcols = [\"POP\"]\n",
    "ycol = \"DTH_CUM_CP\"\n",
    "\n",
    "model = LinearRegression()\n",
    "model.fit(df[xcols], df[ycol])\n",
    "# less interesting because we are predicting what we already know\n",
    "y = model.predict(df[xcols])"
   ]
  },
  {
   "cell_type": "markdown",
   "id": "e589d923",
   "metadata": {},
   "source": [
    "Predicting for new values of x."
   ]
  },
  {
   "cell_type": "code",
   "execution_count": 13,
   "id": "dd8f0440",
   "metadata": {},
   "outputs": [
    {
     "data": {
      "text/html": [
       "<div>\n",
       "<style scoped>\n",
       "    .dataframe tbody tr th:only-of-type {\n",
       "        vertical-align: middle;\n",
       "    }\n",
       "\n",
       "    .dataframe tbody tr th {\n",
       "        vertical-align: top;\n",
       "    }\n",
       "\n",
       "    .dataframe thead th {\n",
       "        text-align: right;\n",
       "    }\n",
       "</style>\n",
       "<table border=\"1\" class=\"dataframe\">\n",
       "  <thead>\n",
       "    <tr style=\"text-align: right;\">\n",
       "      <th></th>\n",
       "      <th>POP</th>\n",
       "    </tr>\n",
       "  </thead>\n",
       "  <tbody>\n",
       "    <tr>\n",
       "      <th>0</th>\n",
       "      <td>1000</td>\n",
       "    </tr>\n",
       "    <tr>\n",
       "      <th>1</th>\n",
       "      <td>2000</td>\n",
       "    </tr>\n",
       "    <tr>\n",
       "      <th>2</th>\n",
       "      <td>3000</td>\n",
       "    </tr>\n",
       "  </tbody>\n",
       "</table>\n",
       "</div>"
      ],
      "text/plain": [
       "    POP\n",
       "0  1000\n",
       "1  2000\n",
       "2  3000"
      ]
     },
     "execution_count": 13,
     "metadata": {},
     "output_type": "execute_result"
    }
   ],
   "source": [
    "predict_df = pd.DataFrame({\"POP\": [1000, 2000, 3000]})\n",
    "predict_df"
   ]
  },
  {
   "cell_type": "code",
   "execution_count": 14,
   "id": "5315289f",
   "metadata": {},
   "outputs": [
    {
     "data": {
      "text/plain": [
       "array([4.01212741, 6.44581637, 8.87950533])"
      ]
     },
     "execution_count": 14,
     "metadata": {},
     "output_type": "execute_result"
    }
   ],
   "source": [
    "# Predict for the new data\n",
    "model.predict(predict_df)"
   ]
  },
  {
   "cell_type": "code",
   "execution_count": 15,
   "id": "0cea4830",
   "metadata": {},
   "outputs": [
    {
     "data": {
      "text/html": [
       "<div>\n",
       "<style scoped>\n",
       "    .dataframe tbody tr th:only-of-type {\n",
       "        vertical-align: middle;\n",
       "    }\n",
       "\n",
       "    .dataframe tbody tr th {\n",
       "        vertical-align: top;\n",
       "    }\n",
       "\n",
       "    .dataframe thead th {\n",
       "        text-align: right;\n",
       "    }\n",
       "</style>\n",
       "<table border=\"1\" class=\"dataframe\">\n",
       "  <thead>\n",
       "    <tr style=\"text-align: right;\">\n",
       "      <th></th>\n",
       "      <th>POP</th>\n",
       "      <th>predicted deaths</th>\n",
       "    </tr>\n",
       "  </thead>\n",
       "  <tbody>\n",
       "    <tr>\n",
       "      <th>0</th>\n",
       "      <td>1000</td>\n",
       "      <td>4.012127</td>\n",
       "    </tr>\n",
       "    <tr>\n",
       "      <th>1</th>\n",
       "      <td>2000</td>\n",
       "      <td>6.445816</td>\n",
       "    </tr>\n",
       "    <tr>\n",
       "      <th>2</th>\n",
       "      <td>3000</td>\n",
       "      <td>8.879505</td>\n",
       "    </tr>\n",
       "  </tbody>\n",
       "</table>\n",
       "</div>"
      ],
      "text/plain": [
       "    POP  predicted deaths\n",
       "0  1000          4.012127\n",
       "1  2000          6.445816\n",
       "2  3000          8.879505"
      ]
     },
     "execution_count": 15,
     "metadata": {},
     "output_type": "execute_result"
    }
   ],
   "source": [
    "# Insert a new column called \"predicted deaths\" with the predictions\n",
    "predict_df[\"predicted deaths\"] = model.predict(predict_df)\n",
    "predict_df"
   ]
  },
  {
   "cell_type": "markdown",
   "id": "1c649201",
   "metadata": {},
   "source": [
    "### How can we visualize model predictions?\n",
    "\n",
    "- Let's predict deaths for \"POP\" ranges like 0, 2000, 4000, ..., 20000"
   ]
  },
  {
   "cell_type": "code",
   "execution_count": 16,
   "id": "496a67c9",
   "metadata": {},
   "outputs": [
    {
     "data": {
      "text/html": [
       "<div>\n",
       "<style scoped>\n",
       "    .dataframe tbody tr th:only-of-type {\n",
       "        vertical-align: middle;\n",
       "    }\n",
       "\n",
       "    .dataframe tbody tr th {\n",
       "        vertical-align: top;\n",
       "    }\n",
       "\n",
       "    .dataframe thead th {\n",
       "        text-align: right;\n",
       "    }\n",
       "</style>\n",
       "<table border=\"1\" class=\"dataframe\">\n",
       "  <thead>\n",
       "    <tr style=\"text-align: right;\">\n",
       "      <th></th>\n",
       "      <th>POP</th>\n",
       "    </tr>\n",
       "  </thead>\n",
       "  <tbody>\n",
       "    <tr>\n",
       "      <th>0</th>\n",
       "      <td>0</td>\n",
       "    </tr>\n",
       "    <tr>\n",
       "      <th>1</th>\n",
       "      <td>2000</td>\n",
       "    </tr>\n",
       "    <tr>\n",
       "      <th>2</th>\n",
       "      <td>4000</td>\n",
       "    </tr>\n",
       "    <tr>\n",
       "      <th>3</th>\n",
       "      <td>6000</td>\n",
       "    </tr>\n",
       "    <tr>\n",
       "      <th>4</th>\n",
       "      <td>8000</td>\n",
       "    </tr>\n",
       "    <tr>\n",
       "      <th>5</th>\n",
       "      <td>10000</td>\n",
       "    </tr>\n",
       "    <tr>\n",
       "      <th>6</th>\n",
       "      <td>12000</td>\n",
       "    </tr>\n",
       "    <tr>\n",
       "      <th>7</th>\n",
       "      <td>14000</td>\n",
       "    </tr>\n",
       "    <tr>\n",
       "      <th>8</th>\n",
       "      <td>16000</td>\n",
       "    </tr>\n",
       "    <tr>\n",
       "      <th>9</th>\n",
       "      <td>18000</td>\n",
       "    </tr>\n",
       "    <tr>\n",
       "      <th>10</th>\n",
       "      <td>20000</td>\n",
       "    </tr>\n",
       "  </tbody>\n",
       "</table>\n",
       "</div>"
      ],
      "text/plain": [
       "      POP\n",
       "0       0\n",
       "1    2000\n",
       "2    4000\n",
       "3    6000\n",
       "4    8000\n",
       "5   10000\n",
       "6   12000\n",
       "7   14000\n",
       "8   16000\n",
       "9   18000\n",
       "10  20000"
      ]
     },
     "execution_count": 16,
     "metadata": {},
     "output_type": "execute_result"
    }
   ],
   "source": [
    "predict_df = pd.DataFrame({\"POP\": range(0, 20001, 2000)})\n",
    "predict_df"
   ]
  },
  {
   "cell_type": "code",
   "execution_count": 17,
   "id": "b825412a",
   "metadata": {},
   "outputs": [
    {
     "data": {
      "text/html": [
       "<div>\n",
       "<style scoped>\n",
       "    .dataframe tbody tr th:only-of-type {\n",
       "        vertical-align: middle;\n",
       "    }\n",
       "\n",
       "    .dataframe tbody tr th {\n",
       "        vertical-align: top;\n",
       "    }\n",
       "\n",
       "    .dataframe thead th {\n",
       "        text-align: right;\n",
       "    }\n",
       "</style>\n",
       "<table border=\"1\" class=\"dataframe\">\n",
       "  <thead>\n",
       "    <tr style=\"text-align: right;\">\n",
       "      <th></th>\n",
       "      <th>POP</th>\n",
       "      <th>predicted deaths</th>\n",
       "    </tr>\n",
       "  </thead>\n",
       "  <tbody>\n",
       "    <tr>\n",
       "      <th>0</th>\n",
       "      <td>0</td>\n",
       "      <td>1.578438</td>\n",
       "    </tr>\n",
       "    <tr>\n",
       "      <th>1</th>\n",
       "      <td>2000</td>\n",
       "      <td>6.445816</td>\n",
       "    </tr>\n",
       "    <tr>\n",
       "      <th>2</th>\n",
       "      <td>4000</td>\n",
       "      <td>11.313194</td>\n",
       "    </tr>\n",
       "    <tr>\n",
       "      <th>3</th>\n",
       "      <td>6000</td>\n",
       "      <td>16.180572</td>\n",
       "    </tr>\n",
       "    <tr>\n",
       "      <th>4</th>\n",
       "      <td>8000</td>\n",
       "      <td>21.047950</td>\n",
       "    </tr>\n",
       "    <tr>\n",
       "      <th>5</th>\n",
       "      <td>10000</td>\n",
       "      <td>25.915328</td>\n",
       "    </tr>\n",
       "    <tr>\n",
       "      <th>6</th>\n",
       "      <td>12000</td>\n",
       "      <td>30.782706</td>\n",
       "    </tr>\n",
       "    <tr>\n",
       "      <th>7</th>\n",
       "      <td>14000</td>\n",
       "      <td>35.650084</td>\n",
       "    </tr>\n",
       "    <tr>\n",
       "      <th>8</th>\n",
       "      <td>16000</td>\n",
       "      <td>40.517462</td>\n",
       "    </tr>\n",
       "    <tr>\n",
       "      <th>9</th>\n",
       "      <td>18000</td>\n",
       "      <td>45.384840</td>\n",
       "    </tr>\n",
       "    <tr>\n",
       "      <th>10</th>\n",
       "      <td>20000</td>\n",
       "      <td>50.252218</td>\n",
       "    </tr>\n",
       "  </tbody>\n",
       "</table>\n",
       "</div>"
      ],
      "text/plain": [
       "      POP  predicted deaths\n",
       "0       0          1.578438\n",
       "1    2000          6.445816\n",
       "2    4000         11.313194\n",
       "3    6000         16.180572\n",
       "4    8000         21.047950\n",
       "5   10000         25.915328\n",
       "6   12000         30.782706\n",
       "7   14000         35.650084\n",
       "8   16000         40.517462\n",
       "9   18000         45.384840\n",
       "10  20000         50.252218"
      ]
     },
     "execution_count": 17,
     "metadata": {},
     "output_type": "execute_result"
    }
   ],
   "source": [
    "# Insert a new column called \"predicted deaths\" with the predictions\n",
    "predict_df[\"predicted deaths\"] = model.predict(predict_df)\n",
    "predict_df"
   ]
  },
  {
   "cell_type": "code",
   "execution_count": 18,
   "id": "ca0b47f5",
   "metadata": {},
   "outputs": [
    {
     "data": {
      "text/plain": [
       "<AxesSubplot:xlabel='POP', ylabel='DTH_CUM_CP'>"
      ]
     },
     "execution_count": 18,
     "metadata": {},
     "output_type": "execute_result"
    },
    {
     "data": {
      "image/png": "[encoded data removed]",
      "text/plain": [
       "<Figure size 432x288 with 1 Axes>"
      ]
     },
     "metadata": {
      "needs_background": "light"
     },
     "output_type": "display_data"
    }
   ],
   "source": [
    "# Create a line plot to visualize relationship between \"POP\" and \"predicted deaths\"\n",
    "ax = predict_df.plot.line(x=\"POP\", y=\"predicted deaths\", color=\"r\")\n",
    "# Create a scatter plot to visualize relationship between \"POP\" and \"DTH_CUM_CP\"\n",
    "df.plot.scatter(x=\"POP\", y=\"DTH_CUM_CP\", ax=ax, color=\"k\", alpha=0.05)"
   ]
  },
  {
   "cell_type": "markdown",
   "id": "3bb2d3f8",
   "metadata": {},
   "source": [
    "### How can we get a formula for the relationship?\n",
    "\n",
    "- `y=mx+c`, where `y` is our predictions and `x` are the features used for the fit\n",
    "    - Slope of the line (`m`) given by `model.coef_[0]`\n",
    "    - Intercept of the line (`c`) given by `model.intercept_`"
   ]
  },
  {
   "cell_type": "markdown",
   "id": "a31d19b3",
   "metadata": {},
   "source": [
    "Model coefficients"
   ]
  },
  {
   "cell_type": "code",
   "execution_count": 19,
   "id": "c894c1b1",
   "metadata": {},
   "outputs": [
    {
     "data": {
      "text/plain": [
       "array([0.00243369])"
      ]
     },
     "execution_count": 19,
     "metadata": {},
     "output_type": "execute_result"
    }
   ],
   "source": [
    "model.coef_"
   ]
  },
  {
   "cell_type": "code",
   "execution_count": 20,
   "id": "4850a47e",
   "metadata": {},
   "outputs": [
    {
     "data": {
      "text/plain": [
       "0.0024336889576593358"
      ]
     },
     "execution_count": 20,
     "metadata": {},
     "output_type": "execute_result"
    }
   ],
   "source": [
    "# Slope of the line\n",
    "model.coef_[0]"
   ]
  },
  {
   "cell_type": "code",
   "execution_count": 21,
   "id": "32690085",
   "metadata": {},
   "outputs": [
    {
     "data": {
      "text/plain": [
       "1.5784384548814963"
      ]
     },
     "execution_count": 21,
     "metadata": {},
     "output_type": "execute_result"
    }
   ],
   "source": [
    "# Intercept of the line\n",
    "model.intercept_"
   ]
  },
  {
   "cell_type": "code",
   "execution_count": 22,
   "id": "cfbcee12",
   "metadata": {},
   "outputs": [
    {
     "name": "stdout",
     "output_type": "stream",
     "text": [
      "deaths ~= 0.0024 * population + 1.5784\n"
     ]
    }
   ],
   "source": [
    "print(f\"deaths ~= {round(model.coef_[0], 4)} * population + {round(model.intercept_, 4)}\")"
   ]
  },
  {
   "cell_type": "markdown",
   "id": "738ccba5",
   "metadata": {},
   "source": [
    "### How well does our model fit the data?\n",
    "- explained variance score\n",
    "- R^2 (\"r squared\")"
   ]
  },
  {
   "cell_type": "markdown",
   "id": "91e4af81",
   "metadata": {},
   "source": [
    "#### `explained_variance_score(y_true, y_pred)`\n",
    "- `from sklearn.metrics import explained_variance_score`\n",
    "- calculates the explained variance score given:\n",
    "    - y_true: actual death values in our example\n",
    "    - y_pred: prediction of deaths in our example\n",
    "- documentation: https://scikit-learn.org/stable/modules/generated/sklearn.metrics.explained_variance_score.html"
   ]
  },
  {
   "cell_type": "code",
   "execution_count": 23,
   "id": "286e2569",
   "metadata": {},
   "outputs": [
    {
     "data": {
      "text/plain": [
       "(['POP'], 'DTH_CUM_CP')"
      ]
     },
     "execution_count": 23,
     "metadata": {},
     "output_type": "execute_result"
    }
   ],
   "source": [
    "xcols, ycol"
   ]
  },
  {
   "cell_type": "code",
   "execution_count": 24,
   "id": "bb36ca0f",
   "metadata": {},
   "outputs": [
    {
     "data": {
      "text/plain": [
       "array([ 8.56312576,  4.60594752,  7.90359606, ..., 15.1900608 ,\n",
       "       13.7347148 , 12.35237947])"
      ]
     },
     "execution_count": 24,
     "metadata": {},
     "output_type": "execute_result"
    }
   ],
   "source": [
    "# Let's now make predictions for the known data\n",
    "predictions = model.predict(df[xcols])\n",
    "predictions"
   ]
  },
  {
   "cell_type": "code",
   "execution_count": 25,
   "id": "48cd5e72-a25c-42c7-874b-c130fe769e29",
   "metadata": {},
   "outputs": [
    {
     "data": {
      "text/plain": [
       "0.2179057162788357"
      ]
     },
     "execution_count": 25,
     "metadata": {},
     "output_type": "execute_result"
    }
   ],
   "source": [
    "explained_variance_score(df[ycol], predictions)"
   ]
  },
  {
   "cell_type": "markdown",
   "id": "ebd81950",
   "metadata": {},
   "source": [
    "#### Explained variance score\n",
    "- `explained_variance = (known_var - explained_variance) / known_var`\n",
    "    - where `known_var = y_true.var()` and `explained_variance = (y_true - y_pred).var()`"
   ]
  },
  {
   "cell_type": "markdown",
   "id": "36bc3bb5",
   "metadata": {},
   "source": [
    "What is the variation in known deaths?"
   ]
  },
  {
   "cell_type": "code",
   "execution_count": 26,
   "id": "55a3dfcd",
   "metadata": {},
   "outputs": [
    {
     "data": {
      "text/plain": [
       "82.89603113612138"
      ]
     },
     "execution_count": 26,
     "metadata": {},
     "output_type": "execute_result"
    }
   ],
   "source": [
    "# Compute variance of \"DTH_CUM_CP\" column\n",
    "known_var = df[ycol].var()\n",
    "known_var"
   ]
  },
  {
   "cell_type": "code",
   "execution_count": 27,
   "id": "c33a6fb1",
   "metadata": {},
   "outputs": [
    {
     "data": {
      "text/plain": [
       "64.8325120947322"
      ]
     },
     "execution_count": 27,
     "metadata": {},
     "output_type": "execute_result"
    }
   ],
   "source": [
    "# explained_variance\n",
    "explained_variance = (df[ycol] - predictions).var()   \n",
    "explained_variance"
   ]
  },
  {
   "cell_type": "code",
   "execution_count": 28,
   "id": "dfb076b1",
   "metadata": {},
   "outputs": [
    {
     "data": {
      "text/plain": [
       "0.21790571627883557"
      ]
     },
     "execution_count": 28,
     "metadata": {},
     "output_type": "execute_result"
    }
   ],
   "source": [
    "# explained_variance score\n",
    "explained_variance_score = (known_var - explained_variance) / known_var\n",
    "explained_variance_score"
   ]
  },
  {
   "cell_type": "code",
   "execution_count": 29,
   "id": "143b4f6a-0882-4939-9954-658a972b177f",
   "metadata": {},
   "outputs": [
    {
     "data": {
      "text/plain": [
       "array([ 8.56312576,  4.60594752,  7.90359606, ..., 15.1900608 ,\n",
       "       13.7347148 , 12.35237947])"
      ]
     },
     "execution_count": 29,
     "metadata": {},
     "output_type": "execute_result"
    }
   ],
   "source": [
    "predictions"
   ]
  },
  {
   "cell_type": "markdown",
   "id": "547452da",
   "metadata": {},
   "source": [
    "#### `r2_score(y_true, y_pred)`\n",
    "\n",
    "- - `from sklearn.metrics import r2_score`\n",
    "- calculates the explained variance score given:\n",
    "    - y_true: actual death values in our example\n",
    "    - y_pred: prediction of deaths in our example\n",
    "- documentation: https://scikit-learn.org/stable/modules/generated/sklearn.metrics.r2_score.html "
   ]
  },
  {
   "cell_type": "code",
   "execution_count": 30,
   "id": "d16ba67b",
   "metadata": {},
   "outputs": [
    {
     "data": {
      "text/plain": [
       "0.2179057162788357"
      ]
     },
     "execution_count": 30,
     "metadata": {},
     "output_type": "execute_result"
    }
   ],
   "source": [
    "r2_score(df[ycol], predictions)"
   ]
  },
  {
   "cell_type": "markdown",
   "id": "6e60fed7",
   "metadata": {},
   "source": [
    "#### R^2 score (aka coefficient of determination) approximation\n",
    "\n",
    "- `r2_score = (known_var - r2_val) / known_var`\n",
    "    - where `known_var = y_true.var()` and `r2_val = ((y_true - y_pred) ** 2).mean()`"
   ]
  },
  {
   "cell_type": "code",
   "execution_count": 31,
   "id": "d34ea427",
   "metadata": {},
   "outputs": [
    {
     "data": {
      "text/plain": [
       "64.78593701420435"
      ]
     },
     "execution_count": 31,
     "metadata": {},
     "output_type": "execute_result"
    }
   ],
   "source": [
    "# r2_val\n",
    "r2_val = ((df[ycol] - predictions) ** 2).mean()\n",
    "r2_val"
   ]
  },
  {
   "cell_type": "code",
   "execution_count": 32,
   "id": "b1c3574b",
   "metadata": {},
   "outputs": [
    {
     "data": {
      "text/plain": [
       "0.21846756562058953"
      ]
     },
     "execution_count": 32,
     "metadata": {},
     "output_type": "execute_result"
    }
   ],
   "source": [
    "r2_score = (known_var - r2_val) / known_var\n",
    "r2_score # there might be minor rounding off differences"
   ]
  },
  {
   "cell_type": "markdown",
   "id": "adc33af9",
   "metadata": {},
   "source": [
    "#### `model.score(X, y)`\n",
    "- invokes `predict` method for calculating predictions (`y`) based on features (`X`) and compares the predictions with true values of y"
   ]
  },
  {
   "cell_type": "code",
   "execution_count": 33,
   "id": "b3bde089",
   "metadata": {},
   "outputs": [
    {
     "data": {
      "text/plain": [
       "0.2179057162788357"
      ]
     },
     "execution_count": 33,
     "metadata": {},
     "output_type": "execute_result"
    }
   ],
   "source": [
    "model.score(df[xcols], df[ycol])  "
   ]
  },
  {
   "cell_type": "markdown",
   "id": "1768f9a9",
   "metadata": {},
   "source": [
    "### Did our model learn, or just memorize (that is, \"overfit\")?\n",
    "\n",
    "- Split data into train and test sets\n",
    "- Use the test sets to tell"
   ]
  },
  {
   "cell_type": "code",
   "execution_count": 34,
   "id": "87a77fb4",
   "metadata": {},
   "outputs": [
    {
     "data": {
      "text/plain": [
       "696"
      ]
     },
     "execution_count": 34,
     "metadata": {},
     "output_type": "execute_result"
    }
   ],
   "source": [
    "# Split the data into two equal parts\n",
    "len(df) // 2"
   ]
  },
  {
   "cell_type": "code",
   "execution_count": 35,
   "id": "bdd7cad0",
   "metadata": {},
   "outputs": [
    {
     "data": {
      "text/plain": [
       "(696, 696)"
      ]
     },
     "execution_count": 35,
     "metadata": {},
     "output_type": "execute_result"
    }
   ],
   "source": [
    "# Manual way of splitting train and test data\n",
    "train, test = df.iloc[:len(df)//2], df.iloc[len(df)//2:]\n",
    "len(train), len(test)"
   ]
  },
  {
   "cell_type": "markdown",
   "id": "2f45dd74",
   "metadata": {},
   "source": [
    "Problem with manual splitting is, we need to make sure that the data is not sorted in some way."
   ]
  },
  {
   "cell_type": "markdown",
   "id": "3a781391",
   "metadata": {},
   "source": [
    "#### `train_test_split(<dataframe>, test_size=<val>)`\n",
    "\n",
    "- requires `from sklearn.model_selection import train_test_split`\n",
    "- shuffles the data and then splits based on 75%-25% split between train and test\n",
    "    - produces new train and test data every single time\n",
    "- `test_size` parameter can take two kind of values:\n",
    "    - actual number of rows that we want in test data\n",
    "    - fractional number representing the ratio of train versus test data\n",
    "    - default value is `0.25`\n",
    "- documentation: https://scikit-learn.org/stable/modules/generated/sklearn.model_selection.train_test_split.html"
   ]
  },
  {
   "cell_type": "code",
   "execution_count": 36,
   "id": "1d3a86c9",
   "metadata": {},
   "outputs": [
    {
     "data": {
      "text/plain": [
       "(1044, 348)"
      ]
     },
     "execution_count": 36,
     "metadata": {},
     "output_type": "execute_result"
    }
   ],
   "source": [
    "train, test = train_test_split(df)\n",
    "len(train), len(test)"
   ]
  },
  {
   "cell_type": "code",
   "execution_count": 37,
   "id": "49f7dfe8",
   "metadata": {},
   "outputs": [
    {
     "data": {
      "text/plain": [
       "(1272, 120)"
      ]
     },
     "execution_count": 37,
     "metadata": {},
     "output_type": "execute_result"
    }
   ],
   "source": [
    "# Test size using row count\n",
    "train, test = train_test_split(df, test_size=120)\n",
    "len(train), len(test)"
   ]
  },
  {
   "cell_type": "code",
   "execution_count": 38,
   "id": "1a29cf9d",
   "metadata": {},
   "outputs": [
    {
     "data": {
      "text/plain": [
       "(696, 696)"
      ]
     },
     "execution_count": 38,
     "metadata": {},
     "output_type": "execute_result"
    }
   ],
   "source": [
    "# Test size using fraction\n",
    "train, test = train_test_split(df, test_size=0.5)\n",
    "len(train), len(test)"
   ]
  },
  {
   "cell_type": "code",
   "execution_count": 39,
   "id": "7934e9ee",
   "metadata": {},
   "outputs": [
    {
     "data": {
      "text/html": [
       "<div>\n",
       "<style scoped>\n",
       "    .dataframe tbody tr th:only-of-type {\n",
       "        vertical-align: middle;\n",
       "    }\n",
       "\n",
       "    .dataframe tbody tr th {\n",
       "        vertical-align: top;\n",
       "    }\n",
       "\n",
       "    .dataframe thead th {\n",
       "        text-align: right;\n",
       "    }\n",
       "</style>\n",
       "<table border=\"1\" class=\"dataframe\">\n",
       "  <thead>\n",
       "    <tr style=\"text-align: right;\">\n",
       "      <th></th>\n",
       "      <th>RptDt</th>\n",
       "      <th>GEOID</th>\n",
       "      <th>GEOName</th>\n",
       "      <th>POS_CUM_CP</th>\n",
       "      <th>POS_NEW_CP</th>\n",
       "      <th>POS_7DAYAVG_CP</th>\n",
       "      <th>DTH_CUM_CP</th>\n",
       "      <th>DTH_NEW_CP</th>\n",
       "      <th>DTH_7DAYAVG_CP</th>\n",
       "      <th>DTH_OVER_30DAYS_CP</th>\n",
       "      <th>...</th>\n",
       "      <th>HOSP_NO_CP</th>\n",
       "      <th>HOSP_UNK_CP</th>\n",
       "      <th>Date</th>\n",
       "      <th>POP</th>\n",
       "      <th>POP_MOE</th>\n",
       "      <th>OBJECTID</th>\n",
       "      <th>GEO</th>\n",
       "      <th>Shape.STArea()</th>\n",
       "      <th>Shape.STLength()</th>\n",
       "      <th>geometry</th>\n",
       "    </tr>\n",
       "  </thead>\n",
       "  <tbody>\n",
       "    <tr>\n",
       "      <th>965</th>\n",
       "      <td>1689966000000</td>\n",
       "      <td>55095961100</td>\n",
       "      <td>None</td>\n",
       "      <td>1332</td>\n",
       "      <td>0</td>\n",
       "      <td>0.00</td>\n",
       "      <td>8</td>\n",
       "      <td>0</td>\n",
       "      <td>0.0</td>\n",
       "      <td>0</td>\n",
       "      <td>...</td>\n",
       "      <td>864</td>\n",
       "      <td>422</td>\n",
       "      <td>1689832800000</td>\n",
       "      <td>3814</td>\n",
       "      <td>143.0</td>\n",
       "      <td>3054</td>\n",
       "      <td>Census tract</td>\n",
       "      <td>4.534328e+08</td>\n",
       "      <td>94346.651226</td>\n",
       "      <td>POLYGON ((-92.15614 45.39537, -92.15616 45.395...</td>\n",
       "    </tr>\n",
       "    <tr>\n",
       "      <th>272</th>\n",
       "      <td>1689966000000</td>\n",
       "      <td>55029100700</td>\n",
       "      <td>None</td>\n",
       "      <td>1791</td>\n",
       "      <td>0</td>\n",
       "      <td>0.29</td>\n",
       "      <td>19</td>\n",
       "      <td>0</td>\n",
       "      <td>0.0</td>\n",
       "      <td>0</td>\n",
       "      <td>...</td>\n",
       "      <td>390</td>\n",
       "      <td>1321</td>\n",
       "      <td>1689832800000</td>\n",
       "      <td>4778</td>\n",
       "      <td>291.0</td>\n",
       "      <td>3184</td>\n",
       "      <td>Census tract</td>\n",
       "      <td>3.663965e+07</td>\n",
       "      <td>40742.039916</td>\n",
       "      <td>POLYGON ((-87.26681 44.84719, -87.26681 44.847...</td>\n",
       "    </tr>\n",
       "    <tr>\n",
       "      <th>427</th>\n",
       "      <td>1689966000000</td>\n",
       "      <td>55059001900</td>\n",
       "      <td>None</td>\n",
       "      <td>739</td>\n",
       "      <td>0</td>\n",
       "      <td>0.00</td>\n",
       "      <td>7</td>\n",
       "      <td>0</td>\n",
       "      <td>0.0</td>\n",
       "      <td>0</td>\n",
       "      <td>...</td>\n",
       "      <td>212</td>\n",
       "      <td>502</td>\n",
       "      <td>1689832800000</td>\n",
       "      <td>2717</td>\n",
       "      <td>377.0</td>\n",
       "      <td>3116</td>\n",
       "      <td>Census tract</td>\n",
       "      <td>2.687141e+06</td>\n",
       "      <td>9958.692789</td>\n",
       "      <td>POLYGON ((-87.81235 42.58064, -87.81474 42.580...</td>\n",
       "    </tr>\n",
       "    <tr>\n",
       "      <th>1319</th>\n",
       "      <td>1689966000000</td>\n",
       "      <td>55135100500</td>\n",
       "      <td>None</td>\n",
       "      <td>671</td>\n",
       "      <td>1</td>\n",
       "      <td>0.14</td>\n",
       "      <td>9</td>\n",
       "      <td>0</td>\n",
       "      <td>0.0</td>\n",
       "      <td>0</td>\n",
       "      <td>...</td>\n",
       "      <td>339</td>\n",
       "      <td>313</td>\n",
       "      <td>1689832800000</td>\n",
       "      <td>3128</td>\n",
       "      <td>403.0</td>\n",
       "      <td>1539</td>\n",
       "      <td>Census tract</td>\n",
       "      <td>1.649391e+08</td>\n",
       "      <td>60468.833055</td>\n",
       "      <td>POLYGON ((-89.09371 44.39999, -89.09384 44.400...</td>\n",
       "    </tr>\n",
       "    <tr>\n",
       "      <th>958</th>\n",
       "      <td>1689966000000</td>\n",
       "      <td>55095960300</td>\n",
       "      <td>None</td>\n",
       "      <td>1733</td>\n",
       "      <td>0</td>\n",
       "      <td>0.00</td>\n",
       "      <td>10</td>\n",
       "      <td>0</td>\n",
       "      <td>0.0</td>\n",
       "      <td>0</td>\n",
       "      <td>...</td>\n",
       "      <td>950</td>\n",
       "      <td>718</td>\n",
       "      <td>1689832800000</td>\n",
       "      <td>5471</td>\n",
       "      <td>200.0</td>\n",
       "      <td>2863</td>\n",
       "      <td>Census tract</td>\n",
       "      <td>8.771187e+08</td>\n",
       "      <td>214213.716737</td>\n",
       "      <td>POLYGON ((-92.40672 45.57017, -92.40768 45.569...</td>\n",
       "    </tr>\n",
       "  </tbody>\n",
       "</table>\n",
       "<p>5 rows × 90 columns</p>\n",
       "</div>"
      ],
      "text/plain": [
       "              RptDt        GEOID GEOName  POS_CUM_CP  POS_NEW_CP  \\\n",
       "965   1689966000000  55095961100    None        1332           0   \n",
       "272   1689966000000  55029100700    None        1791           0   \n",
       "427   1689966000000  55059001900    None         739           0   \n",
       "1319  1689966000000  55135100500    None         671           1   \n",
       "958   1689966000000  55095960300    None        1733           0   \n",
       "\n",
       "      POS_7DAYAVG_CP  DTH_CUM_CP  DTH_NEW_CP  DTH_7DAYAVG_CP  \\\n",
       "965             0.00           8           0             0.0   \n",
       "272             0.29          19           0             0.0   \n",
       "427             0.00           7           0             0.0   \n",
       "1319            0.14           9           0             0.0   \n",
       "958             0.00          10           0             0.0   \n",
       "\n",
       "      DTH_OVER_30DAYS_CP  ...  HOSP_NO_CP HOSP_UNK_CP           Date   POP  \\\n",
       "965                    0  ...         864         422  1689832800000  3814   \n",
       "272                    0  ...         390        1321  1689832800000  4778   \n",
       "427                    0  ...         212         502  1689832800000  2717   \n",
       "1319                   0  ...         339         313  1689832800000  3128   \n",
       "958                    0  ...         950         718  1689832800000  5471   \n",
       "\n",
       "     POP_MOE  OBJECTID           GEO  Shape.STArea()  Shape.STLength()  \\\n",
       "965    143.0      3054  Census tract    4.534328e+08      94346.651226   \n",
       "272    291.0      3184  Census tract    3.663965e+07      40742.039916   \n",
       "427    377.0      3116  Census tract    2.687141e+06       9958.692789   \n",
       "1319   403.0      1539  Census tract    1.649391e+08      60468.833055   \n",
       "958    200.0      2863  Census tract    8.771187e+08     214213.716737   \n",
       "\n",
       "                                               geometry  \n",
       "965   POLYGON ((-92.15614 45.39537, -92.15616 45.395...  \n",
       "272   POLYGON ((-87.26681 44.84719, -87.26681 44.847...  \n",
       "427   POLYGON ((-87.81235 42.58064, -87.81474 42.580...  \n",
       "1319  POLYGON ((-89.09371 44.39999, -89.09384 44.400...  \n",
       "958   POLYGON ((-92.40672 45.57017, -92.40768 45.569...  \n",
       "\n",
       "[5 rows x 90 columns]"
      ]
     },
     "execution_count": 39,
     "metadata": {},
     "output_type": "execute_result"
    }
   ],
   "source": [
    "# Running this cell twice will give you two different train datasets\n",
    "train, test = train_test_split(df)\n",
    "train.head()"
   ]
  },
  {
   "cell_type": "code",
   "execution_count": 40,
   "id": "0fe05a2e",
   "metadata": {},
   "outputs": [
    {
     "data": {
      "text/plain": [
       "0.24811043883743122"
      ]
     },
     "execution_count": 40,
     "metadata": {},
     "output_type": "execute_result"
    }
   ],
   "source": [
    "train, test = train_test_split(df)\n",
    "\n",
    "# Let's use the train and the test data\n",
    "model = LinearRegression()\n",
    "# Fit using training data\n",
    "model.fit(train[xcols], train[ycol])\n",
    "# Predict using test data\n",
    "y = model.predict(test[xcols])\n",
    "# We can use score directly as it automatically invokes predict\n",
    "model.score(test[xcols], test[ycol])"
   ]
  },
  {
   "cell_type": "markdown",
   "id": "e0f0e21b",
   "metadata": {},
   "source": [
    "Running the above cell again will give you entirely different model and score."
   ]
  },
  {
   "cell_type": "markdown",
   "id": "003b1c50",
   "metadata": {},
   "source": [
    "#### How can we minimize noise due to random train/test splits?\n",
    "\n",
    "### Cross validation: `cross_val_score(estimator, X, y)`\n",
    "\n",
    "- requires `from sklearn.model_selection import cross_val_score`\n",
    "-  do many different train/test splits of the values, fitting and scoring the model across each combination\n",
    "- documentation: https://scikit-learn.org/stable/modules/generated/sklearn.model_selection.cross_val_score.html"
   ]
  },
  {
   "cell_type": "code",
   "execution_count": 41,
   "id": "bfa17fce",
   "metadata": {},
   "outputs": [
    {
     "data": {
      "text/plain": [
       "array([0.26785872, 0.20318052, 0.1351875 , 0.23157043, 0.0947908 ])"
      ]
     },
     "execution_count": 41,
     "metadata": {},
     "output_type": "execute_result"
    }
   ],
   "source": [
    "train, test = train_test_split(df)\n",
    "\n",
    "model = LinearRegression()\n",
    "scores = cross_val_score(model, train[xcols], train[ycol])\n",
    "scores"
   ]
  },
  {
   "cell_type": "code",
   "execution_count": 42,
   "id": "284f776f",
   "metadata": {},
   "outputs": [
    {
     "data": {
      "text/plain": [
       "0.1865175932475105"
      ]
     },
     "execution_count": 42,
     "metadata": {},
     "output_type": "execute_result"
    }
   ],
   "source": [
    "# Compute mean of the scores\n",
    "scores.mean()"
   ]
  },
  {
   "cell_type": "markdown",
   "id": "53c9d4d4",
   "metadata": {},
   "source": [
    "### How can we compare models?\n",
    "- model 1: POP => DEATHS\n",
    "- model 2: CASES (POS_CUM_CP) => DEATHS"
   ]
  },
  {
   "cell_type": "code",
   "execution_count": 43,
   "id": "ffd9791b",
   "metadata": {},
   "outputs": [],
   "source": [
    "model1 = LinearRegression()\n",
    "model2 = LinearRegression()\n",
    "model1_scores = cross_val_score(model1, train[[\"POP\"]], train[ycol])\n",
    "model2_scores = cross_val_score(model2, train[[\"POS_CUM_CP\"]], train[ycol])"
   ]
  },
  {
   "cell_type": "code",
   "execution_count": 44,
   "id": "60f0bf73",
   "metadata": {},
   "outputs": [
    {
     "data": {
      "text/plain": [
       "0.1865175932475105"
      ]
     },
     "execution_count": 44,
     "metadata": {},
     "output_type": "execute_result"
    }
   ],
   "source": [
    "model1_scores.mean()"
   ]
  },
  {
   "cell_type": "code",
   "execution_count": 45,
   "id": "e3070bf6",
   "metadata": {},
   "outputs": [
    {
     "data": {
      "text/plain": [
       "0.22596487287656714"
      ]
     },
     "execution_count": 45,
     "metadata": {},
     "output_type": "execute_result"
    }
   ],
   "source": [
    "model2_scores.mean()"
   ]
  },
  {
   "cell_type": "markdown",
   "id": "dced0919",
   "metadata": {},
   "source": [
    "Which of these two models do you think will perform better? Probably model2."
   ]
  },
  {
   "cell_type": "code",
   "execution_count": 46,
   "id": "dfedd8d4",
   "metadata": {},
   "outputs": [
    {
     "data": {
      "text/plain": [
       "<AxesSubplot:>"
      ]
     },
     "execution_count": 46,
     "metadata": {},
     "output_type": "execute_result"
    },
    {
     "data": {
      "image/png": "[encoded data removed]",
      "text/plain": [
       "<Figure size 216x216 with 1 Axes>"
      ]
     },
     "metadata": {
      "needs_background": "light"
     },
     "output_type": "display_data"
    }
   ],
   "source": [
    "means = pd.Series({\"model1\": model1_scores.mean(),\n",
    "                   \"model2\": model2_scores.mean()})\n",
    "means.plot.bar(figsize=(3, 3))"
   ]
  },
  {
   "cell_type": "markdown",
   "id": "312aa001",
   "metadata": {},
   "source": [
    "How do we know the above difference is not noise? Let's calculate standard deviation and display error bars on the bar plot."
   ]
  },
  {
   "cell_type": "code",
   "execution_count": 47,
   "id": "5123c3a9",
   "metadata": {},
   "outputs": [
    {
     "data": {
      "text/plain": [
       "0.0632018579837909"
      ]
     },
     "execution_count": 47,
     "metadata": {},
     "output_type": "execute_result"
    }
   ],
   "source": [
    "model1_scores.std()"
   ]
  },
  {
   "cell_type": "code",
   "execution_count": 48,
   "id": "230b9dc9",
   "metadata": {},
   "outputs": [
    {
     "data": {
      "text/plain": [
       "0.06108117354486201"
      ]
     },
     "execution_count": 48,
     "metadata": {},
     "output_type": "execute_result"
    }
   ],
   "source": [
    "model2_scores.std()"
   ]
  },
  {
   "cell_type": "code",
   "execution_count": 49,
   "id": "484c7af9",
   "metadata": {},
   "outputs": [
    {
     "data": {
      "text/plain": [
       "model1    0.063202\n",
       "model2    0.061081\n",
       "dtype: float64"
      ]
     },
     "execution_count": 49,
     "metadata": {},
     "output_type": "execute_result"
    }
   ],
   "source": [
    "err = pd.Series({\"model1\": model1_scores.std(),\n",
    "                 \"model2\": model2_scores.std()})\n",
    "err"
   ]
  },
  {
   "cell_type": "code",
   "execution_count": 50,
   "id": "233cd91d",
   "metadata": {},
   "outputs": [
    {
     "data": {
      "text/plain": [
       "<AxesSubplot:>"
      ]
     },
     "execution_count": 50,
     "metadata": {},
     "output_type": "execute_result"
    },
    {
     "data": {
      "image/png": "[encoded data removed]",
      "text/plain": [
       "<Figure size 216x216 with 1 Axes>"
      ]
     },
     "metadata": {
      "needs_background": "light"
     },
     "output_type": "display_data"
    }
   ],
   "source": [
    "# Plot error bar by passing argument to paramenter yerr\n",
    "means.plot.bar(figsize=(3, 3), yerr=err)"
   ]
  },
  {
   "cell_type": "markdown",
   "id": "c3b68db6",
   "metadata": {},
   "source": [
    "Pick a winner and run it one more time against test data."
   ]
  },
  {
   "cell_type": "markdown",
   "id": "09f5bce9",
   "metadata": {},
   "source": [
    "### How can we use multiple x variables (multiple regression)?"
   ]
  },
  {
   "cell_type": "code",
   "execution_count": 51,
   "id": "2538534d",
   "metadata": {},
   "outputs": [
    {
     "data": {
      "text/plain": [
       "0.6430759732016773"
      ]
     },
     "execution_count": 51,
     "metadata": {},
     "output_type": "execute_result"
    }
   ],
   "source": [
    "model = LinearRegression()\n",
    "xcols = ['POS_0_9_CP', 'POS_10_19_CP', 'POS_20_29_CP', 'POS_30_39_CP',\n",
    "       'POS_40_49_CP', 'POS_50_59_CP', 'POS_60_69_CP', 'POS_70_79_CP',\n",
    "       'POS_80_89_CP', 'POS_90_CP']\n",
    "ycol = \"DTH_CUM_CP\"\n",
    "\n",
    "model.fit(train[xcols], train[ycol])\n",
    "model.score(test[xcols], test[ycol]) "
   ]
  },
  {
   "cell_type": "markdown",
   "id": "92e4c272",
   "metadata": {},
   "source": [
    "#### How can we interpret what features the model is relying on?"
   ]
  },
  {
   "cell_type": "code",
   "execution_count": 52,
   "id": "68e3d21a",
   "metadata": {},
   "outputs": [
    {
     "data": {
      "text/plain": [
       "array([-0.03053693, -0.00087769, -0.00052715,  0.01377427,  0.00709095,\n",
       "        0.00135216,  0.01507965, -0.00767836,  0.13279373,  0.14424809])"
      ]
     },
     "execution_count": 52,
     "metadata": {},
     "output_type": "execute_result"
    }
   ],
   "source": [
    "model.coef_"
   ]
  },
  {
   "cell_type": "code",
   "execution_count": 53,
   "id": "44bd5b07",
   "metadata": {},
   "outputs": [
    {
     "data": {
      "text/plain": [
       "<AxesSubplot:>"
      ]
     },
     "execution_count": 53,
     "metadata": {},
     "output_type": "execute_result"
    },
    {
     "data": {
      "image/png": "[encoded data removed]",
      "text/plain": [
       "<Figure size 216x144 with 1 Axes>"
      ]
     },
     "metadata": {
      "needs_background": "light"
     },
     "output_type": "display_data"
    }
   ],
   "source": [
    "pd.Series(model.coef_, index=xcols).plot.bar(figsize=(3, 2))"
   ]
  }
 ],
 "metadata": {
  "kernelspec": {
   "display_name": "Python 3 (ipykernel)",
   "language": "python",
   "name": "python3"
  },
  "language_info": {
   "codemirror_mode": {
    "name": "ipython",
    "version": 3
   },
   "file_extension": ".py",
   "mimetype": "text/x-python",
   "name": "python",
   "nbconvert_exporter": "python",
   "pygments_lexer": "ipython3",
   "version": "3.10.6"
  }
 },
 "nbformat": 4,
 "nbformat_minor": 5
}
