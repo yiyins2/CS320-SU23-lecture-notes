{
 "cells": [
  {
   "cell_type": "code",
   "execution_count": 1,
   "id": "cbd48a28",
   "metadata": {},
   "outputs": [],
   "source": [
    "import numpy as np\n",
    "import pandas as pd\n",
    "import geopandas as gpd\n",
    "import matplotlib.pyplot as plt\n",
    "\n",
    "from sklearn import datasets\n",
    "from sklearn.model_selection import train_test_split\n",
    "# new import statements\n",
    "from sklearn.cluster import KMeans"
   ]
  },
  {
   "cell_type": "markdown",
   "id": "e72ea2f4",
   "metadata": {},
   "source": [
    "# Unsupervised Machine Learning: Clustering\n",
    "\n",
    "- In classification (supervised), we try to find boundaries/rules to separate points according to pre-determined labels.\n",
    "- In clustering, the algorithm chooses the labels.  Goal is to choose labels so that similar rows get labeled the same.\n",
    "\n",
    "### K-Means Clustering\n",
    "\n",
    "- K: number of clusters:\n",
    "    - 3-Means => 3 clusters\n",
    "    - 4-Means => 4 clusters, and so on\n",
    "- Means: we will find centroids (aka means aka averages) to create clusters"
   ]
  },
  {
   "cell_type": "markdown",
   "id": "3a0ad5a5",
   "metadata": {},
   "source": [
    "#### Iterative algorithm for K-Means\n",
    "\n",
    "Animation of the iterative K-Means algorithm: https://www.youtube.com/watch?v=5I3Ei69I40s"
   ]
  },
  {
   "cell_type": "code",
   "execution_count": 2,
   "id": "0b83aaf3",
   "metadata": {},
   "outputs": [
    {
     "data": {
      "text/html": [
       "<div>\n",
       "<style scoped>\n",
       "    .dataframe tbody tr th:only-of-type {\n",
       "        vertical-align: middle;\n",
       "    }\n",
       "\n",
       "    .dataframe tbody tr th {\n",
       "        vertical-align: top;\n",
       "    }\n",
       "\n",
       "    .dataframe thead th {\n",
       "        text-align: right;\n",
       "    }\n",
       "</style>\n",
       "<table border=\"1\" class=\"dataframe\">\n",
       "  <thead>\n",
       "    <tr style=\"text-align: right;\">\n",
       "      <th></th>\n",
       "      <th>x0</th>\n",
       "      <th>x1</th>\n",
       "    </tr>\n",
       "  </thead>\n",
       "  <tbody>\n",
       "    <tr>\n",
       "      <th>0</th>\n",
       "      <td>8.370099</td>\n",
       "      <td>7.747045</td>\n",
       "    </tr>\n",
       "    <tr>\n",
       "      <th>1</th>\n",
       "      <td>-2.701740</td>\n",
       "      <td>0.395336</td>\n",
       "    </tr>\n",
       "    <tr>\n",
       "      <th>2</th>\n",
       "      <td>-3.204128</td>\n",
       "      <td>-0.407438</td>\n",
       "    </tr>\n",
       "    <tr>\n",
       "      <th>3</th>\n",
       "      <td>-3.132762</td>\n",
       "      <td>-1.335692</td>\n",
       "    </tr>\n",
       "    <tr>\n",
       "      <th>4</th>\n",
       "      <td>7.152737</td>\n",
       "      <td>6.069995</td>\n",
       "    </tr>\n",
       "  </tbody>\n",
       "</table>\n",
       "</div>"
      ],
      "text/plain": [
       "         x0        x1\n",
       "0  8.370099  7.747045\n",
       "1 -2.701740  0.395336\n",
       "2 -3.204128 -0.407438\n",
       "3 -3.132762 -1.335692\n",
       "4  7.152737  6.069995"
      ]
     },
     "execution_count": 2,
     "metadata": {},
     "output_type": "execute_result"
    }
   ],
   "source": [
    "# Generate random data\n",
    "x, y = datasets.make_blobs(n_samples=100, centers=3, cluster_std=1.2, random_state=3)\n",
    "df = pd.DataFrame(x, columns=[\"x0\", \"x1\"])\n",
    "df.head()"
   ]
  },
  {
   "cell_type": "code",
   "execution_count": 3,
   "id": "fbced908",
   "metadata": {},
   "outputs": [
    {
     "data": {
      "image/png": "[encoded data removed]",
      "text/plain": [
       "<Figure size 432x288 with 1 Axes>"
      ]
     },
     "metadata": {
      "needs_background": "light"
     },
     "output_type": "display_data"
    }
   ],
   "source": [
    "def km_scatter(df, **kwargs):\n",
    "    \"\"\"\n",
    "    Produces scatter plot visualizations with x0 on x-axis and y0 on y-axis.\n",
    "    It can also plot the centroids for clusters.\n",
    "    Parameters:\n",
    "        x0 => x-axis\n",
    "        x1 => y-axis\n",
    "        cluster => marker type\n",
    "    \"\"\"\n",
    "    ax = kwargs.pop(\"ax\", None)\n",
    "    if not \"label\" in df.columns:\n",
    "        return df.plot.scatter(x=\"x0\", y=\"x1\", marker=\"$?$\", ax=ax, **kwargs)\n",
    "\n",
    "    for marker in set(df[\"label\"]):\n",
    "        sub_df = df[df[\"label\"] == marker]\n",
    "        ax = sub_df.plot.scatter(x=\"x0\", y=\"x1\", marker=marker, ax=ax, **kwargs)\n",
    "    return ax\n",
    "\n",
    "ax = km_scatter(df, s=100, c=\"0.7\")"
   ]
  },
  {
   "cell_type": "markdown",
   "id": "47686eee",
   "metadata": {},
   "source": [
    "### Hard Problem\n",
    "\n",
    "Finding the best answer. What is the answer? Determing the centroids of the clusters.\n",
    "\n",
    "### Easier Problem\n",
    "\n",
    "Taking a random answer and make it a little better. Then repeat!\n",
    "Downside? If randomization leads to very bad initial choice of centroids, that might lead to bad clustering (fewer clusters)."
   ]
  },
  {
   "cell_type": "code",
   "execution_count": 4,
   "id": "6f8bde9e",
   "metadata": {},
   "outputs": [
    {
     "data": {
      "text/plain": [
       "<AxesSubplot:xlabel='x0', ylabel='x1'>"
      ]
     },
     "execution_count": 4,
     "metadata": {},
     "output_type": "execute_result"
    },
    {
     "data": {
      "image/png": "[encoded data removed]",
      "text/plain": [
       "<Figure size 432x288 with 1 Axes>"
      ]
     },
     "metadata": {
      "needs_background": "light"
     },
     "output_type": "display_data"
    }
   ],
   "source": [
    "clusters = np.random.uniform(-5, 5, size=(3, 2))\n",
    "clusters = pd.DataFrame(clusters, columns=[\"x0\", \"x1\"])\n",
    "clusters[\"label\"] = [\"o\", \"+\", \"x\"]\n",
    "\n",
    "ax = km_scatter(df, s=100, c=\"0.7\")\n",
    "km_scatter(clusters, s=200, c=\"red\", ax=ax)"
   ]
  },
  {
   "cell_type": "markdown",
   "id": "a3fe986c",
   "metadata": {},
   "source": [
    "Two variables for us to deal with:\n",
    "1. clusters: contains location of centroids and a label for them\n",
    "2. df: contains the actual data points"
   ]
  },
  {
   "cell_type": "code",
   "execution_count": 5,
   "id": "cfa1f1aa",
   "metadata": {},
   "outputs": [
    {
     "data": {
      "text/html": [
       "<div>\n",
       "<style scoped>\n",
       "    .dataframe tbody tr th:only-of-type {\n",
       "        vertical-align: middle;\n",
       "    }\n",
       "\n",
       "    .dataframe tbody tr th {\n",
       "        vertical-align: top;\n",
       "    }\n",
       "\n",
       "    .dataframe thead th {\n",
       "        text-align: right;\n",
       "    }\n",
       "</style>\n",
       "<table border=\"1\" class=\"dataframe\">\n",
       "  <thead>\n",
       "    <tr style=\"text-align: right;\">\n",
       "      <th></th>\n",
       "      <th>x0</th>\n",
       "      <th>x1</th>\n",
       "      <th>label</th>\n",
       "    </tr>\n",
       "  </thead>\n",
       "  <tbody>\n",
       "    <tr>\n",
       "      <th>0</th>\n",
       "      <td>-2.687248</td>\n",
       "      <td>-2.806318</td>\n",
       "      <td>o</td>\n",
       "    </tr>\n",
       "    <tr>\n",
       "      <th>1</th>\n",
       "      <td>-2.577471</td>\n",
       "      <td>4.927183</td>\n",
       "      <td>+</td>\n",
       "    </tr>\n",
       "    <tr>\n",
       "      <th>2</th>\n",
       "      <td>0.758907</td>\n",
       "      <td>-2.977657</td>\n",
       "      <td>x</td>\n",
       "    </tr>\n",
       "  </tbody>\n",
       "</table>\n",
       "</div>"
      ],
      "text/plain": [
       "         x0        x1 label\n",
       "0 -2.687248 -2.806318     o\n",
       "1 -2.577471  4.927183     +\n",
       "2  0.758907 -2.977657     x"
      ]
     },
     "execution_count": 5,
     "metadata": {},
     "output_type": "execute_result"
    }
   ],
   "source": [
    "clusters"
   ]
  },
  {
   "cell_type": "code",
   "execution_count": 6,
   "id": "f210c534",
   "metadata": {},
   "outputs": [
    {
     "data": {
      "text/html": [
       "<div>\n",
       "<style scoped>\n",
       "    .dataframe tbody tr th:only-of-type {\n",
       "        vertical-align: middle;\n",
       "    }\n",
       "\n",
       "    .dataframe tbody tr th {\n",
       "        vertical-align: top;\n",
       "    }\n",
       "\n",
       "    .dataframe thead th {\n",
       "        text-align: right;\n",
       "    }\n",
       "</style>\n",
       "<table border=\"1\" class=\"dataframe\">\n",
       "  <thead>\n",
       "    <tr style=\"text-align: right;\">\n",
       "      <th></th>\n",
       "      <th>x0</th>\n",
       "      <th>x1</th>\n",
       "    </tr>\n",
       "  </thead>\n",
       "  <tbody>\n",
       "    <tr>\n",
       "      <th>0</th>\n",
       "      <td>8.370099</td>\n",
       "      <td>7.747045</td>\n",
       "    </tr>\n",
       "    <tr>\n",
       "      <th>1</th>\n",
       "      <td>-2.701740</td>\n",
       "      <td>0.395336</td>\n",
       "    </tr>\n",
       "    <tr>\n",
       "      <th>2</th>\n",
       "      <td>-3.204128</td>\n",
       "      <td>-0.407438</td>\n",
       "    </tr>\n",
       "    <tr>\n",
       "      <th>3</th>\n",
       "      <td>-3.132762</td>\n",
       "      <td>-1.335692</td>\n",
       "    </tr>\n",
       "    <tr>\n",
       "      <th>4</th>\n",
       "      <td>7.152737</td>\n",
       "      <td>6.069995</td>\n",
       "    </tr>\n",
       "  </tbody>\n",
       "</table>\n",
       "</div>"
      ],
      "text/plain": [
       "         x0        x1\n",
       "0  8.370099  7.747045\n",
       "1 -2.701740  0.395336\n",
       "2 -3.204128 -0.407438\n",
       "3 -3.132762 -1.335692\n",
       "4  7.152737  6.069995"
      ]
     },
     "execution_count": 6,
     "metadata": {},
     "output_type": "execute_result"
    }
   ],
   "source": [
    "df.head()"
   ]
  },
  {
   "cell_type": "code",
   "execution_count": 7,
   "id": "a28466ce",
   "metadata": {},
   "outputs": [
    {
     "data": {
      "image/png": "[encoded data removed]",
      "text/plain": [
       "<Figure size 432x288 with 1 Axes>"
      ]
     },
     "metadata": {
      "needs_background": "light"
     },
     "output_type": "display_data"
    },
    {
     "data": {
      "image/png": "[encoded data removed]",
      "text/plain": [
       "<Figure size 432x288 with 1 Axes>"
      ]
     },
     "metadata": {
      "needs_background": "light"
     },
     "output_type": "display_data"
    }
   ],
   "source": [
    "class KM:\n",
    "    def __init__(self, df, clusters):\n",
    "        # We make copies because we are going to keep changing the dataframe to \n",
    "        # identify better clusters\n",
    "        self.df = df.copy()\n",
    "        self.clusters = clusters.copy()\n",
    "        self.labels = clusters[\"label\"].values\n",
    "        \n",
    "    def plot(self):\n",
    "        ax = km_scatter(self.df, color=\"0.7\", s=100)\n",
    "        km_scatter(self.clusters, ax=ax, color=\"red\", s=200)\n",
    "        \n",
    "    def assign_points(self):\n",
    "        \"\"\"\n",
    "        compute Euclidean distance between each point and each centroids\n",
    "        \"\"\"\n",
    "        for center in self.clusters.itertuples():\n",
    "            # Euclidean distance\n",
    "            x0_diff = df[\"x0\"] - center.x0\n",
    "            x1_diff = df[\"x1\"] - center.x1\n",
    "            distances = (x0_diff ** 2 + x1_diff ** 2) ** 0.5\n",
    "            # add distance to each centroid as a column within the dataframe\n",
    "            self.df[center.label] = distances\n",
    "        # get the label of the nearest centroid\n",
    "        self.df[\"label\"] = self.labels[self.df[self.labels].values.argmin(axis=1)]\n",
    "    \n",
    "    def update_centers(self):\n",
    "        \"\"\"\n",
    "        update centroids by taking mean of the points that are nearest to that\n",
    "        particular centroid\n",
    "        \"\"\"\n",
    "        for center in self.clusters.itertuples():\n",
    "            subset_df = self.df[self.df[\"label\"] == center.label]\n",
    "            if len(subset_df) > 0:\n",
    "                x0 = subset_df[\"x0\"].mean()\n",
    "                x1 = subset_df[\"x1\"].mean()\n",
    "                self.clusters.at[center.Index, \"x0\"] = x0\n",
    "                self.clusters.at[center.Index, \"x1\"] = x1\n",
    "\n",
    "\"\"\"\n",
    "High-level algorithm:\n",
    "1. Start with random locations for centroids\n",
    "2. Iterate over each data point:\n",
    "    1. Find the distance (Euclidean distance) between current data point and each centroid.\n",
    "    2. Find the minimum of those distances and the corresponding label.\n",
    "    3. Assign current data point to the closest cluster centroid label.\n",
    "4. Once all points are assigned, compute new centroid for each cluster. Iterate over \n",
    "   each cluster:\n",
    "    1. Extract subset of data points which got assigned to curr cluster label.\n",
    "    2. Compute mean of all the assigned data points.\n",
    "    3. Update cluster centroid.\n",
    "5. Repeat steps 2 to 4 many times (iterative improvement).\n",
    "\"\"\"\n",
    "\n",
    "# Creating object instance\n",
    "km = KM(df, clusters)\n",
    "km.plot()\n",
    "\n",
    "for i in range(10):\n",
    "    km.assign_points()\n",
    "    km.update_centers()\n",
    "    \n",
    "km.plot()"
   ]
  },
  {
   "cell_type": "markdown",
   "id": "938a6cc5",
   "metadata": {},
   "source": [
    "### `sklearn KMeans`\n",
    "\n",
    "- import statement:\n",
    "```python\n",
    "from sklearn.cluster import KMeans\n",
    "```\n",
    "- documentation: https://scikit-learn.org/stable/modules/generated/sklearn.cluster.KMeans.html\n",
    "\n",
    "**Instantiation:**\n",
    "`KMeans(n_clusters=<num>, n_init=<num>, max_iter=<num>)`\n",
    "- `n_clusters`: number of clusters to be formed\n",
    "- `n_init`: number of initial random seeds to try (to avoid downside of bad initial random choices)\n",
    "- `max_iter`: maximum number of iterations for a single K-means run (single starting seed)"
   ]
  },
  {
   "cell_type": "code",
   "execution_count": 8,
   "id": "caa96a1e",
   "metadata": {},
   "outputs": [
    {
     "data": {
      "text/plain": [
       "KMeans(n_clusters=3)"
      ]
     },
     "execution_count": 8,
     "metadata": {},
     "output_type": "execute_result"
    }
   ],
   "source": [
    "km_cluster = KMeans(3)\n",
    "km_cluster"
   ]
  },
  {
   "cell_type": "code",
   "execution_count": 9,
   "id": "ea51243c",
   "metadata": {},
   "outputs": [
    {
     "data": {
      "text/html": [
       "<div>\n",
       "<style scoped>\n",
       "    .dataframe tbody tr th:only-of-type {\n",
       "        vertical-align: middle;\n",
       "    }\n",
       "\n",
       "    .dataframe tbody tr th {\n",
       "        vertical-align: top;\n",
       "    }\n",
       "\n",
       "    .dataframe thead th {\n",
       "        text-align: right;\n",
       "    }\n",
       "</style>\n",
       "<table border=\"1\" class=\"dataframe\">\n",
       "  <thead>\n",
       "    <tr style=\"text-align: right;\">\n",
       "      <th></th>\n",
       "      <th>x0</th>\n",
       "      <th>x1</th>\n",
       "    </tr>\n",
       "  </thead>\n",
       "  <tbody>\n",
       "    <tr>\n",
       "      <th>0</th>\n",
       "      <td>8.370099</td>\n",
       "      <td>7.747045</td>\n",
       "    </tr>\n",
       "    <tr>\n",
       "      <th>1</th>\n",
       "      <td>-2.701740</td>\n",
       "      <td>0.395336</td>\n",
       "    </tr>\n",
       "    <tr>\n",
       "      <th>2</th>\n",
       "      <td>-3.204128</td>\n",
       "      <td>-0.407438</td>\n",
       "    </tr>\n",
       "    <tr>\n",
       "      <th>3</th>\n",
       "      <td>-3.132762</td>\n",
       "      <td>-1.335692</td>\n",
       "    </tr>\n",
       "    <tr>\n",
       "      <th>4</th>\n",
       "      <td>7.152737</td>\n",
       "      <td>6.069995</td>\n",
       "    </tr>\n",
       "  </tbody>\n",
       "</table>\n",
       "</div>"
      ],
      "text/plain": [
       "         x0        x1\n",
       "0  8.370099  7.747045\n",
       "1 -2.701740  0.395336\n",
       "2 -3.204128 -0.407438\n",
       "3 -3.132762 -1.335692\n",
       "4  7.152737  6.069995"
      ]
     },
     "execution_count": 9,
     "metadata": {},
     "output_type": "execute_result"
    }
   ],
   "source": [
    "df.head()"
   ]
  },
  {
   "cell_type": "markdown",
   "id": "84e59c4a",
   "metadata": {},
   "source": [
    "**Methods:**\n",
    "1. `fit`: find good centroids\n",
    "2. `transform`: give me the distances from each point to each centroid\n",
    "3. `predict`: give me the chosen group labels\n",
    "\n",
    "**Attributes:**\n",
    "- `<km object>.cluster_centers_`: coordinates of cluster centers\n",
    "- `<km object>.inertia_`: sum of squared distances of samples to their closest cluster center"
   ]
  },
  {
   "cell_type": "code",
   "execution_count": 10,
   "id": "26be1744",
   "metadata": {},
   "outputs": [
    {
     "data": {
      "text/plain": [
       "array([[ 0.85985598,  3.98556415],\n",
       "       [ 7.69751168,  7.9241129 ],\n",
       "       [-4.41347291,  0.43410278]])"
      ]
     },
     "execution_count": 10,
     "metadata": {},
     "output_type": "execute_result"
    }
   ],
   "source": [
    "# `fit`: find good centroids\n",
    "km_cluster.fit(df)\n",
    "# coordinates of cluster centers\n",
    "km_cluster.cluster_centers_"
   ]
  },
  {
   "cell_type": "markdown",
   "id": "6ce05e61",
   "metadata": {},
   "source": [
    "**Observeration:** 3 rows (because we have 3 clusters), and 2 columns (because the df had 2 columns)."
   ]
  },
  {
   "cell_type": "code",
   "execution_count": 11,
   "id": "2df977a4",
   "metadata": {},
   "outputs": [
    {
     "data": {
      "text/plain": [
       "array([[ 8.39955315,  0.69550479, 14.72748598],\n",
       "       [ 5.057144  , 12.83849367,  1.71217188],\n",
       "       [ 5.984516  , 13.72080475,  1.47333179],\n",
       "       [ 6.65257594, 14.24916908,  2.18458064],\n",
       "       [ 6.62911793,  1.93249405, 12.86625407],\n",
       "       [ 6.42867089, 14.14472291,  1.56004975],\n",
       "       [ 7.00663718, 14.79157898,  1.29983259],\n",
       "       [ 7.09747529,  1.56332001, 13.35025948],\n",
       "       [ 6.1620119 , 13.93648735,  1.20010768],\n",
       "       [ 1.75079801,  9.23940355,  5.12923462],\n",
       "       [ 7.45185474, 15.29849451,  1.23053441],\n",
       "       [ 8.98045036,  1.52459286, 15.3322184 ],\n",
       "       [10.91386222,  3.37380113, 17.16390523],\n",
       "       [ 8.05146158,  0.29966036, 14.40658807],\n",
       "       [ 1.50499677,  6.61820665,  7.66113117],\n",
       "       [ 5.52922108, 13.2665394 ,  2.37571603],\n",
       "       [ 8.29635389,  0.53707918, 14.65282383],\n",
       "       [ 7.93015965,  1.55598141, 14.25952349],\n",
       "       [ 5.48003982, 13.29440299,  1.90656095],\n",
       "       [ 7.2343239 , 15.0936722 ,  0.96395695],\n",
       "       [ 1.41855649,  9.25115661,  4.992096  ],\n",
       "       [ 1.45498683,  9.33747036,  4.93551825],\n",
       "       [ 5.44776095, 13.23976135,  2.07379647],\n",
       "       [ 2.19458147,  9.56765164,  4.91887166],\n",
       "       [ 6.93266631, 14.81316619,  0.57581927],\n",
       "       [ 7.17892147,  1.11200436, 13.53348077],\n",
       "       [ 7.67472596,  2.34433677, 13.93980529],\n",
       "       [ 1.93352254,  9.20846006,  5.26299436],\n",
       "       [ 6.70061053, 14.59106753,  0.65237687],\n",
       "       [ 7.12823278,  1.94521438, 13.32557282],\n",
       "       [ 0.74526095,  8.30288243,  6.05203173],\n",
       "       [ 0.40860041,  8.00815579,  6.23474579],\n",
       "       [ 9.49044337,  1.60009447, 15.83753761],\n",
       "       [ 6.22489679, 14.10790541,  0.87321819],\n",
       "       [ 8.435192  ,  1.15378784, 14.72414628],\n",
       "       [10.2531705 ,  2.38736888, 16.58783267],\n",
       "       [ 2.27154202,  5.83830901,  8.55105873],\n",
       "       [ 2.75660235,  5.95202527,  8.78629101],\n",
       "       [ 2.84287347, 10.1425873 ,  4.54066469],\n",
       "       [ 7.16356495,  0.93262286, 13.5212101 ],\n",
       "       [ 9.19576267,  1.30641878, 15.54221673],\n",
       "       [ 5.34666581,  2.54971515, 11.7015581 ],\n",
       "       [ 2.54587855, 10.22941308,  4.36721141],\n",
       "       [ 1.88491159,  8.68824585,  6.14751601],\n",
       "       [ 7.33668275, 15.17700603,  1.1667762 ],\n",
       "       [ 5.45233018, 13.30733704,  1.01799729],\n",
       "       [ 1.7579973 ,  7.49072887,  7.03318297],\n",
       "       [ 9.86402785, 17.75488558,  3.54826072],\n",
       "       [ 7.2031497 ,  1.20887179, 13.55443098],\n",
       "       [ 5.87271591, 13.74675135,  0.51824276],\n",
       "       [ 2.30838073,  7.10823668,  7.82838283],\n",
       "       [ 7.80457898,  1.12270374, 14.15307497],\n",
       "       [ 6.4156169 , 14.24917525,  1.59442989],\n",
       "       [ 6.6822816 ,  1.3318725 , 13.03994358],\n",
       "       [ 6.92982586, 14.80507705,  0.59024245],\n",
       "       [ 8.63436577,  1.42658402, 14.90539467],\n",
       "       [ 5.41291689, 13.29593667,  1.25147313],\n",
       "       [ 8.54636085,  1.19827726, 14.89915191],\n",
       "       [ 0.57780829,  8.14567593,  6.10488957],\n",
       "       [ 0.77282299,  8.60942142,  5.67744983],\n",
       "       [ 2.59528033,  6.32091816,  8.49307124],\n",
       "       [ 5.35252808, 13.23709537,  1.00610963],\n",
       "       [ 2.26369124,  7.07230771,  7.5990801 ],\n",
       "       [ 1.26785392,  9.0405774 ,  5.30885047],\n",
       "       [ 5.99596267, 13.88620068,  0.47948765],\n",
       "       [ 0.91763133,  8.58111489,  5.77604558],\n",
       "       [ 6.65464378,  2.06300507, 12.86777741],\n",
       "       [ 6.39246794, 14.09638583,  1.62566554],\n",
       "       [ 1.65291205,  8.35369533,  6.38383554],\n",
       "       [ 7.53920353, 15.42660006,  1.41490518],\n",
       "       [ 6.17924199, 14.06223865,  0.17931956],\n",
       "       [ 8.31324068,  0.59836973, 14.67041305],\n",
       "       [ 1.99362004,  6.00685668,  8.25397394],\n",
       "       [ 8.34952026, 16.1079315 ,  2.4063456 ],\n",
       "       [ 0.37645384,  7.86635161,  6.37596316],\n",
       "       [ 1.26889021,  9.1588198 ,  5.08950884],\n",
       "       [ 6.67830608, 14.56800175,  0.69981327],\n",
       "       [ 0.77020788,  8.64186223,  5.59931912],\n",
       "       [ 7.79244516,  0.28968299, 14.14799736],\n",
       "       [ 5.12907373, 12.98613124,  1.30572045],\n",
       "       [ 2.53789955,  5.87809732,  8.68870984],\n",
       "       [ 2.36585725,  8.24866952,  6.61574395],\n",
       "       [ 2.12612074,  5.87257865,  8.45067852],\n",
       "       [ 0.90652387,  7.12826473,  7.11997028],\n",
       "       [ 7.26336958,  0.71023041, 13.61995075],\n",
       "       [ 1.15089783,  8.22238495,  6.12509618],\n",
       "       [ 7.02568051, 14.91475526,  0.95000417],\n",
       "       [ 6.83520257,  1.30571326, 13.19097587],\n",
       "       [ 2.02969683,  9.13122664,  5.6933789 ],\n",
       "       [ 7.27004865,  0.73792958, 13.60223177],\n",
       "       [ 1.82317591,  6.1130832 ,  8.1696311 ],\n",
       "       [ 7.42721394,  0.4748222 , 13.7794429 ],\n",
       "       [10.81513449,  2.92436629, 17.16231237],\n",
       "       [ 7.03701825, 14.8381987 ,  2.0476452 ],\n",
       "       [ 7.26300626,  0.79864959, 13.62070697],\n",
       "       [ 6.25392175, 14.14191977,  0.70491739],\n",
       "       [ 5.50220436, 13.35168297,  1.00665632],\n",
       "       [ 0.30480731,  8.16896184,  6.07336225],\n",
       "       [ 7.63813717,  0.63263536, 13.95950443],\n",
       "       [ 8.10973138,  1.16783284, 14.38622797]])"
      ]
     },
     "execution_count": 11,
     "metadata": {},
     "output_type": "execute_result"
    }
   ],
   "source": [
    "# `transform`: give me the distances from each point to each centroid\n",
    "km_cluster.transform(df)"
   ]
  },
  {
   "cell_type": "markdown",
   "id": "7cd8409e",
   "metadata": {},
   "source": [
    "**Observations**: Each row corresponds to a row in df. 3 columns correspond to 3 distances to the centroids."
   ]
  },
  {
   "cell_type": "code",
   "execution_count": 12,
   "id": "6a65a976",
   "metadata": {},
   "outputs": [
    {
     "data": {
      "text/plain": [
       "array([1, 2, 2, 2, 1, 2, 2, 1, 2, 0, 2, 1, 1, 1, 0, 2, 1, 1, 2, 2, 0, 0,\n",
       "       2, 0, 2, 1, 1, 0, 2, 1, 0, 0, 1, 2, 1, 1, 0, 0, 0, 1, 1, 1, 0, 0,\n",
       "       2, 2, 0, 2, 1, 2, 0, 1, 2, 1, 2, 1, 2, 1, 0, 0, 0, 2, 0, 0, 2, 0,\n",
       "       1, 2, 0, 2, 2, 1, 0, 2, 0, 0, 2, 0, 1, 2, 0, 0, 0, 0, 1, 0, 2, 1,\n",
       "       0, 1, 0, 1, 1, 2, 1, 2, 2, 0, 1, 1], dtype=int32)"
      ]
     },
     "execution_count": 12,
     "metadata": {},
     "output_type": "execute_result"
    }
   ],
   "source": [
    "# `predict`: give me the chosen group labels\n",
    "km_cluster.predict(df)"
   ]
  },
  {
   "cell_type": "markdown",
   "id": "240d995a",
   "metadata": {},
   "source": [
    "### How many clusters do we need?\n",
    "\n",
    "- metric: `<km object>.inertia_`: sum of squared distances of samples to their closest cluster center"
   ]
  },
  {
   "cell_type": "code",
   "execution_count": 13,
   "id": "8bf73d2c",
   "metadata": {},
   "outputs": [
    {
     "data": {
      "text/plain": [
       "260.7196850565892"
      ]
     },
     "execution_count": 13,
     "metadata": {},
     "output_type": "execute_result"
    }
   ],
   "source": [
    "km_cluster.inertia_"
   ]
  },
  {
   "cell_type": "markdown",
   "id": "57b5ccc4",
   "metadata": {},
   "source": [
    "**Observation**: we want \"inertia\" to be as small as possible."
   ]
  },
  {
   "cell_type": "markdown",
   "id": "ae70b416",
   "metadata": {},
   "source": [
    "### Elbow plot to determine `n_clusters`"
   ]
  },
  {
   "cell_type": "code",
   "execution_count": 14,
   "id": "607a96b0",
   "metadata": {},
   "outputs": [
    {
     "data": {
      "text/plain": [
       "1     3621.095890\n",
       "2      927.007644\n",
       "3      260.719685\n",
       "4      211.730031\n",
       "5      181.995815\n",
       "6      153.790312\n",
       "7      130.505100\n",
       "8      110.615199\n",
       "9       93.692285\n",
       "10      82.856078\n",
       "dtype: float64"
      ]
     },
     "execution_count": 14,
     "metadata": {},
     "output_type": "execute_result"
    }
   ],
   "source": [
    "s = pd.Series(dtype=float)\n",
    "\n",
    "for num_clusters in range(1, 11):\n",
    "    km = KMeans(num_clusters)\n",
    "    km.fit(df)\n",
    "    s.at[num_clusters] = km.inertia_\n",
    "s"
   ]
  },
  {
   "cell_type": "code",
   "execution_count": 15,
   "id": "388cd23f",
   "metadata": {},
   "outputs": [
    {
     "data": {
      "text/plain": [
       "Text(0.5, 0, 'Number of clusters')"
      ]
     },
     "execution_count": 15,
     "metadata": {},
     "output_type": "execute_result"
    },
    {
     "data": {
      "image/png": "[encoded data removed]",
      "text/plain": [
       "<Figure size 432x288 with 1 Axes>"
      ]
     },
     "metadata": {
      "needs_background": "light"
     },
     "output_type": "display_data"
    }
   ],
   "source": [
    "ax = s.plot.line(figsize=(6, 4))\n",
    "ax.set_ylabel(\"Inertia\")\n",
    "ax.set_xlabel(\"Number of clusters\")"
   ]
  },
  {
   "cell_type": "markdown",
   "id": "eab497cd",
   "metadata": {},
   "source": [
    "**Observation**: there is an \"elbow\" around `n_clusters`=3."
   ]
  },
  {
   "cell_type": "markdown",
   "id": "8e763d1c",
   "metadata": {},
   "source": [
    "#### Will we always have a clear \"elbow\"?\n",
    "\n",
    "- Let's generate uniform random data"
   ]
  },
  {
   "cell_type": "code",
   "execution_count": 16,
   "id": "e769bb4a-9bb0-48ea-8fc8-ac5b1fe043c6",
   "metadata": {},
   "outputs": [
    {
     "data": {
      "text/html": [
       "<div>\n",
       "<style scoped>\n",
       "    .dataframe tbody tr th:only-of-type {\n",
       "        vertical-align: middle;\n",
       "    }\n",
       "\n",
       "    .dataframe tbody tr th {\n",
       "        vertical-align: top;\n",
       "    }\n",
       "\n",
       "    .dataframe thead th {\n",
       "        text-align: right;\n",
       "    }\n",
       "</style>\n",
       "<table border=\"1\" class=\"dataframe\">\n",
       "  <thead>\n",
       "    <tr style=\"text-align: right;\">\n",
       "      <th></th>\n",
       "      <th>0</th>\n",
       "      <th>1</th>\n",
       "    </tr>\n",
       "  </thead>\n",
       "  <tbody>\n",
       "    <tr>\n",
       "      <th>0</th>\n",
       "      <td>1.942380</td>\n",
       "      <td>8.566563</td>\n",
       "    </tr>\n",
       "    <tr>\n",
       "      <th>1</th>\n",
       "      <td>2.810234</td>\n",
       "      <td>1.669021</td>\n",
       "    </tr>\n",
       "    <tr>\n",
       "      <th>2</th>\n",
       "      <td>9.231927</td>\n",
       "      <td>9.209231</td>\n",
       "    </tr>\n",
       "    <tr>\n",
       "      <th>3</th>\n",
       "      <td>0.365883</td>\n",
       "      <td>9.954519</td>\n",
       "    </tr>\n",
       "    <tr>\n",
       "      <th>4</th>\n",
       "      <td>7.500639</td>\n",
       "      <td>3.275227</td>\n",
       "    </tr>\n",
       "  </tbody>\n",
       "</table>\n",
       "</div>"
      ],
      "text/plain": [
       "          0         1\n",
       "0  1.942380  8.566563\n",
       "1  2.810234  1.669021\n",
       "2  9.231927  9.209231\n",
       "3  0.365883  9.954519\n",
       "4  7.500639  3.275227"
      ]
     },
     "execution_count": 16,
     "metadata": {},
     "output_type": "execute_result"
    }
   ],
   "source": [
    "df2 = pd.DataFrame(np.random.uniform(0, 10, (100, 2)))\n",
    "df2.head()"
   ]
  },
  {
   "cell_type": "code",
   "execution_count": 17,
   "id": "e81196df-3b9a-49cb-8776-74305c9d8bdb",
   "metadata": {},
   "outputs": [
    {
     "data": {
      "text/plain": [
       "<AxesSubplot:xlabel='0', ylabel='1'>"
      ]
     },
     "execution_count": 17,
     "metadata": {},
     "output_type": "execute_result"
    },
    {
     "data": {
      "image/png": "[encoded data removed]",
      "text/plain": [
       "<Figure size 432x288 with 1 Axes>"
      ]
     },
     "metadata": {
      "needs_background": "light"
     },
     "output_type": "display_data"
    }
   ],
   "source": [
    "df2.plot.scatter(x=0, y=1)"
   ]
  },
  {
   "cell_type": "code",
   "execution_count": 18,
   "id": "b5ad30ec",
   "metadata": {},
   "outputs": [
    {
     "data": {
      "text/plain": [
       "Text(0.5, 0, 'Number of clusters')"
      ]
     },
     "execution_count": 18,
     "metadata": {},
     "output_type": "execute_result"
    },
    {
     "data": {
      "image/png": "[encoded data removed]",
      "text/plain": [
       "<Figure size 432x288 with 1 Axes>"
      ]
     },
     "metadata": {
      "needs_background": "light"
     },
     "output_type": "display_data"
    }
   ],
   "source": [
    "s = pd.Series(dtype=float)\n",
    "\n",
    "for num_clusters in range(1, 11):\n",
    "    km = KMeans(num_clusters)\n",
    "    km.fit(df2)\n",
    "    s.at[num_clusters] = km.inertia_\n",
    "\n",
    "ax = s.plot.line(figsize=(6, 4))\n",
    "ax.set_ylabel(\"Inertia\")\n",
    "ax.set_xlabel(\"Number of clusters\")"
   ]
  }
 ],
 "metadata": {
  "kernelspec": {
   "display_name": "Python 3 (ipykernel)",
   "language": "python",
   "name": "python3"
  },
  "language_info": {
   "codemirror_mode": {
    "name": "ipython",
    "version": 3
   },
   "file_extension": ".py",
   "mimetype": "text/x-python",
   "name": "python",
   "nbconvert_exporter": "python",
   "pygments_lexer": "ipython3",
   "version": "3.10.6"
  }
 },
 "nbformat": 4,
 "nbformat_minor": 5
}
