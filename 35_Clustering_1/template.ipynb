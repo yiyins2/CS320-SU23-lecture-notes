{
 "cells": [
  {
   "cell_type": "code",
   "execution_count": null,
   "id": "cbd48a28",
   "metadata": {},
   "outputs": [],
   "source": [
    "import numpy as np\n",
    "import pandas as pd\n",
    "import geopandas as gpd\n",
    "import matplotlib.pyplot as plt\n",
    "\n",
    "from sklearn import datasets\n",
    "from sklearn.model_selection import train_test_split\n",
    "# new import statements\n",
    "from sklearn.cluster import KMeans"
   ]
  },
  {
   "cell_type": "markdown",
   "id": "e72ea2f4",
   "metadata": {},
   "source": [
    "# Unsupervised Machine Learning: Clustering\n",
    "\n",
    "- In classification (supervised), we try to find boundaries/rules to separate points according to pre-determined labels.\n",
    "- In clustering, the algorithm chooses the labels.  Goal is to choose labels so that similar rows get labeled the same.\n",
    "\n",
    "### K-Means Clustering\n",
    "\n",
    "- K: number of clusters:\n",
    "    - 3-Means => 3 clusters\n",
    "    - 4-Means => 4 clusters, and so on\n",
    "- Means: we will find centroids (aka means aka averages) to create clusters"
   ]
  },
  {
   "cell_type": "markdown",
   "id": "3a0ad5a5",
   "metadata": {},
   "source": [
    "#### Iterative algorithm for K-Means\n",
    "\n",
    "Animation of the iterative K-Means algorithm: https://www.youtube.com/watch?v=5I3Ei69I40s"
   ]
  },
  {
   "cell_type": "code",
   "execution_count": null,
   "id": "0b83aaf3",
   "metadata": {},
   "outputs": [],
   "source": [
    "# Generate random data\n",
    "x, y = datasets.make_blobs(n_samples=100, centers=3, cluster_std=1.2, random_state=3)\n",
    "df = pd.DataFrame(x, columns=[\"x0\", \"x1\"])\n",
    "df.head()"
   ]
  },
  {
   "cell_type": "code",
   "execution_count": null,
   "id": "fbced908",
   "metadata": {},
   "outputs": [],
   "source": [
    "def km_scatter(df, **kwargs):\n",
    "    \"\"\"\n",
    "    Produces scatter plot visualizations with x0 on x-axis and y0 on y-axis.\n",
    "    It can also plot the centroids for clusters.\n",
    "    Parameters:\n",
    "        x0 => x-axis\n",
    "        x1 => y-axis\n",
    "        cluster => marker type\n",
    "    \"\"\"\n",
    "    ax = kwargs.pop(\"ax\", None)\n",
    "    if not \"label\" in df.columns:\n",
    "        return df.plot.scatter(x=\"x0\", y=\"x1\", marker=\"$?$\", ax=ax, **kwargs)\n",
    "\n",
    "    for marker in set(df[\"label\"]):\n",
    "        sub_df = df[df[\"label\"] == marker]\n",
    "        ax = sub_df.plot.scatter(x=\"x0\", y=\"x1\", marker=marker, ax=ax, **kwargs)\n",
    "    return ax\n",
    "\n",
    "ax = km_scatter(df, s=100, c=\"0.7\")"
   ]
  },
  {
   "cell_type": "markdown",
   "id": "47686eee",
   "metadata": {},
   "source": [
    "### Hard Problem\n",
    "\n",
    "Finding the best answer. What is the answer? Determing the centroids of the clusters.\n",
    "\n",
    "### Easier Problem\n",
    "\n",
    "Taking a random answer and make it a little better. Then repeat!\n",
    "Downside? If randomization leads to very bad initial choice of centroids, that might lead to bad clustering (fewer clusters)."
   ]
  },
  {
   "cell_type": "code",
   "execution_count": null,
   "id": "6f8bde9e",
   "metadata": {},
   "outputs": [],
   "source": [
    "clusters = np.random.uniform(-5, 5, size=(3, 2))\n",
    "clusters = pd.DataFrame(clusters, columns=[\"x0\", \"x1\"])\n",
    "clusters[\"label\"] = [\"o\", \"+\", \"x\"]\n",
    "\n",
    "ax = km_scatter(df, s=100, c=\"0.7\")\n",
    "km_scatter(clusters, s=200, c=\"red\", ax=ax)"
   ]
  },
  {
   "cell_type": "markdown",
   "id": "a3fe986c",
   "metadata": {},
   "source": [
    "Two variables for us to deal with:\n",
    "1. clusters: contains location of centroids and a label for them\n",
    "2. df: contains the actual data points"
   ]
  },
  {
   "cell_type": "code",
   "execution_count": null,
   "id": "cfa1f1aa",
   "metadata": {},
   "outputs": [],
   "source": [
    "clusters"
   ]
  },
  {
   "cell_type": "code",
   "execution_count": null,
   "id": "f210c534",
   "metadata": {},
   "outputs": [],
   "source": [
    "df.head()"
   ]
  },
  {
   "cell_type": "code",
   "execution_count": null,
   "id": "a28466ce",
   "metadata": {},
   "outputs": [],
   "source": [
    "class KM:\n",
    "    def __init__(self, df, clusters):\n",
    "        # We make copies because we are going to keep changing the dataframe to \n",
    "        # identify better clusters\n",
    "        pass\n",
    "        \n",
    "    def plot(self):\n",
    "        pass\n",
    "        \n",
    "    def assign_points(self):\n",
    "        \"\"\"\n",
    "        compute Euclidean distance between each point and each centroids\n",
    "        \"\"\"\n",
    "        pass\n",
    "    \n",
    "    def update_centers(self):\n",
    "        \"\"\"\n",
    "        update centroids by taking mean of the points that are nearest to that\n",
    "        particular centroid\n",
    "        \"\"\"\n",
    "        pass\n",
    "\n",
    "\"\"\"\n",
    "High-level algorithm:\n",
    "1. Start with random locations for centroids\n",
    "2. Iterate over each data point:\n",
    "    1. Find the distance (Euclidean distance) between current data point and each centroid.\n",
    "    2. Find the minimum of those distances and the corresponding label.\n",
    "    3. Assign current data point to the closest cluster centroid label.\n",
    "4. Once all points are assigned, compute new centroid for each cluster. Iterate over \n",
    "   each cluster:\n",
    "    1. Extract subset of data points which got assigned to curr cluster label.\n",
    "    2. Compute mean of all the assigned data points.\n",
    "    3. Update cluster centroid.\n",
    "5. Repeat steps 2 to 4 many times (iterative improvement).\n",
    "\"\"\"\n",
    "\n",
    "# Creating object instance\n",
    "km = KM(df, clusters)\n",
    "km.plot()\n",
    "\n",
    "# for i in range(10):\n",
    "#     km.assign_points()\n",
    "#     km.update_centers()\n",
    "\n",
    "# km.plot()"
   ]
  },
  {
   "cell_type": "markdown",
   "id": "938a6cc5",
   "metadata": {},
   "source": [
    "### `sklearn KMeans`\n",
    "\n",
    "- import statement:\n",
    "```python\n",
    "from sklearn.cluster import KMeans\n",
    "```\n",
    "- documentation: https://scikit-learn.org/stable/modules/generated/sklearn.cluster.KMeans.html\n",
    "\n",
    "**Instantiation:**\n",
    "`KMeans(n_clusters=<num>, n_init=<num>, max_iter=<num>)`\n",
    "- `n_clusters`: number of clusters to be formed\n",
    "- `n_init`: number of initial random seeds to try (to avoid downside of bad initial random choices)\n",
    "- `max_iter`: maximum number of iterations for a single K-means run (single starting seed)"
   ]
  },
  {
   "cell_type": "code",
   "execution_count": null,
   "id": "caa96a1e",
   "metadata": {},
   "outputs": [],
   "source": [
    "km_cluster = ???\n",
    "km_cluster"
   ]
  },
  {
   "cell_type": "code",
   "execution_count": null,
   "id": "ea51243c",
   "metadata": {},
   "outputs": [],
   "source": [
    "df.head()"
   ]
  },
  {
   "cell_type": "markdown",
   "id": "84e59c4a",
   "metadata": {},
   "source": [
    "**Methods:**\n",
    "1. `fit`: find good centroids\n",
    "2. `transform`: give me the distances from each point to each centroid\n",
    "3. `predict`: give me the chosen group labels\n",
    "\n",
    "**Attributes:**\n",
    "- `<km object>.cluster_centers_`: coordinates of cluster centers\n",
    "- `<km object>.inertia_`: sum of squared distances of samples to their closest cluster center"
   ]
  },
  {
   "cell_type": "code",
   "execution_count": null,
   "id": "26be1744",
   "metadata": {},
   "outputs": [],
   "source": [
    "# `fit`: find good centroids\n",
    "km_cluster.???\n",
    "# coordinates of cluster centers\n",
    "km_cluster.???"
   ]
  },
  {
   "cell_type": "markdown",
   "id": "6ce05e61",
   "metadata": {},
   "source": [
    "**Observeration:** 3 rows (because we have 3 clusters), and 2 columns (because the df had 2 columns)."
   ]
  },
  {
   "cell_type": "code",
   "execution_count": null,
   "id": "2df977a4",
   "metadata": {},
   "outputs": [],
   "source": [
    "# `transform`: give me the distances from each point to each centroid\n",
    "km_cluster.???"
   ]
  },
  {
   "cell_type": "markdown",
   "id": "7cd8409e",
   "metadata": {},
   "source": [
    "**Observations**: Each row corresponds to a row in df. 3 columns correspond to 3 distances to the centroids."
   ]
  },
  {
   "cell_type": "code",
   "execution_count": null,
   "id": "6a65a976",
   "metadata": {},
   "outputs": [],
   "source": [
    "# `predict`: give me the chosen group labels\n",
    "km_cluster.???"
   ]
  },
  {
   "cell_type": "markdown",
   "id": "240d995a",
   "metadata": {},
   "source": [
    "### How many clusters do we need?\n",
    "\n",
    "- metric: `<km object>.inertia_`: sum of squared distances of samples to their closest cluster center"
   ]
  },
  {
   "cell_type": "code",
   "execution_count": null,
   "id": "8bf73d2c",
   "metadata": {},
   "outputs": [],
   "source": [
    "km_cluster.???"
   ]
  },
  {
   "cell_type": "markdown",
   "id": "57b5ccc4",
   "metadata": {},
   "source": [
    "**Observation**: we want \"inertia\" to be as small as possible."
   ]
  },
  {
   "cell_type": "markdown",
   "id": "ae70b416",
   "metadata": {},
   "source": [
    "### Elbow plot to determine `n_clusters`"
   ]
  },
  {
   "cell_type": "code",
   "execution_count": null,
   "id": "607a96b0",
   "metadata": {},
   "outputs": [],
   "source": [
    "s = pd.Series(dtype=float)\n",
    "\n",
    "for num_clusters in range(1, 11):\n",
    "    ???\n",
    "s"
   ]
  },
  {
   "cell_type": "code",
   "execution_count": null,
   "id": "388cd23f",
   "metadata": {},
   "outputs": [],
   "source": [
    "ax = s.plot.line(figsize=(6, 4))\n",
    "ax.set_ylabel(\"Inertia\")\n",
    "ax.set_xlabel(\"Number of clusters\")"
   ]
  },
  {
   "cell_type": "markdown",
   "id": "eab497cd",
   "metadata": {},
   "source": [
    "**Observation**: there is an \"elbow\" around `n_clusters`=3."
   ]
  },
  {
   "cell_type": "markdown",
   "id": "8e763d1c",
   "metadata": {},
   "source": [
    "#### Will we always have a clear \"elbow\"?\n",
    "\n",
    "- Let's generate uniform random data"
   ]
  },
  {
   "cell_type": "code",
   "execution_count": null,
   "id": "e769bb4a-9bb0-48ea-8fc8-ac5b1fe043c6",
   "metadata": {},
   "outputs": [],
   "source": [
    "df2 = pd.DataFrame(np.random.uniform(0, 10, (100, 2)))\n",
    "df2.head()"
   ]
  },
  {
   "cell_type": "code",
   "execution_count": null,
   "id": "e81196df-3b9a-49cb-8776-74305c9d8bdb",
   "metadata": {},
   "outputs": [],
   "source": [
    "df2.plot.scatter(x=0, y=1)"
   ]
  },
  {
   "cell_type": "code",
   "execution_count": null,
   "id": "b5ad30ec",
   "metadata": {},
   "outputs": [],
   "source": [
    "s = pd.Series(dtype=float)\n",
    "\n",
    "for num_clusters in range(1, 11):\n",
    "    km = KMeans(num_clusters)\n",
    "    km.fit(df2)\n",
    "    s.at[num_clusters] = km.inertia_\n",
    "\n",
    "ax = s.plot.line(figsize=(6, 4))\n",
    "ax.set_ylabel(\"Inertia\")\n",
    "ax.set_xlabel(\"Number of clusters\")"
   ]
  }
 ],
 "metadata": {
  "kernelspec": {
   "display_name": "Python 3 (ipykernel)",
   "language": "python",
   "name": "python3"
  },
  "language_info": {
   "codemirror_mode": {
    "name": "ipython",
    "version": 3
   },
   "file_extension": ".py",
   "mimetype": "text/x-python",
   "name": "python",
   "nbconvert_exporter": "python",
   "pygments_lexer": "ipython3",
   "version": "3.10.6"
  }
 },
 "nbformat": 4,
 "nbformat_minor": 5
}
